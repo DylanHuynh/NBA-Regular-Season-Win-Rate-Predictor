{
  "nbformat": 4,
  "nbformat_minor": 0,
  "metadata": {
    "colab": {
      "name": "NBA ML Project.ipynb",
      "provenance": [],
      "collapsed_sections": [],
      "include_colab_link": true
    },
    "kernelspec": {
      "name": "python3",
      "display_name": "Python 3"
    }
  },
  "cells": [
    {
      "cell_type": "markdown",
      "metadata": {
        "id": "view-in-github",
        "colab_type": "text"
      },
      "source": [
        "<a href=\"https://colab.research.google.com/github/DylanHuynh/NBA-Regular-Season-Win-Rate-Predictor/blob/main/NBA_ML_Project.ipynb\" target=\"_parent\"><img src=\"https://colab.research.google.com/assets/colab-badge.svg\" alt=\"Open In Colab\"/></a>"
      ]
    },
    {
      "cell_type": "markdown",
      "metadata": {
        "id": "32KdGdMxDvyQ"
      },
      "source": [
        "# Intro/Summary\n",
        "\n",
        "\n",
        "In this project, our goal is to utilize historical NBA data from 1980 - 2018 to develop a prediction model for a team's regular season winrate during a specific year. Each team is represented by its top 3 guards and top 5 forwards/centers; Carefully-chosen individual statistics for these players from their previous season are used to predict a team's regular season W/L ratio. \n",
        "\n",
        "Our strategy revolves around the least squares approximation concept from linear algebra (covered in one of our recent courses at UC Berkeley, EECS 16a). Given a matrix-vector multiplication equation, $Ax\\approx b$, where $A$ is a matrix and $x$ and $b$ are vectors, an approximation for the vector x can be attained using this formula: \n",
        "\n",
        "![Screen Shot 2021-01-19 at 8.36.07 PM.png](data:image/png;base64,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)\n",
        "\n",
        "This concept is used in various machine learning applications such as determining a unique location using multiple GPS satellite signals.  \n",
        "\n",
        "For our NBA performance prediction model, we fill each row of the $A$ matrix with statistics for the top 8 players on a specific team in a specific year. We have chosen 12 statistics to use for each player (including Player Efficiency Ratio, Win Shares, Box Plus-Minus, our own statistic called the \"Synergy Score\", and others). One row will therefore contain 12 statistics for each of the 3 guards and 5 forwards, appended together with a constant term added at the end. Each value in the $b$ vector is the corresponding regular season winrate for the team during that year.\n",
        "\n",
        "Below, you'll find our setup of $Ax \\approx b$. In the $A$matrix, the term $statsT_iT_j$ designates the stats for the top 3 guards and 5 forwards of the first team alphabetically in the first recorded year of 1981. The term $statG_i/F_j$ details the ith stat (ex. TOV%, TRB%, PER) in the jth position player (1-3 are guards, 4-8 are forwards). The b column is composed of $win\\%T_iY_j$ following the same format as the subscripts of the stats terms, giving the winrate of a specific team in a specific year.\n",
        "\n",
        "![Unknown.png](data:image/png;base64,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)\n",
        "\n",
        "We then perform the aforementioend least squares method on the training set to find the vector $x$, which we then use on data from teams/years designated to the test set to produce predictions of their regular season W/L%. \n",
        "\n",
        "Below, you'll find a table containing NBA regular season performance predictions for the 1983-84 and 2011-2012 seasons:\n",
        "\n",
        "\n",
        "\n",
        "\n",
        "\n",
        "\n",
        "\n",
        "\n"
      ]
    },
    {
      "cell_type": "code",
      "metadata": {
        "id": "3-3P1_WpkSNX",
        "colab": {
          "base_uri": "https://localhost:8080/",
          "height": 1000
        },
        "outputId": "0bbb1e0c-9c9b-4227-9ad9-501c204bef6c"
      },
      "source": [
        "\r\n",
        "import numpy as np\r\n",
        "from datascience import *\r\n",
        "import pandas\r\n",
        "from IPython.display import Image \r\n",
        "\r\n",
        "preview = Table.read_table('/content/sample_years.csv')\r\n",
        "preview.sort(\"Actual\",descending=True).sort(\"Season\").show(49)\r\n"
      ],
      "execution_count": 18,
      "outputs": [
        {
          "output_type": "display_data",
          "data": {
            "text/html": [
              "<table border=\"1\" class=\"dataframe\">\n",
              "    <thead>\n",
              "        <tr>\n",
              "            <th>Season</th> <th>Team</th> <th>Actual</th> <th>Predicted</th> <th>Actual - Predicted</th> <th>(Actual-Predicted)/Predicted</th> <th>Accurate</th>\n",
              "        </tr>\n",
              "    </thead>\n",
              "    <tbody>\n",
              "        <tr>\n",
              "            <td>1984  </td> <td>Boston Celtics        </td> <td>0.756 </td> <td>0.686233 </td> <td>0.0697673         </td> <td>-0.0922848                  </td> <td>True    </td>\n",
              "        </tr>\n",
              "        <tr>\n",
              "            <td>1984  </td> <td>Philadelphia 76ers    </td> <td>0.634 </td> <td>0.706825 </td> <td>-0.0728254        </td> <td>0.114867                    </td> <td>True    </td>\n",
              "        </tr>\n",
              "        <tr>\n",
              "            <td>1984  </td> <td>Milwaukee Bucks       </td> <td>0.61  </td> <td>0.609743 </td> <td>0.000257417       </td> <td>-0.000421996                </td> <td>True    </td>\n",
              "        </tr>\n",
              "        <tr>\n",
              "            <td>1984  </td> <td>Detroit Pistons       </td> <td>0.598 </td> <td>0.502888 </td> <td>0.0951123         </td> <td>-0.159051                   </td> <td>True    </td>\n",
              "        </tr>\n",
              "        <tr>\n",
              "            <td>1984  </td> <td>Portland Trail Blazers</td> <td>0.585 </td> <td>0.577063 </td> <td>0.00793698        </td> <td>-0.0135675                  </td> <td>True    </td>\n",
              "        </tr>\n",
              "        <tr>\n",
              "            <td>1984  </td> <td>New York Knicks       </td> <td>0.573 </td> <td>0.586234 </td> <td>-0.0132345        </td> <td>0.0230968                   </td> <td>True    </td>\n",
              "        </tr>\n",
              "        <tr>\n",
              "            <td>1984  </td> <td>Utah Jazz             </td> <td>0.549 </td> <td>0.475184 </td> <td>0.0738161         </td> <td>-0.134456                   </td> <td>True    </td>\n",
              "        </tr>\n",
              "        <tr>\n",
              "            <td>1984  </td> <td>New Jersey Nets       </td> <td>0.549 </td> <td>0.609772 </td> <td>-0.0607719        </td> <td>0.110696                    </td> <td>True    </td>\n",
              "        </tr>\n",
              "        <tr>\n",
              "            <td>1984  </td> <td>Seattle SuperSonics   </td> <td>0.512 </td> <td>0.467952 </td> <td>0.0440485         </td> <td>-0.0860322                  </td> <td>True    </td>\n",
              "        </tr>\n",
              "        <tr>\n",
              "            <td>1984  </td> <td>Phoenix Suns          </td> <td>0.5   </td> <td>0.573387 </td> <td>-0.0733865        </td> <td>0.146773                    </td> <td>True    </td>\n",
              "        </tr>\n",
              "        <tr>\n",
              "            <td>1984  </td> <td>Atlanta Hawks         </td> <td>0.488 </td> <td>0.512773 </td> <td>-0.0247734        </td> <td>0.0507652                   </td> <td>True    </td>\n",
              "        </tr>\n",
              "        <tr>\n",
              "            <td>1984  </td> <td>Kansas City Kings     </td> <td>0.463 </td> <td>0.489011 </td> <td>-0.0260108        </td> <td>0.0561789                   </td> <td>True    </td>\n",
              "        </tr>\n",
              "        <tr>\n",
              "            <td>1984  </td> <td>Denver Nuggets        </td> <td>0.463 </td> <td>0.504592 </td> <td>-0.0415917        </td> <td>0.0898308                   </td> <td>True    </td>\n",
              "        </tr>\n",
              "        <tr>\n",
              "            <td>1984  </td> <td>Golden State Warriors </td> <td>0.451 </td> <td>0.411319 </td> <td>0.0396811         </td> <td>-0.0879847                  </td> <td>True    </td>\n",
              "        </tr>\n",
              "        <tr>\n",
              "            <td>1984  </td> <td>Washington Bullets    </td> <td>0.427 </td> <td>0.495253 </td> <td>-0.0682532        </td> <td>0.159844                    </td> <td>True    </td>\n",
              "        </tr>\n",
              "        <tr>\n",
              "            <td>1984  </td> <td>San Diego Clippers    </td> <td>0.366 </td> <td>0.415256 </td> <td>-0.0492565        </td> <td>0.134581                    </td> <td>True    </td>\n",
              "        </tr>\n",
              "        <tr>\n",
              "            <td>1984  </td> <td>Houston Rockets       </td> <td>0.354 </td> <td>0.391765 </td> <td>-0.0377651        </td> <td>0.106681                    </td> <td>True    </td>\n",
              "        </tr>\n",
              "        <tr>\n",
              "            <td>1984  </td> <td>Cleveland Cavaliers   </td> <td>0.341 </td> <td>0.370137 </td> <td>-0.0291366        </td> <td>0.0854447                   </td> <td>True    </td>\n",
              "        </tr>\n",
              "        <tr>\n",
              "            <td>1984  </td> <td>Chicago Bulls         </td> <td>0.329 </td> <td>0.416794 </td> <td>-0.0877939        </td> <td>0.266851                    </td> <td>True    </td>\n",
              "        </tr>\n",
              "        <tr>\n",
              "            <td>2012  </td> <td>San Antonio Spurs     </td> <td>0.758 </td> <td>0.691411 </td> <td>0.0665886         </td> <td>-0.0878477                  </td> <td>True    </td>\n",
              "        </tr>\n",
              "        <tr>\n",
              "            <td>2012  </td> <td>Chicago Bulls         </td> <td>0.758 </td> <td>0.686506 </td> <td>0.0714941         </td> <td>-0.0943194                  </td> <td>True    </td>\n",
              "        </tr>\n",
              "        <tr>\n",
              "            <td>2012  </td> <td>Oklahoma City Thunder </td> <td>0.712 </td> <td>0.616557 </td> <td>0.0954427         </td> <td>-0.134049                   </td> <td>True    </td>\n",
              "        </tr>\n",
              "        <tr>\n",
              "            <td>2012  </td> <td>Miami Heat            </td> <td>0.697 </td> <td>0.694849 </td> <td>0.00215132        </td> <td>-0.00308655                 </td> <td>True    </td>\n",
              "        </tr>\n",
              "        <tr>\n",
              "            <td>2012  </td> <td>Indiana Pacers        </td> <td>0.636 </td> <td>0.511387 </td> <td>0.124613          </td> <td>-0.195932                   </td> <td>False   </td>\n",
              "        </tr>\n",
              "        <tr>\n",
              "            <td>2012  </td> <td>Memphis Grizzlies     </td> <td>0.621 </td> <td>0.646173 </td> <td>-0.0251735        </td> <td>0.040537                    </td> <td>True    </td>\n",
              "        </tr>\n",
              "        <tr>\n",
              "            <td>2012  </td> <td>Los Angeles Lakers    </td> <td>0.621 </td> <td>0.525918 </td> <td>0.0950821         </td> <td>-0.153111                   </td> <td>True    </td>\n",
              "        </tr>\n",
              "        <tr>\n",
              "            <td>2012  </td> <td>Los Angeles Clippers  </td> <td>0.606 </td> <td>0.48633  </td> <td>0.11967           </td> <td>-0.197475                   </td> <td>False   </td>\n",
              "        </tr>\n",
              "        <tr>\n",
              "            <td>2012  </td> <td>Atlanta Hawks         </td> <td>0.606 </td> <td>0.545099 </td> <td>0.0609013         </td> <td>-0.100497                   </td> <td>True    </td>\n",
              "        </tr>\n",
              "        <tr>\n",
              "            <td>2012  </td> <td>Boston Celtics        </td> <td>0.591 </td> <td>0.595167 </td> <td>-0.00416745       </td> <td>0.00705153                  </td> <td>True    </td>\n",
              "        </tr>\n",
              "        <tr>\n",
              "            <td>2012  </td> <td>Denver Nuggets        </td> <td>0.576 </td> <td>0.521109 </td> <td>0.0548914         </td> <td>-0.0952976                  </td> <td>True    </td>\n",
              "        </tr>\n",
              "        <tr>\n",
              "            <td>2012  </td> <td>Orlando Magic         </td> <td>0.561 </td> <td>0.686071 </td> <td>-0.125071         </td> <td>0.222943                    </td> <td>False   </td>\n",
              "        </tr>\n",
              "        <tr>\n",
              "            <td>2012  </td> <td>Utah Jazz             </td> <td>0.545 </td> <td>0.34524  </td> <td>0.19976           </td> <td>-0.366532                   </td> <td>False   </td>\n",
              "        </tr>\n",
              "        <tr>\n",
              "            <td>2012  </td> <td>New York Knicks       </td> <td>0.545 </td> <td>0.538525 </td> <td>0.00647533        </td> <td>-0.0118813                  </td> <td>True    </td>\n",
              "        </tr>\n",
              "        <tr>\n",
              "            <td>2012  </td> <td>Dallas Mavericks      </td> <td>0.545 </td> <td>0.633394 </td> <td>-0.0883938        </td> <td>0.16219                     </td> <td>True    </td>\n",
              "        </tr>\n",
              "        <tr>\n",
              "            <td>2012  </td> <td>Philadelphia 76ers    </td> <td>0.53  </td> <td>0.530884 </td> <td>-0.000883689      </td> <td>0.00166734                  </td> <td>True    </td>\n",
              "        </tr>\n",
              "        <tr>\n",
              "            <td>2012  </td> <td>Houston Rockets       </td> <td>0.515 </td> <td>0.488    </td> <td>0.0269998         </td> <td>-0.0524268                  </td> <td>True    </td>\n",
              "        </tr>\n",
              "        <tr>\n",
              "            <td>2012  </td> <td>Phoenix Suns          </td> <td>0.5   </td> <td>0.506153 </td> <td>-0.00615314       </td> <td>0.0123063                   </td> <td>True    </td>\n",
              "        </tr>\n",
              "        <tr>\n",
              "            <td>2012  </td> <td>Milwaukee Bucks       </td> <td>0.47  </td> <td>0.517398 </td> <td>-0.0473981        </td> <td>0.100847                    </td> <td>True    </td>\n",
              "        </tr>\n",
              "        <tr>\n",
              "            <td>2012  </td> <td>Portland Trail Blazers</td> <td>0.424 </td> <td>0.462812 </td> <td>-0.0388117        </td> <td>0.0915371                   </td> <td>True    </td>\n",
              "        </tr>\n",
              "        <tr>\n",
              "            <td>2012  </td> <td>Minnesota Timberwolves</td> <td>0.394 </td> <td>0.354528 </td> <td>0.0394717         </td> <td>-0.100182                   </td> <td>True    </td>\n",
              "        </tr>\n",
              "        <tr>\n",
              "            <td>2012  </td> <td>Detroit Pistons       </td> <td>0.379 </td> <td>0.417333 </td> <td>-0.0383331        </td> <td>0.101143                    </td> <td>True    </td>\n",
              "        </tr>\n",
              "        <tr>\n",
              "            <td>2012  </td> <td>Toronto Raptors       </td> <td>0.348 </td> <td>0.418185 </td> <td>-0.0701853        </td> <td>0.201682                    </td> <td>True    </td>\n",
              "        </tr>\n",
              "        <tr>\n",
              "            <td>2012  </td> <td>Golden State Warriors </td> <td>0.348 </td> <td>0.422693 </td> <td>-0.0746932        </td> <td>0.214636                    </td> <td>True    </td>\n",
              "        </tr>\n",
              "        <tr>\n",
              "            <td>2012  </td> <td>Sacramento Kings      </td> <td>0.333 </td> <td>0.350596 </td> <td>-0.0175961        </td> <td>0.0528411                   </td> <td>True    </td>\n",
              "        </tr>\n",
              "        <tr>\n",
              "            <td>2012  </td> <td>New Jersey Nets       </td> <td>0.333 </td> <td>0.409166 </td> <td>-0.0761665        </td> <td>0.228728                    </td> <td>True    </td>\n",
              "        </tr>\n",
              "        <tr>\n",
              "            <td>2012  </td> <td>New Orleans Hornets   </td> <td>0.318 </td> <td>0.38579  </td> <td>-0.0677898        </td> <td>0.213175                    </td> <td>True    </td>\n",
              "        </tr>\n",
              "        <tr>\n",
              "            <td>2012  </td> <td>Cleveland Cavaliers   </td> <td>0.318 </td> <td>0.292244 </td> <td>0.0257562         </td> <td>-0.0809943                  </td> <td>True    </td>\n",
              "        </tr>\n",
              "        <tr>\n",
              "            <td>2012  </td> <td>Washington Wizards    </td> <td>0.303 </td> <td>0.388352 </td> <td>-0.0853517        </td> <td>0.281689                    </td> <td>True    </td>\n",
              "        </tr>\n",
              "        <tr>\n",
              "            <td>2012  </td> <td>Charlotte Bobcats     </td> <td>0.106 </td> <td>0.154936 </td> <td>-0.0489357        </td> <td>0.461657                    </td> <td>True    </td>\n",
              "        </tr>\n",
              "    </tbody>\n",
              "</table>"
            ],
            "text/plain": [
              "<IPython.core.display.HTML object>"
            ]
          },
          "metadata": {
            "tags": []
          }
        }
      ]
    },
    {
      "cell_type": "code",
      "metadata": {
        "colab": {
          "base_uri": "https://localhost:8080/",
          "height": 1000
        },
        "id": "dXVW-RWU8LRn",
        "outputId": "8d234f1b-2164-4f23-9407-767a14937797"
      },
      "source": [
        "preview.sort(\"Actual\",descending=True).sort(\"Season\").show(49)"
      ],
      "execution_count": 19,
      "outputs": [
        {
          "output_type": "display_data",
          "data": {
            "text/html": [
              "<table border=\"1\" class=\"dataframe\">\n",
              "    <thead>\n",
              "        <tr>\n",
              "            <th>Season</th> <th>Team</th> <th>Actual</th> <th>Predicted</th> <th>Actual - Predicted</th> <th>(Actual-Predicted)/Predicted</th> <th>Accurate</th>\n",
              "        </tr>\n",
              "    </thead>\n",
              "    <tbody>\n",
              "        <tr>\n",
              "            <td>1984  </td> <td>Boston Celtics        </td> <td>0.756 </td> <td>0.686233 </td> <td>0.0697673         </td> <td>-0.0922848                  </td> <td>True    </td>\n",
              "        </tr>\n",
              "        <tr>\n",
              "            <td>1984  </td> <td>Philadelphia 76ers    </td> <td>0.634 </td> <td>0.706825 </td> <td>-0.0728254        </td> <td>0.114867                    </td> <td>True    </td>\n",
              "        </tr>\n",
              "        <tr>\n",
              "            <td>1984  </td> <td>Milwaukee Bucks       </td> <td>0.61  </td> <td>0.609743 </td> <td>0.000257417       </td> <td>-0.000421996                </td> <td>True    </td>\n",
              "        </tr>\n",
              "        <tr>\n",
              "            <td>1984  </td> <td>Detroit Pistons       </td> <td>0.598 </td> <td>0.502888 </td> <td>0.0951123         </td> <td>-0.159051                   </td> <td>True    </td>\n",
              "        </tr>\n",
              "        <tr>\n",
              "            <td>1984  </td> <td>Portland Trail Blazers</td> <td>0.585 </td> <td>0.577063 </td> <td>0.00793698        </td> <td>-0.0135675                  </td> <td>True    </td>\n",
              "        </tr>\n",
              "        <tr>\n",
              "            <td>1984  </td> <td>New York Knicks       </td> <td>0.573 </td> <td>0.586234 </td> <td>-0.0132345        </td> <td>0.0230968                   </td> <td>True    </td>\n",
              "        </tr>\n",
              "        <tr>\n",
              "            <td>1984  </td> <td>Utah Jazz             </td> <td>0.549 </td> <td>0.475184 </td> <td>0.0738161         </td> <td>-0.134456                   </td> <td>True    </td>\n",
              "        </tr>\n",
              "        <tr>\n",
              "            <td>1984  </td> <td>New Jersey Nets       </td> <td>0.549 </td> <td>0.609772 </td> <td>-0.0607719        </td> <td>0.110696                    </td> <td>True    </td>\n",
              "        </tr>\n",
              "        <tr>\n",
              "            <td>1984  </td> <td>Seattle SuperSonics   </td> <td>0.512 </td> <td>0.467952 </td> <td>0.0440485         </td> <td>-0.0860322                  </td> <td>True    </td>\n",
              "        </tr>\n",
              "        <tr>\n",
              "            <td>1984  </td> <td>Phoenix Suns          </td> <td>0.5   </td> <td>0.573387 </td> <td>-0.0733865        </td> <td>0.146773                    </td> <td>True    </td>\n",
              "        </tr>\n",
              "        <tr>\n",
              "            <td>1984  </td> <td>Atlanta Hawks         </td> <td>0.488 </td> <td>0.512773 </td> <td>-0.0247734        </td> <td>0.0507652                   </td> <td>True    </td>\n",
              "        </tr>\n",
              "        <tr>\n",
              "            <td>1984  </td> <td>Kansas City Kings     </td> <td>0.463 </td> <td>0.489011 </td> <td>-0.0260108        </td> <td>0.0561789                   </td> <td>True    </td>\n",
              "        </tr>\n",
              "        <tr>\n",
              "            <td>1984  </td> <td>Denver Nuggets        </td> <td>0.463 </td> <td>0.504592 </td> <td>-0.0415917        </td> <td>0.0898308                   </td> <td>True    </td>\n",
              "        </tr>\n",
              "        <tr>\n",
              "            <td>1984  </td> <td>Golden State Warriors </td> <td>0.451 </td> <td>0.411319 </td> <td>0.0396811         </td> <td>-0.0879847                  </td> <td>True    </td>\n",
              "        </tr>\n",
              "        <tr>\n",
              "            <td>1984  </td> <td>Washington Bullets    </td> <td>0.427 </td> <td>0.495253 </td> <td>-0.0682532        </td> <td>0.159844                    </td> <td>True    </td>\n",
              "        </tr>\n",
              "        <tr>\n",
              "            <td>1984  </td> <td>San Diego Clippers    </td> <td>0.366 </td> <td>0.415256 </td> <td>-0.0492565        </td> <td>0.134581                    </td> <td>True    </td>\n",
              "        </tr>\n",
              "        <tr>\n",
              "            <td>1984  </td> <td>Houston Rockets       </td> <td>0.354 </td> <td>0.391765 </td> <td>-0.0377651        </td> <td>0.106681                    </td> <td>True    </td>\n",
              "        </tr>\n",
              "        <tr>\n",
              "            <td>1984  </td> <td>Cleveland Cavaliers   </td> <td>0.341 </td> <td>0.370137 </td> <td>-0.0291366        </td> <td>0.0854447                   </td> <td>True    </td>\n",
              "        </tr>\n",
              "        <tr>\n",
              "            <td>1984  </td> <td>Chicago Bulls         </td> <td>0.329 </td> <td>0.416794 </td> <td>-0.0877939        </td> <td>0.266851                    </td> <td>True    </td>\n",
              "        </tr>\n",
              "        <tr>\n",
              "            <td>2012  </td> <td>San Antonio Spurs     </td> <td>0.758 </td> <td>0.691411 </td> <td>0.0665886         </td> <td>-0.0878477                  </td> <td>True    </td>\n",
              "        </tr>\n",
              "        <tr>\n",
              "            <td>2012  </td> <td>Chicago Bulls         </td> <td>0.758 </td> <td>0.686506 </td> <td>0.0714941         </td> <td>-0.0943194                  </td> <td>True    </td>\n",
              "        </tr>\n",
              "        <tr>\n",
              "            <td>2012  </td> <td>Oklahoma City Thunder </td> <td>0.712 </td> <td>0.616557 </td> <td>0.0954427         </td> <td>-0.134049                   </td> <td>True    </td>\n",
              "        </tr>\n",
              "        <tr>\n",
              "            <td>2012  </td> <td>Miami Heat            </td> <td>0.697 </td> <td>0.694849 </td> <td>0.00215132        </td> <td>-0.00308655                 </td> <td>True    </td>\n",
              "        </tr>\n",
              "        <tr>\n",
              "            <td>2012  </td> <td>Indiana Pacers        </td> <td>0.636 </td> <td>0.511387 </td> <td>0.124613          </td> <td>-0.195932                   </td> <td>False   </td>\n",
              "        </tr>\n",
              "        <tr>\n",
              "            <td>2012  </td> <td>Memphis Grizzlies     </td> <td>0.621 </td> <td>0.646173 </td> <td>-0.0251735        </td> <td>0.040537                    </td> <td>True    </td>\n",
              "        </tr>\n",
              "        <tr>\n",
              "            <td>2012  </td> <td>Los Angeles Lakers    </td> <td>0.621 </td> <td>0.525918 </td> <td>0.0950821         </td> <td>-0.153111                   </td> <td>True    </td>\n",
              "        </tr>\n",
              "        <tr>\n",
              "            <td>2012  </td> <td>Los Angeles Clippers  </td> <td>0.606 </td> <td>0.48633  </td> <td>0.11967           </td> <td>-0.197475                   </td> <td>False   </td>\n",
              "        </tr>\n",
              "        <tr>\n",
              "            <td>2012  </td> <td>Atlanta Hawks         </td> <td>0.606 </td> <td>0.545099 </td> <td>0.0609013         </td> <td>-0.100497                   </td> <td>True    </td>\n",
              "        </tr>\n",
              "        <tr>\n",
              "            <td>2012  </td> <td>Boston Celtics        </td> <td>0.591 </td> <td>0.595167 </td> <td>-0.00416745       </td> <td>0.00705153                  </td> <td>True    </td>\n",
              "        </tr>\n",
              "        <tr>\n",
              "            <td>2012  </td> <td>Denver Nuggets        </td> <td>0.576 </td> <td>0.521109 </td> <td>0.0548914         </td> <td>-0.0952976                  </td> <td>True    </td>\n",
              "        </tr>\n",
              "        <tr>\n",
              "            <td>2012  </td> <td>Orlando Magic         </td> <td>0.561 </td> <td>0.686071 </td> <td>-0.125071         </td> <td>0.222943                    </td> <td>False   </td>\n",
              "        </tr>\n",
              "        <tr>\n",
              "            <td>2012  </td> <td>Utah Jazz             </td> <td>0.545 </td> <td>0.34524  </td> <td>0.19976           </td> <td>-0.366532                   </td> <td>False   </td>\n",
              "        </tr>\n",
              "        <tr>\n",
              "            <td>2012  </td> <td>New York Knicks       </td> <td>0.545 </td> <td>0.538525 </td> <td>0.00647533        </td> <td>-0.0118813                  </td> <td>True    </td>\n",
              "        </tr>\n",
              "        <tr>\n",
              "            <td>2012  </td> <td>Dallas Mavericks      </td> <td>0.545 </td> <td>0.633394 </td> <td>-0.0883938        </td> <td>0.16219                     </td> <td>True    </td>\n",
              "        </tr>\n",
              "        <tr>\n",
              "            <td>2012  </td> <td>Philadelphia 76ers    </td> <td>0.53  </td> <td>0.530884 </td> <td>-0.000883689      </td> <td>0.00166734                  </td> <td>True    </td>\n",
              "        </tr>\n",
              "        <tr>\n",
              "            <td>2012  </td> <td>Houston Rockets       </td> <td>0.515 </td> <td>0.488    </td> <td>0.0269998         </td> <td>-0.0524268                  </td> <td>True    </td>\n",
              "        </tr>\n",
              "        <tr>\n",
              "            <td>2012  </td> <td>Phoenix Suns          </td> <td>0.5   </td> <td>0.506153 </td> <td>-0.00615314       </td> <td>0.0123063                   </td> <td>True    </td>\n",
              "        </tr>\n",
              "        <tr>\n",
              "            <td>2012  </td> <td>Milwaukee Bucks       </td> <td>0.47  </td> <td>0.517398 </td> <td>-0.0473981        </td> <td>0.100847                    </td> <td>True    </td>\n",
              "        </tr>\n",
              "        <tr>\n",
              "            <td>2012  </td> <td>Portland Trail Blazers</td> <td>0.424 </td> <td>0.462812 </td> <td>-0.0388117        </td> <td>0.0915371                   </td> <td>True    </td>\n",
              "        </tr>\n",
              "        <tr>\n",
              "            <td>2012  </td> <td>Minnesota Timberwolves</td> <td>0.394 </td> <td>0.354528 </td> <td>0.0394717         </td> <td>-0.100182                   </td> <td>True    </td>\n",
              "        </tr>\n",
              "        <tr>\n",
              "            <td>2012  </td> <td>Detroit Pistons       </td> <td>0.379 </td> <td>0.417333 </td> <td>-0.0383331        </td> <td>0.101143                    </td> <td>True    </td>\n",
              "        </tr>\n",
              "        <tr>\n",
              "            <td>2012  </td> <td>Toronto Raptors       </td> <td>0.348 </td> <td>0.418185 </td> <td>-0.0701853        </td> <td>0.201682                    </td> <td>True    </td>\n",
              "        </tr>\n",
              "        <tr>\n",
              "            <td>2012  </td> <td>Golden State Warriors </td> <td>0.348 </td> <td>0.422693 </td> <td>-0.0746932        </td> <td>0.214636                    </td> <td>True    </td>\n",
              "        </tr>\n",
              "        <tr>\n",
              "            <td>2012  </td> <td>Sacramento Kings      </td> <td>0.333 </td> <td>0.350596 </td> <td>-0.0175961        </td> <td>0.0528411                   </td> <td>True    </td>\n",
              "        </tr>\n",
              "        <tr>\n",
              "            <td>2012  </td> <td>New Jersey Nets       </td> <td>0.333 </td> <td>0.409166 </td> <td>-0.0761665        </td> <td>0.228728                    </td> <td>True    </td>\n",
              "        </tr>\n",
              "        <tr>\n",
              "            <td>2012  </td> <td>New Orleans Hornets   </td> <td>0.318 </td> <td>0.38579  </td> <td>-0.0677898        </td> <td>0.213175                    </td> <td>True    </td>\n",
              "        </tr>\n",
              "        <tr>\n",
              "            <td>2012  </td> <td>Cleveland Cavaliers   </td> <td>0.318 </td> <td>0.292244 </td> <td>0.0257562         </td> <td>-0.0809943                  </td> <td>True    </td>\n",
              "        </tr>\n",
              "        <tr>\n",
              "            <td>2012  </td> <td>Washington Wizards    </td> <td>0.303 </td> <td>0.388352 </td> <td>-0.0853517        </td> <td>0.281689                    </td> <td>True    </td>\n",
              "        </tr>\n",
              "        <tr>\n",
              "            <td>2012  </td> <td>Charlotte Bobcats     </td> <td>0.106 </td> <td>0.154936 </td> <td>-0.0489357        </td> <td>0.461657                    </td> <td>True    </td>\n",
              "        </tr>\n",
              "    </tbody>\n",
              "</table>"
            ],
            "text/plain": [
              "<IPython.core.display.HTML object>"
            ]
          },
          "metadata": {
            "tags": []
          }
        }
      ]
    },
    {
      "cell_type": "code",
      "metadata": {
        "id": "s25tfRXUIP8V"
      },
      "source": [
        "stats = Table.read_table('/content/Seasons_Stats.csv')\n",
        "records = Table.read_table('/content/Team_Records.csv')\n",
        "forward_ranks = Table.read_table('/content/forward_ranks.csv')\n",
        "guard_ranks = Table.read_table('/content/guard_ranks.csv')"
      ],
      "execution_count": 20,
      "outputs": []
    },
    {
      "cell_type": "code",
      "metadata": {
        "colab": {
          "base_uri": "https://localhost:8080/",
          "height": 34
        },
        "id": "A38znGaM7AQR",
        "outputId": "d5e0180d-f69c-4209-abcf-fa1b4dbf5ceb"
      },
      "source": [
        "Image(\"/content/Screenshot 2021-01-18 203308.png\")"
      ],
      "execution_count": 21,
      "outputs": [
        {
          "output_type": "execute_result",
          "data": {
            "image/png": "/content/Screenshot 2021-01-18 203308.png",
            "text/plain": [
              "<IPython.core.display.Image object>"
            ]
          },
          "metadata": {
            "tags": []
          },
          "execution_count": 21
        }
      ]
    },
    {
      "cell_type": "markdown",
      "metadata": {
        "id": "e2aVWhKGH6OW"
      },
      "source": [
        "Rankings of Guards and Forwards"
      ]
    },
    {
      "cell_type": "code",
      "metadata": {
        "colab": {
          "base_uri": "https://localhost:8080/",
          "height": 1000
        },
        "id": "QGyPHH-vHojc",
        "outputId": "a496ea0d-a554-4346-ea7e-10a706072826"
      },
      "source": [
        "guard_ranks.show(15)\r\n",
        "forward_ranks.show(15)"
      ],
      "execution_count": 22,
      "outputs": [
        {
          "output_type": "display_data",
          "data": {
            "text/html": [
              "<table border=\"1\" class=\"dataframe\">\n",
              "    <thead>\n",
              "        <tr>\n",
              "            <th>Player</th> <th>Year</th> <th>Team</th> <th>Overall</th>\n",
              "        </tr>\n",
              "    </thead>\n",
              "    <tbody>\n",
              "        <tr>\n",
              "            <td>Stephen Curry 1989.0  </td> <td>2017</td> <td>Golden State Warriors</td> <td>52.3956</td>\n",
              "        </tr>\n",
              "        <tr>\n",
              "            <td>Michael Jordan* 1964.0</td> <td>1990</td> <td>Chicago Bulls        </td> <td>50.5549</td>\n",
              "        </tr>\n",
              "        <tr>\n",
              "            <td>Michael Jordan* 1964.0</td> <td>1992</td> <td>Chicago Bulls        </td> <td>50.1781</td>\n",
              "        </tr>\n",
              "        <tr>\n",
              "            <td>Michael Jordan* 1964.0</td> <td>1989</td> <td>Chicago Bulls        </td> <td>49.9567</td>\n",
              "        </tr>\n",
              "        <tr>\n",
              "            <td>Magic Johnson* 1960.0 </td> <td>1990</td> <td>Los Angeles Lakers   </td> <td>48.0057</td>\n",
              "        </tr>\n",
              "        <tr>\n",
              "            <td>Magic Johnson* 1960.0 </td> <td>1991</td> <td>Los Angeles Lakers   </td> <td>47.1805</td>\n",
              "        </tr>\n",
              "        <tr>\n",
              "            <td>Michael Jordan* 1964.0</td> <td>1991</td> <td>Chicago Bulls        </td> <td>47.0746</td>\n",
              "        </tr>\n",
              "        <tr>\n",
              "            <td>Stephen Curry 1989.0  </td> <td>2016</td> <td>Golden State Warriors</td> <td>45.6791</td>\n",
              "        </tr>\n",
              "        <tr>\n",
              "            <td>Michael Jordan* 1964.0</td> <td>1997</td> <td>Chicago Bulls        </td> <td>45.3685</td>\n",
              "        </tr>\n",
              "        <tr>\n",
              "            <td>Manu Ginobili 1978.0  </td> <td>2013</td> <td>San Antonio Spurs    </td> <td>45.2103</td>\n",
              "        </tr>\n",
              "        <tr>\n",
              "            <td>Magic Johnson* 1960.0 </td> <td>1982</td> <td>Los Angeles Lakers   </td> <td>45.0316</td>\n",
              "        </tr>\n",
              "        <tr>\n",
              "            <td>Magic Johnson* 1960.0 </td> <td>1983</td> <td>Los Angeles Lakers   </td> <td>44.5297</td>\n",
              "        </tr>\n",
              "        <tr>\n",
              "            <td>Chris Paul 1986.0     </td> <td>2010</td> <td>New Orleans Hornets  </td> <td>44.353 </td>\n",
              "        </tr>\n",
              "        <tr>\n",
              "            <td>Michael Jordan* 1964.0</td> <td>1995</td> <td>Chicago Bulls        </td> <td>44.2855</td>\n",
              "        </tr>\n",
              "        <tr>\n",
              "            <td>Dwyane Wade 1982.0    </td> <td>2010</td> <td>Miami Heat           </td> <td>43.961 </td>\n",
              "        </tr>\n",
              "    </tbody>\n",
              "</table>"
            ],
            "text/plain": [
              "<IPython.core.display.HTML object>"
            ]
          },
          "metadata": {
            "tags": []
          }
        },
        {
          "output_type": "display_data",
          "data": {
            "text/html": [
              "<table border=\"1\" class=\"dataframe\">\n",
              "    <thead>\n",
              "        <tr>\n",
              "            <th>Player</th> <th>Year</th> <th>Team</th> <th>Overall</th>\n",
              "        </tr>\n",
              "    </thead>\n",
              "    <tbody>\n",
              "        <tr>\n",
              "            <td>LeBron James 1985.0     </td> <td>2010</td> <td>Cleveland Cavaliers   </td> <td>39.1031</td>\n",
              "        </tr>\n",
              "        <tr>\n",
              "            <td>David Robinson* 1966.0  </td> <td>1995</td> <td>San Antonio Spurs     </td> <td>33.8102</td>\n",
              "        </tr>\n",
              "        <tr>\n",
              "            <td>Shaquille O'Neal* 1973.0</td> <td>2001</td> <td>Los Angeles Lakers    </td> <td>31.6839</td>\n",
              "        </tr>\n",
              "        <tr>\n",
              "            <td>LeBron James 1985.0     </td> <td>2011</td> <td>Miami Heat            </td> <td>31.1199</td>\n",
              "        </tr>\n",
              "        <tr>\n",
              "            <td>LeBron James 1985.0     </td> <td>2009</td> <td>Cleveland Cavaliers   </td> <td>29.998 </td>\n",
              "        </tr>\n",
              "        <tr>\n",
              "            <td>David Robinson* 1966.0  </td> <td>1998</td> <td>San Antonio Spurs     </td> <td>29.8051</td>\n",
              "        </tr>\n",
              "        <tr>\n",
              "            <td>LeBron James 1985.0     </td> <td>2014</td> <td>Miami Heat            </td> <td>29.456 </td>\n",
              "        </tr>\n",
              "        <tr>\n",
              "            <td>Kevin Garnett 1977.0    </td> <td>2005</td> <td>Minnesota Timberwolves</td> <td>29.1688</td>\n",
              "        </tr>\n",
              "        <tr>\n",
              "            <td>LeBron James 1985.0     </td> <td>2013</td> <td>Miami Heat            </td> <td>27.5336</td>\n",
              "        </tr>\n",
              "        <tr>\n",
              "            <td>David Robinson* 1966.0  </td> <td>1999</td> <td>San Antonio Spurs     </td> <td>26.8038</td>\n",
              "        </tr>\n",
              "        <tr>\n",
              "            <td>Kevin Garnett 1977.0    </td> <td>2006</td> <td>Minnesota Timberwolves</td> <td>25.3728</td>\n",
              "        </tr>\n",
              "        <tr>\n",
              "            <td>Kevin Durant 1989.0     </td> <td>2015</td> <td>Oklahoma City Thunder </td> <td>25.3242</td>\n",
              "        </tr>\n",
              "        <tr>\n",
              "            <td>Tim Duncan 1977.0       </td> <td>2005</td> <td>San Antonio Spurs     </td> <td>24.9752</td>\n",
              "        </tr>\n",
              "        <tr>\n",
              "            <td>David Robinson* 1966.0  </td> <td>1996</td> <td>San Antonio Spurs     </td> <td>24.8634</td>\n",
              "        </tr>\n",
              "        <tr>\n",
              "            <td>Karl Malone* 1964.0     </td> <td>1998</td> <td>Utah Jazz             </td> <td>24.6104</td>\n",
              "        </tr>\n",
              "    </tbody>\n",
              "</table>"
            ],
            "text/plain": [
              "<IPython.core.display.HTML object>"
            ]
          },
          "metadata": {
            "tags": []
          }
        }
      ]
    },
    {
      "cell_type": "markdown",
      "metadata": {
        "id": "K4hUFaxfcqOC"
      },
      "source": [
        "# **Part 1: Cleaning the Data**"
      ]
    },
    {
      "cell_type": "markdown",
      "metadata": {
        "id": "a-jjcOJyFfsM"
      },
      "source": [
        "Here is the raw data we're working with:"
      ]
    },
    {
      "cell_type": "code",
      "metadata": {
        "colab": {
          "base_uri": "https://localhost:8080/",
          "height": 915
        },
        "id": "4eMwEaXpHkPV",
        "outputId": "4f2848cb-7ddb-47da-eead-5acae065b68a"
      },
      "source": [
        "stats.show(10)\r\n",
        "records.show(10)"
      ],
      "execution_count": 23,
      "outputs": [
        {
          "output_type": "display_data",
          "data": {
            "text/html": [
              "<table border=\"1\" class=\"dataframe\">\n",
              "    <thead>\n",
              "        <tr>\n",
              "            <th>Unnamed: 0</th> <th>Year</th> <th>Player</th> <th>Pos</th> <th>Age</th> <th>Tm</th> <th>G</th> <th>GS</th> <th>MP</th> <th>PER</th> <th>TS%</th> <th>3PAr</th> <th>FTr</th> <th>ORB%</th> <th>DRB%</th> <th>TRB%</th> <th>AST%</th> <th>STL%</th> <th>BLK%</th> <th>TOV%</th> <th>USG%</th> <th>blanl</th> <th>OWS</th> <th>DWS</th> <th>WS</th> <th>WS/48</th> <th>blank2</th> <th>OBPM</th> <th>DBPM</th> <th>BPM</th> <th>VORP</th> <th>FG</th> <th>FGA</th> <th>FG%</th> <th>3P</th> <th>3PA</th> <th>3P%</th> <th>2P</th> <th>2PA</th> <th>2P%</th> <th>eFG%</th> <th>FT</th> <th>FTA</th> <th>FT%</th> <th>ORB</th> <th>DRB</th> <th>TRB</th> <th>AST</th> <th>STL</th> <th>BLK</th> <th>TOV</th> <th>PF</th> <th>PTS</th>\n",
              "        </tr>\n",
              "    </thead>\n",
              "    <tbody>\n",
              "        <tr>\n",
              "            <td>0         </td> <td>1950</td> <td>Curly Armstrong</td> <td>G-F </td> <td>31  </td> <td>FTW </td> <td>63  </td> <td>nan </td> <td>nan </td> <td>nan </td> <td>0.368</td> <td>nan </td> <td>0.467</td> <td>nan </td> <td>nan </td> <td>nan </td> <td>nan </td> <td>nan </td> <td>nan </td> <td>nan </td> <td>nan </td> <td>nan  </td> <td>-0.1</td> <td>3.6 </td> <td>3.5 </td> <td>nan  </td> <td>nan   </td> <td>nan </td> <td>nan </td> <td>nan </td> <td>nan </td> <td>144 </td> <td>516 </td> <td>0.279</td> <td>nan </td> <td>nan </td> <td>nan </td> <td>144 </td> <td>516 </td> <td>0.279</td> <td>0.279</td> <td>170 </td> <td>241 </td> <td>0.705</td> <td>nan </td> <td>nan </td> <td>nan </td> <td>176 </td> <td>nan </td> <td>nan </td> <td>nan </td> <td>217 </td> <td>458 </td>\n",
              "        </tr>\n",
              "        <tr>\n",
              "            <td>1         </td> <td>1950</td> <td>Cliff Barker   </td> <td>SG  </td> <td>29  </td> <td>INO </td> <td>49  </td> <td>nan </td> <td>nan </td> <td>nan </td> <td>0.435</td> <td>nan </td> <td>0.387</td> <td>nan </td> <td>nan </td> <td>nan </td> <td>nan </td> <td>nan </td> <td>nan </td> <td>nan </td> <td>nan </td> <td>nan  </td> <td>1.6 </td> <td>0.6 </td> <td>2.2 </td> <td>nan  </td> <td>nan   </td> <td>nan </td> <td>nan </td> <td>nan </td> <td>nan </td> <td>102 </td> <td>274 </td> <td>0.372</td> <td>nan </td> <td>nan </td> <td>nan </td> <td>102 </td> <td>274 </td> <td>0.372</td> <td>0.372</td> <td>75  </td> <td>106 </td> <td>0.708</td> <td>nan </td> <td>nan </td> <td>nan </td> <td>109 </td> <td>nan </td> <td>nan </td> <td>nan </td> <td>99  </td> <td>279 </td>\n",
              "        </tr>\n",
              "        <tr>\n",
              "            <td>2         </td> <td>1950</td> <td>Leo Barnhorst  </td> <td>SF  </td> <td>25  </td> <td>CHS </td> <td>67  </td> <td>nan </td> <td>nan </td> <td>nan </td> <td>0.394</td> <td>nan </td> <td>0.259</td> <td>nan </td> <td>nan </td> <td>nan </td> <td>nan </td> <td>nan </td> <td>nan </td> <td>nan </td> <td>nan </td> <td>nan  </td> <td>0.9 </td> <td>2.8 </td> <td>3.6 </td> <td>nan  </td> <td>nan   </td> <td>nan </td> <td>nan </td> <td>nan </td> <td>nan </td> <td>174 </td> <td>499 </td> <td>0.349</td> <td>nan </td> <td>nan </td> <td>nan </td> <td>174 </td> <td>499 </td> <td>0.349</td> <td>0.349</td> <td>90  </td> <td>129 </td> <td>0.698</td> <td>nan </td> <td>nan </td> <td>nan </td> <td>140 </td> <td>nan </td> <td>nan </td> <td>nan </td> <td>192 </td> <td>438 </td>\n",
              "        </tr>\n",
              "        <tr>\n",
              "            <td>3         </td> <td>1950</td> <td>Ed Bartels     </td> <td>F   </td> <td>24  </td> <td>TOT </td> <td>15  </td> <td>nan </td> <td>nan </td> <td>nan </td> <td>0.312</td> <td>nan </td> <td>0.395</td> <td>nan </td> <td>nan </td> <td>nan </td> <td>nan </td> <td>nan </td> <td>nan </td> <td>nan </td> <td>nan </td> <td>nan  </td> <td>-0.5</td> <td>-0.1</td> <td>-0.6</td> <td>nan  </td> <td>nan   </td> <td>nan </td> <td>nan </td> <td>nan </td> <td>nan </td> <td>22  </td> <td>86  </td> <td>0.256</td> <td>nan </td> <td>nan </td> <td>nan </td> <td>22  </td> <td>86  </td> <td>0.256</td> <td>0.256</td> <td>19  </td> <td>34  </td> <td>0.559</td> <td>nan </td> <td>nan </td> <td>nan </td> <td>20  </td> <td>nan </td> <td>nan </td> <td>nan </td> <td>29  </td> <td>63  </td>\n",
              "        </tr>\n",
              "        <tr>\n",
              "            <td>4         </td> <td>1950</td> <td>Ed Bartels     </td> <td>F   </td> <td>24  </td> <td>DNN </td> <td>13  </td> <td>nan </td> <td>nan </td> <td>nan </td> <td>0.308</td> <td>nan </td> <td>0.378</td> <td>nan </td> <td>nan </td> <td>nan </td> <td>nan </td> <td>nan </td> <td>nan </td> <td>nan </td> <td>nan </td> <td>nan  </td> <td>-0.5</td> <td>-0.1</td> <td>-0.6</td> <td>nan  </td> <td>nan   </td> <td>nan </td> <td>nan </td> <td>nan </td> <td>nan </td> <td>21  </td> <td>82  </td> <td>0.256</td> <td>nan </td> <td>nan </td> <td>nan </td> <td>21  </td> <td>82  </td> <td>0.256</td> <td>0.256</td> <td>17  </td> <td>31  </td> <td>0.548</td> <td>nan </td> <td>nan </td> <td>nan </td> <td>20  </td> <td>nan </td> <td>nan </td> <td>nan </td> <td>27  </td> <td>59  </td>\n",
              "        </tr>\n",
              "        <tr>\n",
              "            <td>5         </td> <td>1950</td> <td>Ed Bartels     </td> <td>F   </td> <td>24  </td> <td>NYK </td> <td>2   </td> <td>nan </td> <td>nan </td> <td>nan </td> <td>0.376</td> <td>nan </td> <td>0.75 </td> <td>nan </td> <td>nan </td> <td>nan </td> <td>nan </td> <td>nan </td> <td>nan </td> <td>nan </td> <td>nan </td> <td>nan  </td> <td>0   </td> <td>0   </td> <td>0   </td> <td>nan  </td> <td>nan   </td> <td>nan </td> <td>nan </td> <td>nan </td> <td>nan </td> <td>1   </td> <td>4   </td> <td>0.25 </td> <td>nan </td> <td>nan </td> <td>nan </td> <td>1   </td> <td>4   </td> <td>0.25 </td> <td>0.25 </td> <td>2   </td> <td>3   </td> <td>0.667</td> <td>nan </td> <td>nan </td> <td>nan </td> <td>0   </td> <td>nan </td> <td>nan </td> <td>nan </td> <td>2   </td> <td>4   </td>\n",
              "        </tr>\n",
              "        <tr>\n",
              "            <td>6         </td> <td>1950</td> <td>Ralph Beard    </td> <td>G   </td> <td>22  </td> <td>INO </td> <td>60  </td> <td>nan </td> <td>nan </td> <td>nan </td> <td>0.422</td> <td>nan </td> <td>0.301</td> <td>nan </td> <td>nan </td> <td>nan </td> <td>nan </td> <td>nan </td> <td>nan </td> <td>nan </td> <td>nan </td> <td>nan  </td> <td>3.6 </td> <td>1.2 </td> <td>4.8 </td> <td>nan  </td> <td>nan   </td> <td>nan </td> <td>nan </td> <td>nan </td> <td>nan </td> <td>340 </td> <td>936 </td> <td>0.363</td> <td>nan </td> <td>nan </td> <td>nan </td> <td>340 </td> <td>936 </td> <td>0.363</td> <td>0.363</td> <td>215 </td> <td>282 </td> <td>0.762</td> <td>nan </td> <td>nan </td> <td>nan </td> <td>233 </td> <td>nan </td> <td>nan </td> <td>nan </td> <td>132 </td> <td>895 </td>\n",
              "        </tr>\n",
              "        <tr>\n",
              "            <td>7         </td> <td>1950</td> <td>Gene Berce     </td> <td>G-F </td> <td>23  </td> <td>TRI </td> <td>3   </td> <td>nan </td> <td>nan </td> <td>nan </td> <td>0.275</td> <td>nan </td> <td>0.313</td> <td>nan </td> <td>nan </td> <td>nan </td> <td>nan </td> <td>nan </td> <td>nan </td> <td>nan </td> <td>nan </td> <td>nan  </td> <td>-0.1</td> <td>0   </td> <td>-0.1</td> <td>nan  </td> <td>nan   </td> <td>nan </td> <td>nan </td> <td>nan </td> <td>nan </td> <td>5   </td> <td>16  </td> <td>0.313</td> <td>nan </td> <td>nan </td> <td>nan </td> <td>5   </td> <td>16  </td> <td>0.313</td> <td>0.313</td> <td>0   </td> <td>5   </td> <td>0    </td> <td>nan </td> <td>nan </td> <td>nan </td> <td>2   </td> <td>nan </td> <td>nan </td> <td>nan </td> <td>6   </td> <td>10  </td>\n",
              "        </tr>\n",
              "        <tr>\n",
              "            <td>8         </td> <td>1950</td> <td>Charlie Black  </td> <td>F-C </td> <td>28  </td> <td>TOT </td> <td>65  </td> <td>nan </td> <td>nan </td> <td>nan </td> <td>0.346</td> <td>nan </td> <td>0.395</td> <td>nan </td> <td>nan </td> <td>nan </td> <td>nan </td> <td>nan </td> <td>nan </td> <td>nan </td> <td>nan </td> <td>nan  </td> <td>-2.2</td> <td>5   </td> <td>2.8 </td> <td>nan  </td> <td>nan   </td> <td>nan </td> <td>nan </td> <td>nan </td> <td>nan </td> <td>226 </td> <td>813 </td> <td>0.278</td> <td>nan </td> <td>nan </td> <td>nan </td> <td>226 </td> <td>813 </td> <td>0.278</td> <td>0.278</td> <td>209 </td> <td>321 </td> <td>0.651</td> <td>nan </td> <td>nan </td> <td>nan </td> <td>163 </td> <td>nan </td> <td>nan </td> <td>nan </td> <td>273 </td> <td>661 </td>\n",
              "        </tr>\n",
              "        <tr>\n",
              "            <td>9         </td> <td>1950</td> <td>Charlie Black  </td> <td>F-C </td> <td>28  </td> <td>FTW </td> <td>36  </td> <td>nan </td> <td>nan </td> <td>nan </td> <td>0.362</td> <td>nan </td> <td>0.48 </td> <td>nan </td> <td>nan </td> <td>nan </td> <td>nan </td> <td>nan </td> <td>nan </td> <td>nan </td> <td>nan </td> <td>nan  </td> <td>-0.7</td> <td>2.2 </td> <td>1.5 </td> <td>nan  </td> <td>nan   </td> <td>nan </td> <td>nan </td> <td>nan </td> <td>nan </td> <td>125 </td> <td>435 </td> <td>0.287</td> <td>nan </td> <td>nan </td> <td>nan </td> <td>125 </td> <td>435 </td> <td>0.287</td> <td>0.287</td> <td>132 </td> <td>209 </td> <td>0.632</td> <td>nan </td> <td>nan </td> <td>nan </td> <td>75  </td> <td>nan </td> <td>nan </td> <td>nan </td> <td>140 </td> <td>382 </td>\n",
              "        </tr>\n",
              "    </tbody>\n",
              "</table>\n",
              "<p>... (24681 rows omitted)</p>"
            ],
            "text/plain": [
              "<IPython.core.display.HTML object>"
            ]
          },
          "metadata": {
            "tags": []
          }
        },
        {
          "output_type": "display_data",
          "data": {
            "text/html": [
              "<table border=\"1\" class=\"dataframe\">\n",
              "    <thead>\n",
              "        <tr>\n",
              "            <th>Season</th> <th>Lg</th> <th>Team</th> <th>W</th> <th>L</th> <th>W/L%</th> <th>Finish</th> <th>SRS</th> <th>Pace</th> <th>Rel_Pace</th> <th>ORtg</th> <th>Rel_ORtg</th> <th>DRtg</th> <th>Rel_DRtg</th> <th>Playoffs</th> <th>Coaches</th> <th>Top WS</th>\n",
              "        </tr>\n",
              "    </thead>\n",
              "    <tbody>\n",
              "        <tr>\n",
              "            <td>2017-18</td> <td>NBA </td> <td>Boston Celtics </td> <td>29  </td> <td>10  </td> <td>0.744</td> <td>1     </td> <td>4.38 </td> <td>95.4</td> <td>-1.7    </td> <td>108  </td> <td>0.2     </td> <td>102.8</td> <td>-5      </td> <td>nan                   </td> <td>B. Stevens (29-10)</td> <td>K. Irving (5.7) </td>\n",
              "        </tr>\n",
              "        <tr>\n",
              "            <td>2016-17</td> <td>NBA </td> <td>Boston Celtics*</td> <td>53  </td> <td>29  </td> <td>0.646</td> <td>1     </td> <td>2.25 </td> <td>96.8</td> <td>0.4     </td> <td>111.2</td> <td>2.4     </td> <td>108.4</td> <td>-0.4    </td> <td>Lost E. Conf. Finals  </td> <td>B. Stevens (53-29)</td> <td>I. Thomas (12.5)</td>\n",
              "        </tr>\n",
              "        <tr>\n",
              "            <td>2015-16</td> <td>NBA </td> <td>Boston Celtics*</td> <td>48  </td> <td>34  </td> <td>0.585</td> <td>2     </td> <td>2.84 </td> <td>98.5</td> <td>2.7     </td> <td>106.8</td> <td>0.4     </td> <td>103.6</td> <td>-2.8    </td> <td>Lost E. Conf. 1st Rnd.</td> <td>B. Stevens (48-34)</td> <td>I. Thomas (9.7) </td>\n",
              "        </tr>\n",
              "        <tr>\n",
              "            <td>2014-15</td> <td>NBA </td> <td>Boston Celtics*</td> <td>40  </td> <td>42  </td> <td>0.488</td> <td>2     </td> <td>-0.4 </td> <td>95.8</td> <td>1.9     </td> <td>104.7</td> <td>-0.9    </td> <td>104.5</td> <td>-1.1    </td> <td>Lost E. Conf. 1st Rnd.</td> <td>B. Stevens (40-42)</td> <td>T. Zeller (6.5) </td>\n",
              "        </tr>\n",
              "        <tr>\n",
              "            <td>2013-14</td> <td>NBA </td> <td>Boston Celtics </td> <td>25  </td> <td>57  </td> <td>0.305</td> <td>4     </td> <td>-4.97</td> <td>93.3</td> <td>-0.6    </td> <td>102.9</td> <td>-3.8    </td> <td>107.7</td> <td>1       </td> <td>nan                   </td> <td>B. Stevens (25-57)</td> <td>B. Bass (5.1)   </td>\n",
              "        </tr>\n",
              "        <tr>\n",
              "            <td>2012-13</td> <td>NBA </td> <td>Boston Celtics*</td> <td>41  </td> <td>40  </td> <td>0.506</td> <td>3     </td> <td>-0.62</td> <td>91.7</td> <td>-0.3    </td> <td>103.1</td> <td>-2.8    </td> <td>103.3</td> <td>-2.6    </td> <td>Lost E. Conf. 1st Rnd.</td> <td>D. Rivers (41-40) </td> <td>P. Pierce (7.2) </td>\n",
              "        </tr>\n",
              "        <tr>\n",
              "            <td>2011-12</td> <td>NBA </td> <td>Boston Celtics*</td> <td>39  </td> <td>27  </td> <td>0.591</td> <td>1     </td> <td>2.26 </td> <td>90.4</td> <td>-0.9    </td> <td>101  </td> <td>-3.6    </td> <td>98.2 </td> <td>-6.4    </td> <td>Lost E. Conf. Finals  </td> <td>D. Rivers (39-27) </td> <td>P. Pierce (7.0) </td>\n",
              "        </tr>\n",
              "        <tr>\n",
              "            <td>2010-11</td> <td>NBA </td> <td>Boston Celtics*</td> <td>56  </td> <td>26  </td> <td>0.683</td> <td>1     </td> <td>4.83 </td> <td>90.4</td> <td>-1.7    </td> <td>106.2</td> <td>-1.1    </td> <td>100.3</td> <td>-7      </td> <td>Lost E. Conf. Semis   </td> <td>D. Rivers (56-26) </td> <td>P. Pierce (11.6)</td>\n",
              "        </tr>\n",
              "        <tr>\n",
              "            <td>2009-10</td> <td>NBA </td> <td>Boston Celtics*</td> <td>50  </td> <td>32  </td> <td>0.61 </td> <td>1     </td> <td>3.37 </td> <td>91.6</td> <td>-1.1    </td> <td>107.7</td> <td>0.1     </td> <td>103.8</td> <td>-3.8    </td> <td>Lost Finals           </td> <td>D. Rivers (50-32) </td> <td>R. Rondo (9.6)  </td>\n",
              "        </tr>\n",
              "        <tr>\n",
              "            <td>2008-09</td> <td>NBA </td> <td>Boston Celtics*</td> <td>62  </td> <td>20  </td> <td>0.756</td> <td>1     </td> <td>7.44 </td> <td>90.4</td> <td>-1.3    </td> <td>110.5</td> <td>2.2     </td> <td>102.3</td> <td>-6      </td> <td>Lost E. Conf. Semis   </td> <td>D. Rivers (62-20) </td> <td>R. Allen (11.1) </td>\n",
              "        </tr>\n",
              "    </tbody>\n",
              "</table>\n",
              "<p>... (1473 rows omitted)</p>"
            ],
            "text/plain": [
              "<IPython.core.display.HTML object>"
            ]
          },
          "metadata": {
            "tags": []
          }
        }
      ]
    },
    {
      "cell_type": "markdown",
      "metadata": {
        "id": "-PJff0tNask5"
      },
      "source": [
        "First, we are going to identify players who may have the same name and played during the same year by appending an identifier of the player's birth year onto their player name."
      ]
    },
    {
      "cell_type": "code",
      "metadata": {
        "id": "6v2MKaO1BEmH"
      },
      "source": [
        "with_birth = stats.with_column(\"Birth year\",stats.column(\"Year\")-stats.column(\"Age\"))\n",
        "player_name_birth_year = stats.column(\"Player\")\n",
        "for i in range(len(player_name_birth_year)):\n",
        "  player_name_birth_year[i] = player_name_birth_year[i] + \" \"+str(with_birth.column(\"Birth year\").item(i))\n",
        "with_birth_stats = stats.with_column(\"Player\",player_name_birth_year)\n",
        "#add birth year to player names because there are players with the exact same name who have played at the same time"
      ],
      "execution_count": 24,
      "outputs": []
    },
    {
      "cell_type": "markdown",
      "metadata": {
        "id": "OjhQeHz_bJUn"
      },
      "source": [
        "Now we are going to clean up the records table by removing the asterisk at the end of each team's name if there"
      ]
    },
    {
      "cell_type": "code",
      "metadata": {
        "id": "So2MvZ4XmRoS"
      },
      "source": [
        "teams = records.column(\"Team\")\n",
        "\n",
        "for i in range(len(teams)):\n",
        "  if teams[i][len(teams[i])-1] == '*':\n",
        "    teams[i] = teams[i][:len(teams[i])-1]\n",
        "\n",
        "records = records.with_column(\"Team\",teams)\n",
        "#remove *s"
      ],
      "execution_count": 25,
      "outputs": []
    },
    {
      "cell_type": "markdown",
      "metadata": {
        "id": "ocGftXUVbfKa"
      },
      "source": [
        "Removing 3 more special cases. First are the special case of players playing before 1980 and 1981, but not in 1980. Second are low minute players who played 6 or less minutes per game. Third are players who played less than 10 games in the season."
      ]
    },
    {
      "cell_type": "code",
      "metadata": {
        "id": "eejINz6kJejW"
      },
      "source": [
        "\n",
        "\n",
        "#special case: players who played before 1980 and played in 1981, but NOT in 1980\n",
        "#causes bug since there are no stats for that player for predicting 1981\n",
        "# ==> set the season before 1980 to 1980 for purposes of predicting 1981\n",
        "\n",
        "#Keith Herron 5521\n",
        "#Mychal Thompson 5688\n",
        "#Ron Davis  4728\n",
        "\n",
        "year_column = with_birth_stats.column(\"Year\")\n",
        "year_column[5521] = 1980\n",
        "year_column[5688] = 1980\n",
        "year_column[4728] = 1980\n",
        "\n",
        "\n",
        "#remove people with less than 10 games and people who play less than 6 min/game\n",
        "#add min/game column\n",
        "\n",
        "with_birth_stats = with_birth_stats.with_column(\"Year\",year_column).where(\"G\",are.above(10))\n",
        "with_birth_stats = with_birth_stats.with_columns(\"MPG\",with_birth_stats.column(\"MP\")/with_birth_stats.column(\"G\")).where(\"MPG\",are.above(6.1))\n"
      ],
      "execution_count": 26,
      "outputs": []
    },
    {
      "cell_type": "markdown",
      "metadata": {
        "id": "tlYrFpk_cEw3"
      },
      "source": [
        "Now we are creating our stats to use as parameters for our model and appending those custom stats to our overall stats table as the per_game_stats table. Here are a variety of different stats we experimented with using (most of which did not make it into the final equation)"
      ]
    },
    {
      "cell_type": "code",
      "metadata": {
        "id": "RA3JL75vmuHG",
        "colab": {
          "base_uri": "https://localhost:8080/",
          "height": 765
        },
        "outputId": "9d2ec772-781c-4882-887b-4a56b79d12cb"
      },
      "source": [
        "pre_stats = with_birth_stats.with_columns(\"PPG\",with_birth_stats.column(\"PTS\")/with_birth_stats.column(\"G\"),\"APG\",with_birth_stats.column(\"AST\")/with_birth_stats.column(\"G\"),\"RPG\",with_birth_stats.column(\"TRB\")/with_birth_stats.column(\"G\"),\"SPG\",with_birth_stats.column(\"STL\")/with_birth_stats.column(\"G\"),\"3PG\",with_birth_stats.column(\"3P\")/with_birth_stats.column(\"G\"),\"FPG\",with_birth_stats.column(\"FT\")/with_birth_stats.column(\"G\"),\"TPG\",with_birth_stats.column(\"TOV\")/with_birth_stats.column(\"G\"),\"BPG\",with_birth_stats.column(\"BLK\")/with_birth_stats.column(\"G\")).with_columns(\"AGE_rating\",with_birth_stats.column(\"Age\")**2 - 56*with_birth_stats.column(\"Age\"))\r\n",
        "\r\n",
        "\r\n",
        "per_game_stats = pre_stats.with_columns(\r\n",
        "                                        \"AGE2\",pre_stats.column(\"Age\")**2,\r\n",
        "                                        \"AGE1\",pre_stats.column(\"Age\"),\r\n",
        "                                        \"PPM2\",(pre_stats.column(\"PPG\")**2)/pre_stats.column(\"MPG\"),\r\n",
        "                                        \"PPM1\",(pre_stats.column(\"PPG\"))/pre_stats.column(\"MPG\"),\r\n",
        "                                        \"RPM\",(pre_stats.column(\"RPG\"))/pre_stats.column(\"MPG\"),\r\n",
        "                                        \"3PM\",pre_stats.column(\"3PG\")/pre_stats.column(\"MPG\"),                           \r\n",
        "                                        \"PER/M\",pre_stats.column(\"PER\")*pre_stats.column(\"MPG\"),\r\n",
        "                                        \"PER1\",pre_stats.column(\"PER\"),\r\n",
        "                                        \"WS2\",pre_stats.column(\"WS\")**2,\r\n",
        "                                        \"WS1\",pre_stats.column(\"WS\"),\r\n",
        "                                        \"USG2\",pre_stats.column(\"USG%\")**2,\r\n",
        "                                        \"USG1\",pre_stats.column(\"USG%\"),\r\n",
        "                                        \"PTS/FGA\",pre_stats.column(\"PTS\")/pre_stats.column(\"FGA\"),\r\n",
        "                                        \"PFPG\",pre_stats.column(\"PF\")/pre_stats.column(\"G\")\r\n",
        "                                        )\r\n",
        "\r\n",
        "\r\n",
        "per_game_stats = per_game_stats.sort(\"Year\").sort(\"Player\")\r\n",
        "\r\n",
        "per_game_stats\r\n",
        "\r\n",
        "#yield per game stats per player\r\n"
      ],
      "execution_count": 27,
      "outputs": [
        {
          "output_type": "execute_result",
          "data": {
            "text/html": [
              "<table border=\"1\" class=\"dataframe\">\n",
              "    <thead>\n",
              "        <tr>\n",
              "            <th>Unnamed: 0</th> <th>Year</th> <th>Player</th> <th>Pos</th> <th>Age</th> <th>Tm</th> <th>G</th> <th>GS</th> <th>MP</th> <th>PER</th> <th>TS%</th> <th>3PAr</th> <th>FTr</th> <th>ORB%</th> <th>DRB%</th> <th>TRB%</th> <th>AST%</th> <th>STL%</th> <th>BLK%</th> <th>TOV%</th> <th>USG%</th> <th>blanl</th> <th>OWS</th> <th>DWS</th> <th>WS</th> <th>WS/48</th> <th>blank2</th> <th>OBPM</th> <th>DBPM</th> <th>BPM</th> <th>VORP</th> <th>FG</th> <th>FGA</th> <th>FG%</th> <th>3P</th> <th>3PA</th> <th>3P%</th> <th>2P</th> <th>2PA</th> <th>2P%</th> <th>eFG%</th> <th>FT</th> <th>FTA</th> <th>FT%</th> <th>ORB</th> <th>DRB</th> <th>TRB</th> <th>AST</th> <th>STL</th> <th>BLK</th> <th>TOV</th> <th>PF</th> <th>PTS</th> <th>MPG</th> <th>PPG</th> <th>APG</th> <th>RPG</th> <th>SPG</th> <th>3PG</th> <th>FPG</th> <th>TPG</th> <th>BPG</th> <th>AGE_rating</th> <th>AGE2</th> <th>AGE1</th> <th>PPM2</th> <th>PPM1</th> <th>RPM</th> <th>3PM</th> <th>PER/M</th> <th>PER1</th> <th>WS2</th> <th>WS1</th> <th>USG2</th> <th>USG1</th> <th>PTS/FGA</th> <th>PFPG</th>\n",
              "        </tr>\n",
              "    </thead>\n",
              "    <tbody>\n",
              "        <tr>\n",
              "            <td>8035      </td> <td>1986</td> <td>A.C. Green 1964.0</td> <td>PF  </td> <td>22  </td> <td>LAL </td> <td>82  </td> <td>1   </td> <td>1542</td> <td>11.8</td> <td>0.564</td> <td>0.015</td> <td>0.43 </td> <td>12.4</td> <td>15.5</td> <td>14  </td> <td>4.2 </td> <td>1.5 </td> <td>1.7 </td> <td>17.7</td> <td>14.7</td> <td>nan  </td> <td>1.4 </td> <td>2   </td> <td>3.3 </td> <td>0.103</td> <td>nan   </td> <td>-0.5</td> <td>0.8 </td> <td>0.3 </td> <td>0.9 </td> <td>209 </td> <td>388 </td> <td>0.539</td> <td>1   </td> <td>6   </td> <td>0.167</td> <td>208 </td> <td>382 </td> <td>0.545</td> <td>0.54 </td> <td>102 </td> <td>167 </td> <td>0.611</td> <td>160 </td> <td>221 </td> <td>381 </td> <td>54  </td> <td>49  </td> <td>49  </td> <td>99  </td> <td>229 </td> <td>521 </td> <td>18.8049</td> <td>6.35366</td> <td>0.658537</td> <td>4.64634</td> <td>0.597561</td> <td>0.0121951</td> <td>1.2439 </td> <td>1.20732</td> <td>0.597561</td> <td>-748      </td> <td>484 </td> <td>22  </td> <td>2.14673</td> <td>0.337873</td> <td>0.247082</td> <td>0.000648508</td> <td>221.898</td> <td>11.8</td> <td>10.89</td> <td>3.3 </td> <td>216.09</td> <td>14.7</td> <td>1.34278</td> <td>2.79268</td>\n",
              "        </tr>\n",
              "        <tr>\n",
              "            <td>8420      </td> <td>1987</td> <td>A.C. Green 1964.0</td> <td>PF  </td> <td>23  </td> <td>LAL </td> <td>79  </td> <td>72  </td> <td>2240</td> <td>15.7</td> <td>0.599</td> <td>0.009</td> <td>0.48 </td> <td>11.2</td> <td>18.8</td> <td>15.3</td> <td>4.6 </td> <td>1.5 </td> <td>2   </td> <td>12.5</td> <td>14.7</td> <td>nan  </td> <td>4.3 </td> <td>3.3 </td> <td>7.6 </td> <td>0.163</td> <td>nan   </td> <td>0.6 </td> <td>1   </td> <td>1.7 </td> <td>2.1 </td> <td>316 </td> <td>587 </td> <td>0.538</td> <td>0   </td> <td>5   </td> <td>0    </td> <td>316 </td> <td>582 </td> <td>0.543</td> <td>0.538</td> <td>220 </td> <td>282 </td> <td>0.78 </td> <td>210 </td> <td>405 </td> <td>615 </td> <td>84  </td> <td>70  </td> <td>80  </td> <td>102 </td> <td>171 </td> <td>852 </td> <td>28.3544</td> <td>10.7848</td> <td>1.06329 </td> <td>7.78481</td> <td>0.886076</td> <td>0        </td> <td>2.78481</td> <td>1.29114</td> <td>1.01266 </td> <td>-759      </td> <td>529 </td> <td>23  </td> <td>4.10208</td> <td>0.380357</td> <td>0.274554</td> <td>0          </td> <td>445.165</td> <td>15.7</td> <td>57.76</td> <td>7.6 </td> <td>216.09</td> <td>14.7</td> <td>1.45145</td> <td>2.16456</td>\n",
              "        </tr>\n",
              "        <tr>\n",
              "            <td>8807      </td> <td>1988</td> <td>A.C. Green 1964.0</td> <td>PF  </td> <td>24  </td> <td>LAL </td> <td>82  </td> <td>64  </td> <td>2636</td> <td>14.5</td> <td>0.581</td> <td>0.003</td> <td>0.592</td> <td>11.1</td> <td>19.1</td> <td>15.3</td> <td>4.5 </td> <td>1.6 </td> <td>1   </td> <td>12.9</td> <td>14.7</td> <td>nan  </td> <td>4.5 </td> <td>3.4 </td> <td>7.9 </td> <td>0.144</td> <td>nan   </td> <td>0.2 </td> <td>0.8 </td> <td>1   </td> <td>2   </td> <td>322 </td> <td>640 </td> <td>0.503</td> <td>0   </td> <td>2   </td> <td>0    </td> <td>322 </td> <td>638 </td> <td>0.505</td> <td>0.503</td> <td>293 </td> <td>379 </td> <td>0.773</td> <td>245 </td> <td>465 </td> <td>710 </td> <td>93  </td> <td>87  </td> <td>45  </td> <td>120 </td> <td>204 </td> <td>937 </td> <td>32.1463</td> <td>11.4268</td> <td>1.13415 </td> <td>8.65854</td> <td>1.06098 </td> <td>0        </td> <td>3.57317</td> <td>1.46341</td> <td>0.54878 </td> <td>-768      </td> <td>576 </td> <td>24  </td> <td>4.06181</td> <td>0.355463</td> <td>0.269347</td> <td>0          </td> <td>466.122</td> <td>14.5</td> <td>62.41</td> <td>7.9 </td> <td>216.09</td> <td>14.7</td> <td>1.46406</td> <td>2.4878 </td>\n",
              "        </tr>\n",
              "        <tr>\n",
              "            <td>9242      </td> <td>1989</td> <td>A.C. Green 1964.0</td> <td>PF  </td> <td>25  </td> <td>LAL </td> <td>82  </td> <td>82  </td> <td>2510</td> <td>17.8</td> <td>0.594</td> <td>0.022</td> <td>0.474</td> <td>12.3</td> <td>20  </td> <td>16.4</td> <td>5.5 </td> <td>1.8 </td> <td>1.2 </td> <td>11.5</td> <td>17  </td> <td>nan  </td> <td>5.8 </td> <td>3.5 </td> <td>9.4 </td> <td>0.179</td> <td>nan   </td> <td>1.6 </td> <td>0.6 </td> <td>2.2 </td> <td>2.7 </td> <td>401 </td> <td>758 </td> <td>0.529</td> <td>4   </td> <td>17  </td> <td>0.235</td> <td>397 </td> <td>741 </td> <td>0.536</td> <td>0.532</td> <td>282 </td> <td>359 </td> <td>0.786</td> <td>258 </td> <td>481 </td> <td>739 </td> <td>103 </td> <td>94  </td> <td>55  </td> <td>119 </td> <td>172 </td> <td>1088</td> <td>30.6098</td> <td>13.2683</td> <td>1.2561  </td> <td>9.0122 </td> <td>1.14634 </td> <td>0.0487805</td> <td>3.43902</td> <td>1.45122</td> <td>0.670732</td> <td>-775      </td> <td>625 </td> <td>25  </td> <td>5.75136</td> <td>0.433466</td> <td>0.294422</td> <td>0.00159363 </td> <td>544.854</td> <td>17.8</td> <td>88.36</td> <td>9.4 </td> <td>289   </td> <td>17  </td> <td>1.43536</td> <td>2.09756</td>\n",
              "        </tr>\n",
              "        <tr>\n",
              "            <td>9688      </td> <td>1990</td> <td>A.C. Green 1964.0</td> <td>PF  </td> <td>26  </td> <td>LAL </td> <td>82  </td> <td>82  </td> <td>2709</td> <td>14.7</td> <td>0.548</td> <td>0.057</td> <td>0.459</td> <td>11.5</td> <td>18.4</td> <td>15.1</td> <td>4.6 </td> <td>1.2 </td> <td>1.1 </td> <td>10.7</td> <td>17.1</td> <td>nan  </td> <td>4.4 </td> <td>3.3 </td> <td>7.7 </td> <td>0.137</td> <td>nan   </td> <td>0.3 </td> <td>0   </td> <td>0.4 </td> <td>1.6 </td> <td>385 </td> <td>806 </td> <td>0.478</td> <td>13  </td> <td>46  </td> <td>0.283</td> <td>372 </td> <td>760 </td> <td>0.489</td> <td>0.486</td> <td>278 </td> <td>370 </td> <td>0.751</td> <td>262 </td> <td>450 </td> <td>712 </td> <td>90  </td> <td>66  </td> <td>50  </td> <td>116 </td> <td>207 </td> <td>1061</td> <td>33.0366</td> <td>12.939 </td> <td>1.09756 </td> <td>8.68293</td> <td>0.804878</td> <td>0.158537 </td> <td>3.39024</td> <td>1.41463</td> <td>0.609756</td> <td>-780      </td> <td>676 </td> <td>26  </td> <td>5.06767</td> <td>0.391657</td> <td>0.262828</td> <td>0.00479882 </td> <td>485.638</td> <td>14.7</td> <td>59.29</td> <td>7.7 </td> <td>292.41</td> <td>17.1</td> <td>1.31638</td> <td>2.52439</td>\n",
              "        </tr>\n",
              "        <tr>\n",
              "            <td>10166     </td> <td>1991</td> <td>A.C. Green 1964.0</td> <td>PF  </td> <td>27  </td> <td>LAL </td> <td>82  </td> <td>21  </td> <td>2164</td> <td>13.8</td> <td>0.556</td> <td>0.101</td> <td>0.557</td> <td>11.3</td> <td>16.2</td> <td>13.8</td> <td>4.5 </td> <td>1.4 </td> <td>0.6 </td> <td>12.8</td> <td>15.6</td> <td>nan  </td> <td>3.2 </td> <td>2.9 </td> <td>6.1 </td> <td>0.135</td> <td>nan   </td> <td>0   </td> <td>0.6 </td> <td>0.5 </td> <td>1.4 </td> <td>258 </td> <td>542 </td> <td>0.476</td> <td>11  </td> <td>55  </td> <td>0.2  </td> <td>247 </td> <td>487 </td> <td>0.507</td> <td>0.486</td> <td>223 </td> <td>302 </td> <td>0.738</td> <td>201 </td> <td>315 </td> <td>516 </td> <td>71  </td> <td>59  </td> <td>23  </td> <td>99  </td> <td>117 </td> <td>750 </td> <td>26.3902</td> <td>9.14634</td> <td>0.865854</td> <td>6.29268</td> <td>0.719512</td> <td>0.134146 </td> <td>2.71951</td> <td>1.20732</td> <td>0.280488</td> <td>-783      </td> <td>729 </td> <td>27  </td> <td>3.16994</td> <td>0.34658 </td> <td>0.238447</td> <td>0.00508318 </td> <td>364.185</td> <td>13.8</td> <td>37.21</td> <td>6.1 </td> <td>243.36</td> <td>15.6</td> <td>1.38376</td> <td>1.42683</td>\n",
              "        </tr>\n",
              "        <tr>\n",
              "            <td>10617     </td> <td>1992</td> <td>A.C. Green 1964.0</td> <td>PF  </td> <td>28  </td> <td>LAL </td> <td>82  </td> <td>53  </td> <td>2902</td> <td>16.7</td> <td>0.556</td> <td>0.07 </td> <td>0.569</td> <td>11.8</td> <td>18.2</td> <td>14.9</td> <td>6   </td> <td>1.6 </td> <td>0.8 </td> <td>10  </td> <td>16.8</td> <td>nan  </td> <td>5.8 </td> <td>2.9 </td> <td>8.8 </td> <td>0.145</td> <td>nan   </td> <td>1.2 </td> <td>0.2 </td> <td>1.4 </td> <td>2.5 </td> <td>382 </td> <td>803 </td> <td>0.476</td> <td>12  </td> <td>56  </td> <td>0.214</td> <td>370 </td> <td>747 </td> <td>0.495</td> <td>0.483</td> <td>340 </td> <td>457 </td> <td>0.744</td> <td>306 </td> <td>456 </td> <td>762 </td> <td>117 </td> <td>91  </td> <td>36  </td> <td>111 </td> <td>141 </td> <td>1116</td> <td>35.3902</td> <td>13.6098</td> <td>1.42683 </td> <td>9.29268</td> <td>1.10976 </td> <td>0.146341 </td> <td>4.14634</td> <td>1.35366</td> <td>0.439024</td> <td>-784      </td> <td>784 </td> <td>28  </td> <td>5.2338 </td> <td>0.384562</td> <td>0.262578</td> <td>0.00413508 </td> <td>591.017</td> <td>16.7</td> <td>77.44</td> <td>8.8 </td> <td>282.24</td> <td>16.8</td> <td>1.38979</td> <td>1.71951</td>\n",
              "        </tr>\n",
              "        <tr>\n",
              "            <td>11060     </td> <td>1993</td> <td>A.C. Green 1964.0</td> <td>PF  </td> <td>29  </td> <td>LAL </td> <td>82  </td> <td>55  </td> <td>2819</td> <td>16.3</td> <td>0.603</td> <td>0.065</td> <td>0.531</td> <td>11.5</td> <td>17.3</td> <td>14.4</td> <td>5.9 </td> <td>1.6 </td> <td>0.9 </td> <td>11.8</td> <td>15  </td> <td>nan  </td> <td>6.1 </td> <td>2.6 </td> <td>8.6 </td> <td>0.147</td> <td>nan   </td> <td>1.6 </td> <td>0.5 </td> <td>2.1 </td> <td>2.9 </td> <td>379 </td> <td>706 </td> <td>0.537</td> <td>16  </td> <td>46  </td> <td>0.348</td> <td>363 </td> <td>660 </td> <td>0.55 </td> <td>0.548</td> <td>277 </td> <td>375 </td> <td>0.739</td> <td>287 </td> <td>424 </td> <td>711 </td> <td>116 </td> <td>88  </td> <td>39  </td> <td>116 </td> <td>149 </td> <td>1051</td> <td>34.378 </td> <td>12.8171</td> <td>1.41463 </td> <td>8.67073</td> <td>1.07317 </td> <td>0.195122 </td> <td>3.37805</td> <td>1.41463</td> <td>0.47561 </td> <td>-783      </td> <td>841 </td> <td>29  </td> <td>4.77855</td> <td>0.372827</td> <td>0.252217</td> <td>0.00567577 </td> <td>560.362</td> <td>16.3</td> <td>73.96</td> <td>8.6 </td> <td>225   </td> <td>15  </td> <td>1.48867</td> <td>1.81707</td>\n",
              "        </tr>\n",
              "        <tr>\n",
              "            <td>11529     </td> <td>1994</td> <td>A.C. Green 1964.0</td> <td>PF  </td> <td>30  </td> <td>PHO </td> <td>82  </td> <td>55  </td> <td>2825</td> <td>17  </td> <td>0.555</td> <td>0.038</td> <td>0.391</td> <td>11.1</td> <td>18.8</td> <td>15  </td> <td>6.9 </td> <td>1.2 </td> <td>0.8 </td> <td>8.4 </td> <td>17.6</td> <td>nan  </td> <td>6.7 </td> <td>2.6 </td> <td>9.3 </td> <td>0.157</td> <td>nan   </td> <td>1.5 </td> <td>-0.3</td> <td>1.2 </td> <td>2.3 </td> <td>465 </td> <td>926 </td> <td>0.502</td> <td>8   </td> <td>35  </td> <td>0.229</td> <td>457 </td> <td>891 </td> <td>0.513</td> <td>0.506</td> <td>266 </td> <td>362 </td> <td>0.735</td> <td>275 </td> <td>478 </td> <td>753 </td> <td>137 </td> <td>70  </td> <td>38  </td> <td>100 </td> <td>142 </td> <td>1204</td> <td>34.4512</td> <td>14.6829</td> <td>1.67073 </td> <td>9.18293</td> <td>0.853659</td> <td>0.097561 </td> <td>3.2439 </td> <td>1.21951</td> <td>0.463415</td> <td>-780      </td> <td>900 </td> <td>30  </td> <td>6.25779</td> <td>0.426195</td> <td>0.266549</td> <td>0.00283186 </td> <td>585.671</td> <td>17  </td> <td>86.49</td> <td>9.3 </td> <td>309.76</td> <td>17.6</td> <td>1.30022</td> <td>1.73171</td>\n",
              "        </tr>\n",
              "        <tr>\n",
              "            <td>11999     </td> <td>1995</td> <td>A.C. Green 1964.0</td> <td>SF  </td> <td>31  </td> <td>PHO </td> <td>82  </td> <td>52  </td> <td>2687</td> <td>14.2</td> <td>0.596</td> <td>0.206</td> <td>0.556</td> <td>8.3 </td> <td>20.4</td> <td>14.3</td> <td>6.5 </td> <td>1   </td> <td>0.8 </td> <td>12.9</td> <td>14.2</td> <td>nan  </td> <td>4.6 </td> <td>2.1 </td> <td>6.7 </td> <td>0.12 </td> <td>nan   </td> <td>0.6 </td> <td>0.2 </td> <td>0.7 </td> <td>1.9 </td> <td>311 </td> <td>617 </td> <td>0.504</td> <td>43  </td> <td>127 </td> <td>0.339</td> <td>268 </td> <td>490 </td> <td>0.547</td> <td>0.539</td> <td>251 </td> <td>343 </td> <td>0.732</td> <td>194 </td> <td>475 </td> <td>669 </td> <td>127 </td> <td>55  </td> <td>31  </td> <td>114 </td> <td>146 </td> <td>916 </td> <td>32.7683</td> <td>11.1707</td> <td>1.54878 </td> <td>8.15854</td> <td>0.670732</td> <td>0.52439  </td> <td>3.06098</td> <td>1.39024</td> <td>0.378049</td> <td>-775      </td> <td>961 </td> <td>31  </td> <td>3.80811</td> <td>0.340901</td> <td>0.248977</td> <td>0.016003   </td> <td>465.31 </td> <td>14.2</td> <td>44.89</td> <td>6.7 </td> <td>201.64</td> <td>14.2</td> <td>1.4846 </td> <td>1.78049</td>\n",
              "        </tr>\n",
              "    </tbody>\n",
              "</table>\n",
              "<p>... (20608 rows omitted)</p>"
            ],
            "text/plain": [
              "Unnamed: 0 | Year | Player            | Pos  | Age  | Tm   | G    | GS   | MP   | PER  | TS%   | 3PAr  | FTr   | ORB% | DRB% | TRB% | AST% | STL% | BLK% | TOV% | USG% | blanl | OWS  | DWS  | WS   | WS/48 | blank2 | OBPM | DBPM | BPM  | VORP | FG   | FGA  | FG%   | 3P   | 3PA  | 3P%   | 2P   | 2PA  | 2P%   | eFG%  | FT   | FTA  | FT%   | ORB  | DRB  | TRB  | AST  | STL  | BLK  | TOV  | PF   | PTS  | MPG     | PPG     | APG      | RPG     | SPG      | 3PG       | FPG     | TPG     | BPG      | AGE_rating | AGE2 | AGE1 | PPM2    | PPM1     | RPM      | 3PM         | PER/M   | PER1 | WS2   | WS1  | USG2   | USG1 | PTS/FGA | PFPG\n",
              "8035       | 1986 | A.C. Green 1964.0 | PF   | 22   | LAL  | 82   | 1    | 1542 | 11.8 | 0.564 | 0.015 | 0.43  | 12.4 | 15.5 | 14   | 4.2  | 1.5  | 1.7  | 17.7 | 14.7 | nan   | 1.4  | 2    | 3.3  | 0.103 | nan    | -0.5 | 0.8  | 0.3  | 0.9  | 209  | 388  | 0.539 | 1    | 6    | 0.167 | 208  | 382  | 0.545 | 0.54  | 102  | 167  | 0.611 | 160  | 221  | 381  | 54   | 49   | 49   | 99   | 229  | 521  | 18.8049 | 6.35366 | 0.658537 | 4.64634 | 0.597561 | 0.0121951 | 1.2439  | 1.20732 | 0.597561 | -748       | 484  | 22   | 2.14673 | 0.337873 | 0.247082 | 0.000648508 | 221.898 | 11.8 | 10.89 | 3.3  | 216.09 | 14.7 | 1.34278 | 2.79268\n",
              "8420       | 1987 | A.C. Green 1964.0 | PF   | 23   | LAL  | 79   | 72   | 2240 | 15.7 | 0.599 | 0.009 | 0.48  | 11.2 | 18.8 | 15.3 | 4.6  | 1.5  | 2    | 12.5 | 14.7 | nan   | 4.3  | 3.3  | 7.6  | 0.163 | nan    | 0.6  | 1    | 1.7  | 2.1  | 316  | 587  | 0.538 | 0    | 5    | 0     | 316  | 582  | 0.543 | 0.538 | 220  | 282  | 0.78  | 210  | 405  | 615  | 84   | 70   | 80   | 102  | 171  | 852  | 28.3544 | 10.7848 | 1.06329  | 7.78481 | 0.886076 | 0         | 2.78481 | 1.29114 | 1.01266  | -759       | 529  | 23   | 4.10208 | 0.380357 | 0.274554 | 0           | 445.165 | 15.7 | 57.76 | 7.6  | 216.09 | 14.7 | 1.45145 | 2.16456\n",
              "8807       | 1988 | A.C. Green 1964.0 | PF   | 24   | LAL  | 82   | 64   | 2636 | 14.5 | 0.581 | 0.003 | 0.592 | 11.1 | 19.1 | 15.3 | 4.5  | 1.6  | 1    | 12.9 | 14.7 | nan   | 4.5  | 3.4  | 7.9  | 0.144 | nan    | 0.2  | 0.8  | 1    | 2    | 322  | 640  | 0.503 | 0    | 2    | 0     | 322  | 638  | 0.505 | 0.503 | 293  | 379  | 0.773 | 245  | 465  | 710  | 93   | 87   | 45   | 120  | 204  | 937  | 32.1463 | 11.4268 | 1.13415  | 8.65854 | 1.06098  | 0         | 3.57317 | 1.46341 | 0.54878  | -768       | 576  | 24   | 4.06181 | 0.355463 | 0.269347 | 0           | 466.122 | 14.5 | 62.41 | 7.9  | 216.09 | 14.7 | 1.46406 | 2.4878\n",
              "9242       | 1989 | A.C. Green 1964.0 | PF   | 25   | LAL  | 82   | 82   | 2510 | 17.8 | 0.594 | 0.022 | 0.474 | 12.3 | 20   | 16.4 | 5.5  | 1.8  | 1.2  | 11.5 | 17   | nan   | 5.8  | 3.5  | 9.4  | 0.179 | nan    | 1.6  | 0.6  | 2.2  | 2.7  | 401  | 758  | 0.529 | 4    | 17   | 0.235 | 397  | 741  | 0.536 | 0.532 | 282  | 359  | 0.786 | 258  | 481  | 739  | 103  | 94   | 55   | 119  | 172  | 1088 | 30.6098 | 13.2683 | 1.2561   | 9.0122  | 1.14634  | 0.0487805 | 3.43902 | 1.45122 | 0.670732 | -775       | 625  | 25   | 5.75136 | 0.433466 | 0.294422 | 0.00159363  | 544.854 | 17.8 | 88.36 | 9.4  | 289    | 17   | 1.43536 | 2.09756\n",
              "9688       | 1990 | A.C. Green 1964.0 | PF   | 26   | LAL  | 82   | 82   | 2709 | 14.7 | 0.548 | 0.057 | 0.459 | 11.5 | 18.4 | 15.1 | 4.6  | 1.2  | 1.1  | 10.7 | 17.1 | nan   | 4.4  | 3.3  | 7.7  | 0.137 | nan    | 0.3  | 0    | 0.4  | 1.6  | 385  | 806  | 0.478 | 13   | 46   | 0.283 | 372  | 760  | 0.489 | 0.486 | 278  | 370  | 0.751 | 262  | 450  | 712  | 90   | 66   | 50   | 116  | 207  | 1061 | 33.0366 | 12.939  | 1.09756  | 8.68293 | 0.804878 | 0.158537  | 3.39024 | 1.41463 | 0.609756 | -780       | 676  | 26   | 5.06767 | 0.391657 | 0.262828 | 0.00479882  | 485.638 | 14.7 | 59.29 | 7.7  | 292.41 | 17.1 | 1.31638 | 2.52439\n",
              "10166      | 1991 | A.C. Green 1964.0 | PF   | 27   | LAL  | 82   | 21   | 2164 | 13.8 | 0.556 | 0.101 | 0.557 | 11.3 | 16.2 | 13.8 | 4.5  | 1.4  | 0.6  | 12.8 | 15.6 | nan   | 3.2  | 2.9  | 6.1  | 0.135 | nan    | 0    | 0.6  | 0.5  | 1.4  | 258  | 542  | 0.476 | 11   | 55   | 0.2   | 247  | 487  | 0.507 | 0.486 | 223  | 302  | 0.738 | 201  | 315  | 516  | 71   | 59   | 23   | 99   | 117  | 750  | 26.3902 | 9.14634 | 0.865854 | 6.29268 | 0.719512 | 0.134146  | 2.71951 | 1.20732 | 0.280488 | -783       | 729  | 27   | 3.16994 | 0.34658  | 0.238447 | 0.00508318  | 364.185 | 13.8 | 37.21 | 6.1  | 243.36 | 15.6 | 1.38376 | 1.42683\n",
              "10617      | 1992 | A.C. Green 1964.0 | PF   | 28   | LAL  | 82   | 53   | 2902 | 16.7 | 0.556 | 0.07  | 0.569 | 11.8 | 18.2 | 14.9 | 6    | 1.6  | 0.8  | 10   | 16.8 | nan   | 5.8  | 2.9  | 8.8  | 0.145 | nan    | 1.2  | 0.2  | 1.4  | 2.5  | 382  | 803  | 0.476 | 12   | 56   | 0.214 | 370  | 747  | 0.495 | 0.483 | 340  | 457  | 0.744 | 306  | 456  | 762  | 117  | 91   | 36   | 111  | 141  | 1116 | 35.3902 | 13.6098 | 1.42683  | 9.29268 | 1.10976  | 0.146341  | 4.14634 | 1.35366 | 0.439024 | -784       | 784  | 28   | 5.2338  | 0.384562 | 0.262578 | 0.00413508  | 591.017 | 16.7 | 77.44 | 8.8  | 282.24 | 16.8 | 1.38979 | 1.71951\n",
              "11060      | 1993 | A.C. Green 1964.0 | PF   | 29   | LAL  | 82   | 55   | 2819 | 16.3 | 0.603 | 0.065 | 0.531 | 11.5 | 17.3 | 14.4 | 5.9  | 1.6  | 0.9  | 11.8 | 15   | nan   | 6.1  | 2.6  | 8.6  | 0.147 | nan    | 1.6  | 0.5  | 2.1  | 2.9  | 379  | 706  | 0.537 | 16   | 46   | 0.348 | 363  | 660  | 0.55  | 0.548 | 277  | 375  | 0.739 | 287  | 424  | 711  | 116  | 88   | 39   | 116  | 149  | 1051 | 34.378  | 12.8171 | 1.41463  | 8.67073 | 1.07317  | 0.195122  | 3.37805 | 1.41463 | 0.47561  | -783       | 841  | 29   | 4.77855 | 0.372827 | 0.252217 | 0.00567577  | 560.362 | 16.3 | 73.96 | 8.6  | 225    | 15   | 1.48867 | 1.81707\n",
              "11529      | 1994 | A.C. Green 1964.0 | PF   | 30   | PHO  | 82   | 55   | 2825 | 17   | 0.555 | 0.038 | 0.391 | 11.1 | 18.8 | 15   | 6.9  | 1.2  | 0.8  | 8.4  | 17.6 | nan   | 6.7  | 2.6  | 9.3  | 0.157 | nan    | 1.5  | -0.3 | 1.2  | 2.3  | 465  | 926  | 0.502 | 8    | 35   | 0.229 | 457  | 891  | 0.513 | 0.506 | 266  | 362  | 0.735 | 275  | 478  | 753  | 137  | 70   | 38   | 100  | 142  | 1204 | 34.4512 | 14.6829 | 1.67073  | 9.18293 | 0.853659 | 0.097561  | 3.2439  | 1.21951 | 0.463415 | -780       | 900  | 30   | 6.25779 | 0.426195 | 0.266549 | 0.00283186  | 585.671 | 17   | 86.49 | 9.3  | 309.76 | 17.6 | 1.30022 | 1.73171\n",
              "11999      | 1995 | A.C. Green 1964.0 | SF   | 31   | PHO  | 82   | 52   | 2687 | 14.2 | 0.596 | 0.206 | 0.556 | 8.3  | 20.4 | 14.3 | 6.5  | 1    | 0.8  | 12.9 | 14.2 | nan   | 4.6  | 2.1  | 6.7  | 0.12  | nan    | 0.6  | 0.2  | 0.7  | 1.9  | 311  | 617  | 0.504 | 43   | 127  | 0.339 | 268  | 490  | 0.547 | 0.539 | 251  | 343  | 0.732 | 194  | 475  | 669  | 127  | 55   | 31   | 114  | 146  | 916  | 32.7683 | 11.1707 | 1.54878  | 8.15854 | 0.670732 | 0.52439   | 3.06098 | 1.39024 | 0.378049 | -775       | 961  | 31   | 3.80811 | 0.340901 | 0.248977 | 0.016003    | 465.31  | 14.2 | 44.89 | 6.7  | 201.64 | 14.2 | 1.4846  | 1.78049\n",
              "... (20608 rows omitted)"
            ]
          },
          "metadata": {
            "tags": []
          },
          "execution_count": 27
        }
      ]
    },
    {
      "cell_type": "markdown",
      "metadata": {
        "id": "VzF-lcHVc588"
      },
      "source": [
        "Splitting the stats table into 2 categories: per_game_stats_previous which has the stats from 1980-2017 which we'll use to obtain all the previous year's stats of a player to use for prediction and per_game_stats_current which uses 1981-2017 which we'll use to find the current team's roster to select previous year stats from. Then we filter out the rookies from the \"current\" table since we can't access previous years of rookies since they didn't play in the NBA."
      ]
    },
    {
      "cell_type": "code",
      "metadata": {
        "id": "oO7NZErZsg1U"
      },
      "source": [
        "per_game_stats_previous = per_game_stats.where(\"Year\",are.between(1980,2018))\r\n",
        "per_game_stat_current = per_game_stats.where(\"Year\",are.between(1981,2018))\r\n",
        "\r\n",
        "take_indices = []\r\n",
        "\r\n",
        "i = 1\r\n",
        "exists_before_TOT = False\r\n",
        "\r\n",
        "while i < per_game_stat_current.num_rows:\r\n",
        "\r\n",
        "  if exists_before_TOT and per_game_stat_current.column(\"Year\").item(i-1) != per_game_stat_current.column(\"Year\").item(i):\r\n",
        "    exists_before_TOT = False\r\n",
        "  if per_game_stat_current.column(\"Tm\").item(i) == \"TOT\" and per_game_stat_current.column(\"Player\").item(i-1) == per_game_stat_current.column(\"Player\").item(i):\r\n",
        "    exists_before_TOT = True\r\n",
        "  if per_game_stat_current.column(\"Player\").item(i)== per_game_stat_current.column(\"Player\").item(i-1) and (per_game_stat_current.column(\"Year\").item(i) != per_game_stat_current.column(\"Year\").item(i-1) or exists_before_TOT):\r\n",
        "    take_indices.append(i)\r\n",
        "  \r\n",
        "  i+=1\r\n",
        "#removed rookie years of all players\r\n",
        "no_rookies_stats = per_game_stat_current.take(take_indices)\r\n"
      ],
      "execution_count": 28,
      "outputs": []
    },
    {
      "cell_type": "markdown",
      "metadata": {
        "id": "rsV4Ae_2eKbn"
      },
      "source": [
        "Taking the \"current\" year stats and splitting them up into forwards and guards tables for each team in the \"current\" year"
      ]
    },
    {
      "cell_type": "code",
      "metadata": {
        "id": "UQa0AsFms7ww",
        "colab": {
          "base_uri": "https://localhost:8080/",
          "height": 1000
        },
        "outputId": "43edaf31-16b9-4ac2-9fad-19af1160d135"
      },
      "source": [
        "time_filtered_stats = per_game_stats_previous\r\n",
        "forwards = no_rookies_stats.sort(\"Year\").sort(\"Tm\").where(\"Pos\",are.contained_in(\"SF-PF-C\"))\r\n",
        "guards = no_rookies_stats.sort(\"Year\").sort(\"Tm\").where(\"Pos\",are.contained_in(\"PG-SG\"))\r\n",
        "forwards.show(10)\r\n",
        "guards.show(10)\r\n",
        "# got the forwards and guards table\r\n"
      ],
      "execution_count": 29,
      "outputs": [
        {
          "output_type": "display_data",
          "data": {
            "text/html": [
              "<table border=\"1\" class=\"dataframe\">\n",
              "    <thead>\n",
              "        <tr>\n",
              "            <th>Unnamed: 0</th> <th>Year</th> <th>Player</th> <th>Pos</th> <th>Age</th> <th>Tm</th> <th>G</th> <th>GS</th> <th>MP</th> <th>PER</th> <th>TS%</th> <th>3PAr</th> <th>FTr</th> <th>ORB%</th> <th>DRB%</th> <th>TRB%</th> <th>AST%</th> <th>STL%</th> <th>BLK%</th> <th>TOV%</th> <th>USG%</th> <th>blanl</th> <th>OWS</th> <th>DWS</th> <th>WS</th> <th>WS/48</th> <th>blank2</th> <th>OBPM</th> <th>DBPM</th> <th>BPM</th> <th>VORP</th> <th>FG</th> <th>FGA</th> <th>FG%</th> <th>3P</th> <th>3PA</th> <th>3P%</th> <th>2P</th> <th>2PA</th> <th>2P%</th> <th>eFG%</th> <th>FT</th> <th>FTA</th> <th>FT%</th> <th>ORB</th> <th>DRB</th> <th>TRB</th> <th>AST</th> <th>STL</th> <th>BLK</th> <th>TOV</th> <th>PF</th> <th>PTS</th> <th>MPG</th> <th>PPG</th> <th>APG</th> <th>RPG</th> <th>SPG</th> <th>3PG</th> <th>FPG</th> <th>TPG</th> <th>BPG</th> <th>AGE_rating</th> <th>AGE2</th> <th>AGE1</th> <th>PPM2</th> <th>PPM1</th> <th>RPM</th> <th>3PM</th> <th>PER/M</th> <th>PER1</th> <th>WS2</th> <th>WS1</th> <th>USG2</th> <th>USG1</th> <th>PTS/FGA</th> <th>PFPG</th>\n",
              "        </tr>\n",
              "    </thead>\n",
              "    <tbody>\n",
              "        <tr>\n",
              "            <td>6741      </td> <td>1982</td> <td>Dan Roundfield 1954.0</td> <td>PF  </td> <td>28  </td> <td>ATL </td> <td>61  </td> <td>58  </td> <td>2217</td> <td>19.5</td> <td>0.527</td> <td>0.005</td> <td>0.412</td> <td>11.6</td> <td>25.3</td> <td>18.4</td> <td>11.9</td> <td>1.5 </td> <td>2.6 </td> <td>14.5</td> <td>24.6</td> <td>nan  </td> <td>2.4 </td> <td>4.1 </td> <td>6.5 </td> <td>0.141</td> <td>nan   </td> <td>0.8 </td> <td>2.5 </td> <td>3.3 </td> <td>2.9 </td> <td>424 </td> <td>910 </td> <td>0.466</td> <td>1   </td> <td>5   </td> <td>0.2  </td> <td>423 </td> <td>905 </td> <td>0.467</td> <td>0.466</td> <td>285 </td> <td>375 </td> <td>0.76 </td> <td>227 </td> <td>494 </td> <td>721 </td> <td>162 </td> <td>64  </td> <td>93  </td> <td>183 </td> <td>210 </td> <td>1134</td> <td>36.3443</td> <td>18.5902</td> <td>2.65574 </td> <td>11.8197</td> <td>1.04918 </td> <td>0.0163934</td> <td>4.67213 </td> <td>3       </td> <td>1.52459  </td> <td>-784      </td> <td>784 </td> <td>28  </td> <td>9.50891 </td> <td>0.511502</td> <td>0.325214</td> <td>0.00045106 </td> <td>708.713</td> <td>19.5</td> <td>42.25</td> <td>6.5 </td> <td>605.16</td> <td>24.6</td> <td>1.24615</td> <td>3.44262</td>\n",
              "        </tr>\n",
              "        <tr>\n",
              "            <td>6535      </td> <td>1982</td> <td>John Drew 1955.0     </td> <td>SF  </td> <td>27  </td> <td>ATL </td> <td>70  </td> <td>51  </td> <td>2040</td> <td>18.1</td> <td>0.553</td> <td>0.013</td> <td>0.513</td> <td>9.3 </td> <td>11.5</td> <td>10.4</td> <td>8.1 </td> <td>1.6 </td> <td>0.1 </td> <td>13.2</td> <td>28.7</td> <td>nan  </td> <td>3.2 </td> <td>2.4 </td> <td>5.5 </td> <td>0.13 </td> <td>nan   </td> <td>1.4 </td> <td>-1.6</td> <td>-0.1</td> <td>1   </td> <td>465 </td> <td>957 </td> <td>0.486</td> <td>4   </td> <td>12  </td> <td>0.333</td> <td>461 </td> <td>945 </td> <td>0.488</td> <td>0.488</td> <td>364 </td> <td>491 </td> <td>0.741</td> <td>169 </td> <td>206 </td> <td>375 </td> <td>96  </td> <td>64  </td> <td>3   </td> <td>178 </td> <td>250 </td> <td>1298</td> <td>29.1429</td> <td>18.5429</td> <td>1.37143 </td> <td>5.35714</td> <td>0.914286</td> <td>0.0571429</td> <td>5.2     </td> <td>2.54286 </td> <td>0.0428571</td> <td>-783      </td> <td>729 </td> <td>27  </td> <td>11.7983 </td> <td>0.636275</td> <td>0.183824</td> <td>0.00196078 </td> <td>527.486</td> <td>18.1</td> <td>30.25</td> <td>5.5 </td> <td>823.69</td> <td>28.7</td> <td>1.35632</td> <td>3.57143</td>\n",
              "        </tr>\n",
              "        <tr>\n",
              "            <td>6714      </td> <td>1982</td> <td>Sam Pellom 1952.0    </td> <td>PF  </td> <td>30  </td> <td>ATL </td> <td>69  </td> <td>4   </td> <td>1037</td> <td>10.3</td> <td>0.506</td> <td>0.004</td> <td>0.315</td> <td>9.8 </td> <td>15.2</td> <td>12.5</td> <td>3.9 </td> <td>1.4 </td> <td>2.8 </td> <td>16.6</td> <td>14.3</td> <td>nan  </td> <td>0.2 </td> <td>1.6 </td> <td>1.8 </td> <td>0.083</td> <td>nan   </td> <td>-2.9</td> <td>1.5 </td> <td>-1.4</td> <td>0.2 </td> <td>114 </td> <td>251 </td> <td>0.454</td> <td>0   </td> <td>1   </td> <td>0    </td> <td>114 </td> <td>250 </td> <td>0.456</td> <td>0.454</td> <td>61  </td> <td>79  </td> <td>0.772</td> <td>90  </td> <td>139 </td> <td>229 </td> <td>28  </td> <td>29  </td> <td>47  </td> <td>57  </td> <td>164 </td> <td>289 </td> <td>15.029 </td> <td>4.18841</td> <td>0.405797</td> <td>3.31884</td> <td>0.42029 </td> <td>0        </td> <td>0.884058</td> <td>0.826087</td> <td>0.681159 </td> <td>-780      </td> <td>900 </td> <td>30  </td> <td>1.16726 </td> <td>0.278689</td> <td>0.220829</td> <td>0          </td> <td>154.799</td> <td>10.3</td> <td>3.24 </td> <td>1.8 </td> <td>204.49</td> <td>14.3</td> <td>1.15139</td> <td>2.37681</td>\n",
              "        </tr>\n",
              "        <tr>\n",
              "            <td>6576      </td> <td>1982</td> <td>Steve Hawes 1951.0   </td> <td>PF  </td> <td>31  </td> <td>ATL </td> <td>49  </td> <td>42  </td> <td>1317</td> <td>14.5</td> <td>0.536</td> <td>0.027</td> <td>0.341</td> <td>7.6 </td> <td>19.9</td> <td>13.7</td> <td>16  </td> <td>1.4 </td> <td>1.6 </td> <td>17  </td> <td>16.9</td> <td>nan  </td> <td>1.2 </td> <td>2.1 </td> <td>3.2 </td> <td>0.118</td> <td>nan   </td> <td>-0.2</td> <td>2.5 </td> <td>2.2 </td> <td>1.4 </td> <td>178 </td> <td>370 </td> <td>0.481</td> <td>4   </td> <td>10  </td> <td>0.4  </td> <td>174 </td> <td>360 </td> <td>0.483</td> <td>0.486</td> <td>96  </td> <td>126 </td> <td>0.762</td> <td>89  </td> <td>231 </td> <td>320 </td> <td>142 </td> <td>36  </td> <td>34  </td> <td>87  </td> <td>156 </td> <td>456 </td> <td>26.8776</td> <td>9.30612</td> <td>2.89796 </td> <td>6.53061</td> <td>0.734694</td> <td>0.0816327</td> <td>1.95918 </td> <td>1.77551 </td> <td>0.693878 </td> <td>-775      </td> <td>961 </td> <td>31  </td> <td>3.22217 </td> <td>0.346241</td> <td>0.242976</td> <td>0.00303721 </td> <td>389.724</td> <td>14.5</td> <td>10.24</td> <td>3.2 </td> <td>285.61</td> <td>16.9</td> <td>1.23243</td> <td>3.18367</td>\n",
              "        </tr>\n",
              "        <tr>\n",
              "            <td>6685      </td> <td>1982</td> <td>Tom McMillen 1953.0  </td> <td>C   </td> <td>29  </td> <td>ATL </td> <td>73  </td> <td>23  </td> <td>1792</td> <td>13.1</td> <td>0.559</td> <td>0.005</td> <td>0.297</td> <td>6.4 </td> <td>14.8</td> <td>10.6</td> <td>11.2</td> <td>0.7 </td> <td>0.8 </td> <td>16.1</td> <td>18.7</td> <td>nan  </td> <td>1.7 </td> <td>2   </td> <td>3.7 </td> <td>0.099</td> <td>nan   </td> <td>-0.7</td> <td>0.2 </td> <td>-0.5</td> <td>0.7 </td> <td>291 </td> <td>572 </td> <td>0.509</td> <td>1   </td> <td>3   </td> <td>0.333</td> <td>290 </td> <td>569 </td> <td>0.51 </td> <td>0.51 </td> <td>140 </td> <td>170 </td> <td>0.824</td> <td>102 </td> <td>234 </td> <td>336 </td> <td>129 </td> <td>25  </td> <td>24  </td> <td>124 </td> <td>202 </td> <td>723 </td> <td>24.5479</td> <td>9.90411</td> <td>1.76712 </td> <td>4.60274</td> <td>0.342466</td> <td>0.0136986</td> <td>1.91781 </td> <td>1.69863 </td> <td>0.328767 </td> <td>-783      </td> <td>841 </td> <td>29  </td> <td>3.99591 </td> <td>0.40346 </td> <td>0.1875  </td> <td>0.000558036</td> <td>321.578</td> <td>13.1</td> <td>13.69</td> <td>3.7 </td> <td>349.69</td> <td>18.7</td> <td>1.26399</td> <td>2.76712</td>\n",
              "        </tr>\n",
              "        <tr>\n",
              "            <td>6739      </td> <td>1982</td> <td>Tree Rollins 1956.0  </td> <td>C   </td> <td>26  </td> <td>ATL </td> <td>79  </td> <td>39  </td> <td>2018</td> <td>14.7</td> <td>0.6  </td> <td>0    </td> <td>0.373</td> <td>9.4 </td> <td>24.9</td> <td>17.1</td> <td>4.1 </td> <td>0.9 </td> <td>6.8 </td> <td>16.4</td> <td>10.4</td> <td>nan  </td> <td>2.2 </td> <td>4.2 </td> <td>6.4 </td> <td>0.153</td> <td>nan   </td> <td>-1.8</td> <td>4.9 </td> <td>3.1 </td> <td>2.6 </td> <td>202 </td> <td>346 </td> <td>0.584</td> <td>0   </td> <td>0   </td> <td>nan  </td> <td>202 </td> <td>346 </td> <td>0.584</td> <td>0.584</td> <td>79  </td> <td>129 </td> <td>0.612</td> <td>168 </td> <td>443 </td> <td>611 </td> <td>59  </td> <td>35  </td> <td>224 </td> <td>79  </td> <td>285 </td> <td>483 </td> <td>25.5443</td> <td>6.11392</td> <td>0.746835</td> <td>7.73418</td> <td>0.443038</td> <td>0        </td> <td>1       </td> <td>1       </td> <td>2.83544  </td> <td>-780      </td> <td>676 </td> <td>26  </td> <td>1.46334 </td> <td>0.239346</td> <td>0.302775</td> <td>0          </td> <td>375.501</td> <td>14.7</td> <td>40.96</td> <td>6.4 </td> <td>108.16</td> <td>10.4</td> <td>1.39595</td> <td>3.60759</td>\n",
              "        </tr>\n",
              "        <tr>\n",
              "            <td>7117      </td> <td>1983</td> <td>Dan Roundfield 1954.0</td> <td>PF  </td> <td>29  </td> <td>ATL </td> <td>77  </td> <td>76  </td> <td>2811</td> <td>18.8</td> <td>0.526</td> <td>0.023</td> <td>0.377</td> <td>9.8 </td> <td>23.4</td> <td>16.6</td> <td>12.4</td> <td>1   </td> <td>2.3 </td> <td>15  </td> <td>24.2</td> <td>nan  </td> <td>2.9 </td> <td>4.5 </td> <td>7.4 </td> <td>0.127</td> <td>nan   </td> <td>0.7 </td> <td>1.7 </td> <td>2.4 </td> <td>3.1 </td> <td>561 </td> <td>1193</td> <td>0.47 </td> <td>5   </td> <td>27  </td> <td>0.185</td> <td>556 </td> <td>1166</td> <td>0.477</td> <td>0.472</td> <td>337 </td> <td>450 </td> <td>0.749</td> <td>259 </td> <td>621 </td> <td>880 </td> <td>225 </td> <td>60  </td> <td>115 </td> <td>245 </td> <td>239 </td> <td>1464</td> <td>36.5065</td> <td>19.013 </td> <td>2.92208 </td> <td>11.4286</td> <td>0.779221</td> <td>0.0649351</td> <td>4.37662 </td> <td>3.18182 </td> <td>1.49351  </td> <td>-783      </td> <td>841 </td> <td>29  </td> <td>9.90217 </td> <td>0.520811</td> <td>0.313056</td> <td>0.00177873 </td> <td>686.322</td> <td>18.8</td> <td>54.76</td> <td>7.4 </td> <td>585.64</td> <td>24.2</td> <td>1.22716</td> <td>3.1039 </td>\n",
              "        </tr>\n",
              "        <tr>\n",
              "            <td>6981      </td> <td>1983</td> <td>George Johnson 1949.0</td> <td>C   </td> <td>34  </td> <td>ATL </td> <td>37  </td> <td>0   </td> <td>461 </td> <td>10.8</td> <td>0.49 </td> <td>0    </td> <td>0.333</td> <td>10.2</td> <td>16.8</td> <td>13.5</td> <td>4.6 </td> <td>1.1 </td> <td>7.2 </td> <td>22.5</td> <td>7.6 </td> <td>nan  </td> <td>0.1 </td> <td>0.8 </td> <td>1   </td> <td>0.1  </td> <td>nan   </td> <td>-3.5</td> <td>5.1 </td> <td>1.6 </td> <td>0.4 </td> <td>25  </td> <td>57  </td> <td>0.439</td> <td>0   </td> <td>0   </td> <td>nan  </td> <td>25  </td> <td>57  </td> <td>0.439</td> <td>0.439</td> <td>14  </td> <td>19  </td> <td>0.737</td> <td>44  </td> <td>73  </td> <td>117 </td> <td>17  </td> <td>10  </td> <td>59  </td> <td>19  </td> <td>69  </td> <td>64  </td> <td>12.4595</td> <td>1.72973</td> <td>0.459459</td> <td>3.16216</td> <td>0.27027 </td> <td>0        </td> <td>0.378378</td> <td>0.513514</td> <td>1.59459  </td> <td>-748      </td> <td>1156</td> <td>34  </td> <td>0.240136</td> <td>0.138829</td> <td>0.253796</td> <td>0          </td> <td>134.562</td> <td>10.8</td> <td>1    </td> <td>1   </td> <td>57.76 </td> <td>7.6 </td> <td>1.12281</td> <td>1.86486</td>\n",
              "        </tr>\n",
              "        <tr>\n",
              "            <td>6861      </td> <td>1983</td> <td>Rickey Brown 1959.0  </td> <td>C   </td> <td>24  </td> <td>ATL </td> <td>26  </td> <td>0   </td> <td>305 </td> <td>12.4</td> <td>0.506</td> <td>0.01 </td> <td>0.385</td> <td>12.2</td> <td>18.4</td> <td>15.3</td> <td>4.3 </td> <td>0.8 </td> <td>0.9 </td> <td>15.3</td> <td>19.6</td> <td>nan  </td> <td>0.1 </td> <td>0.4 </td> <td>0.5 </td> <td>0.077</td> <td>nan   </td> <td>-2.6</td> <td>-1.7</td> <td>-4.3</td> <td>-0.2</td> <td>49  </td> <td>104 </td> <td>0.471</td> <td>0   </td> <td>1   </td> <td>0    </td> <td>49  </td> <td>103 </td> <td>0.476</td> <td>0.471</td> <td>25  </td> <td>40  </td> <td>0.625</td> <td>35  </td> <td>53  </td> <td>88  </td> <td>9   </td> <td>5   </td> <td>5   </td> <td>22  </td> <td>46  </td> <td>123 </td> <td>11.7308</td> <td>4.73077</td> <td>0.346154</td> <td>3.38462</td> <td>0.192308</td> <td>0        </td> <td>0.961538</td> <td>0.846154</td> <td>0.192308 </td> <td>-768      </td> <td>576 </td> <td>24  </td> <td>1.90782 </td> <td>0.403279</td> <td>0.288525</td> <td>0          </td> <td>145.462</td> <td>12.4</td> <td>0.25 </td> <td>0.5 </td> <td>384.16</td> <td>19.6</td> <td>1.18269</td> <td>1.76923</td>\n",
              "        </tr>\n",
              "        <tr>\n",
              "            <td>7041      </td> <td>1983</td> <td>Rudy Macklin 1959.0  </td> <td>SF  </td> <td>24  </td> <td>ATL </td> <td>73  </td> <td>20  </td> <td>1171</td> <td>10.9</td> <td>0.528</td> <td>0.011</td> <td>0.364</td> <td>7.7 </td> <td>9.5 </td> <td>8.6 </td> <td>8.6 </td> <td>1.7 </td> <td>0.5 </td> <td>17.6</td> <td>18  </td> <td>nan  </td> <td>0.5 </td> <td>1.2 </td> <td>1.8 </td> <td>0.073</td> <td>nan   </td> <td>-1.5</td> <td>-0.1</td> <td>-1.6</td> <td>0.1 </td> <td>170 </td> <td>360 </td> <td>0.472</td> <td>0   </td> <td>4   </td> <td>0    </td> <td>170 </td> <td>356 </td> <td>0.478</td> <td>0.472</td> <td>101 </td> <td>131 </td> <td>0.771</td> <td>85  </td> <td>105 </td> <td>190 </td> <td>71  </td> <td>41  </td> <td>10  </td> <td>89  </td> <td>189 </td> <td>441 </td> <td>16.0411</td> <td>6.0411 </td> <td>0.972603</td> <td>2.60274</td> <td>0.561644</td> <td>0        </td> <td>1.38356 </td> <td>1.21918 </td> <td>0.136986 </td> <td>-768      </td> <td>576 </td> <td>24  </td> <td>2.27508 </td> <td>0.376601</td> <td>0.162254</td> <td>0          </td> <td>174.848</td> <td>10.9</td> <td>3.24 </td> <td>1.8 </td> <td>324   </td> <td>18  </td> <td>1.225  </td> <td>2.58904</td>\n",
              "        </tr>\n",
              "    </tbody>\n",
              "</table>\n",
              "<p>... (7877 rows omitted)</p>"
            ],
            "text/plain": [
              "<IPython.core.display.HTML object>"
            ]
          },
          "metadata": {
            "tags": []
          }
        },
        {
          "output_type": "display_data",
          "data": {
            "text/html": [
              "<table border=\"1\" class=\"dataframe\">\n",
              "    <thead>\n",
              "        <tr>\n",
              "            <th>Unnamed: 0</th> <th>Year</th> <th>Player</th> <th>Pos</th> <th>Age</th> <th>Tm</th> <th>G</th> <th>GS</th> <th>MP</th> <th>PER</th> <th>TS%</th> <th>3PAr</th> <th>FTr</th> <th>ORB%</th> <th>DRB%</th> <th>TRB%</th> <th>AST%</th> <th>STL%</th> <th>BLK%</th> <th>TOV%</th> <th>USG%</th> <th>blanl</th> <th>OWS</th> <th>DWS</th> <th>WS</th> <th>WS/48</th> <th>blank2</th> <th>OBPM</th> <th>DBPM</th> <th>BPM</th> <th>VORP</th> <th>FG</th> <th>FGA</th> <th>FG%</th> <th>3P</th> <th>3PA</th> <th>3P%</th> <th>2P</th> <th>2PA</th> <th>2P%</th> <th>eFG%</th> <th>FT</th> <th>FTA</th> <th>FT%</th> <th>ORB</th> <th>DRB</th> <th>TRB</th> <th>AST</th> <th>STL</th> <th>BLK</th> <th>TOV</th> <th>PF</th> <th>PTS</th> <th>MPG</th> <th>PPG</th> <th>APG</th> <th>RPG</th> <th>SPG</th> <th>3PG</th> <th>FPG</th> <th>TPG</th> <th>BPG</th> <th>AGE_rating</th> <th>AGE2</th> <th>AGE1</th> <th>PPM2</th> <th>PPM1</th> <th>RPM</th> <th>3PM</th> <th>PER/M</th> <th>PER1</th> <th>WS2</th> <th>WS1</th> <th>USG2</th> <th>USG1</th> <th>PTS/FGA</th> <th>PFPG</th>\n",
              "        </tr>\n",
              "    </thead>\n",
              "    <tbody>\n",
              "        <tr>\n",
              "            <td>6515      </td> <td>1982</td> <td>Charlie Criss 1949.0   </td> <td>PG  </td> <td>33  </td> <td>ATL </td> <td>27  </td> <td>0   </td> <td>552 </td> <td>13.6</td> <td>0.485</td> <td>0.038</td> <td>0.348</td> <td>1.2 </td> <td>6.6 </td> <td>3.9 </td> <td>20.7</td> <td>2.1 </td> <td>0.2 </td> <td>11  </td> <td>21.4</td> <td>nan  </td> <td>0.4 </td> <td>0.6 </td> <td>1   </td> <td>0.089 </td> <td>nan   </td> <td>-1.2</td> <td>-1.3</td> <td>-2.5</td> <td>-0.1</td> <td>84  </td> <td>210 </td> <td>0.4  </td> <td>2   </td> <td>8   </td> <td>0.25 </td> <td>82  </td> <td>202 </td> <td>0.406</td> <td>0.405</td> <td>65  </td> <td>73  </td> <td>0.89 </td> <td>6   </td> <td>32  </td> <td>38  </td> <td>75  </td> <td>23  </td> <td>2   </td> <td>30  </td> <td>40  </td> <td>235 </td> <td>20.4444</td> <td>8.7037 </td> <td>2.77778 </td> <td>1.40741 </td> <td>0.851852</td> <td>0.0740741</td> <td>2.40741 </td> <td>1.11111 </td> <td>0.0740741</td> <td>-759      </td> <td>1089</td> <td>33  </td> <td>3.70538</td> <td>0.425725</td> <td>0.0688406</td> <td>0.00362319 </td> <td>278.044</td> <td>13.6</td> <td>1    </td> <td>1   </td> <td>457.96</td> <td>21.4</td> <td>1.11905</td> <td>1.48148 </td>\n",
              "        </tr>\n",
              "        <tr>\n",
              "            <td>6605      </td> <td>1982</td> <td>Eddie Johnson 1956.0   </td> <td>SG  </td> <td>26  </td> <td>ATL </td> <td>68  </td> <td>57  </td> <td>2314</td> <td>16.5</td> <td>0.513</td> <td>0.03 </td> <td>0.381</td> <td>3.1 </td> <td>6.3 </td> <td>4.7 </td> <td>25.3</td> <td>2.2 </td> <td>0.4 </td> <td>13.6</td> <td>25.6</td> <td>nan  </td> <td>2.2 </td> <td>2.6 </td> <td>4.8 </td> <td>0.1   </td> <td>nan   </td> <td>1.4 </td> <td>-0.5</td> <td>0.9 </td> <td>1.7 </td> <td>455 </td> <td>1011</td> <td>0.45 </td> <td>7   </td> <td>30  </td> <td>0.233</td> <td>448 </td> <td>981 </td> <td>0.457</td> <td>0.454</td> <td>294 </td> <td>385 </td> <td>0.764</td> <td>63  </td> <td>128 </td> <td>191 </td> <td>358 </td> <td>102 </td> <td>16  </td> <td>186 </td> <td>188 </td> <td>1211</td> <td>34.0294</td> <td>17.8088</td> <td>5.26471 </td> <td>2.80882 </td> <td>1.5     </td> <td>0.102941 </td> <td>4.32353 </td> <td>2.73529 </td> <td>0.235294 </td> <td>-780      </td> <td>676 </td> <td>26  </td> <td>9.32   </td> <td>0.523336</td> <td>0.0825411</td> <td>0.00302506 </td> <td>561.485</td> <td>16.5</td> <td>23.04</td> <td>4.8 </td> <td>655.36</td> <td>25.6</td> <td>1.19782</td> <td>2.76471 </td>\n",
              "        </tr>\n",
              "        <tr>\n",
              "            <td>6802      </td> <td>1982</td> <td>Freeman Williams 1957.0</td> <td>SG  </td> <td>25  </td> <td>ATL </td> <td>23  </td> <td>0   </td> <td>189 </td> <td>11.2</td> <td>0.453</td> <td>0.182</td> <td>0.236</td> <td>1.2 </td> <td>6   </td> <td>3.6 </td> <td>17.2</td> <td>1.6 </td> <td>0   </td> <td>12.9</td> <td>32  </td> <td>nan  </td> <td>-0.2</td> <td>0.2 </td> <td>-0.1</td> <td>-0.018</td> <td>nan   </td> <td>-2.9</td> <td>-4.1</td> <td>-7.1</td> <td>-0.2</td> <td>42  </td> <td>110 </td> <td>0.382</td> <td>4   </td> <td>20  </td> <td>0.2  </td> <td>38  </td> <td>90  </td> <td>0.422</td> <td>0.4  </td> <td>22  </td> <td>26  </td> <td>0.846</td> <td>2   </td> <td>10  </td> <td>12  </td> <td>19  </td> <td>6   </td> <td>0   </td> <td>18  </td> <td>18  </td> <td>110 </td> <td>8.21739</td> <td>4.78261</td> <td>0.826087</td> <td>0.521739</td> <td>0.26087 </td> <td>0.173913 </td> <td>0.956522</td> <td>0.782609</td> <td>0        </td> <td>-775      </td> <td>625 </td> <td>25  </td> <td>2.78353</td> <td>0.582011</td> <td>0.0634921</td> <td>0.021164   </td> <td>92.0348</td> <td>11.2</td> <td>0.01 </td> <td>-0.1</td> <td>1024  </td> <td>32  </td> <td>1      </td> <td>0.782609</td>\n",
              "        </tr>\n",
              "        <tr>\n",
              "            <td>6679      </td> <td>1982</td> <td>Jim McElroy 1954.0     </td> <td>PG  </td> <td>28  </td> <td>ATL </td> <td>20  </td> <td>17  </td> <td>349 </td> <td>9.3 </td> <td>0.476</td> <td>0.04 </td> <td>0.288</td> <td>1.9 </td> <td>3.6 </td> <td>2.8 </td> <td>17  </td> <td>1.2 </td> <td>0.5 </td> <td>13.5</td> <td>20.2</td> <td>nan  </td> <td>0   </td> <td>0.3 </td> <td>0.3 </td> <td>0.036 </td> <td>nan   </td> <td>-2.8</td> <td>-2.2</td> <td>-5.1</td> <td>-0.3</td> <td>52  </td> <td>125 </td> <td>0.416</td> <td>1   </td> <td>5   </td> <td>0.2  </td> <td>51  </td> <td>120 </td> <td>0.425</td> <td>0.42 </td> <td>29  </td> <td>36  </td> <td>0.806</td> <td>6   </td> <td>11  </td> <td>17  </td> <td>39  </td> <td>8   </td> <td>3   </td> <td>22  </td> <td>44  </td> <td>134 </td> <td>17.45  </td> <td>6.7    </td> <td>1.95    </td> <td>0.85    </td> <td>0.4     </td> <td>0.05     </td> <td>1.45    </td> <td>1.1     </td> <td>0.15     </td> <td>-784      </td> <td>784 </td> <td>28  </td> <td>2.57249</td> <td>0.383954</td> <td>0.0487106</td> <td>0.00286533 </td> <td>162.285</td> <td>9.3 </td> <td>0.09 </td> <td>0.3 </td> <td>408.04</td> <td>20.2</td> <td>1.072  </td> <td>2.2     </td>\n",
              "        </tr>\n",
              "        <tr>\n",
              "            <td>6559      </td> <td>1982</td> <td>Mike Glenn 1956.0      </td> <td>SG  </td> <td>26  </td> <td>ATL </td> <td>49  </td> <td>0   </td> <td>833 </td> <td>16  </td> <td>0.587</td> <td>0.007</td> <td>0.23 </td> <td>0.7 </td> <td>7.6 </td> <td>4.1 </td> <td>16.9</td> <td>1.6 </td> <td>0.2 </td> <td>7.8 </td> <td>18.1</td> <td>nan  </td> <td>2   </td> <td>0.8 </td> <td>2.8 </td> <td>0.161 </td> <td>nan   </td> <td>0.9 </td> <td>-1.3</td> <td>-0.5</td> <td>0.3 </td> <td>158 </td> <td>291 </td> <td>0.543</td> <td>1   </td> <td>2   </td> <td>0.5  </td> <td>157 </td> <td>289 </td> <td>0.543</td> <td>0.545</td> <td>59  </td> <td>67  </td> <td>0.881</td> <td>5   </td> <td>56  </td> <td>61  </td> <td>87  </td> <td>26  </td> <td>3   </td> <td>27  </td> <td>80  </td> <td>376 </td> <td>17     </td> <td>7.67347</td> <td>1.77551 </td> <td>1.2449  </td> <td>0.530612</td> <td>0.0204082</td> <td>1.20408 </td> <td>0.55102 </td> <td>0.0612245</td> <td>-780      </td> <td>676 </td> <td>26  </td> <td>3.46365</td> <td>0.451381</td> <td>0.0732293</td> <td>0.00120048 </td> <td>272    </td> <td>16  </td> <td>7.84 </td> <td>2.8 </td> <td>327.61</td> <td>18.1</td> <td>1.2921 </td> <td>1.63265 </td>\n",
              "        </tr>\n",
              "        <tr>\n",
              "            <td>6762      </td> <td>1982</td> <td>Rory Sparrow 1959.0    </td> <td>PG  </td> <td>23  </td> <td>ATL </td> <td>82  </td> <td>82  </td> <td>2610</td> <td>13  </td> <td>0.539</td> <td>0.021</td> <td>0.203</td> <td>2.3 </td> <td>7.4 </td> <td>4.9 </td> <td>24.4</td> <td>1.7 </td> <td>0.3 </td> <td>15.4</td> <td>15.6</td> <td>nan  </td> <td>2.9 </td> <td>2.7 </td> <td>5.6 </td> <td>0.104 </td> <td>nan   </td> <td>0.2 </td> <td>0.1 </td> <td>0.3 </td> <td>1.5 </td> <td>366 </td> <td>730 </td> <td>0.501</td> <td>1   </td> <td>15  </td> <td>0.067</td> <td>365 </td> <td>715 </td> <td>0.51 </td> <td>0.502</td> <td>124 </td> <td>148 </td> <td>0.838</td> <td>53  </td> <td>171 </td> <td>224 </td> <td>424 </td> <td>87  </td> <td>13  </td> <td>145 </td> <td>240 </td> <td>857 </td> <td>31.8293</td> <td>10.4512</td> <td>5.17073 </td> <td>2.73171 </td> <td>1.06098 </td> <td>0.0121951</td> <td>1.5122  </td> <td>1.76829 </td> <td>0.158537 </td> <td>-759      </td> <td>529 </td> <td>23  </td> <td>3.43168</td> <td>0.328352</td> <td>0.0858238</td> <td>0.000383142</td> <td>413.78 </td> <td>13  </td> <td>31.36</td> <td>5.6 </td> <td>243.36</td> <td>15.6</td> <td>1.17397</td> <td>2.92683 </td>\n",
              "        </tr>\n",
              "        <tr>\n",
              "            <td>6673      </td> <td>1982</td> <td>Wes Matthews 1960.0    </td> <td>PG  </td> <td>22  </td> <td>ATL </td> <td>47  </td> <td>5   </td> <td>837 </td> <td>12.6</td> <td>0.487</td> <td>0.027</td> <td>0.265</td> <td>2.6 </td> <td>5.3 </td> <td>3.9 </td> <td>25.5</td> <td>3.2 </td> <td>0.1 </td> <td>15.9</td> <td>20.5</td> <td>nan  </td> <td>0.2 </td> <td>1.1 </td> <td>1.3 </td> <td>0.073 </td> <td>nan   </td> <td>-1.1</td> <td>-0.5</td> <td>-1.6</td> <td>0.1 </td> <td>131 </td> <td>298 </td> <td>0.44 </td> <td>2   </td> <td>8   </td> <td>0.25 </td> <td>129 </td> <td>290 </td> <td>0.445</td> <td>0.443</td> <td>60  </td> <td>79  </td> <td>0.759</td> <td>19  </td> <td>39  </td> <td>58  </td> <td>139 </td> <td>53  </td> <td>2   </td> <td>63  </td> <td>129 </td> <td>324 </td> <td>17.8085</td> <td>6.89362</td> <td>2.95745 </td> <td>1.23404 </td> <td>1.12766 </td> <td>0.0425532</td> <td>1.2766  </td> <td>1.34043 </td> <td>0.0425532</td> <td>-748      </td> <td>484 </td> <td>22  </td> <td>2.6685 </td> <td>0.387097</td> <td>0.0692951</td> <td>0.00238949 </td> <td>224.387</td> <td>12.6</td> <td>1.69 </td> <td>1.3 </td> <td>420.25</td> <td>20.5</td> <td>1.08725</td> <td>2.74468 </td>\n",
              "        </tr>\n",
              "        <tr>\n",
              "            <td>6978      </td> <td>1983</td> <td>Eddie Johnson 1956.0   </td> <td>SG  </td> <td>27  </td> <td>ATL </td> <td>61  </td> <td>57  </td> <td>1813</td> <td>16  </td> <td>0.508</td> <td>0.048</td> <td>0.276</td> <td>1.5 </td> <td>5.7 </td> <td>3.6 </td> <td>27.7</td> <td>1.6 </td> <td>0.2 </td> <td>13.9</td> <td>25.7</td> <td>nan  </td> <td>1.6 </td> <td>1.5 </td> <td>3   </td> <td>0.081 </td> <td>nan   </td> <td>0.9 </td> <td>-2.2</td> <td>-1.3</td> <td>0.3 </td> <td>389 </td> <td>858 </td> <td>0.453</td> <td>14  </td> <td>41  </td> <td>0.341</td> <td>375 </td> <td>817 </td> <td>0.459</td> <td>0.462</td> <td>186 </td> <td>237 </td> <td>0.785</td> <td>26  </td> <td>98  </td> <td>124 </td> <td>318 </td> <td>61  </td> <td>6   </td> <td>156 </td> <td>138 </td> <td>978 </td> <td>29.7213</td> <td>16.0328</td> <td>5.21311 </td> <td>2.03279 </td> <td>1       </td> <td>0.229508 </td> <td>3.04918 </td> <td>2.55738 </td> <td>0.0983607</td> <td>-783      </td> <td>729 </td> <td>27  </td> <td>8.64868</td> <td>0.539437</td> <td>0.0683949</td> <td>0.00772201 </td> <td>475.541</td> <td>16  </td> <td>9    </td> <td>3   </td> <td>660.49</td> <td>25.7</td> <td>1.13986</td> <td>2.2623  </td>\n",
              "        </tr>\n",
              "        <tr>\n",
              "            <td>6898      </td> <td>1983</td> <td>Johnny Davis 1956.0    </td> <td>SG  </td> <td>27  </td> <td>ATL </td> <td>53  </td> <td>33  </td> <td>1465</td> <td>16.8</td> <td>0.521</td> <td>0.032</td> <td>0.363</td> <td>2.7 </td> <td>6.6 </td> <td>4.6 </td> <td>32  </td> <td>1.4 </td> <td>0.3 </td> <td>14.8</td> <td>21.9</td> <td>nan  </td> <td>2.3 </td> <td>1.2 </td> <td>3.5 </td> <td>0.113 </td> <td>nan   </td> <td>1.3 </td> <td>-1.9</td> <td>-0.6</td> <td>0.5 </td> <td>258 </td> <td>567 </td> <td>0.455</td> <td>5   </td> <td>18  </td> <td>0.278</td> <td>253 </td> <td>549 </td> <td>0.461</td> <td>0.459</td> <td>164 </td> <td>206 </td> <td>0.796</td> <td>37  </td> <td>91  </td> <td>128 </td> <td>315 </td> <td>43  </td> <td>7   </td> <td>114 </td> <td>100 </td> <td>685 </td> <td>27.6415</td> <td>12.9245</td> <td>5.9434  </td> <td>2.41509 </td> <td>0.811321</td> <td>0.0943396</td> <td>3.09434 </td> <td>2.15094 </td> <td>0.132075 </td> <td>-783      </td> <td>729 </td> <td>27  </td> <td>6.04321</td> <td>0.467577</td> <td>0.087372 </td> <td>0.00341297 </td> <td>464.377</td> <td>16.8</td> <td>12.25</td> <td>3.5 </td> <td>479.61</td> <td>21.9</td> <td>1.20811</td> <td>1.88679 </td>\n",
              "        </tr>\n",
              "        <tr>\n",
              "            <td>6939      </td> <td>1983</td> <td>Mike Glenn 1956.0      </td> <td>SG  </td> <td>27  </td> <td>ATL </td> <td>73  </td> <td>4   </td> <td>1124</td> <td>15.1</td> <td>0.553</td> <td>0.002</td> <td>0.2  </td> <td>1.5 </td> <td>7   </td> <td>4.3 </td> <td>17.3</td> <td>1.3 </td> <td>0.5 </td> <td>9.7 </td> <td>19.8</td> <td>nan  </td> <td>2   </td> <td>0.9 </td> <td>2.9 </td> <td>0.126 </td> <td>nan   </td> <td>0.2 </td> <td>-1.9</td> <td>-1.6</td> <td>0.1 </td> <td>230 </td> <td>444 </td> <td>0.518</td> <td>0   </td> <td>1   </td> <td>0    </td> <td>230 </td> <td>443 </td> <td>0.519</td> <td>0.518</td> <td>74  </td> <td>89  </td> <td>0.831</td> <td>16  </td> <td>74  </td> <td>90  </td> <td>125 </td> <td>30  </td> <td>9   </td> <td>52  </td> <td>132 </td> <td>534 </td> <td>15.3973</td> <td>7.31507</td> <td>1.71233 </td> <td>1.23288 </td> <td>0.410959</td> <td>0        </td> <td>1.0137  </td> <td>0.712329</td> <td>0.123288 </td> <td>-783      </td> <td>729 </td> <td>27  </td> <td>3.47531</td> <td>0.475089</td> <td>0.0800712</td> <td>0          </td> <td>232.499</td> <td>15.1</td> <td>8.41 </td> <td>2.9 </td> <td>392.04</td> <td>19.8</td> <td>1.2027 </td> <td>1.80822 </td>\n",
              "        </tr>\n",
              "    </tbody>\n",
              "</table>\n",
              "<p>... (5166 rows omitted)</p>"
            ],
            "text/plain": [
              "<IPython.core.display.HTML object>"
            ]
          },
          "metadata": {
            "tags": []
          }
        }
      ]
    },
    {
      "cell_type": "markdown",
      "metadata": {
        "id": "HCQ8GuLnfGrr"
      },
      "source": [
        "Now we alter the guards and forwards table, where if a team in a year has at least 3 guards or at least 5 forwards, we keep that team."
      ]
    },
    {
      "cell_type": "code",
      "metadata": {
        "id": "oDUX5dKqu3Gz"
      },
      "source": [
        "remove = []\r\n",
        "\r\n",
        "def findHighestMPG(tbl,x):\r\n",
        "  tbl = tbl.with_columns(\"MPG\",tbl.column(\"MP\")/tbl.column(\"G\"))\r\n",
        "  indices_array = []\r\n",
        "  i = 0\r\n",
        "  tbl = tbl.sort(\"MPG\",descending=True).sort(\"Year\").sort(\"Tm\")\r\n",
        "  while i < tbl.num_rows:\r\n",
        "    year = tbl.column(\"Year\").item(i)\r\n",
        "    count = 0\r\n",
        "    while i < tbl.num_rows and year == tbl.column(\"Year\").item(i):\r\n",
        "      if count < x:\r\n",
        "        indices_array.append(i)\r\n",
        "        count+=1\r\n",
        "      i+=1\r\n",
        "    if count!=x:\r\n",
        "      remove.append(tbl.column(\"Tm\").item(i-1) +\" \" + str(tbl.column(\"Year\").item(i-1)))\r\n",
        "  return tbl.take(indices_array)\r\n",
        "\r\n",
        "findHighestMPG(guards,3)\r\n",
        "findHighestMPG(forwards,5)\r\n",
        "# just fills the remove array, doesn't affect guards or forwards yet\r\n",
        "\r\n",
        "team_year_guards = guards.with_column(\"Team/Year\", guards.apply(lambda x,y: x+\" \"+str(y),\"Tm\",\"Year\"))\r\n",
        "team_year_forwards = forwards.with_column(\"Team/Year\", forwards.apply(lambda x,y: x+\" \"+str(y),\"Tm\",\"Year\"))\r\n",
        "least_three_guards = team_year_guards.where(\"Team/Year\", are.not_contained_in(remove))\r\n",
        "least_five_forwards = team_year_forwards.where(\"Team/Year\", are.not_contained_in(remove))\r\n",
        "#isolates only the teams with that have at least 3 and 5 guards and forwards that played last season"
      ],
      "execution_count": 30,
      "outputs": []
    },
    {
      "cell_type": "markdown",
      "metadata": {
        "id": "RLWjz3eyfuat"
      },
      "source": [
        "Taking those guards and forwards tables and truncating them to only include 3 guards and 5 forwards per team"
      ]
    },
    {
      "cell_type": "code",
      "metadata": {
        "id": "bNdBK_ZVmr3W",
        "colab": {
          "base_uri": "https://localhost:8080/",
          "height": 1000
        },
        "outputId": "48ca705c-252f-42b4-c948-13be8427a555"
      },
      "source": [
        "only_three_guards = findHighestMPG(least_three_guards,3)\r\n",
        "only_five_forwards = findHighestMPG(least_five_forwards,5)\r\n",
        "only_three_guards.show(12)\r\n",
        "only_five_forwards.show(20)\r\n",
        "#finds 3 guard 5 forward combos for each valid team in the PREDICTED current year"
      ],
      "execution_count": 31,
      "outputs": [
        {
          "output_type": "display_data",
          "data": {
            "text/html": [
              "<table border=\"1\" class=\"dataframe\">\n",
              "    <thead>\n",
              "        <tr>\n",
              "            <th>Unnamed: 0</th> <th>Year</th> <th>Player</th> <th>Pos</th> <th>Age</th> <th>Tm</th> <th>G</th> <th>GS</th> <th>MP</th> <th>PER</th> <th>TS%</th> <th>3PAr</th> <th>FTr</th> <th>ORB%</th> <th>DRB%</th> <th>TRB%</th> <th>AST%</th> <th>STL%</th> <th>BLK%</th> <th>TOV%</th> <th>USG%</th> <th>blanl</th> <th>OWS</th> <th>DWS</th> <th>WS</th> <th>WS/48</th> <th>blank2</th> <th>OBPM</th> <th>DBPM</th> <th>BPM</th> <th>VORP</th> <th>FG</th> <th>FGA</th> <th>FG%</th> <th>3P</th> <th>3PA</th> <th>3P%</th> <th>2P</th> <th>2PA</th> <th>2P%</th> <th>eFG%</th> <th>FT</th> <th>FTA</th> <th>FT%</th> <th>ORB</th> <th>DRB</th> <th>TRB</th> <th>AST</th> <th>STL</th> <th>BLK</th> <th>TOV</th> <th>PF</th> <th>PTS</th> <th>MPG</th> <th>PPG</th> <th>APG</th> <th>RPG</th> <th>SPG</th> <th>3PG</th> <th>FPG</th> <th>TPG</th> <th>BPG</th> <th>AGE_rating</th> <th>AGE2</th> <th>AGE1</th> <th>PPM2</th> <th>PPM1</th> <th>RPM</th> <th>3PM</th> <th>PER/M</th> <th>PER1</th> <th>WS2</th> <th>WS1</th> <th>USG2</th> <th>USG1</th> <th>PTS/FGA</th> <th>PFPG</th> <th>Team/Year</th>\n",
              "        </tr>\n",
              "    </thead>\n",
              "    <tbody>\n",
              "        <tr>\n",
              "            <td>6605      </td> <td>1982</td> <td>Eddie Johnson 1956.0</td> <td>SG  </td> <td>26  </td> <td>ATL </td> <td>68  </td> <td>57  </td> <td>2314</td> <td>16.5</td> <td>0.513</td> <td>0.03 </td> <td>0.381</td> <td>3.1 </td> <td>6.3 </td> <td>4.7 </td> <td>25.3</td> <td>2.2 </td> <td>0.4 </td> <td>13.6</td> <td>25.6</td> <td>nan  </td> <td>2.2 </td> <td>2.6 </td> <td>4.8 </td> <td>0.1  </td> <td>nan   </td> <td>1.4 </td> <td>-0.5</td> <td>0.9 </td> <td>1.7 </td> <td>455 </td> <td>1011</td> <td>0.45 </td> <td>7   </td> <td>30  </td> <td>0.233</td> <td>448 </td> <td>981 </td> <td>0.457</td> <td>0.454</td> <td>294 </td> <td>385 </td> <td>0.764</td> <td>63  </td> <td>128 </td> <td>191 </td> <td>358 </td> <td>102 </td> <td>16  </td> <td>186 </td> <td>188 </td> <td>1211</td> <td>34.0294</td> <td>17.8088</td> <td>5.26471</td> <td>2.80882</td> <td>1.5     </td> <td>0.102941 </td> <td>4.32353 </td> <td>2.73529 </td> <td>0.235294 </td> <td>-780      </td> <td>676 </td> <td>26  </td> <td>9.32   </td> <td>0.523336</td> <td>0.0825411</td> <td>0.00302506 </td> <td>561.485</td> <td>16.5</td> <td>23.04</td> <td>4.8 </td> <td>655.36</td> <td>25.6</td> <td>1.19782</td> <td>2.76471</td> <td>ATL 1982.0</td>\n",
              "        </tr>\n",
              "        <tr>\n",
              "            <td>6762      </td> <td>1982</td> <td>Rory Sparrow 1959.0 </td> <td>PG  </td> <td>23  </td> <td>ATL </td> <td>82  </td> <td>82  </td> <td>2610</td> <td>13  </td> <td>0.539</td> <td>0.021</td> <td>0.203</td> <td>2.3 </td> <td>7.4 </td> <td>4.9 </td> <td>24.4</td> <td>1.7 </td> <td>0.3 </td> <td>15.4</td> <td>15.6</td> <td>nan  </td> <td>2.9 </td> <td>2.7 </td> <td>5.6 </td> <td>0.104</td> <td>nan   </td> <td>0.2 </td> <td>0.1 </td> <td>0.3 </td> <td>1.5 </td> <td>366 </td> <td>730 </td> <td>0.501</td> <td>1   </td> <td>15  </td> <td>0.067</td> <td>365 </td> <td>715 </td> <td>0.51 </td> <td>0.502</td> <td>124 </td> <td>148 </td> <td>0.838</td> <td>53  </td> <td>171 </td> <td>224 </td> <td>424 </td> <td>87  </td> <td>13  </td> <td>145 </td> <td>240 </td> <td>857 </td> <td>31.8293</td> <td>10.4512</td> <td>5.17073</td> <td>2.73171</td> <td>1.06098 </td> <td>0.0121951</td> <td>1.5122  </td> <td>1.76829 </td> <td>0.158537 </td> <td>-759      </td> <td>529 </td> <td>23  </td> <td>3.43168</td> <td>0.328352</td> <td>0.0858238</td> <td>0.000383142</td> <td>413.78 </td> <td>13  </td> <td>31.36</td> <td>5.6 </td> <td>243.36</td> <td>15.6</td> <td>1.17397</td> <td>2.92683</td> <td>ATL 1982.0</td>\n",
              "        </tr>\n",
              "        <tr>\n",
              "            <td>6515      </td> <td>1982</td> <td>Charlie Criss 1949.0</td> <td>PG  </td> <td>33  </td> <td>ATL </td> <td>27  </td> <td>0   </td> <td>552 </td> <td>13.6</td> <td>0.485</td> <td>0.038</td> <td>0.348</td> <td>1.2 </td> <td>6.6 </td> <td>3.9 </td> <td>20.7</td> <td>2.1 </td> <td>0.2 </td> <td>11  </td> <td>21.4</td> <td>nan  </td> <td>0.4 </td> <td>0.6 </td> <td>1   </td> <td>0.089</td> <td>nan   </td> <td>-1.2</td> <td>-1.3</td> <td>-2.5</td> <td>-0.1</td> <td>84  </td> <td>210 </td> <td>0.4  </td> <td>2   </td> <td>8   </td> <td>0.25 </td> <td>82  </td> <td>202 </td> <td>0.406</td> <td>0.405</td> <td>65  </td> <td>73  </td> <td>0.89 </td> <td>6   </td> <td>32  </td> <td>38  </td> <td>75  </td> <td>23  </td> <td>2   </td> <td>30  </td> <td>40  </td> <td>235 </td> <td>20.4444</td> <td>8.7037 </td> <td>2.77778</td> <td>1.40741</td> <td>0.851852</td> <td>0.0740741</td> <td>2.40741 </td> <td>1.11111 </td> <td>0.0740741</td> <td>-759      </td> <td>1089</td> <td>33  </td> <td>3.70538</td> <td>0.425725</td> <td>0.0688406</td> <td>0.00362319 </td> <td>278.044</td> <td>13.6</td> <td>1    </td> <td>1   </td> <td>457.96</td> <td>21.4</td> <td>1.11905</td> <td>1.48148</td> <td>ATL 1982.0</td>\n",
              "        </tr>\n",
              "        <tr>\n",
              "            <td>7147      </td> <td>1983</td> <td>Rory Sparrow 1959.0 </td> <td>PG  </td> <td>24  </td> <td>ATL </td> <td>49  </td> <td>49  </td> <td>1548</td> <td>13.7</td> <td>0.547</td> <td>0.029</td> <td>0.221</td> <td>2.7 </td> <td>7   </td> <td>4.8 </td> <td>22.7</td> <td>2.2 </td> <td>0   </td> <td>18.3</td> <td>18.5</td> <td>nan  </td> <td>1.2 </td> <td>1.6 </td> <td>2.8 </td> <td>0.087</td> <td>nan   </td> <td>0.4 </td> <td>-0.2</td> <td>0.2 </td> <td>0.8 </td> <td>264 </td> <td>512 </td> <td>0.516</td> <td>3   </td> <td>15  </td> <td>0.2  </td> <td>261 </td> <td>497 </td> <td>0.525</td> <td>0.519</td> <td>84  </td> <td>113 </td> <td>0.743</td> <td>39  </td> <td>102 </td> <td>141 </td> <td>238 </td> <td>70  </td> <td>1   </td> <td>126 </td> <td>162 </td> <td>615 </td> <td>31.5918</td> <td>12.551 </td> <td>4.85714</td> <td>2.87755</td> <td>1.42857 </td> <td>0.0612245</td> <td>1.71429 </td> <td>2.57143 </td> <td>0.0204082</td> <td>-768      </td> <td>576 </td> <td>24  </td> <td>4.98636</td> <td>0.397287</td> <td>0.0910853</td> <td>0.00193798 </td> <td>432.808</td> <td>13.7</td> <td>7.84 </td> <td>2.8 </td> <td>342.25</td> <td>18.5</td> <td>1.20117</td> <td>3.30612</td> <td>ATL 1983.0</td>\n",
              "        </tr>\n",
              "        <tr>\n",
              "            <td>6978      </td> <td>1983</td> <td>Eddie Johnson 1956.0</td> <td>SG  </td> <td>27  </td> <td>ATL </td> <td>61  </td> <td>57  </td> <td>1813</td> <td>16  </td> <td>0.508</td> <td>0.048</td> <td>0.276</td> <td>1.5 </td> <td>5.7 </td> <td>3.6 </td> <td>27.7</td> <td>1.6 </td> <td>0.2 </td> <td>13.9</td> <td>25.7</td> <td>nan  </td> <td>1.6 </td> <td>1.5 </td> <td>3   </td> <td>0.081</td> <td>nan   </td> <td>0.9 </td> <td>-2.2</td> <td>-1.3</td> <td>0.3 </td> <td>389 </td> <td>858 </td> <td>0.453</td> <td>14  </td> <td>41  </td> <td>0.341</td> <td>375 </td> <td>817 </td> <td>0.459</td> <td>0.462</td> <td>186 </td> <td>237 </td> <td>0.785</td> <td>26  </td> <td>98  </td> <td>124 </td> <td>318 </td> <td>61  </td> <td>6   </td> <td>156 </td> <td>138 </td> <td>978 </td> <td>29.7213</td> <td>16.0328</td> <td>5.21311</td> <td>2.03279</td> <td>1       </td> <td>0.229508 </td> <td>3.04918 </td> <td>2.55738 </td> <td>0.0983607</td> <td>-783      </td> <td>729 </td> <td>27  </td> <td>8.64868</td> <td>0.539437</td> <td>0.0683949</td> <td>0.00772201 </td> <td>475.541</td> <td>16  </td> <td>9    </td> <td>3   </td> <td>660.49</td> <td>25.7</td> <td>1.13986</td> <td>2.2623 </td> <td>ATL 1983.0</td>\n",
              "        </tr>\n",
              "        <tr>\n",
              "            <td>6898      </td> <td>1983</td> <td>Johnny Davis 1956.0 </td> <td>SG  </td> <td>27  </td> <td>ATL </td> <td>53  </td> <td>33  </td> <td>1465</td> <td>16.8</td> <td>0.521</td> <td>0.032</td> <td>0.363</td> <td>2.7 </td> <td>6.6 </td> <td>4.6 </td> <td>32  </td> <td>1.4 </td> <td>0.3 </td> <td>14.8</td> <td>21.9</td> <td>nan  </td> <td>2.3 </td> <td>1.2 </td> <td>3.5 </td> <td>0.113</td> <td>nan   </td> <td>1.3 </td> <td>-1.9</td> <td>-0.6</td> <td>0.5 </td> <td>258 </td> <td>567 </td> <td>0.455</td> <td>5   </td> <td>18  </td> <td>0.278</td> <td>253 </td> <td>549 </td> <td>0.461</td> <td>0.459</td> <td>164 </td> <td>206 </td> <td>0.796</td> <td>37  </td> <td>91  </td> <td>128 </td> <td>315 </td> <td>43  </td> <td>7   </td> <td>114 </td> <td>100 </td> <td>685 </td> <td>27.6415</td> <td>12.9245</td> <td>5.9434 </td> <td>2.41509</td> <td>0.811321</td> <td>0.0943396</td> <td>3.09434 </td> <td>2.15094 </td> <td>0.132075 </td> <td>-783      </td> <td>729 </td> <td>27  </td> <td>6.04321</td> <td>0.467577</td> <td>0.087372 </td> <td>0.00341297 </td> <td>464.377</td> <td>16.8</td> <td>12.25</td> <td>3.5 </td> <td>479.61</td> <td>21.9</td> <td>1.20811</td> <td>1.88679</td> <td>ATL 1983.0</td>\n",
              "        </tr>\n",
              "        <tr>\n",
              "            <td>7344      </td> <td>1984</td> <td>Eddie Johnson 1956.0</td> <td>SG  </td> <td>28  </td> <td>ATL </td> <td>67  </td> <td>43  </td> <td>1893</td> <td>14.2</td> <td>0.497</td> <td>0.054</td> <td>0.267</td> <td>1.8 </td> <td>7   </td> <td>4.4 </td> <td>31.5</td> <td>1.5 </td> <td>0.2 </td> <td>16.2</td> <td>24.3</td> <td>nan  </td> <td>0.3 </td> <td>1.4 </td> <td>1.7 </td> <td>0.044</td> <td>nan   </td> <td>-0.1</td> <td>-2  </td> <td>-2.2</td> <td>-0.1</td> <td>353 </td> <td>798 </td> <td>0.442</td> <td>16  </td> <td>43  </td> <td>0.372</td> <td>337 </td> <td>755 </td> <td>0.446</td> <td>0.452</td> <td>164 </td> <td>213 </td> <td>0.77 </td> <td>31  </td> <td>115 </td> <td>146 </td> <td>374 </td> <td>58  </td> <td>7   </td> <td>173 </td> <td>155 </td> <td>886 </td> <td>28.2537</td> <td>13.2239</td> <td>5.58209</td> <td>2.1791 </td> <td>0.865672</td> <td>0.238806 </td> <td>2.44776 </td> <td>2.58209 </td> <td>0.104478 </td> <td>-784      </td> <td>784 </td> <td>28  </td> <td>6.18931</td> <td>0.46804 </td> <td>0.0771263</td> <td>0.00845219 </td> <td>401.203</td> <td>14.2</td> <td>2.89 </td> <td>1.7 </td> <td>590.49</td> <td>24.3</td> <td>1.11028</td> <td>2.31343</td> <td>ATL 1984.0</td>\n",
              "        </tr>\n",
              "        <tr>\n",
              "            <td>7277      </td> <td>1984</td> <td>Johnny Davis 1956.0 </td> <td>PG  </td> <td>28  </td> <td>ATL </td> <td>75  </td> <td>72  </td> <td>2079</td> <td>14.3</td> <td>0.507</td> <td>0.01 </td> <td>0.32 </td> <td>2.9 </td> <td>4.8 </td> <td>3.8 </td> <td>24.4</td> <td>1.5 </td> <td>0.2 </td> <td>12.8</td> <td>21.7</td> <td>nan  </td> <td>1.9 </td> <td>1.4 </td> <td>3.3 </td> <td>0.075</td> <td>nan   </td> <td>0.1 </td> <td>-1.9</td> <td>-1.8</td> <td>0.1 </td> <td>354 </td> <td>800 </td> <td>0.443</td> <td>0   </td> <td>8   </td> <td>0    </td> <td>354 </td> <td>792 </td> <td>0.447</td> <td>0.443</td> <td>217 </td> <td>256 </td> <td>0.848</td> <td>53  </td> <td>86  </td> <td>139 </td> <td>326 </td> <td>62  </td> <td>6   </td> <td>134 </td> <td>146 </td> <td>925 </td> <td>27.72  </td> <td>12.3333</td> <td>4.34667</td> <td>1.85333</td> <td>0.826667</td> <td>0        </td> <td>2.89333 </td> <td>1.78667 </td> <td>0.08     </td> <td>-784      </td> <td>784 </td> <td>28  </td> <td>5.48741</td> <td>0.444925</td> <td>0.0668591</td> <td>0          </td> <td>396.396</td> <td>14.3</td> <td>10.89</td> <td>3.3 </td> <td>470.89</td> <td>21.7</td> <td>1.15625</td> <td>1.94667</td> <td>ATL 1984.0</td>\n",
              "        </tr>\n",
              "        <tr>\n",
              "            <td>7313      </td> <td>1984</td> <td>Mike Glenn 1956.0   </td> <td>SG  </td> <td>28  </td> <td>ATL </td> <td>81  </td> <td>0   </td> <td>1503</td> <td>15.5</td> <td>0.582</td> <td>0.004</td> <td>0.126</td> <td>1.3 </td> <td>6.7 </td> <td>4   </td> <td>18.8</td> <td>1.5 </td> <td>0.2 </td> <td>9.7 </td> <td>18.6</td> <td>nan  </td> <td>2.8 </td> <td>1.1 </td> <td>3.9 </td> <td>0.124</td> <td>nan   </td> <td>1   </td> <td>-1.8</td> <td>-0.9</td> <td>0.4 </td> <td>312 </td> <td>554 </td> <td>0.563</td> <td>1   </td> <td>2   </td> <td>0.5  </td> <td>311 </td> <td>552 </td> <td>0.563</td> <td>0.564</td> <td>56  </td> <td>70  </td> <td>0.8  </td> <td>17  </td> <td>87  </td> <td>104 </td> <td>171 </td> <td>46  </td> <td>5   </td> <td>63  </td> <td>146 </td> <td>681 </td> <td>18.5556</td> <td>8.40741</td> <td>2.11111</td> <td>1.28395</td> <td>0.567901</td> <td>0.0123457</td> <td>0.691358</td> <td>0.777778</td> <td>0.0617284</td> <td>-784      </td> <td>784 </td> <td>28  </td> <td>3.80934</td> <td>0.453094</td> <td>0.0691949</td> <td>0.000665336</td> <td>287.611</td> <td>15.5</td> <td>15.21</td> <td>3.9 </td> <td>345.96</td> <td>18.6</td> <td>1.22924</td> <td>1.80247</td> <td>ATL 1984.0</td>\n",
              "        </tr>\n",
              "        <tr>\n",
              "            <td>7694      </td> <td>1985</td> <td>Eddie Johnson 1956.0</td> <td>SG  </td> <td>29  </td> <td>ATL </td> <td>73  </td> <td>66  </td> <td>2367</td> <td>15.8</td> <td>0.546</td> <td>0.076</td> <td>0.351</td> <td>1.8 </td> <td>7   </td> <td>4.4 </td> <td>35.4</td> <td>0.9 </td> <td>0.2 </td> <td>18.3</td> <td>23.3</td> <td>nan  </td> <td>2.8 </td> <td>1.4 </td> <td>4.2 </td> <td>0.084</td> <td>nan   </td> <td>1.2 </td> <td>-2.5</td> <td>-1.2</td> <td>0.4 </td> <td>453 </td> <td>946 </td> <td>0.479</td> <td>22  </td> <td>72  </td> <td>0.306</td> <td>431 </td> <td>874 </td> <td>0.493</td> <td>0.49 </td> <td>265 </td> <td>332 </td> <td>0.798</td> <td>38  </td> <td>154 </td> <td>192 </td> <td>566 </td> <td>43  </td> <td>7   </td> <td>244 </td> <td>184 </td> <td>1193</td> <td>32.4247</td> <td>16.3425</td> <td>7.75342</td> <td>2.63014</td> <td>0.589041</td> <td>0.30137  </td> <td>3.63014 </td> <td>3.34247 </td> <td>0.0958904</td> <td>-783      </td> <td>841 </td> <td>29  </td> <td>8.23682</td> <td>0.504014</td> <td>0.0811153</td> <td>0.00929447 </td> <td>512.31 </td> <td>15.8</td> <td>17.64</td> <td>4.2 </td> <td>542.89</td> <td>23.3</td> <td>1.2611 </td> <td>2.52055</td> <td>ATL 1985.0</td>\n",
              "        </tr>\n",
              "        <tr>\n",
              "            <td>7805      </td> <td>1985</td> <td>Doc Rivers 1962.0   </td> <td>PG  </td> <td>23  </td> <td>ATL </td> <td>69  </td> <td>58  </td> <td>2126</td> <td>18.1</td> <td>0.561</td> <td>0.051</td> <td>0.539</td> <td>3.5 </td> <td>7.5 </td> <td>5.5 </td> <td>27.2</td> <td>3.7 </td> <td>1.4 </td> <td>16.9</td> <td>20.2</td> <td>nan  </td> <td>3.4 </td> <td>3   </td> <td>6.3 </td> <td>0.143</td> <td>nan   </td> <td>2.1 </td> <td>1.8 </td> <td>3.9 </td> <td>3.2 </td> <td>334 </td> <td>701 </td> <td>0.476</td> <td>15  </td> <td>36  </td> <td>0.417</td> <td>319 </td> <td>665 </td> <td>0.48 </td> <td>0.487</td> <td>291 </td> <td>378 </td> <td>0.77 </td> <td>66  </td> <td>148 </td> <td>214 </td> <td>410 </td> <td>163 </td> <td>53  </td> <td>176 </td> <td>250 </td> <td>974 </td> <td>30.8116</td> <td>14.1159</td> <td>5.94203</td> <td>3.10145</td> <td>2.36232 </td> <td>0.217391 </td> <td>4.21739 </td> <td>2.55072 </td> <td>0.768116 </td> <td>-759      </td> <td>529 </td> <td>23  </td> <td>6.46704</td> <td>0.458137</td> <td>0.100659 </td> <td>0.0070555  </td> <td>557.69 </td> <td>18.1</td> <td>39.69</td> <td>6.3 </td> <td>408.04</td> <td>20.2</td> <td>1.38944</td> <td>3.62319</td> <td>ATL 1985.0</td>\n",
              "        </tr>\n",
              "        <tr>\n",
              "            <td>7913      </td> <td>1985</td> <td>Randy Wittman 1960.0</td> <td>SG  </td> <td>25  </td> <td>ATL </td> <td>41  </td> <td>22  </td> <td>1168</td> <td>11.2</td> <td>0.549</td> <td>0.02 </td> <td>0.116</td> <td>1.5 </td> <td>5.3 </td> <td>3.4 </td> <td>15.1</td> <td>1.2 </td> <td>0.3 </td> <td>13.3</td> <td>15.1</td> <td>nan  </td> <td>0.9 </td> <td>0.7 </td> <td>1.6 </td> <td>0.065</td> <td>nan   </td> <td>-1  </td> <td>-0.9</td> <td>-1.9</td> <td>0   </td> <td>187 </td> <td>352 </td> <td>0.531</td> <td>2   </td> <td>7   </td> <td>0.286</td> <td>185 </td> <td>345 </td> <td>0.536</td> <td>0.534</td> <td>30  </td> <td>41  </td> <td>0.732</td> <td>16  </td> <td>57  </td> <td>73  </td> <td>125 </td> <td>28  </td> <td>7   </td> <td>57  </td> <td>58  </td> <td>406 </td> <td>28.4878</td> <td>9.90244</td> <td>3.04878</td> <td>1.78049</td> <td>0.682927</td> <td>0.0487805</td> <td>0.731707</td> <td>1.39024 </td> <td>0.170732 </td> <td>-775      </td> <td>625 </td> <td>25  </td> <td>3.44211</td> <td>0.347603</td> <td>0.0625   </td> <td>0.00171233 </td> <td>319.063</td> <td>11.2</td> <td>2.56 </td> <td>1.6 </td> <td>228.01</td> <td>15.1</td> <td>1.15341</td> <td>1.41463</td> <td>ATL 1985.0</td>\n",
              "        </tr>\n",
              "    </tbody>\n",
              "</table>\n",
              "<p>... (2967 rows omitted)</p>"
            ],
            "text/plain": [
              "<IPython.core.display.HTML object>"
            ]
          },
          "metadata": {
            "tags": []
          }
        },
        {
          "output_type": "display_data",
          "data": {
            "text/html": [
              "<table border=\"1\" class=\"dataframe\">\n",
              "    <thead>\n",
              "        <tr>\n",
              "            <th>Unnamed: 0</th> <th>Year</th> <th>Player</th> <th>Pos</th> <th>Age</th> <th>Tm</th> <th>G</th> <th>GS</th> <th>MP</th> <th>PER</th> <th>TS%</th> <th>3PAr</th> <th>FTr</th> <th>ORB%</th> <th>DRB%</th> <th>TRB%</th> <th>AST%</th> <th>STL%</th> <th>BLK%</th> <th>TOV%</th> <th>USG%</th> <th>blanl</th> <th>OWS</th> <th>DWS</th> <th>WS</th> <th>WS/48</th> <th>blank2</th> <th>OBPM</th> <th>DBPM</th> <th>BPM</th> <th>VORP</th> <th>FG</th> <th>FGA</th> <th>FG%</th> <th>3P</th> <th>3PA</th> <th>3P%</th> <th>2P</th> <th>2PA</th> <th>2P%</th> <th>eFG%</th> <th>FT</th> <th>FTA</th> <th>FT%</th> <th>ORB</th> <th>DRB</th> <th>TRB</th> <th>AST</th> <th>STL</th> <th>BLK</th> <th>TOV</th> <th>PF</th> <th>PTS</th> <th>MPG</th> <th>PPG</th> <th>APG</th> <th>RPG</th> <th>SPG</th> <th>3PG</th> <th>FPG</th> <th>TPG</th> <th>BPG</th> <th>AGE_rating</th> <th>AGE2</th> <th>AGE1</th> <th>PPM2</th> <th>PPM1</th> <th>RPM</th> <th>3PM</th> <th>PER/M</th> <th>PER1</th> <th>WS2</th> <th>WS1</th> <th>USG2</th> <th>USG1</th> <th>PTS/FGA</th> <th>PFPG</th> <th>Team/Year</th>\n",
              "        </tr>\n",
              "    </thead>\n",
              "    <tbody>\n",
              "        <tr>\n",
              "            <td>6741      </td> <td>1982</td> <td>Dan Roundfield 1954.0   </td> <td>PF  </td> <td>28  </td> <td>ATL </td> <td>61  </td> <td>58  </td> <td>2217</td> <td>19.5</td> <td>0.527</td> <td>0.005</td> <td>0.412</td> <td>11.6</td> <td>25.3</td> <td>18.4</td> <td>11.9</td> <td>1.5 </td> <td>2.6 </td> <td>14.5</td> <td>24.6</td> <td>nan  </td> <td>2.4 </td> <td>4.1 </td> <td>6.5 </td> <td>0.141 </td> <td>nan   </td> <td>0.8 </td> <td>2.5 </td> <td>3.3 </td> <td>2.9 </td> <td>424 </td> <td>910 </td> <td>0.466</td> <td>1   </td> <td>5   </td> <td>0.2  </td> <td>423 </td> <td>905 </td> <td>0.467</td> <td>0.466</td> <td>285 </td> <td>375 </td> <td>0.76 </td> <td>227 </td> <td>494 </td> <td>721 </td> <td>162 </td> <td>64  </td> <td>93  </td> <td>183 </td> <td>210 </td> <td>1134</td> <td>36.3443</td> <td>18.5902</td> <td>2.65574 </td> <td>11.8197</td> <td>1.04918 </td> <td>0.0163934</td> <td>4.67213 </td> <td>3      </td> <td>1.52459  </td> <td>-784      </td> <td>784 </td> <td>28  </td> <td>9.50891 </td> <td>0.511502</td> <td>0.325214</td> <td>0.00045106 </td> <td>708.713</td> <td>19.5</td> <td>42.25</td> <td>6.5 </td> <td>605.16 </td> <td>24.6</td> <td>1.24615 </td> <td>3.44262</td> <td>ATL 1982.0</td>\n",
              "        </tr>\n",
              "        <tr>\n",
              "            <td>6535      </td> <td>1982</td> <td>John Drew 1955.0        </td> <td>SF  </td> <td>27  </td> <td>ATL </td> <td>70  </td> <td>51  </td> <td>2040</td> <td>18.1</td> <td>0.553</td> <td>0.013</td> <td>0.513</td> <td>9.3 </td> <td>11.5</td> <td>10.4</td> <td>8.1 </td> <td>1.6 </td> <td>0.1 </td> <td>13.2</td> <td>28.7</td> <td>nan  </td> <td>3.2 </td> <td>2.4 </td> <td>5.5 </td> <td>0.13  </td> <td>nan   </td> <td>1.4 </td> <td>-1.6</td> <td>-0.1</td> <td>1   </td> <td>465 </td> <td>957 </td> <td>0.486</td> <td>4   </td> <td>12  </td> <td>0.333</td> <td>461 </td> <td>945 </td> <td>0.488</td> <td>0.488</td> <td>364 </td> <td>491 </td> <td>0.741</td> <td>169 </td> <td>206 </td> <td>375 </td> <td>96  </td> <td>64  </td> <td>3   </td> <td>178 </td> <td>250 </td> <td>1298</td> <td>29.1429</td> <td>18.5429</td> <td>1.37143 </td> <td>5.35714</td> <td>0.914286</td> <td>0.0571429</td> <td>5.2     </td> <td>2.54286</td> <td>0.0428571</td> <td>-783      </td> <td>729 </td> <td>27  </td> <td>11.7983 </td> <td>0.636275</td> <td>0.183824</td> <td>0.00196078 </td> <td>527.486</td> <td>18.1</td> <td>30.25</td> <td>5.5 </td> <td>823.69 </td> <td>28.7</td> <td>1.35632 </td> <td>3.57143</td> <td>ATL 1982.0</td>\n",
              "        </tr>\n",
              "        <tr>\n",
              "            <td>6576      </td> <td>1982</td> <td>Steve Hawes 1951.0      </td> <td>PF  </td> <td>31  </td> <td>ATL </td> <td>49  </td> <td>42  </td> <td>1317</td> <td>14.5</td> <td>0.536</td> <td>0.027</td> <td>0.341</td> <td>7.6 </td> <td>19.9</td> <td>13.7</td> <td>16  </td> <td>1.4 </td> <td>1.6 </td> <td>17  </td> <td>16.9</td> <td>nan  </td> <td>1.2 </td> <td>2.1 </td> <td>3.2 </td> <td>0.118 </td> <td>nan   </td> <td>-0.2</td> <td>2.5 </td> <td>2.2 </td> <td>1.4 </td> <td>178 </td> <td>370 </td> <td>0.481</td> <td>4   </td> <td>10  </td> <td>0.4  </td> <td>174 </td> <td>360 </td> <td>0.483</td> <td>0.486</td> <td>96  </td> <td>126 </td> <td>0.762</td> <td>89  </td> <td>231 </td> <td>320 </td> <td>142 </td> <td>36  </td> <td>34  </td> <td>87  </td> <td>156 </td> <td>456 </td> <td>26.8776</td> <td>9.30612</td> <td>2.89796 </td> <td>6.53061</td> <td>0.734694</td> <td>0.0816327</td> <td>1.95918 </td> <td>1.77551</td> <td>0.693878 </td> <td>-775      </td> <td>961 </td> <td>31  </td> <td>3.22217 </td> <td>0.346241</td> <td>0.242976</td> <td>0.00303721 </td> <td>389.724</td> <td>14.5</td> <td>10.24</td> <td>3.2 </td> <td>285.61 </td> <td>16.9</td> <td>1.23243 </td> <td>3.18367</td> <td>ATL 1982.0</td>\n",
              "        </tr>\n",
              "        <tr>\n",
              "            <td>6739      </td> <td>1982</td> <td>Tree Rollins 1956.0     </td> <td>C   </td> <td>26  </td> <td>ATL </td> <td>79  </td> <td>39  </td> <td>2018</td> <td>14.7</td> <td>0.6  </td> <td>0    </td> <td>0.373</td> <td>9.4 </td> <td>24.9</td> <td>17.1</td> <td>4.1 </td> <td>0.9 </td> <td>6.8 </td> <td>16.4</td> <td>10.4</td> <td>nan  </td> <td>2.2 </td> <td>4.2 </td> <td>6.4 </td> <td>0.153 </td> <td>nan   </td> <td>-1.8</td> <td>4.9 </td> <td>3.1 </td> <td>2.6 </td> <td>202 </td> <td>346 </td> <td>0.584</td> <td>0   </td> <td>0   </td> <td>nan  </td> <td>202 </td> <td>346 </td> <td>0.584</td> <td>0.584</td> <td>79  </td> <td>129 </td> <td>0.612</td> <td>168 </td> <td>443 </td> <td>611 </td> <td>59  </td> <td>35  </td> <td>224 </td> <td>79  </td> <td>285 </td> <td>483 </td> <td>25.5443</td> <td>6.11392</td> <td>0.746835</td> <td>7.73418</td> <td>0.443038</td> <td>0        </td> <td>1       </td> <td>1      </td> <td>2.83544  </td> <td>-780      </td> <td>676 </td> <td>26  </td> <td>1.46334 </td> <td>0.239346</td> <td>0.302775</td> <td>0          </td> <td>375.501</td> <td>14.7</td> <td>40.96</td> <td>6.4 </td> <td>108.16 </td> <td>10.4</td> <td>1.39595 </td> <td>3.60759</td> <td>ATL 1982.0</td>\n",
              "        </tr>\n",
              "        <tr>\n",
              "            <td>6685      </td> <td>1982</td> <td>Tom McMillen 1953.0     </td> <td>C   </td> <td>29  </td> <td>ATL </td> <td>73  </td> <td>23  </td> <td>1792</td> <td>13.1</td> <td>0.559</td> <td>0.005</td> <td>0.297</td> <td>6.4 </td> <td>14.8</td> <td>10.6</td> <td>11.2</td> <td>0.7 </td> <td>0.8 </td> <td>16.1</td> <td>18.7</td> <td>nan  </td> <td>1.7 </td> <td>2   </td> <td>3.7 </td> <td>0.099 </td> <td>nan   </td> <td>-0.7</td> <td>0.2 </td> <td>-0.5</td> <td>0.7 </td> <td>291 </td> <td>572 </td> <td>0.509</td> <td>1   </td> <td>3   </td> <td>0.333</td> <td>290 </td> <td>569 </td> <td>0.51 </td> <td>0.51 </td> <td>140 </td> <td>170 </td> <td>0.824</td> <td>102 </td> <td>234 </td> <td>336 </td> <td>129 </td> <td>25  </td> <td>24  </td> <td>124 </td> <td>202 </td> <td>723 </td> <td>24.5479</td> <td>9.90411</td> <td>1.76712 </td> <td>4.60274</td> <td>0.342466</td> <td>0.0136986</td> <td>1.91781 </td> <td>1.69863</td> <td>0.328767 </td> <td>-783      </td> <td>841 </td> <td>29  </td> <td>3.99591 </td> <td>0.40346 </td> <td>0.1875  </td> <td>0.000558036</td> <td>321.578</td> <td>13.1</td> <td>13.69</td> <td>3.7 </td> <td>349.69 </td> <td>18.7</td> <td>1.26399 </td> <td>2.76712</td> <td>ATL 1982.0</td>\n",
              "        </tr>\n",
              "        <tr>\n",
              "            <td>7117      </td> <td>1983</td> <td>Dan Roundfield 1954.0   </td> <td>PF  </td> <td>29  </td> <td>ATL </td> <td>77  </td> <td>76  </td> <td>2811</td> <td>18.8</td> <td>0.526</td> <td>0.023</td> <td>0.377</td> <td>9.8 </td> <td>23.4</td> <td>16.6</td> <td>12.4</td> <td>1   </td> <td>2.3 </td> <td>15  </td> <td>24.2</td> <td>nan  </td> <td>2.9 </td> <td>4.5 </td> <td>7.4 </td> <td>0.127 </td> <td>nan   </td> <td>0.7 </td> <td>1.7 </td> <td>2.4 </td> <td>3.1 </td> <td>561 </td> <td>1193</td> <td>0.47 </td> <td>5   </td> <td>27  </td> <td>0.185</td> <td>556 </td> <td>1166</td> <td>0.477</td> <td>0.472</td> <td>337 </td> <td>450 </td> <td>0.749</td> <td>259 </td> <td>621 </td> <td>880 </td> <td>225 </td> <td>60  </td> <td>115 </td> <td>245 </td> <td>239 </td> <td>1464</td> <td>36.5065</td> <td>19.013 </td> <td>2.92208 </td> <td>11.4286</td> <td>0.779221</td> <td>0.0649351</td> <td>4.37662 </td> <td>3.18182</td> <td>1.49351  </td> <td>-783      </td> <td>841 </td> <td>29  </td> <td>9.90217 </td> <td>0.520811</td> <td>0.313056</td> <td>0.00177873 </td> <td>686.322</td> <td>18.8</td> <td>54.76</td> <td>7.4 </td> <td>585.64 </td> <td>24.2</td> <td>1.22716 </td> <td>3.1039 </td> <td>ATL 1983.0</td>\n",
              "        </tr>\n",
              "        <tr>\n",
              "            <td>7115      </td> <td>1983</td> <td>Tree Rollins 1956.0     </td> <td>C   </td> <td>27  </td> <td>ATL </td> <td>80  </td> <td>80  </td> <td>2472</td> <td>15.4</td> <td>0.543</td> <td>0.002</td> <td>0.264</td> <td>9.1 </td> <td>22.8</td> <td>16  </td> <td>4.1 </td> <td>1   </td> <td>7.8 </td> <td>14.3</td> <td>11.2</td> <td>nan  </td> <td>2.3 </td> <td>5   </td> <td>7.3 </td> <td>0.142 </td> <td>nan   </td> <td>-1.8</td> <td>5.4 </td> <td>3.6 </td> <td>3.5 </td> <td>261 </td> <td>512 </td> <td>0.51 </td> <td>0   </td> <td>1   </td> <td>0    </td> <td>261 </td> <td>511 </td> <td>0.511</td> <td>0.51 </td> <td>98  </td> <td>135 </td> <td>0.726</td> <td>210 </td> <td>533 </td> <td>743 </td> <td>75  </td> <td>49  </td> <td>343 </td> <td>95  </td> <td>294 </td> <td>620 </td> <td>30.9   </td> <td>7.75   </td> <td>0.9375  </td> <td>9.2875 </td> <td>0.6125  </td> <td>0        </td> <td>1.225   </td> <td>1.1875 </td> <td>4.2875   </td> <td>-783      </td> <td>729 </td> <td>27  </td> <td>1.94377 </td> <td>0.250809</td> <td>0.300566</td> <td>0          </td> <td>475.86 </td> <td>15.4</td> <td>53.29</td> <td>7.3 </td> <td>125.44 </td> <td>11.2</td> <td>1.21094 </td> <td>3.675  </td> <td>ATL 1983.0</td>\n",
              "        </tr>\n",
              "        <tr>\n",
              "            <td>7056      </td> <td>1983</td> <td>Tom McMillen 1953.0     </td> <td>C   </td> <td>30  </td> <td>ATL </td> <td>61  </td> <td>4   </td> <td>1364</td> <td>10.8</td> <td>0.522</td> <td>0.002</td> <td>0.314</td> <td>4.5 </td> <td>12.4</td> <td>8.5 </td> <td>7.9 </td> <td>0.6 </td> <td>1   </td> <td>14.2</td> <td>17.2</td> <td>nan  </td> <td>0.7 </td> <td>1.3 </td> <td>2   </td> <td>0.071 </td> <td>nan   </td> <td>-2.2</td> <td>-0.4</td> <td>-2.5</td> <td>-0.2</td> <td>198 </td> <td>424 </td> <td>0.467</td> <td>0   </td> <td>1   </td> <td>0    </td> <td>198 </td> <td>423 </td> <td>0.468</td> <td>0.467</td> <td>108 </td> <td>133 </td> <td>0.812</td> <td>57  </td> <td>160 </td> <td>217 </td> <td>76  </td> <td>17  </td> <td>24  </td> <td>80  </td> <td>143 </td> <td>504 </td> <td>22.3607</td> <td>8.2623 </td> <td>1.2459  </td> <td>3.55738</td> <td>0.278689</td> <td>0        </td> <td>1.77049 </td> <td>1.31148</td> <td>0.393443 </td> <td>-780      </td> <td>900 </td> <td>30  </td> <td>3.05293 </td> <td>0.369501</td> <td>0.159091</td> <td>0          </td> <td>241.495</td> <td>10.8</td> <td>4    </td> <td>2   </td> <td>295.84 </td> <td>17.2</td> <td>1.18868 </td> <td>2.34426</td> <td>ATL 1983.0</td>\n",
              "        </tr>\n",
              "        <tr>\n",
              "            <td>6956      </td> <td>1983</td> <td>Steve Hawes 1951.0      </td> <td>PF  </td> <td>32  </td> <td>ATL </td> <td>46  </td> <td>3   </td> <td>860 </td> <td>8   </td> <td>0.424</td> <td>0.057</td> <td>0.254</td> <td>6.6 </td> <td>21.5</td> <td>14.1</td> <td>9.3 </td> <td>1.6 </td> <td>0.5 </td> <td>21.2</td> <td>16.7</td> <td>nan  </td> <td>-1.2</td> <td>1.3 </td> <td>0.1 </td> <td>0.006 </td> <td>nan   </td> <td>-4.9</td> <td>1.2 </td> <td>-3.7</td> <td>-0.4</td> <td>91  </td> <td>244 </td> <td>0.373</td> <td>2   </td> <td>14  </td> <td>0.143</td> <td>89  </td> <td>230 </td> <td>0.387</td> <td>0.377</td> <td>46  </td> <td>62  </td> <td>0.742</td> <td>53  </td> <td>175 </td> <td>228 </td> <td>59  </td> <td>29  </td> <td>8   </td> <td>73  </td> <td>110 </td> <td>230 </td> <td>18.6957</td> <td>5      </td> <td>1.28261 </td> <td>4.95652</td> <td>0.630435</td> <td>0.0434783</td> <td>1       </td> <td>1.58696</td> <td>0.173913 </td> <td>-768      </td> <td>1024</td> <td>32  </td> <td>1.33721 </td> <td>0.267442</td> <td>0.265116</td> <td>0.00232558 </td> <td>149.565</td> <td>8   </td> <td>0.01 </td> <td>0.1 </td> <td>278.89 </td> <td>16.7</td> <td>0.942623</td> <td>2.3913 </td> <td>ATL 1983.0</td>\n",
              "        </tr>\n",
              "        <tr>\n",
              "            <td>7041      </td> <td>1983</td> <td>Rudy Macklin 1959.0     </td> <td>SF  </td> <td>24  </td> <td>ATL </td> <td>73  </td> <td>20  </td> <td>1171</td> <td>10.9</td> <td>0.528</td> <td>0.011</td> <td>0.364</td> <td>7.7 </td> <td>9.5 </td> <td>8.6 </td> <td>8.6 </td> <td>1.7 </td> <td>0.5 </td> <td>17.6</td> <td>18  </td> <td>nan  </td> <td>0.5 </td> <td>1.2 </td> <td>1.8 </td> <td>0.073 </td> <td>nan   </td> <td>-1.5</td> <td>-0.1</td> <td>-1.6</td> <td>0.1 </td> <td>170 </td> <td>360 </td> <td>0.472</td> <td>0   </td> <td>4   </td> <td>0    </td> <td>170 </td> <td>356 </td> <td>0.478</td> <td>0.472</td> <td>101 </td> <td>131 </td> <td>0.771</td> <td>85  </td> <td>105 </td> <td>190 </td> <td>71  </td> <td>41  </td> <td>10  </td> <td>89  </td> <td>189 </td> <td>441 </td> <td>16.0411</td> <td>6.0411 </td> <td>0.972603</td> <td>2.60274</td> <td>0.561644</td> <td>0        </td> <td>1.38356 </td> <td>1.21918</td> <td>0.136986 </td> <td>-768      </td> <td>576 </td> <td>24  </td> <td>2.27508 </td> <td>0.376601</td> <td>0.162254</td> <td>0          </td> <td>174.848</td> <td>10.9</td> <td>3.24 </td> <td>1.8 </td> <td>324    </td> <td>18  </td> <td>1.225   </td> <td>2.58904</td> <td>ATL 1983.0</td>\n",
              "        </tr>\n",
              "        <tr>\n",
              "            <td>7539      </td> <td>1984</td> <td>Dominique Wilkins* 1960.</td> <td>SF  </td> <td>24  </td> <td>ATL </td> <td>81  </td> <td>81  </td> <td>2961</td> <td>19.2</td> <td>0.531</td> <td>0.008</td> <td>0.347</td> <td>9.7 </td> <td>12.9</td> <td>11.2</td> <td>7.3 </td> <td>2   </td> <td>1.8 </td> <td>11.5</td> <td>27.1</td> <td>nan  </td> <td>3.4 </td> <td>3.6 </td> <td>7   </td> <td>0.113 </td> <td>nan   </td> <td>1.3 </td> <td>0   </td> <td>1.3 </td> <td>2.5 </td> <td>684 </td> <td>1429</td> <td>0.479</td> <td>0   </td> <td>11  </td> <td>0    </td> <td>684 </td> <td>1418</td> <td>0.482</td> <td>0.479</td> <td>382 </td> <td>496 </td> <td>0.77 </td> <td>254 </td> <td>328 </td> <td>582 </td> <td>126 </td> <td>117 </td> <td>87  </td> <td>215 </td> <td>197 </td> <td>1750</td> <td>36.5556</td> <td>21.6049</td> <td>1.55556 </td> <td>7.18519</td> <td>1.44444 </td> <td>0        </td> <td>4.71605 </td> <td>2.65432</td> <td>1.07407  </td> <td>-768      </td> <td>576 </td> <td>24  </td> <td>12.7689 </td> <td>0.591017</td> <td>0.196555</td> <td>0          </td> <td>701.867</td> <td>19.2</td> <td>49   </td> <td>7   </td> <td>734.41 </td> <td>27.1</td> <td>1.22463 </td> <td>2.4321 </td> <td>ATL 1984.0</td>\n",
              "        </tr>\n",
              "        <tr>\n",
              "            <td>7470      </td> <td>1984</td> <td>Dan Roundfield 1954.0   </td> <td>PF  </td> <td>30  </td> <td>ATL </td> <td>73  </td> <td>72  </td> <td>2610</td> <td>18.9</td> <td>0.551</td> <td>0.011</td> <td>0.468</td> <td>8.9 </td> <td>22.9</td> <td>15.8</td> <td>11.4</td> <td>1.2 </td> <td>1.7 </td> <td>14.1</td> <td>24.1</td> <td>nan  </td> <td>3.5 </td> <td>3.6 </td> <td>7.1 </td> <td>0.131 </td> <td>nan   </td> <td>1   </td> <td>1.1 </td> <td>2.1 </td> <td>2.7 </td> <td>503 </td> <td>1038</td> <td>0.485</td> <td>0   </td> <td>11  </td> <td>0    </td> <td>503 </td> <td>1027</td> <td>0.49 </td> <td>0.485</td> <td>374 </td> <td>486 </td> <td>0.77 </td> <td>206 </td> <td>515 </td> <td>721 </td> <td>184 </td> <td>61  </td> <td>74  </td> <td>205 </td> <td>221 </td> <td>1380</td> <td>35.7534</td> <td>18.9041</td> <td>2.52055 </td> <td>9.87671</td> <td>0.835616</td> <td>0        </td> <td>5.12329 </td> <td>2.80822</td> <td>1.0137   </td> <td>-780      </td> <td>900 </td> <td>30  </td> <td>9.99528 </td> <td>0.528736</td> <td>0.276245</td> <td>0          </td> <td>675.74 </td> <td>18.9</td> <td>50.41</td> <td>7.1 </td> <td>580.81 </td> <td>24.1</td> <td>1.32948 </td> <td>3.0274 </td> <td>ATL 1984.0</td>\n",
              "        </tr>\n",
              "        <tr>\n",
              "            <td>7466      </td> <td>1984</td> <td>Tree Rollins 1956.0     </td> <td>C   </td> <td>28  </td> <td>ATL </td> <td>77  </td> <td>76  </td> <td>2351</td> <td>14.2</td> <td>0.544</td> <td>0    </td> <td>0.359</td> <td>9.6 </td> <td>19.4</td> <td>14.4</td> <td>3.8 </td> <td>0.7 </td> <td>7   </td> <td>14.2</td> <td>13.1</td> <td>nan  </td> <td>1.8 </td> <td>3.8 </td> <td>5.5 </td> <td>0.113 </td> <td>nan   </td> <td>-1.8</td> <td>4   </td> <td>2.3 </td> <td>2.5 </td> <td>274 </td> <td>529 </td> <td>0.518</td> <td>0   </td> <td>0   </td> <td>nan  </td> <td>274 </td> <td>529 </td> <td>0.518</td> <td>0.518</td> <td>118 </td> <td>190 </td> <td>0.621</td> <td>200 </td> <td>393 </td> <td>593 </td> <td>62  </td> <td>35  </td> <td>277 </td> <td>101 </td> <td>297 </td> <td>666 </td> <td>30.5325</td> <td>8.64935</td> <td>0.805195</td> <td>7.7013 </td> <td>0.454545</td> <td>0        </td> <td>1.53247 </td> <td>1.31169</td> <td>3.5974   </td> <td>-784      </td> <td>784 </td> <td>28  </td> <td>2.45022 </td> <td>0.283284</td> <td>0.252233</td> <td>0          </td> <td>433.561</td> <td>14.2</td> <td>30.25</td> <td>5.5 </td> <td>171.61 </td> <td>13.1</td> <td>1.25898 </td> <td>3.85714</td> <td>ATL 1984.0</td>\n",
              "        </tr>\n",
              "        <tr>\n",
              "            <td>7550      </td> <td>1984</td> <td>Sly Williams 1958.0     </td> <td>SF  </td> <td>26  </td> <td>ATL </td> <td>13  </td> <td>1   </td> <td>258 </td> <td>9.3 </td> <td>0.391</td> <td>0.079</td> <td>0.404</td> <td>8.3 </td> <td>13.9</td> <td>11.1</td> <td>9.1 </td> <td>2.7 </td> <td>0.2 </td> <td>11.8</td> <td>25.5</td> <td>nan  </td> <td>-0.5</td> <td>0.3 </td> <td>-0.1</td> <td>-0.021</td> <td>nan   </td> <td>-4.1</td> <td>-0.7</td> <td>-4.8</td> <td>-0.2</td> <td>34  </td> <td>114 </td> <td>0.298</td> <td>1   </td> <td>9   </td> <td>0.111</td> <td>33  </td> <td>105 </td> <td>0.314</td> <td>0.303</td> <td>36  </td> <td>46  </td> <td>0.783</td> <td>19  </td> <td>31  </td> <td>50  </td> <td>16  </td> <td>14  </td> <td>1   </td> <td>18  </td> <td>33  </td> <td>105 </td> <td>19.8462</td> <td>8.07692</td> <td>1.23077 </td> <td>3.84615</td> <td>1.07692 </td> <td>0.0769231</td> <td>2.76923 </td> <td>1.38462</td> <td>0.0769231</td> <td>-780      </td> <td>676 </td> <td>26  </td> <td>3.28712 </td> <td>0.406977</td> <td>0.193798</td> <td>0.00387597 </td> <td>184.569</td> <td>9.3 </td> <td>0.01 </td> <td>-0.1</td> <td>650.25 </td> <td>25.5</td> <td>0.921053</td> <td>2.53846</td> <td>ATL 1984.0</td>\n",
              "        </tr>\n",
              "        <tr>\n",
              "            <td>7438      </td> <td>1984</td> <td>Billy Paultz 1949.0     </td> <td>C   </td> <td>35  </td> <td>ATL </td> <td>40  </td> <td>4   </td> <td>486 </td> <td>6.6 </td> <td>0.434</td> <td>0    </td> <td>0.375</td> <td>8.1 </td> <td>18.6</td> <td>13.3</td> <td>5   </td> <td>0.8 </td> <td>0.9 </td> <td>17.7</td> <td>11.1</td> <td>nan  </td> <td>-0.3</td> <td>0.5 </td> <td>0.3 </td> <td>0.027 </td> <td>nan   </td> <td>-4.7</td> <td>0.5 </td> <td>-4.2</td> <td>-0.3</td> <td>36  </td> <td>88  </td> <td>0.409</td> <td>0   </td> <td>0   </td> <td>nan  </td> <td>36  </td> <td>88  </td> <td>0.409</td> <td>0.409</td> <td>17  </td> <td>33  </td> <td>0.515</td> <td>35  </td> <td>78  </td> <td>113 </td> <td>18  </td> <td>8   </td> <td>7   </td> <td>22  </td> <td>57  </td> <td>89  </td> <td>12.15  </td> <td>2.225  </td> <td>0.45    </td> <td>2.825  </td> <td>0.2     </td> <td>0        </td> <td>0.425   </td> <td>0.55   </td> <td>0.175    </td> <td>-735      </td> <td>1225</td> <td>35  </td> <td>0.407459</td> <td>0.183128</td> <td>0.23251 </td> <td>0          </td> <td>80.19  </td> <td>6.6 </td> <td>0.09 </td> <td>0.3 </td> <td>123.21 </td> <td>11.1</td> <td>1.01136 </td> <td>1.425  </td> <td>ATL 1984.0</td>\n",
              "        </tr>\n",
              "        <tr>\n",
              "            <td>7894      </td> <td>1985</td> <td>Dominique Wilkins* 1960.</td> <td>SF  </td> <td>25  </td> <td>ATL </td> <td>81  </td> <td>81  </td> <td>3023</td> <td>20.9</td> <td>0.514</td> <td>0.043</td> <td>0.319</td> <td>8.3 </td> <td>11.8</td> <td>10.1</td> <td>11.3</td> <td>2.1 </td> <td>1   </td> <td>9.4 </td> <td>32.5</td> <td>nan  </td> <td>4.1 </td> <td>3.5 </td> <td>7.6 </td> <td>0.121 </td> <td>nan   </td> <td>2   </td> <td>-0.9</td> <td>1.1 </td> <td>2.4 </td> <td>853 </td> <td>1891</td> <td>0.451</td> <td>25  </td> <td>81  </td> <td>0.309</td> <td>828 </td> <td>1810</td> <td>0.457</td> <td>0.458</td> <td>486 </td> <td>603 </td> <td>0.806</td> <td>226 </td> <td>331 </td> <td>557 </td> <td>200 </td> <td>135 </td> <td>54  </td> <td>225 </td> <td>170 </td> <td>2217</td> <td>37.321 </td> <td>27.3704</td> <td>2.46914 </td> <td>6.87654</td> <td>1.66667 </td> <td>0.308642 </td> <td>6       </td> <td>2.77778</td> <td>0.666667 </td> <td>-775      </td> <td>625 </td> <td>25  </td> <td>20.0728 </td> <td>0.733377</td> <td>0.184254</td> <td>0.00826993 </td> <td>780.009</td> <td>20.9</td> <td>57.76</td> <td>7.6 </td> <td>1056.25</td> <td>32.5</td> <td>1.1724  </td> <td>2.09877</td> <td>ATL 1985.0</td>\n",
              "        </tr>\n",
              "        <tr>\n",
              "            <td>7735      </td> <td>1985</td> <td>Cliff Levingston 1961.0 </td> <td>PF  </td> <td>24  </td> <td>ATL </td> <td>74  </td> <td>53  </td> <td>2017</td> <td>14.6</td> <td>0.56 </td> <td>0.004</td> <td>0.402</td> <td>12.7</td> <td>18  </td> <td>15.4</td> <td>7.1 </td> <td>1.7 </td> <td>1.9 </td> <td>17  </td> <td>16  </td> <td>nan  </td> <td>2   </td> <td>2.8 </td> <td>4.7 </td> <td>0.113 </td> <td>nan   </td> <td>0.1 </td> <td>2   </td> <td>2.1 </td> <td>2.1 </td> <td>291 </td> <td>552 </td> <td>0.527</td> <td>0   </td> <td>2   </td> <td>0    </td> <td>291 </td> <td>550 </td> <td>0.529</td> <td>0.527</td> <td>145 </td> <td>222 </td> <td>0.653</td> <td>230 </td> <td>336 </td> <td>566 </td> <td>104 </td> <td>70  </td> <td>69  </td> <td>133 </td> <td>231 </td> <td>727 </td> <td>27.2568</td> <td>9.82432</td> <td>1.40541 </td> <td>7.64865</td> <td>0.945946</td> <td>0        </td> <td>1.95946 </td> <td>1.7973 </td> <td>0.932432 </td> <td>-768      </td> <td>576 </td> <td>24  </td> <td>3.54104 </td> <td>0.360436</td> <td>0.280615</td> <td>0          </td> <td>397.949</td> <td>14.6</td> <td>22.09</td> <td>4.7 </td> <td>256    </td> <td>16  </td> <td>1.31703 </td> <td>3.12162</td> <td>ATL 1985.0</td>\n",
              "        </tr>\n",
              "        <tr>\n",
              "            <td>7907      </td> <td>1985</td> <td>Sly Williams 1958.0     </td> <td>SF  </td> <td>27  </td> <td>ATL </td> <td>34  </td> <td>20  </td> <td>867 </td> <td>12.9</td> <td>0.48 </td> <td>0.039</td> <td>0.324</td> <td>5.8 </td> <td>15.3</td> <td>10.6</td> <td>16.1</td> <td>1.6 </td> <td>0.5 </td> <td>15.2</td> <td>24.3</td> <td>nan  </td> <td>-0.4</td> <td>1   </td> <td>0.5 </td> <td>0.03  </td> <td>nan   </td> <td>-1.8</td> <td>0.1 </td> <td>-1.7</td> <td>0.1 </td> <td>167 </td> <td>380 </td> <td>0.439</td> <td>4   </td> <td>15  </td> <td>0.267</td> <td>163 </td> <td>365 </td> <td>0.447</td> <td>0.445</td> <td>79  </td> <td>123 </td> <td>0.642</td> <td>45  </td> <td>123 </td> <td>168 </td> <td>94  </td> <td>28  </td> <td>8   </td> <td>78  </td> <td>83  </td> <td>417 </td> <td>25.5   </td> <td>12.2647</td> <td>2.76471 </td> <td>4.94118</td> <td>0.823529</td> <td>0.117647 </td> <td>2.32353 </td> <td>2.29412</td> <td>0.235294 </td> <td>-783      </td> <td>729 </td> <td>27  </td> <td>5.89894 </td> <td>0.480969</td> <td>0.193772</td> <td>0.00461361 </td> <td>328.95 </td> <td>12.9</td> <td>0.25 </td> <td>0.5 </td> <td>590.49 </td> <td>24.3</td> <td>1.09737 </td> <td>2.44118</td> <td>ATL 1985.0</td>\n",
              "        </tr>\n",
              "        <tr>\n",
              "            <td>7813      </td> <td>1985</td> <td>Tree Rollins 1956.0     </td> <td>C   </td> <td>29  </td> <td>ATL </td> <td>70  </td> <td>60  </td> <td>1750</td> <td>12.3</td> <td>0.578</td> <td>0    </td> <td>0.274</td> <td>7.2 </td> <td>20.3</td> <td>13.8</td> <td>3.9 </td> <td>1   </td> <td>5.4 </td> <td>17.4</td> <td>10.8</td> <td>nan  </td> <td>1.1 </td> <td>2.7 </td> <td>3.8 </td> <td>0.105 </td> <td>nan   </td> <td>-2.5</td> <td>3.8 </td> <td>1.3 </td> <td>1.5 </td> <td>186 </td> <td>339 </td> <td>0.549</td> <td>0   </td> <td>0   </td> <td>nan  </td> <td>186 </td> <td>339 </td> <td>0.549</td> <td>0.549</td> <td>67  </td> <td>93  </td> <td>0.72 </td> <td>113 </td> <td>329 </td> <td>442 </td> <td>52  </td> <td>35  </td> <td>167 </td> <td>80  </td> <td>213 </td> <td>439 </td> <td>25     </td> <td>6.27143</td> <td>0.742857</td> <td>6.31429</td> <td>0.5     </td> <td>0        </td> <td>0.957143</td> <td>1.14286</td> <td>2.38571  </td> <td>-783      </td> <td>841 </td> <td>29  </td> <td>1.57323 </td> <td>0.250857</td> <td>0.252571</td> <td>0          </td> <td>307.5  </td> <td>12.3</td> <td>14.44</td> <td>3.8 </td> <td>116.64 </td> <td>10.8</td> <td>1.29499 </td> <td>3.04286</td> <td>ATL 1985.0</td>\n",
              "        </tr>\n",
              "        <tr>\n",
              "            <td>7676      </td> <td>1985</td> <td>Scott Hastings 1961.0   </td> <td>PF  </td> <td>24  </td> <td>ATL </td> <td>64  </td> <td>1   </td> <td>825 </td> <td>9.7 </td> <td>0.539</td> <td>0    </td> <td>0.431</td> <td>8   </td> <td>13.1</td> <td>10.6</td> <td>7.3 </td> <td>1.4 </td> <td>1.6 </td> <td>18.3</td> <td>13.7</td> <td>nan  </td> <td>0.4 </td> <td>0.9 </td> <td>1.3 </td> <td>0.075 </td> <td>nan   </td> <td>-2.3</td> <td>1   </td> <td>-1.3</td> <td>0.1 </td> <td>89  </td> <td>188 </td> <td>0.473</td> <td>0   </td> <td>0   </td> <td>nan  </td> <td>89  </td> <td>188 </td> <td>0.473</td> <td>0.473</td> <td>63  </td> <td>81  </td> <td>0.778</td> <td>59  </td> <td>100 </td> <td>159 </td> <td>46  </td> <td>24  </td> <td>23  </td> <td>50  </td> <td>135 </td> <td>241 </td> <td>12.8906</td> <td>3.76562</td> <td>0.71875 </td> <td>2.48438</td> <td>0.375   </td> <td>0        </td> <td>0.984375</td> <td>0.78125</td> <td>0.359375 </td> <td>-768      </td> <td>576 </td> <td>24  </td> <td>1.10002 </td> <td>0.292121</td> <td>0.192727</td> <td>0          </td> <td>125.039</td> <td>9.7 </td> <td>1.69 </td> <td>1.3 </td> <td>187.69 </td> <td>13.7</td> <td>1.28191 </td> <td>2.10938</td> <td>ATL 1985.0</td>\n",
              "        </tr>\n",
              "    </tbody>\n",
              "</table>\n",
              "<p>... (4945 rows omitted)</p>"
            ],
            "text/plain": [
              "<IPython.core.display.HTML object>"
            ]
          },
          "metadata": {
            "tags": []
          }
        }
      ]
    },
    {
      "cell_type": "markdown",
      "metadata": {
        "id": "67p2_VCygkWm"
      },
      "source": [
        "Taking the previous year's stats table and removing the years of players who played for multiple teams in one year, only keeping the \"TOT\" row that averages the year's stats."
      ]
    },
    {
      "cell_type": "code",
      "metadata": {
        "id": "wMUJrune792K"
      },
      "source": [
        "keep_indices = []\r\n",
        "i = 0\r\n",
        "while i < time_filtered_stats.num_rows:\r\n",
        "  keep_indices.append(i)\r\n",
        "  player = time_filtered_stats.column(\"Player\").item(i)\r\n",
        "  if time_filtered_stats.column(\"Tm\").item(i) == \"TOT\":\r\n",
        "    year = time_filtered_stats.column(\"Year\").item(i)\r\n",
        "    while time_filtered_stats.column(\"Player\").item(i+1) == player and time_filtered_stats.column(\"Year\").item(i+1)==year:\r\n",
        "      i+=1\r\n",
        "  i+=1\r\n",
        "\r\n",
        "\r\n",
        "no_below_TOT_stats = time_filtered_stats.take(keep_indices)\r\n",
        "#got rid of years below TOT"
      ],
      "execution_count": 32,
      "outputs": []
    },
    {
      "cell_type": "markdown",
      "metadata": {
        "id": "GFaqSGCtg1EB"
      },
      "source": [
        "Now, we take the \"previous\" table and jump up the year, player name, and team of each player by 1 to show their previous year's stats in the current year, removing the last year of players as well."
      ]
    },
    {
      "cell_type": "code",
      "metadata": {
        "id": "iuURWUPMIni9"
      },
      "source": [
        "no_below_TOT_stats = no_below_TOT_stats.sort(\"Year\").sort(\"Player\")\n",
        "\n",
        "\n",
        "player_col = no_below_TOT_stats.column(\"Player\")\n",
        "team_col = no_below_TOT_stats.column(\"Tm\")\n",
        "year_col = no_below_TOT_stats.column(\"Year\")\n",
        "\n",
        "\n",
        "\n",
        "keeping_indices = make_array(0)\n",
        "for i in range(0,no_below_TOT_stats.num_rows-1):\n",
        "  if player_col.item(i) == player_col.item(i+1): #player played next year\n",
        "    player_col[i] = player_col[i+1]\n",
        "    team_col[i] = team_col[i+1]\n",
        "    year_col[i] = year_col[i+1]\n",
        "    keeping_indices = np.append(keeping_indices,int(i))\n",
        "  \n",
        "keeping_indices = keeping_indices[1:]\n",
        "  \n",
        "shifted_stats = no_below_TOT_stats.with_columns(\"Player\",player_col,\"Team\",team_col,\"Year\",year_col).take(keeping_indices)\n",
        "\n",
        "# shift stats by one year. ex: if year is 1981, its the players stats from 1980\n"
      ],
      "execution_count": 33,
      "outputs": []
    },
    {
      "cell_type": "markdown",
      "metadata": {
        "id": "JLL6xAlRhJG7"
      },
      "source": [
        "Appending our own new stat called the Synergy score that is a root function of how many years a player has played on a team."
      ]
    },
    {
      "cell_type": "code",
      "metadata": {
        "id": "atr_O3PElOj-"
      },
      "source": [
        "synergy_scores = make_array(1)\r\n",
        "count = 0\r\n",
        "for i in range(1,shifted_stats.num_rows):\r\n",
        "  if shifted_stats.column(\"Player\").item(i) == shifted_stats.column(\"Player\").item(i-1) and shifted_stats.column(\"Tm\").item(i) == shifted_stats.column(\"Tm\").item(i-1):\r\n",
        "    count+=1\r\n",
        "  else:\r\n",
        "    count = 0\r\n",
        "  synergy_scores = np.append(synergy_scores,count)\r\n",
        "synergy_shifted_stats = shifted_stats.with_columns(\"Synergy\",np.sqrt(synergy_scores))\r\n",
        "\r\n",
        "#symergy scores: how long a player has played on his current team"
      ],
      "execution_count": 34,
      "outputs": []
    },
    {
      "cell_type": "markdown",
      "metadata": {
        "id": "RZ0YzkQbhfFG"
      },
      "source": [
        "Lastly, we are joining the guards and forwards tables with the \"previous\" stats table to yield 2 tables detailing the previous year's stats of each player in the current year organized into teams."
      ]
    },
    {
      "cell_type": "code",
      "metadata": {
        "id": "YyJF2n2rrgxL",
        "colab": {
          "base_uri": "https://localhost:8080/",
          "height": 951
        },
        "outputId": "aeca6406-6bbe-4a5e-bc6f-90b96c916116"
      },
      "source": [
        "\n",
        "\n",
        "player_year_stats = synergy_shifted_stats.with_column(\"Player/Year\", synergy_shifted_stats.apply(lambda x,y: x+\" \"+str(y),\"Player\",\"Year\"))\n",
        "player_year_guards = only_three_guards.with_column(\"Player/Year\", only_three_guards.apply(lambda x,y: x+\" \"+str(y),\"Player\",\"Year\"))\n",
        "player_year_forwards = only_five_forwards.with_column(\"Player/Year\", only_five_forwards.apply(lambda x,y: x+\" \"+str(y),\"Player\",\"Year\"))\n",
        "\n",
        "final_guards=player_year_guards.select(\"Player/Year\",\"Tm\",\"Pos\",\"Year\")\n",
        "final_forwards=player_year_forwards.select(\"Player/Year\",\"Tm\",\"Pos\",\"Year\")\n",
        "\n",
        "\n",
        "joined_final_guards = player_year_stats.join(\"Player/Year\", final_guards).sort(\"Year\").sort(\"Tm_2\")\n",
        "joined_final_forwards = player_year_stats.join(\"Player/Year\", final_forwards).sort(\"Year\").sort(\"Tm_2\")\n",
        "player_year_stats.sort(\"Year\").where(\"Tm\",\"ATL\").where(\"Year\",2003).show(200)\n",
        "\n",
        "#add player/year column to stats, guards and forwards\n",
        "#join stats with guards and stats with forwards"
      ],
      "execution_count": 35,
      "outputs": [
        {
          "output_type": "display_data",
          "data": {
            "text/html": [
              "<table border=\"1\" class=\"dataframe\">\n",
              "    <thead>\n",
              "        <tr>\n",
              "            <th>Unnamed: 0</th> <th>Year</th> <th>Player</th> <th>Pos</th> <th>Age</th> <th>Tm</th> <th>G</th> <th>GS</th> <th>MP</th> <th>PER</th> <th>TS%</th> <th>3PAr</th> <th>FTr</th> <th>ORB%</th> <th>DRB%</th> <th>TRB%</th> <th>AST%</th> <th>STL%</th> <th>BLK%</th> <th>TOV%</th> <th>USG%</th> <th>blanl</th> <th>OWS</th> <th>DWS</th> <th>WS</th> <th>WS/48</th> <th>blank2</th> <th>OBPM</th> <th>DBPM</th> <th>BPM</th> <th>VORP</th> <th>FG</th> <th>FGA</th> <th>FG%</th> <th>3P</th> <th>3PA</th> <th>3P%</th> <th>2P</th> <th>2PA</th> <th>2P%</th> <th>eFG%</th> <th>FT</th> <th>FTA</th> <th>FT%</th> <th>ORB</th> <th>DRB</th> <th>TRB</th> <th>AST</th> <th>STL</th> <th>BLK</th> <th>TOV</th> <th>PF</th> <th>PTS</th> <th>MPG</th> <th>PPG</th> <th>APG</th> <th>RPG</th> <th>SPG</th> <th>3PG</th> <th>FPG</th> <th>TPG</th> <th>BPG</th> <th>AGE_rating</th> <th>AGE2</th> <th>AGE1</th> <th>PPM2</th> <th>PPM1</th> <th>RPM</th> <th>3PM</th> <th>PER/M</th> <th>PER1</th> <th>WS2</th> <th>WS1</th> <th>USG2</th> <th>USG1</th> <th>PTS/FGA</th> <th>PFPG</th> <th>Team</th> <th>Synergy</th> <th>Player/Year</th>\n",
              "        </tr>\n",
              "    </thead>\n",
              "    <tbody>\n",
              "        <tr>\n",
              "            <td>15705     </td> <td>2003</td> <td>Alan Henderson 1973.0   </td> <td>PF  </td> <td>29  </td> <td>ATL </td> <td>26  </td> <td>1   </td> <td>422 </td> <td>13.4</td> <td>0.527</td> <td>0.009</td> <td>0.388</td> <td>8.4 </td> <td>17.9</td> <td>13.1</td> <td>4.4 </td> <td>1.4 </td> <td>2.6 </td> <td>13.4</td> <td>16.8</td> <td>nan  </td> <td>0.3 </td> <td>0.4 </td> <td>0.7 </td> <td>0.074 </td> <td>nan   </td> <td>-3  </td> <td>-0.3</td> <td>-3.3</td> <td>-0.1</td> <td>59  </td> <td>116 </td> <td>0.509</td> <td>1   </td> <td>1   </td> <td>1    </td> <td>58  </td> <td>115 </td> <td>0.504</td> <td>0.513</td> <td>24  </td> <td>45  </td> <td>0.533</td> <td>31  </td> <td>66  </td> <td>97  </td> <td>11  </td> <td>11  </td> <td>15  </td> <td>21  </td> <td>40  </td> <td>143 </td> <td>16.2308</td> <td>5.5    </td> <td>0.423077</td> <td>3.73077</td> <td>0.423077</td> <td>0.0384615</td> <td>0.923077</td> <td>0.807692</td> <td>0.576923 </td> <td>-783      </td> <td>841 </td> <td>29  </td> <td>1.86374 </td> <td>0.338863</td> <td>0.229858 </td> <td>0.00236967 </td> <td>217.492</td> <td>13.4</td> <td>0.49 </td> <td>0.7 </td> <td>282.24</td> <td>16.8</td> <td>1.23276 </td> <td>1.53846 </td> <td>ATL </td> <td>2.44949</td> <td>Alan Henderson 1973.0 2003.0   </td>\n",
              "        </tr>\n",
              "        <tr>\n",
              "            <td>13163     </td> <td>2003</td> <td>Amal McCaskill 1974.0   </td> <td>C   </td> <td>23  </td> <td>ATL </td> <td>17  </td> <td>1   </td> <td>109 </td> <td>6.1 </td> <td>0.376</td> <td>0.063</td> <td>0.375</td> <td>4.2 </td> <td>19.9</td> <td>11.8</td> <td>10.3</td> <td>1.5 </td> <td>3.6 </td> <td>22.8</td> <td>20.4</td> <td>nan  </td> <td>-0.3</td> <td>0.2 </td> <td>-0.2</td> <td>-0.086</td> <td>nan   </td> <td>-9.6</td> <td>1.1 </td> <td>-8.5</td> <td>-0.2</td> <td>10  </td> <td>32  </td> <td>0.313</td> <td>0   </td> <td>2   </td> <td>0    </td> <td>10  </td> <td>30  </td> <td>0.333</td> <td>0.313</td> <td>8   </td> <td>12  </td> <td>0.667</td> <td>4   </td> <td>18  </td> <td>22  </td> <td>7   </td> <td>3   </td> <td>5   </td> <td>11  </td> <td>7   </td> <td>28  </td> <td>6.41176</td> <td>1.64706</td> <td>0.411765</td> <td>1.29412</td> <td>0.176471</td> <td>0        </td> <td>0.470588</td> <td>0.647059</td> <td>0.294118 </td> <td>-759      </td> <td>529 </td> <td>23  </td> <td>0.423098</td> <td>0.256881</td> <td>0.201835 </td> <td>0          </td> <td>39.1118</td> <td>6.1 </td> <td>0.04 </td> <td>-0.2</td> <td>416.16</td> <td>20.4</td> <td>0.875   </td> <td>0.411765</td> <td>ATL </td> <td>0      </td> <td>Amal McCaskill 1974.0 2003.0   </td>\n",
              "        </tr>\n",
              "        <tr>\n",
              "            <td>15685     </td> <td>2003</td> <td>Darvin Ham 1974.0       </td> <td>SF  </td> <td>28  </td> <td>ATL </td> <td>70  </td> <td>2   </td> <td>1208</td> <td>9.7 </td> <td>0.571</td> <td>0.033</td> <td>0.583</td> <td>9.1 </td> <td>10.1</td> <td>9.7 </td> <td>9.1 </td> <td>1.1 </td> <td>2.2 </td> <td>23.8</td> <td>13.5</td> <td>nan  </td> <td>0.7 </td> <td>0.6 </td> <td>1.2 </td> <td>0.05  </td> <td>nan   </td> <td>-2.1</td> <td>0   </td> <td>-2.1</td> <td>0   </td> <td>120 </td> <td>211 </td> <td>0.569</td> <td>1   </td> <td>7   </td> <td>0.143</td> <td>119 </td> <td>204 </td> <td>0.583</td> <td>0.571</td> <td>62  </td> <td>123 </td> <td>0.504</td> <td>91  </td> <td>111 </td> <td>202 </td> <td>73  </td> <td>25  </td> <td>37  </td> <td>83  </td> <td>175 </td> <td>303 </td> <td>17.2571</td> <td>4.32857</td> <td>1.04286 </td> <td>2.88571</td> <td>0.357143</td> <td>0.0142857</td> <td>0.885714</td> <td>1.18571 </td> <td>0.528571 </td> <td>-784      </td> <td>784 </td> <td>28  </td> <td>1.08573 </td> <td>0.250828</td> <td>0.167219 </td> <td>0.000827815</td> <td>167.394</td> <td>9.7 </td> <td>1.44 </td> <td>1.2 </td> <td>182.25</td> <td>13.5</td> <td>1.43602 </td> <td>2.5     </td> <td>ATL </td> <td>0      </td> <td>Darvin Ham 1974.0 2003.0       </td>\n",
              "        </tr>\n",
              "        <tr>\n",
              "            <td>15677     </td> <td>2003</td> <td>Dion Glover 1979.0      </td> <td>SG  </td> <td>23  </td> <td>ATL </td> <td>55  </td> <td>25  </td> <td>1156</td> <td>13.1</td> <td>0.491</td> <td>0.2  </td> <td>0.226</td> <td>3.5 </td> <td>13.2</td> <td>8.3 </td> <td>12.8</td> <td>2   </td> <td>0.9 </td> <td>13.2</td> <td>22.6</td> <td>nan  </td> <td>0   </td> <td>0.9 </td> <td>0.9 </td> <td>0.037 </td> <td>nan   </td> <td>-1.8</td> <td>-1  </td> <td>-2.8</td> <td>-0.2</td> <td>192 </td> <td>456 </td> <td>0.421</td> <td>30  </td> <td>91  </td> <td>0.33 </td> <td>162 </td> <td>365 </td> <td>0.444</td> <td>0.454</td> <td>78  </td> <td>103 </td> <td>0.757</td> <td>36  </td> <td>133 </td> <td>169 </td> <td>84  </td> <td>45  </td> <td>14  </td> <td>76  </td> <td>89  </td> <td>492 </td> <td>21.0182</td> <td>8.94545</td> <td>1.52727 </td> <td>3.07273</td> <td>0.818182</td> <td>0.545455 </td> <td>1.41818 </td> <td>1.38182 </td> <td>0.254545 </td> <td>-759      </td> <td>529 </td> <td>23  </td> <td>3.80723 </td> <td>0.425606</td> <td>0.146194 </td> <td>0.0259516  </td> <td>275.338</td> <td>13.1</td> <td>0.81 </td> <td>0.9 </td> <td>510.76</td> <td>22.6</td> <td>1.07895 </td> <td>1.61818 </td> <td>ATL </td> <td>1.41421</td> <td>Dion Glover 1979.0 2003.0      </td>\n",
              "        </tr>\n",
              "        <tr>\n",
              "            <td>15624     </td> <td>2003</td> <td>Emanual Davis 1969.0    </td> <td>PG  </td> <td>33  </td> <td>ATL </td> <td>28  </td> <td>20  </td> <td>774 </td> <td>6.5 </td> <td>0.449</td> <td>0.429</td> <td>0.091</td> <td>2.8 </td> <td>8.2 </td> <td>5.5 </td> <td>13.7</td> <td>1.8 </td> <td>0.5 </td> <td>20.2</td> <td>15.1</td> <td>nan  </td> <td>-0.7</td> <td>0.4 </td> <td>-0.3</td> <td>-0.019</td> <td>nan   </td> <td>-2.8</td> <td>-0.5</td> <td>-3.3</td> <td>-0.2</td> <td>70  </td> <td>198 </td> <td>0.354</td> <td>29  </td> <td>85  </td> <td>0.341</td> <td>41  </td> <td>113 </td> <td>0.363</td> <td>0.427</td> <td>16  </td> <td>18  </td> <td>0.889</td> <td>19  </td> <td>55  </td> <td>74  </td> <td>68  </td> <td>27  </td> <td>5   </td> <td>52  </td> <td>68  </td> <td>185 </td> <td>27.6429</td> <td>6.60714</td> <td>2.42857 </td> <td>2.64286</td> <td>0.964286</td> <td>1.03571  </td> <td>0.571429</td> <td>1.85714 </td> <td>0.178571 </td> <td>-759      </td> <td>1089</td> <td>33  </td> <td>1.57923 </td> <td>0.239018</td> <td>0.0956072</td> <td>0.0374677  </td> <td>179.679</td> <td>6.5 </td> <td>0.09 </td> <td>-0.3</td> <td>228.01</td> <td>15.1</td> <td>0.934343</td> <td>2.42857 </td> <td>ATL </td> <td>1      </td> <td>Emanual Davis 1969.0 2003.0    </td>\n",
              "        </tr>\n",
              "        <tr>\n",
              "            <td>15901     </td> <td>2003</td> <td>Glenn Robinson 1973.0   </td> <td>SF  </td> <td>29  </td> <td>ATL </td> <td>66  </td> <td>63  </td> <td>2346</td> <td>19.1</td> <td>0.537</td> <td>0.155</td> <td>0.246</td> <td>3.6 </td> <td>15.8</td> <td>10  </td> <td>13.4</td> <td>2.2 </td> <td>1.3 </td> <td>12  </td> <td>28.8</td> <td>nan  </td> <td>2.6 </td> <td>2.1 </td> <td>4.7 </td> <td>0.096 </td> <td>nan   </td> <td>0.6 </td> <td>-1  </td> <td>-0.4</td> <td>1   </td> <td>536 </td> <td>1147</td> <td>0.467</td> <td>58  </td> <td>178 </td> <td>0.326</td> <td>478 </td> <td>969 </td> <td>0.493</td> <td>0.493</td> <td>236 </td> <td>282 </td> <td>0.837</td> <td>70  </td> <td>336 </td> <td>406 </td> <td>168 </td> <td>97  </td> <td>41  </td> <td>174 </td> <td>173 </td> <td>1366</td> <td>35.5455</td> <td>20.697 </td> <td>2.54545 </td> <td>6.15152</td> <td>1.4697  </td> <td>0.878788 </td> <td>3.57576 </td> <td>2.63636 </td> <td>0.621212 </td> <td>-783      </td> <td>841 </td> <td>29  </td> <td>12.0512 </td> <td>0.582268</td> <td>0.173061 </td> <td>0.0247229  </td> <td>678.918</td> <td>19.1</td> <td>22.09</td> <td>4.7 </td> <td>829.44</td> <td>28.8</td> <td>1.19093 </td> <td>2.62121 </td> <td>ATL </td> <td>0      </td> <td>Glenn Robinson 1973.0 2003.0   </td>\n",
              "        </tr>\n",
              "        <tr>\n",
              "            <td>15836     </td> <td>2003</td> <td>Ira Newble 1975.0       </td> <td>SF  </td> <td>27  </td> <td>ATL </td> <td>42  </td> <td>35  </td> <td>1273</td> <td>11.5</td> <td>0.56 </td> <td>0.027</td> <td>0.335</td> <td>7.1 </td> <td>12.8</td> <td>10  </td> <td>5.6 </td> <td>1.6 </td> <td>1.2 </td> <td>14  </td> <td>12.5</td> <td>nan  </td> <td>1.5 </td> <td>0.9 </td> <td>2.3 </td> <td>0.089 </td> <td>nan   </td> <td>-1.1</td> <td>0.8 </td> <td>-0.3</td> <td>0.6 </td> <td>131 </td> <td>263 </td> <td>0.498</td> <td>1   </td> <td>7   </td> <td>0.143</td> <td>130 </td> <td>256 </td> <td>0.508</td> <td>0.5  </td> <td>75  </td> <td>88  </td> <td>0.852</td> <td>80  </td> <td>142 </td> <td>222 </td> <td>45  </td> <td>38  </td> <td>20  </td> <td>49  </td> <td>117 </td> <td>338 </td> <td>30.3095</td> <td>8.04762</td> <td>1.07143 </td> <td>5.28571</td> <td>0.904762</td> <td>0.0238095</td> <td>1.78571 </td> <td>1.16667 </td> <td>0.47619  </td> <td>-783      </td> <td>729 </td> <td>27  </td> <td>2.13676 </td> <td>0.265515</td> <td>0.174391 </td> <td>0.000785546</td> <td>348.56 </td> <td>11.5</td> <td>5.29 </td> <td>2.3 </td> <td>156.25</td> <td>12.5</td> <td>1.28517 </td> <td>2.78571 </td> <td>ATL </td> <td>1      </td> <td>Ira Newble 1975.0 2003.0       </td>\n",
              "        </tr>\n",
              "        <tr>\n",
              "            <td>15954     </td> <td>2003</td> <td>Jason Terry 1978.0      </td> <td>SG  </td> <td>24  </td> <td>ATL </td> <td>78  </td> <td>78  </td> <td>2967</td> <td>19.2</td> <td>0.549</td> <td>0.364</td> <td>0.279</td> <td>1.5 </td> <td>8.9 </td> <td>5.2 </td> <td>26.9</td> <td>2.5 </td> <td>0.3 </td> <td>11.7</td> <td>23.6</td> <td>nan  </td> <td>6.6 </td> <td>2.1 </td> <td>8.6 </td> <td>0.139 </td> <td>nan   </td> <td>4.5 </td> <td>-1.2</td> <td>3.2 </td> <td>3.9 </td> <td>524 </td> <td>1219</td> <td>0.43 </td> <td>172 </td> <td>444 </td> <td>0.387</td> <td>352 </td> <td>775 </td> <td>0.454</td> <td>0.5  </td> <td>284 </td> <td>340 </td> <td>0.835</td> <td>40  </td> <td>230 </td> <td>270 </td> <td>444 </td> <td>144 </td> <td>13  </td> <td>181 </td> <td>156 </td> <td>1504</td> <td>38.0385</td> <td>19.2821</td> <td>5.69231 </td> <td>3.46154</td> <td>1.84615 </td> <td>2.20513  </td> <td>3.64103 </td> <td>2.32051 </td> <td>0.166667 </td> <td>-768      </td> <td>576 </td> <td>24  </td> <td>9.77425 </td> <td>0.506909</td> <td>0.091001 </td> <td>0.057971   </td> <td>730.338</td> <td>19.2</td> <td>73.96</td> <td>8.6 </td> <td>556.96</td> <td>23.6</td> <td>1.2338  </td> <td>2       </td> <td>ATL </td> <td>1.41421</td> <td>Jason Terry 1978.0 2003.0      </td>\n",
              "        </tr>\n",
              "        <tr>\n",
              "            <td>15253     </td> <td>2003</td> <td>Matt Maloney 1972.0     </td> <td>PG  </td> <td>29  </td> <td>ATL </td> <td>55  </td> <td>27  </td> <td>1403</td> <td>10.4</td> <td>0.508</td> <td>0.408</td> <td>0.098</td> <td>1.1 </td> <td>8.2 </td> <td>4.6 </td> <td>17.6</td> <td>2.1 </td> <td>0.3 </td> <td>16.2</td> <td>13.8</td> <td>nan  </td> <td>0.7 </td> <td>0.8 </td> <td>1.5 </td> <td>0.053 </td> <td>nan   </td> <td>-0.7</td> <td>-0.5</td> <td>-1.2</td> <td>0.3 </td> <td>146 </td> <td>348 </td> <td>0.42 </td> <td>51  </td> <td>142 </td> <td>0.359</td> <td>95  </td> <td>206 </td> <td>0.461</td> <td>0.493</td> <td>26  </td> <td>34  </td> <td>0.765</td> <td>14  </td> <td>103 </td> <td>117 </td> <td>154 </td> <td>56  </td> <td>5   </td> <td>70  </td> <td>94  </td> <td>369 </td> <td>25.5091</td> <td>6.70909</td> <td>2.8     </td> <td>2.12727</td> <td>1.01818 </td> <td>0.927273 </td> <td>0.472727</td> <td>1.27273 </td> <td>0.0909091</td> <td>-783      </td> <td>841 </td> <td>29  </td> <td>1.76454 </td> <td>0.263008</td> <td>0.0833927</td> <td>0.0363507  </td> <td>265.295</td> <td>10.4</td> <td>2.25 </td> <td>1.5 </td> <td>190.44</td> <td>13.8</td> <td>1.06034 </td> <td>1.70909 </td> <td>ATL </td> <td>1      </td> <td>Matt Maloney 1972.0 2003.0     </td>\n",
              "        </tr>\n",
              "        <tr>\n",
              "            <td>15819     </td> <td>2003</td> <td>Nazr Mohammed 1978.0    </td> <td>C   </td> <td>24  </td> <td>ATL </td> <td>82  </td> <td>73  </td> <td>2168</td> <td>14  </td> <td>0.49 </td> <td>0.001</td> <td>0.311</td> <td>12.7</td> <td>21.6</td> <td>17.1</td> <td>2.6 </td> <td>1.5 </td> <td>2.1 </td> <td>12.7</td> <td>19.4</td> <td>nan  </td> <td>0.9 </td> <td>2.4 </td> <td>3.3 </td> <td>0.072 </td> <td>nan   </td> <td>-3  </td> <td>-1  </td> <td>-4.1</td> <td>-1.1</td> <td>329 </td> <td>713 </td> <td>0.461</td> <td>0   </td> <td>1   </td> <td>0    </td> <td>329 </td> <td>712 </td> <td>0.462</td> <td>0.461</td> <td>137 </td> <td>222 </td> <td>0.617</td> <td>242 </td> <td>409 </td> <td>651 </td> <td>33  </td> <td>63  </td> <td>61  </td> <td>118 </td> <td>252 </td> <td>795 </td> <td>26.439 </td> <td>9.69512</td> <td>0.402439</td> <td>7.93902</td> <td>0.768293</td> <td>0        </td> <td>1.67073 </td> <td>1.43902 </td> <td>0.743902 </td> <td>-768      </td> <td>576 </td> <td>24  </td> <td>3.55518 </td> <td>0.366697</td> <td>0.300277 </td> <td>0          </td> <td>370.146</td> <td>14  </td> <td>10.89</td> <td>3.3 </td> <td>376.36</td> <td>19.4</td> <td>1.11501 </td> <td>3.07317 </td> <td>ATL </td> <td>1      </td> <td>Nazr Mohammed 1978.0 2003.0    </td>\n",
              "        </tr>\n",
              "        <tr>\n",
              "            <td>15508     </td> <td>2003</td> <td>Shareef Abdur-Rahim 1977</td> <td>PF  </td> <td>25  </td> <td>ATL </td> <td>77  </td> <td>77  </td> <td>2980</td> <td>19.8</td> <td>0.536</td> <td>0.054</td> <td>0.403</td> <td>7.6 </td> <td>19.2</td> <td>13.3</td> <td>15.1</td> <td>1.7 </td> <td>2   </td> <td>14.1</td> <td>27  </td> <td>nan  </td> <td>4.1 </td> <td>3.1 </td> <td>7.2 </td> <td>0.116 </td> <td>nan   </td> <td>1.2 </td> <td>0.8 </td> <td>2   </td> <td>3   </td> <td>598 </td> <td>1297</td> <td>0.461</td> <td>21  </td> <td>70  </td> <td>0.3  </td> <td>577 </td> <td>1227</td> <td>0.47 </td> <td>0.469</td> <td>419 </td> <td>523 </td> <td>0.801</td> <td>198 </td> <td>498 </td> <td>696 </td> <td>239 </td> <td>98  </td> <td>81  </td> <td>250 </td> <td>214 </td> <td>1636</td> <td>38.7013</td> <td>21.2468</td> <td>3.1039  </td> <td>9.03896</td> <td>1.27273 </td> <td>0.272727 </td> <td>5.44156 </td> <td>3.24675 </td> <td>1.05195  </td> <td>-775      </td> <td>625 </td> <td>25  </td> <td>11.6643 </td> <td>0.548993</td> <td>0.233557 </td> <td>0.00704698 </td> <td>766.286</td> <td>19.8</td> <td>51.84</td> <td>7.2 </td> <td>729   </td> <td>27  </td> <td>1.26137 </td> <td>2.77922 </td> <td>ATL </td> <td>1      </td> <td>Shareef Abdur-Rahim 1977 2003.0</td>\n",
              "        </tr>\n",
              "        <tr>\n",
              "            <td>15378     </td> <td>2003</td> <td>Theo Ratliff 1974.0     </td> <td>C   </td> <td>27  </td> <td>ATL </td> <td>50  </td> <td>50  </td> <td>1800</td> <td>16.3</td> <td>0.562</td> <td>0    </td> <td>0.475</td> <td>8   </td> <td>17.7</td> <td>13  </td> <td>5.3 </td> <td>0.9 </td> <td>7.6 </td> <td>18.6</td> <td>17  </td> <td>nan  </td> <td>1.7 </td> <td>3.5 </td> <td>5.2 </td> <td>0.138 </td> <td>nan   </td> <td>-1.6</td> <td>4.9 </td> <td>3.3 </td> <td>2.4 </td> <td>228 </td> <td>457 </td> <td>0.499</td> <td>0   </td> <td>0   </td> <td>nan  </td> <td>228 </td> <td>457 </td> <td>0.499</td> <td>0.499</td> <td>165 </td> <td>217 </td> <td>0.76 </td> <td>125 </td> <td>288 </td> <td>413 </td> <td>58  </td> <td>30  </td> <td>187 </td> <td>126 </td> <td>165 </td> <td>621 </td> <td>36     </td> <td>12.42  </td> <td>1.16    </td> <td>8.26   </td> <td>0.6     </td> <td>0        </td> <td>3.3     </td> <td>2.52    </td> <td>3.74     </td> <td>-783      </td> <td>729 </td> <td>27  </td> <td>4.2849  </td> <td>0.345   </td> <td>0.229444 </td> <td>0          </td> <td>586.8  </td> <td>16.3</td> <td>27.04</td> <td>5.2 </td> <td>289   </td> <td>17  </td> <td>1.35886 </td> <td>3.3     </td> <td>ATL </td> <td>0      </td> <td>Theo Ratliff 1974.0 2003.0     </td>\n",
              "        </tr>\n",
              "    </tbody>\n",
              "</table>"
            ],
            "text/plain": [
              "<IPython.core.display.HTML object>"
            ]
          },
          "metadata": {
            "tags": []
          }
        }
      ]
    },
    {
      "cell_type": "markdown",
      "metadata": {
        "id": "9TW-8Hnoh6Vo"
      },
      "source": [
        "Adjusting the team names and seasons of the records table to make them shorter or resolve inconsistencies**"
      ]
    },
    {
      "cell_type": "code",
      "metadata": {
        "id": "BzxdSIVuxXgE"
      },
      "source": [
        "def team_name(word):\r\n",
        "  if word == \"New Orleans/Oklahoma City Hornets\":\r\n",
        "    return \"New Orleans Hornets\"\r\n",
        "  return word\r\n",
        "def shorten_season(word):\r\n",
        "  if word[:4]==\"1999\":\r\n",
        "    return \"2000\"\r\n",
        "  return word[:2] + word[-2:]\r\n",
        "short_records = records.with_columns(\"Season\",records.apply(shorten_season,\"Season\"),\"Team\",records.apply(team_name,\"Team\"))\r\n",
        "sorted_records = short_records.sort(\"Team\").sort(\"Season\").select(\"Season\",\"Team\",\"W/L%\")\r\n",
        "year_sorted_records = sorted_records.with_columns(\"Season\",sorted_records.apply(int,\"Season\")).where(\"Season\",are.between(1981,2018))\r\n"
      ],
      "execution_count": 36,
      "outputs": []
    },
    {
      "cell_type": "markdown",
      "metadata": {
        "id": "dDLHSPeLifKg"
      },
      "source": [
        "Removing from the \"current\" table the \"TOT\" rows since they don't correspond to any team."
      ]
    },
    {
      "cell_type": "code",
      "metadata": {
        "id": "OxQZnEli9B3A"
      },
      "source": [
        "no_TOT_final_guards = joined_final_guards.where(\"Tm_2\",are.not_equal_to(\"TOT\"))\r\n",
        "no_TOT_final_forwards = joined_final_forwards.where(\"Tm_2\",are.not_equal_to(\"TOT\"))"
      ],
      "execution_count": 37,
      "outputs": []
    },
    {
      "cell_type": "markdown",
      "metadata": {
        "id": "4Re7LrwKJxUv"
      },
      "source": [
        "#Part 2: Least Squares"
      ]
    },
    {
      "cell_type": "markdown",
      "metadata": {
        "id": "M739QLHV9DCk"
      },
      "source": [
        "**Choosing the parameters to train upon:**\r\n",
        "\r\n",
        "As we are using a linear regression approach, we decided to use metrics that aren't additive values of importance like points per game, assists per game, etc. We decided to use more % and efficiency stats to possibly find insights regarding the importance of efficiency in a team's success. \r\n",
        "\r\n",
        "Thus, we chose mostly advanced % stats including **total rebound %, assist %, steal and block %, free throw rate, and turnover %** that give an overview of a player in relation to their team. We also made use of directly correlated \"winning\" stats like the **universally used PER, win shares per 48 min, box plus or minus**. We also decided to incorporate **usage rate** as a metric of holding in check a player's importance to a team's system, in the case of high usage players possibly having poorer efficiency. Finally, to include stats that don't depend on purely a player's performance in the previous year, we included the **synergy score** rating, giving a square root indication of a player's years on a team. A player with a higher synergy score should be expected to have better chemistry with his teammates to obtain more wins.\r\n",
        "\r\n"
      ]
    },
    {
      "cell_type": "code",
      "metadata": {
        "id": "LSaoiA_WqDZ6"
      },
      "source": [
        "categories = [\"Player\",\"Year\",\"Tm_2\",\"PER\",\"TS%\",\"TRB%\",\"AST%\",\"STL%\",\"BLK%\",\"TOV%\",\"USG%\",\"WS/48\",\"BPM\",\"FTr\",\"Synergy\"]\n",
        "year_to_predict = [2017]\n",
        "\n",
        "\n",
        "# categories = [\"Player\",\"Year\",\"Tm_2\",\"AGE_rating\",\"PER1\",\"USG1\",\"Synergy\"]\n",
        "no_TOT_final_guards = no_TOT_final_guards.select(categories)\n",
        "no_TOT_final_forwards = no_TOT_final_forwards.select(categories)\n",
        "\n",
        "\n",
        "team_abbreviations = {\n",
        "\"ATL\":\t\"Atlanta Hawks\",\n",
        "\"BKN\":\t\"Brooklyn Nets\",\n",
        "\"BRK\": \"Brooklyn Nets\",\n",
        "\"BOS\":\t\"Boston Celtics\",\n",
        "\"CHA\":\t\"Charlotte Bobcats\",\n",
        "\"CHH\": \"Charlotte Hornets\",\n",
        "\"CHO\": \"Charlotte Hornets\",\n",
        "\"CHI\":\t\"Chicago Bulls\",\n",
        "\"CLE\":\t\"Cleveland Cavaliers\",\n",
        "\"DAL\":\t\"Dallas Mavericks\",\n",
        "\"DEN\":\t\"Denver Nuggets\",\n",
        "\"DET\":\t\"Detroit Pistons\",\n",
        "\"GSW\":\t\"Golden State Warriors\",\n",
        "\"HOU\":\t\"Houston Rockets\",\n",
        "\"IND\":\t\"Indiana Pacers\",\n",
        "\"KCK\": \"Kansas City Kings\",\n",
        "\"LAC\":\t\"Los Angeles Clippers\",\n",
        "\"LAL\":\t\"Los Angeles Lakers\",\n",
        "\"MEM\":\t\"Memphis Grizzlies\",\n",
        "\"MIA\":\t\"Miami Heat\",\n",
        "\"MIL\":\t\"Milwaukee Bucks\",\n",
        "\"MIN\":\t\"Minnesota Timberwolves\",\n",
        "\"NOP\":\t\"New Orleans Pelicans\",\n",
        "\"NOK\": \"New Orleans Hornets\",\n",
        "\"NOH\": \"New Orleans Hornets\",\n",
        "\"NYK\":\t\"New York Knicks\",\n",
        "\"NJN\": \"New Jersey Nets\",\n",
        "\"OKC\":\t\"Oklahoma City Thunder\",\n",
        "\"ORL\":\t\"Orlando Magic\",\n",
        "\"PHI\":\t\"Philadelphia 76ers\",\n",
        "\"PHO\": \"Phoenix Suns\",\n",
        "\"PHX\":\t\"Phoenix Suns\",\n",
        "\"POR\":\t\"Portland Trail Blazers\",\n",
        "\"SAC\":\t\"Sacramento Kings\",\n",
        "\"SDC\": \"San Diego Clippers\",\n",
        "\"SAS\":\t\"San Antonio Spurs\",\n",
        "\"SEA\": \"Seattle SuperSonics\",\n",
        "\"TOR\":\t\"Toronto Raptors\",\n",
        "\"UTA\":\t\"Utah Jazz\",\n",
        "\"VAN\": \"Vancouver Grizzlies\",\n",
        "\"WAS\":\t\"Washington Wizards\",\n",
        "\"WSB\": \"Washington Bullets\"\n",
        "}\n",
        "\n",
        "abbreviated_final_guards = no_TOT_final_guards.with_column(\"Tm_2\",no_TOT_final_guards.apply(lambda name: team_name(team_abbreviations[name]),'Tm_2'))\n",
        "\n",
        "abbreviated_final_forwards = no_TOT_final_forwards.with_column(\"Tm_2\",no_TOT_final_forwards.apply(lambda name: team_name(team_abbreviations[name]),'Tm_2'))\n",
        "\n",
        "#Convert abbreviations to shortened team names\n",
        "\n",
        "keeper_indices = make_array()\n",
        "\n",
        "with_indices = abbreviated_final_forwards.with_columns(\"indices\",np.arange(abbreviated_final_forwards.num_rows))\n",
        "\n",
        "\n",
        "test_indices = with_indices.where(\"Year\",are.contained_in(year_to_predict)).column(\"indices\")\n",
        "A = make_array()\n",
        "B = make_array()\n",
        "test_set = make_array()\n",
        "test_set_actual_winrates = make_array()\n",
        "test_set_seasons = make_array()\n",
        "test_set_teams = make_array()\n",
        "random_indices = test_indices[0::5]//5\n",
        "\n",
        "\n",
        "\n"
      ],
      "execution_count": 38,
      "outputs": []
    },
    {
      "cell_type": "markdown",
      "metadata": {
        "id": "fRceYhhejFSJ"
      },
      "source": [
        "Here, we are assembling the $A$ and $b$ matrices to which we will yield our $x$ vector of stat parameter weights. The $A$ matrix consists of one row per team, including the custom stats for the 3 guards and 5 forwards in addition to 2 adjustment stats. The $b$ matrix is the records for that corresponding team in that specific year.\n",
        "\n",
        "![Unknown.png](data:image/png;base64,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)\n"
      ]
    },
    {
      "cell_type": "code",
      "metadata": {
        "id": "JK1CiRpF4Rl9"
      },
      "source": [
        "\r\n",
        "i = 0\r\n",
        "while i < abbreviated_final_guards.num_rows//3-1:\r\n",
        "  A_row = make_array()\r\n",
        "  test_row = make_array()\r\n",
        "  count = 0\r\n",
        "  while count < 3:\r\n",
        "    # for j in range(3,15):\r\n",
        "    if i in random_indices:\r\n",
        "      test_row = np.append(test_row,list(abbreviated_final_guards.rows[3*i+count][3:]))\r\n",
        "    else:  \r\n",
        "      A_row = np.append(A_row,list(abbreviated_final_guards.rows[3*i+count][3:]))\r\n",
        "\r\n",
        "    count+=1\r\n",
        "  count = 0\r\n",
        "  while count < 5:\r\n",
        "    # for j in range(3,15):\r\n",
        "    if i in random_indices:\r\n",
        "      test_row = np.append(test_row,list(abbreviated_final_forwards.rows[5*i+count][3:]))\r\n",
        "    else:  \r\n",
        "      A_row = np.append(A_row,list(abbreviated_final_forwards.rows[5*i+count][3:]))\r\n",
        "    count+=1\r\n",
        "  A_row = np.append(A_row,1)\r\n",
        "  test_row = np.append(test_row,1)\r\n",
        "  season = abbreviated_final_guards.column(\"Year\").item(i*3)\r\n",
        "  team = abbreviated_final_guards.column(\"Tm_2\").item(i*3)\r\n",
        "\r\n",
        "  if len(A)==0 and i not in random_indices:\r\n",
        "    A = make_array(A_row)\r\n",
        "  elif len(test_set) == 0 and i in random_indices:\r\n",
        "    test_set = make_array(test_row)\r\n",
        "  elif i not in random_indices:\r\n",
        "    A = np.vstack([A,A_row])\r\n",
        "  else:\r\n",
        "    test_set = np.vstack([test_set,test_row])\r\n",
        "\r\n",
        "  \r\n",
        " \r\n",
        "  winrate = year_sorted_records.where(\"Season\",season).where(\"Team\",team).column(\"W/L%\").item(0)\r\n",
        "  if i not in random_indices:\r\n",
        "    B = np.append(B,winrate)\r\n",
        "  else:\r\n",
        "    test_set_teams = np.append(test_set_teams,team)\r\n",
        "    test_set_seasons = np.append(test_set_seasons,season)\r\n",
        "    test_set_actual_winrates = np.append(test_set_actual_winrates,winrate)\r\n",
        "  i+=1\r\n",
        "\r\n",
        "\r\n",
        "  \r\n",
        "#create A and B matrix from the abbreviated final guards/forwards \r\n"
      ],
      "execution_count": 39,
      "outputs": []
    },
    {
      "cell_type": "markdown",
      "metadata": {
        "id": "LhDl_fPvjlmo"
      },
      "source": [
        "Performing least squares to yield the solution $x$ vector that we denote as params\n",
        "\n",
        "![Screen Shot 2021-01-19 at 8.36.07 PM.png](data:image/png;base64,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)"
      ]
    },
    {
      "cell_type": "code",
      "metadata": {
        "id": "WcKJLTfQE1l8",
        "colab": {
          "base_uri": "https://localhost:8080/"
        },
        "outputId": "2e0d384d-a429-40bc-ff4a-7849639625ef"
      },
      "source": [
        "def doLeastSquares(A,b):\r\n",
        "    x = np.dot(np.dot(np.linalg.inv(np.dot(np.transpose(A),A)),np.transpose(A)),b)\r\n",
        "    return x;\r\n",
        "params = doLeastSquares(A,B)\r\n",
        "print(params)"
      ],
      "execution_count": 40,
      "outputs": [
        {
          "output_type": "stream",
          "text": [
            "[ 6.47622454e-03 -3.07981129e-02  3.99489907e-03 -5.17861902e-04\n",
            " -8.00288564e-03 -4.62155219e-03  1.29319575e-03 -3.37225039e-03\n",
            "  1.16753333e-01  1.45548016e-03 -1.58613242e-02  9.02259794e-03\n",
            "  1.07852526e-03  2.87130241e-01  4.24964623e-03  8.67642008e-04\n",
            "  9.72800062e-03  1.22183076e-02 -1.20376738e-03 -1.49111451e-03\n",
            " -1.11635048e-01  1.37733652e-03  7.41255042e-03  5.54746992e-03\n",
            "  3.40348957e-03 -1.71953133e-01 -4.86131098e-03 -1.95024222e-03\n",
            " -2.74227891e-03  1.04509846e-02  5.74713188e-03 -1.50062521e-03\n",
            "  2.32271120e-01  1.05316773e-02 -6.84151052e-02  6.59298245e-03\n",
            " -1.30354905e-03 -2.28998196e-01 -2.47498555e-04  1.11688276e-03\n",
            " -1.01707125e-02  1.69741690e-03  2.22342853e-03  2.23852764e-03\n",
            "  2.92505219e-01  8.25812949e-03  4.90678761e-02  1.53334715e-03\n",
            " -1.43415730e-02  3.68412059e-02  1.31175896e-03  1.17860696e-03\n",
            " -4.28161239e-03  8.76352349e-03 -3.16849815e-03  5.69284784e-03\n",
            "  6.11567985e-01  1.42075055e-02  2.91841773e-03  7.62110768e-03\n",
            " -2.70007624e-03  9.64622424e-02  2.01746749e-03 -1.43613787e-04\n",
            " -2.39240027e-03  2.51088048e-03 -1.02724355e-03  2.09005709e-03\n",
            "  1.24483979e-01  9.50843776e-03 -2.47336904e-02  1.08566899e-02\n",
            "  7.74210652e-03 -1.99140332e-01 -4.73975317e-03 -1.60720950e-03\n",
            " -5.04867883e-03  2.11289647e-03  5.73213690e-04 -2.11125849e-03\n",
            " -1.29991445e-01  6.25659727e-03  4.53501690e-02  9.56039636e-03\n",
            "  7.80149407e-04 -3.63184636e-01 -1.62248971e-04  1.64986423e-04\n",
            " -1.26740883e-02  9.01473605e-05  8.30146223e-04 -2.32562489e-04\n",
            "  3.06128988e-01  9.02286889e-03  3.95863291e-02  1.05185750e-02\n",
            "  5.20067949e-01]\n"
          ],
          "name": "stdout"
        }
      ]
    },
    {
      "cell_type": "markdown",
      "metadata": {
        "id": "UUh8c48jkGk5"
      },
      "source": [
        "# Part 3: Testing the Model"
      ]
    },
    {
      "cell_type": "markdown",
      "metadata": {
        "id": "B79sAUB1BnVt"
      },
      "source": [
        "Below, you can see the results from predicting the 2016-17 season. We defined an \"Accurate\" prediction as when the absolute difference between the actual and predicted winrates was within 10%. Below the table, you'll find the accuracy rate and some other insights. "
      ]
    },
    {
      "cell_type": "code",
      "metadata": {
        "colab": {
          "base_uri": "https://localhost:8080/",
          "height": 1000
        },
        "id": "_6eQpipe83ID",
        "outputId": "5b43562d-bbf4-415f-f79e-4311e100452a"
      },
      "source": [
        "predictions = make_array()\r\n",
        "for i in range(len(test_set)):\r\n",
        "  predictions = np.append(predictions,np.dot(params,test_set[i]))\r\n",
        "diffs = Table().with_columns(\"Season\",test_set_seasons,\"Team\",test_set_teams,\"Actual\",test_set_actual_winrates,\"Predicted\",predictions,\"Actual - Predicted\",test_set_actual_winrates-predictions,\"(Actual-Predicted)/Predicted\",(predictions-test_set_actual_winrates)/test_set_actual_winrates)\r\n",
        "accurate_diffs = diffs.with_columns(\"Accurate\",abs(diffs.column(\"Actual - Predicted\"))<.1)\r\n",
        "outliers = accurate_diffs.with_columns(\"Accurate\",abs(diffs.column(\"Actual - Predicted\"))<.15).where(\"Accurate\",False)\r\n",
        "\r\n",
        "accurate_diffs.sort(\"Actual\",descending=True).sort(\"Season\").show(100)\r\n",
        "print(\"Overall Accuracy Rate:\" + str(np.count_nonzero(accurate_diffs.column(\"Accurate\"))/accurate_diffs.num_rows))\r\n",
        "print(\"Average (Actual-Predicted)/Predicted:\" + str(np.average(abs(accurate_diffs.column(\"(Actual-Predicted)/Predicted\")))))\r\n",
        "print(\"Average Actual - Predicted:\" + str(np.average(abs(accurate_diffs.column(\"Actual - Predicted\")))))\r\n",
        "print(\"Outliers: \" + str(outliers.num_rows))\r\n"
      ],
      "execution_count": 41,
      "outputs": [
        {
          "output_type": "display_data",
          "data": {
            "text/html": [
              "<table border=\"1\" class=\"dataframe\">\n",
              "    <thead>\n",
              "        <tr>\n",
              "            <th>Season</th> <th>Team</th> <th>Actual</th> <th>Predicted</th> <th>Actual - Predicted</th> <th>(Actual-Predicted)/Predicted</th> <th>Accurate</th>\n",
              "        </tr>\n",
              "    </thead>\n",
              "    <tbody>\n",
              "        <tr>\n",
              "            <td>2017  </td> <td>Golden State Warriors </td> <td>0.817 </td> <td>0.882441 </td> <td>-0.0654414        </td> <td>0.0800996                   </td> <td>True    </td>\n",
              "        </tr>\n",
              "        <tr>\n",
              "            <td>2017  </td> <td>San Antonio Spurs     </td> <td>0.744 </td> <td>0.736131 </td> <td>0.00786924        </td> <td>-0.0105769                  </td> <td>True    </td>\n",
              "        </tr>\n",
              "        <tr>\n",
              "            <td>2017  </td> <td>Houston Rockets       </td> <td>0.671 </td> <td>0.469582 </td> <td>0.201418          </td> <td>-0.300176                   </td> <td>False   </td>\n",
              "        </tr>\n",
              "        <tr>\n",
              "            <td>2017  </td> <td>Boston Celtics        </td> <td>0.646 </td> <td>0.567418 </td> <td>0.0785816         </td> <td>-0.121643                   </td> <td>True    </td>\n",
              "        </tr>\n",
              "        <tr>\n",
              "            <td>2017  </td> <td>Utah Jazz             </td> <td>0.622 </td> <td>0.592717 </td> <td>0.0292832         </td> <td>-0.0470791                  </td> <td>True    </td>\n",
              "        </tr>\n",
              "        <tr>\n",
              "            <td>2017  </td> <td>Toronto Raptors       </td> <td>0.622 </td> <td>0.531931 </td> <td>0.090069          </td> <td>-0.144805                   </td> <td>True    </td>\n",
              "        </tr>\n",
              "        <tr>\n",
              "            <td>2017  </td> <td>Los Angeles Clippers  </td> <td>0.622 </td> <td>0.579472 </td> <td>0.0425279         </td> <td>-0.0683728                  </td> <td>True    </td>\n",
              "        </tr>\n",
              "        <tr>\n",
              "            <td>2017  </td> <td>Cleveland Cavaliers   </td> <td>0.622 </td> <td>0.673882 </td> <td>-0.051882         </td> <td>0.0834115                   </td> <td>True    </td>\n",
              "        </tr>\n",
              "        <tr>\n",
              "            <td>2017  </td> <td>Washington Wizards    </td> <td>0.598 </td> <td>0.346404 </td> <td>0.251596          </td> <td>-0.420729                   </td> <td>False   </td>\n",
              "        </tr>\n",
              "        <tr>\n",
              "            <td>2017  </td> <td>Oklahoma City Thunder </td> <td>0.573 </td> <td>0.544198 </td> <td>0.0288015         </td> <td>-0.0502644                  </td> <td>True    </td>\n",
              "        </tr>\n",
              "        <tr>\n",
              "            <td>2017  </td> <td>Memphis Grizzlies     </td> <td>0.524 </td> <td>0.573215 </td> <td>-0.0492148        </td> <td>0.0939215                   </td> <td>True    </td>\n",
              "        </tr>\n",
              "        <tr>\n",
              "            <td>2017  </td> <td>Atlanta Hawks         </td> <td>0.524 </td> <td>0.521377 </td> <td>0.00262279        </td> <td>-0.00500532                 </td> <td>True    </td>\n",
              "        </tr>\n",
              "        <tr>\n",
              "            <td>2017  </td> <td>Milwaukee Bucks       </td> <td>0.512 </td> <td>0.46393  </td> <td>0.0480697         </td> <td>-0.0938861                  </td> <td>True    </td>\n",
              "        </tr>\n",
              "        <tr>\n",
              "            <td>2017  </td> <td>Indiana Pacers        </td> <td>0.512 </td> <td>0.390295 </td> <td>0.121705          </td> <td>-0.237705                   </td> <td>False   </td>\n",
              "        </tr>\n",
              "        <tr>\n",
              "            <td>2017  </td> <td>Portland Trail Blazers</td> <td>0.5   </td> <td>0.483609 </td> <td>0.0163906         </td> <td>-0.0327812                  </td> <td>True    </td>\n",
              "        </tr>\n",
              "        <tr>\n",
              "            <td>2017  </td> <td>Miami Heat            </td> <td>0.5   </td> <td>0.409488 </td> <td>0.0905117         </td> <td>-0.181023                   </td> <td>True    </td>\n",
              "        </tr>\n",
              "        <tr>\n",
              "            <td>2017  </td> <td>Chicago Bulls         </td> <td>0.5   </td> <td>0.561777 </td> <td>-0.0617773        </td> <td>0.123555                    </td> <td>True    </td>\n",
              "        </tr>\n",
              "        <tr>\n",
              "            <td>2017  </td> <td>Denver Nuggets        </td> <td>0.488 </td> <td>0.493597 </td> <td>-0.00559659       </td> <td>0.0114684                   </td> <td>True    </td>\n",
              "        </tr>\n",
              "        <tr>\n",
              "            <td>2017  </td> <td>Detroit Pistons       </td> <td>0.451 </td> <td>0.393925 </td> <td>0.0570746         </td> <td>-0.126551                   </td> <td>True    </td>\n",
              "        </tr>\n",
              "        <tr>\n",
              "            <td>2017  </td> <td>Charlotte Hornets     </td> <td>0.439 </td> <td>0.553515 </td> <td>-0.114515         </td> <td>0.260853                    </td> <td>False   </td>\n",
              "        </tr>\n",
              "        <tr>\n",
              "            <td>2017  </td> <td>New Orleans Pelicans  </td> <td>0.415 </td> <td>0.470533 </td> <td>-0.0555333        </td> <td>0.133815                    </td> <td>True    </td>\n",
              "        </tr>\n",
              "        <tr>\n",
              "            <td>2017  </td> <td>Dallas Mavericks      </td> <td>0.402 </td> <td>0.531369 </td> <td>-0.129369         </td> <td>0.321813                    </td> <td>False   </td>\n",
              "        </tr>\n",
              "        <tr>\n",
              "            <td>2017  </td> <td>Sacramento Kings      </td> <td>0.39  </td> <td>0.452158 </td> <td>-0.0621577        </td> <td>0.159379                    </td> <td>True    </td>\n",
              "        </tr>\n",
              "        <tr>\n",
              "            <td>2017  </td> <td>New York Knicks       </td> <td>0.378 </td> <td>0.41627  </td> <td>-0.0382703        </td> <td>0.101244                    </td> <td>True    </td>\n",
              "        </tr>\n",
              "        <tr>\n",
              "            <td>2017  </td> <td>Minnesota Timberwolves</td> <td>0.378 </td> <td>0.493146 </td> <td>-0.115146         </td> <td>0.304619                    </td> <td>False   </td>\n",
              "        </tr>\n",
              "        <tr>\n",
              "            <td>2017  </td> <td>Orlando Magic         </td> <td>0.354 </td> <td>0.467622 </td> <td>-0.113622         </td> <td>0.320967                    </td> <td>False   </td>\n",
              "        </tr>\n",
              "        <tr>\n",
              "            <td>2017  </td> <td>Philadelphia 76ers    </td> <td>0.341 </td> <td>0.307269 </td> <td>0.0337314         </td> <td>-0.0989191                  </td> <td>True    </td>\n",
              "        </tr>\n",
              "        <tr>\n",
              "            <td>2017  </td> <td>Los Angeles Lakers    </td> <td>0.317 </td> <td>0.231893 </td> <td>0.0851073         </td> <td>-0.268477                   </td> <td>True    </td>\n",
              "        </tr>\n",
              "        <tr>\n",
              "            <td>2017  </td> <td>Phoenix Suns          </td> <td>0.293 </td> <td>0.446708 </td> <td>-0.153708         </td> <td>0.524599                    </td> <td>False   </td>\n",
              "        </tr>\n",
              "        <tr>\n",
              "            <td>2017  </td> <td>Brooklyn Nets         </td> <td>0.244 </td> <td>0.276156 </td> <td>-0.0321555        </td> <td>0.131785                    </td> <td>True    </td>\n",
              "        </tr>\n",
              "    </tbody>\n",
              "</table>"
            ],
            "text/plain": [
              "<IPython.core.display.HTML object>"
            ]
          },
          "metadata": {
            "tags": []
          }
        },
        {
          "output_type": "stream",
          "text": [
            "Overall Accuracy Rate:0.7333333333333333\n",
            "Average (Actual-Predicted)/Predicted:0.16198418641834098\n",
            "Average Actual - Predicted:0.07445825344444401\n",
            "Outliers: 3\n"
          ],
          "name": "stdout"
        }
      ]
    },
    {
      "cell_type": "markdown",
      "metadata": {
        "id": "9GVHV2QURK3Q"
      },
      "source": [
        "For the 2016-17 season, we achieved an average % difference of about 16% and an average absolute difference of about 7.4%. Other than a few bad predictions such as the Houston Rockets, Dallas Mavericks, and the Washington Wizards, the model produced many remarkably accurate winrate predictions for other teams this season.\n",
        "\n",
        "Possible reasoning behind large errors could be that certain teams did not have an adequate number of guards or forwards on their team, or had a large amount of rookies. In our model, this causes these teams to be removed from the training set which could affect the overall accuracy. Also, some teams may not fit the 3 guard/5 forward mold, which could cause their winrate to be over or under predicted. "
      ]
    },
    {
      "cell_type": "markdown",
      "metadata": {
        "id": "eMlYLQZ9Ljr5"
      },
      "source": [
        "# Part 4: Rating Top NBA Player Performances of All-Time"
      ]
    },
    {
      "cell_type": "markdown",
      "metadata": {
        "id": "pvsXhg1TkiZn"
      },
      "source": [
        "Aggregating weightings for each stat together for guards and forwards to create a weighted stats table that says how valuable each stat is to \r\n",
        "the win rate of his team.\r\n",
        "\r\n",
        "(caption about how the weights are subjective to things like % and other factors invovled with specific stat)\r\n",
        "\r\n"
      ]
    },
    {
      "cell_type": "code",
      "metadata": {
        "colab": {
          "base_uri": "https://localhost:8080/",
          "height": 438
        },
        "id": "AoGq89EuEYdQ",
        "outputId": "fb9ade2a-74c7-4f07-bc01-3ddbd683e3d8"
      },
      "source": [
        "weighted_stats_guards = {}\r\n",
        "weighted_stats_forwards = {}\r\n",
        "num_params = len(categories)-3\r\n",
        "print(len(params))\r\n",
        "\r\n",
        "categories[i%num_params+3]\r\n",
        "\r\n",
        "for i in range(3*num_params):\r\n",
        "  if categories[i%num_params+3] not in weighted_stats_guards:\r\n",
        "    weighted_stats_guards[categories[i%num_params+3]] = params[i]*100\r\n",
        "  else:\r\n",
        "    weighted_stats_guards[categories[i%num_params+3]] += params[i]*100\r\n",
        "for i in range(3*num_params,8*num_params):\r\n",
        "  if categories[i%num_params+3] not in weighted_stats_forwards:\r\n",
        "    weighted_stats_forwards[categories[i%num_params+3]] = params[i]*100*3/5\r\n",
        "  else:\r\n",
        "    weighted_stats_forwards[categories[i%num_params+3]] += params[i]*100*3/5\r\n",
        "\r\n",
        "Table().with_columns(\"Stat\",weighted_stats_guards.keys(),\"Weight for Guards\",weighted_stats_guards.values(),\"Weight for Forwards\",weighted_stats_forwards.values()).show(12)"
      ],
      "execution_count": 42,
      "outputs": [
        {
          "output_type": "stream",
          "text": [
            "97\n"
          ],
          "name": "stdout"
        },
        {
          "output_type": "display_data",
          "data": {
            "text/html": [
              "<table border=\"1\" class=\"dataframe\">\n",
              "    <thead>\n",
              "        <tr>\n",
              "            <th>Stat</th> <th>Weight for Guards</th> <th>Weight for Forwards</th>\n",
              "        </tr>\n",
              "    </thead>\n",
              "    <tbody>\n",
              "        <tr>\n",
              "            <td>PER    </td> <td>1.09582          </td> <td>-0.589377          </td>\n",
              "        </tr>\n",
              "        <tr>\n",
              "            <td>TS%    </td> <td>8.4379           </td> <td>-39.4812           </td>\n",
              "        </tr>\n",
              "        <tr>\n",
              "            <td>TRB%   </td> <td>0.338323         </td> <td>-0.109216          </td>\n",
              "        </tr>\n",
              "        <tr>\n",
              "            <td>AST%   </td> <td>-0.160046        </td> <td>0.0425792          </td>\n",
              "        </tr>\n",
              "        <tr>\n",
              "            <td>STL%   </td> <td>-0.101716        </td> <td>-2.07405           </td>\n",
              "        </tr>\n",
              "        <tr>\n",
              "            <td>BLK%   </td> <td>1.80477          </td> <td>0.910492           </td>\n",
              "        </tr>\n",
              "        <tr>\n",
              "            <td>TOV%   </td> <td>0.583656         </td> <td>-0.0341372         </td>\n",
              "        </tr>\n",
              "        <tr>\n",
              "            <td>USG%   </td> <td>-0.636399        </td> <td>0.460657           </td>\n",
              "        </tr>\n",
              "        <tr>\n",
              "            <td>WS/48  </td> <td>23.7389          </td> <td>72.2817            </td>\n",
              "        </tr>\n",
              "        <tr>\n",
              "            <td>BPM    </td> <td>1.33645          </td> <td>2.83521            </td>\n",
              "        </tr>\n",
              "        <tr>\n",
              "            <td>FTr    </td> <td>-7.68639         </td> <td>6.73135            </td>\n",
              "        </tr>\n",
              "        <tr>\n",
              "            <td>Synergy</td> <td>2.11631          </td> <td>2.40541            </td>\n",
              "        </tr>\n",
              "    </tbody>\n",
              "</table>"
            ],
            "text/plain": [
              "<IPython.core.display.HTML object>"
            ]
          },
          "metadata": {
            "tags": []
          }
        }
      ]
    },
    {
      "cell_type": "markdown",
      "metadata": {
        "id": "FrA4B8D9Cjlp"
      },
      "source": [
        "Now, we use the stat weightings we just found and historical player data to produce a rating for every player's performance every season. After sorting by this overall rating, we get a ranking of top NBA player performances of all-time! \r\n",
        "\r\n",
        "It looks accurate at first (since the top guard peformances are dominated by Michael Jordan), but with a closer look, there are some imperfections and weird ratings such as Manu Ginobili (we have nothing against Manu, not a bad player at all but doesn't deserve a top spot in all-time rankings)\r\n",
        "\r\n"
      ]
    },
    {
      "cell_type": "code",
      "metadata": {
        "colab": {
          "base_uri": "https://localhost:8080/",
          "height": 1000
        },
        "id": "pbtw0K8p7WtL",
        "outputId": "8b4a5d02-969e-4cef-9fc5-c778e0924c13"
      },
      "source": [
        "weighted_scores_guards = make_array()\r\n",
        "def overall_score_guard(*args):\r\n",
        "  return np.dot(np.array(args),np.array(list(weighted_stats_guards.values()))) \r\n",
        "\r\n",
        "def overall_score_forwards(*args):\r\n",
        "  return np.dot(np.array(args),np.array(list(weighted_stats_forwards.values())))\r\n",
        "\r\n",
        "\r\n",
        "overall_guards = abbreviated_final_guards.with_columns(\"Overall\",abbreviated_final_guards.apply(overall_score_guard,abbreviated_final_guards.labels[3:]))\r\n",
        "overall_forwards = abbreviated_final_forwards.with_columns(\"Overall\",abbreviated_final_forwards.apply(overall_score_forwards,abbreviated_final_forwards.labels[3:]))\r\n",
        "for key in weighted_stats_guards:\r\n",
        "  overall_guards = overall_guards.with_columns(key,weighted_stats_guards[key]*overall_guards.column(key))\r\n",
        "  overall_forwards = overall_forwards.with_columns(key,weighted_stats_forwards[key]*overall_forwards.column(key))\r\n",
        "\r\n",
        "overall_guards.sort(\"Overall\",descending = True).show(30)\r\n",
        "overall_forwards.sort(\"Overall\",descending = True).show(30)\r\n",
        "  "
      ],
      "execution_count": 43,
      "outputs": [
        {
          "output_type": "stream",
          "text": [
            "/usr/local/lib/python3.6/dist-packages/datascience/tables.py:361: FutureWarning: column lists are deprecated; pass each as an argument\n",
            "  \"column lists are deprecated; pass each as an argument\", FutureWarning)\n"
          ],
          "name": "stderr"
        },
        {
          "output_type": "display_data",
          "data": {
            "text/html": [
              "<table border=\"1\" class=\"dataframe\">\n",
              "    <thead>\n",
              "        <tr>\n",
              "            <th>Player</th> <th>Year</th> <th>Tm_2</th> <th>PER</th> <th>TS%</th> <th>TRB%</th> <th>AST%</th> <th>STL%</th> <th>BLK%</th> <th>TOV%</th> <th>USG%</th> <th>WS/48</th> <th>BPM</th> <th>FTr</th> <th>Synergy</th> <th>Overall</th>\n",
              "        </tr>\n",
              "    </thead>\n",
              "    <tbody>\n",
              "        <tr>\n",
              "            <td>Stephen Curry 1989.0    </td> <td>2017</td> <td>Golden State Warriors </td> <td>34.5185</td> <td>5.64495</td> <td>2.90958</td> <td>-5.39356</td> <td>-0.305149</td> <td>0.72191 </td> <td>7.52916</td> <td>-20.7466</td> <td>7.54898</td> <td>16.7056</td> <td>-1.9216 </td> <td>5.18387</td> <td>52.3956</td>\n",
              "        </tr>\n",
              "        <tr>\n",
              "            <td>Michael Jordan* 1964.0  </td> <td>1990</td> <td>Chicago Bulls         </td> <td>34.0801</td> <td>5.18087</td> <td>3.92455</td> <td>-5.5536 </td> <td>-0.366179</td> <td>2.16573 </td> <td>6.94551</td> <td>-20.4284</td> <td>6.93177</td> <td>16.8393</td> <td>-3.39738</td> <td>4.23261</td> <td>50.5549</td>\n",
              "        </tr>\n",
              "        <tr>\n",
              "            <td>Michael Jordan* 1964.0  </td> <td>1992</td> <td>Chicago Bulls         </td> <td>34.628 </td> <td>5.10493</td> <td>3.21407</td> <td>-4.03316</td> <td>-0.376351</td> <td>3.06812 </td> <td>5.07781</td> <td>-20.9375</td> <td>7.6202 </td> <td>14.4337</td> <td>-2.80553</td> <td>5.18387</td> <td>50.1781</td>\n",
              "        </tr>\n",
              "        <tr>\n",
              "            <td>Michael Jordan* 1964.0  </td> <td>1989</td> <td>Chicago Bulls         </td> <td>34.7376</td> <td>5.08805</td> <td>2.63892</td> <td>-4.32125</td> <td>-0.396694</td> <td>4.33146 </td> <td>5.6031 </td> <td>-21.7012</td> <td>7.31159</td> <td>16.3047</td> <td>-3.30515</td> <td>3.66555</td> <td>49.9567</td>\n",
              "        </tr>\n",
              "        <tr>\n",
              "            <td>Magic Johnson* 1960.0   </td> <td>1990</td> <td>Los Angeles Lakers    </td> <td>29.4777</td> <td>5.27369</td> <td>3.95838</td> <td>-7.77825</td> <td>-0.233948</td> <td>0.72191 </td> <td>10.7393</td> <td>-15.4645</td> <td>6.3383 </td> <td>12.429 </td> <td>-3.80476</td> <td>6.34892</td> <td>48.0057</td>\n",
              "        </tr>\n",
              "        <tr>\n",
              "            <td>Magic Johnson* 1960.0   </td> <td>1991</td> <td>Los Angeles Lakers    </td> <td>29.1489</td> <td>5.24837</td> <td>3.4509 </td> <td>-7.2821 </td> <td>-0.223776</td> <td>1.26334 </td> <td>9.86379</td> <td>-15.7827</td> <td>6.40951</td> <td>12.6963</td> <td>-4.30438</td> <td>6.69234</td> <td>47.1805</td>\n",
              "        </tr>\n",
              "        <tr>\n",
              "            <td>Michael Jordan* 1964.0  </td> <td>1991</td> <td>Chicago Bulls         </td> <td>34.1897</td> <td>5.11337</td> <td>3.51856</td> <td>-4.57732</td> <td>-0.356007</td> <td>1.98525 </td> <td>5.71983</td> <td>-21.4466</td> <td>6.7656 </td> <td>14.1664</td> <td>-2.73635</td> <td>4.7322 </td> <td>47.0746</td>\n",
              "        </tr>\n",
              "        <tr>\n",
              "            <td>Stephen Curry 1989.0    </td> <td>2016</td> <td>Golden State Warriors </td> <td>30.6831</td> <td>5.38338</td> <td>2.36826</td> <td>-6.17778</td> <td>-0.305149</td> <td>0.902387</td> <td>8.34628</td> <td>-18.3919</td> <td>6.83681</td> <td>13.2308</td> <td>-1.92928</td> <td>4.7322 </td> <td>45.6791</td>\n",
              "        </tr>\n",
              "        <tr>\n",
              "            <td>Michael Jordan* 1964.0  </td> <td>1997</td> <td>Chicago Bulls         </td> <td>32.2172</td> <td>4.91086</td> <td>3.4509 </td> <td>-3.39298</td> <td>-0.315321</td> <td>1.80477 </td> <td>4.90271</td> <td>-21.1921</td> <td>7.52524</td> <td>11.4935</td> <td>-2.72867</td> <td>6.69234</td> <td>45.3685</td>\n",
              "        </tr>\n",
              "        <tr>\n",
              "            <td>Manu Ginobili 1978.0    </td> <td>2013</td> <td>San Antonio Spurs     </td> <td>26.4094</td> <td>5.63652</td> <td>2.84192</td> <td>-4.8494 </td> <td>-0.162746</td> <td>1.98525 </td> <td>9.51359</td> <td>-14.4463</td> <td>6.10091</td> <td>8.55328</td> <td>-2.72098</td> <td>6.34892</td> <td>45.2103</td>\n",
              "        </tr>\n",
              "        <tr>\n",
              "            <td>Magic Johnson* 1960.0   </td> <td>1982</td> <td>Los Angeles Lakers    </td> <td>28.1627</td> <td>4.91086</td> <td>4.29671</td> <td>-5.08947</td> <td>-0.43738 </td> <td>1.80477 </td> <td>10.0389</td> <td>-15.4645</td> <td>5.34126</td> <td>12.2953</td> <td>-2.94389</td> <td>2.11631</td> <td>45.0316</td>\n",
              "        </tr>\n",
              "        <tr>\n",
              "            <td>Magic Johnson* 1960.0   </td> <td>1983</td> <td>Los Angeles Lakers    </td> <td>25.0944</td> <td>4.97836</td> <td>4.63503</td> <td>-4.96143</td> <td>-0.325492</td> <td>1.08286 </td> <td>11.0311</td> <td>-12.7916</td> <td>4.91396</td> <td>11.0925</td> <td>-3.21291</td> <td>2.99291</td> <td>44.5297</td>\n",
              "        </tr>\n",
              "        <tr>\n",
              "            <td>Chris Paul 1986.0       </td> <td>2010</td> <td>New Orleans Hornets   </td> <td>32.8747</td> <td>5.0543 </td> <td>2.94341</td> <td>-8.72252</td> <td>-0.396694</td> <td>0.541432</td> <td>7.87936</td> <td>-17.501 </td> <td>6.93177</td> <td>14.9682</td> <td>-3.21291</td> <td>2.99291</td> <td>44.353 </td>\n",
              "        </tr>\n",
              "        <tr>\n",
              "            <td>Michael Jordan* 1964.0  </td> <td>1995</td> <td>Chicago Bulls         </td> <td>32.546 </td> <td>4.75898</td> <td>3.31557</td> <td>-4.03316</td> <td>-0.376351</td> <td>2.34621 </td> <td>4.90271</td> <td>-22.083 </td> <td>6.40951</td> <td>12.6963</td> <td>-2.18293</td> <td>5.98581</td> <td>44.2855</td>\n",
              "        </tr>\n",
              "        <tr>\n",
              "            <td>Dwyane Wade 1982.0      </td> <td>2010</td> <td>Miami Heat            </td> <td>33.313 </td> <td>4.84335</td> <td>2.63892</td> <td>-6.44986</td> <td>-0.305149</td> <td>5.05337 </td> <td>6.77041</td> <td>-23.0376</td> <td>5.50743</td> <td>14.3   </td> <td>-3.40507</td> <td>4.7322 </td> <td>43.961 </td>\n",
              "        </tr>\n",
              "        <tr>\n",
              "            <td>Magic Johnson* 1960.0   </td> <td>1985</td> <td>Los Angeles Lakers    </td> <td>24.7656</td> <td>5.299  </td> <td>3.65389</td> <td>-6.80196</td> <td>-0.274634</td> <td>1.80477 </td> <td>14.3579</td> <td>-12.4098</td> <td>4.53414</td> <td>8.15234</td> <td>-3.52805</td> <td>4.23261</td> <td>43.7859</td>\n",
              "        </tr>\n",
              "        <tr>\n",
              "            <td>Russell Westbrook 1989.0</td> <td>2017</td> <td>Oklahoma City Thunder </td> <td>30.2447</td> <td>4.6746 </td> <td>4.19521</td> <td>-7.93829</td> <td>-0.294978</td> <td>1.08286 </td> <td>9.80542</td> <td>-20.1102</td> <td>5.81604</td> <td>13.3645</td> <td>-3.0515 </td> <td>5.59922</td> <td>43.3876</td>\n",
              "        </tr>\n",
              "        <tr>\n",
              "            <td>Magic Johnson* 1960.0   </td> <td>1988</td> <td>Los Angeles Lakers    </td> <td>29.5872</td> <td>5.07962</td> <td>3.28174</td> <td>-7.55418</td> <td>-0.223776</td> <td>1.26334 </td> <td>9.28013</td> <td>-16.7373</td> <td>6.24334</td> <td>10.8252</td> <td>-3.70484</td> <td>5.59922</td> <td>42.9398</td>\n",
              "        </tr>\n",
              "        <tr>\n",
              "            <td>John Stockton* 1963.0   </td> <td>1996</td> <td>Utah Jazz             </td> <td>25.5327</td> <td>5.49307</td> <td>1.86078</td> <td>-8.41843</td> <td>-0.356007</td> <td>1.08286 </td> <td>13.0739</td> <td>-12.0279</td> <td>5.53117</td> <td>7.35047</td> <td>-2.97463</td> <td>6.69234</td> <td>42.8403</td>\n",
              "        </tr>\n",
              "        <tr>\n",
              "            <td>Michael Jordan* 1964.0  </td> <td>1993</td> <td>Chicago Bulls         </td> <td>30.3543</td> <td>4.88554</td> <td>3.21407</td> <td>-4.11319</td> <td>-0.305149</td> <td>2.70716 </td> <td>5.13617</td> <td>-20.1738</td> <td>6.50447</td> <td>11.4935</td> <td>-2.49808</td> <td>5.59922</td> <td>42.8042</td>\n",
              "        </tr>\n",
              "        <tr>\n",
              "            <td>Nate McMillan 1965.0    </td> <td>1995</td> <td>Seattle SuperSonics   </td> <td>16.9853</td> <td>4.38771</td> <td>3.01108</td> <td>-4.36926</td> <td>-0.589955</td> <td>1.44382 </td> <td>13.4825</td> <td>-7.89135</td> <td>3.6558 </td> <td>6.94954</td> <td>-1.06841</td> <td>5.59922</td> <td>41.5959</td>\n",
              "        </tr>\n",
              "        <tr>\n",
              "            <td>Dwyane Wade 1982.0      </td> <td>2013</td> <td>Miami Heat            </td> <td>28.8202</td> <td>4.71679</td> <td>2.94341</td> <td>-4.36926</td> <td>-0.274634</td> <td>5.5948  </td> <td>6.88714</td> <td>-19.9193</td> <td>5.38874</td> <td>8.41963</td> <td>-2.72867</td> <td>5.98581</td> <td>41.4646</td>\n",
              "        </tr>\n",
              "        <tr>\n",
              "            <td>Tracy McGrady 1980.0    </td> <td>2004</td> <td>Orlando Magic         </td> <td>33.2035</td> <td>4.75898</td> <td>3.21407</td> <td>-4.80139</td> <td>-0.223776</td> <td>2.70716 </td> <td>4.90271</td> <td>-22.4012</td> <td>6.2196 </td> <td>12.9636</td> <td>-3.07456</td> <td>3.66555</td> <td>41.1341</td>\n",
              "        </tr>\n",
              "        <tr>\n",
              "            <td>Magic Johnson* 1960.0   </td> <td>1986</td> <td>Los Angeles Lakers    </td> <td>25.4231</td> <td>5.37494</td> <td>3.28174</td> <td>-6.80196</td> <td>-0.193261</td> <td>0.902387</td> <td>12.6653</td> <td>-13.0462</td> <td>5.22257</td> <td>7.21683</td> <td>-3.96618</td> <td>4.7322 </td> <td>40.8115</td>\n",
              "        </tr>\n",
              "        <tr>\n",
              "            <td>Dwyane Wade 1982.0      </td> <td>2011</td> <td>Miami Heat            </td> <td>30.6831</td> <td>4.7421 </td> <td>2.63892</td> <td>-5.82568</td> <td>-0.274634</td> <td>4.33146 </td> <td>7.1206 </td> <td>-22.2103</td> <td>5.31752</td> <td>12.5626</td> <td>-3.57417</td> <td>5.18387</td> <td>40.6954</td>\n",
              "        </tr>\n",
              "        <tr>\n",
              "            <td>Clyde Drexler* 1963.0   </td> <td>1993</td> <td>Portland Trail Blazers</td> <td>25.8614</td> <td>4.72522</td> <td>3.3494 </td> <td>-4.78538</td> <td>-0.244119</td> <td>2.88764 </td> <td>7.23733</td> <td>-18.2647</td> <td>5.29378</td> <td>11.2262</td> <td>-2.62874</td> <td>5.98581</td> <td>40.6439</td>\n",
              "        </tr>\n",
              "        <tr>\n",
              "            <td>Magic Johnson* 1960.0   </td> <td>1987</td> <td>Los Angeles Lakers    </td> <td>26.2998</td> <td>5.14712</td> <td>3.18024</td> <td>-7.21808</td> <td>-0.203433</td> <td>0.541432</td> <td>11.5564</td> <td>-13.7462</td> <td>5.365  </td> <td>7.88505</td> <td>-3.63566</td> <td>5.18387</td> <td>40.3555</td>\n",
              "        </tr>\n",
              "        <tr>\n",
              "            <td>Manu Ginobili 1978.0    </td> <td>2009</td> <td>San Antonio Spurs     </td> <td>26.6285</td> <td>5.16399</td> <td>3.07874</td> <td>-4.22522</td> <td>-0.264463</td> <td>1.98525 </td> <td>8.46301</td> <td>-18.2647</td> <td>5.50743</td> <td>10.8252</td> <td>-3.45119</td> <td>4.7322 </td> <td>40.1789</td>\n",
              "        </tr>\n",
              "        <tr>\n",
              "            <td>Michael Jordan* 1964.0  </td> <td>1998</td> <td>Chicago Bulls         </td> <td>30.4639</td> <td>4.78429</td> <td>2.97725</td> <td>-3.39298</td> <td>-0.244119</td> <td>1.98525 </td> <td>4.20232</td> <td>-21.1284</td> <td>6.71812</td> <td>8.95421</td> <td>-2.33666</td> <td>7.01899</td> <td>40.0021</td>\n",
              "        </tr>\n",
              "        <tr>\n",
              "            <td>Brent Barry 1972.0      </td> <td>2003</td> <td>Seattle SuperSonics   </td> <td>21.1494</td> <td>5.50151</td> <td>2.90958</td> <td>-3.40898</td> <td>-0.264463</td> <td>1.6243  </td> <td>9.10503</td> <td>-10.3097</td> <td>4.53414</td> <td>7.75141</td> <td>-2.27517</td> <td>3.66555</td> <td>39.9826</td>\n",
              "        </tr>\n",
              "    </tbody>\n",
              "</table>\n",
              "<p>... (2841 rows omitted)</p>"
            ],
            "text/plain": [
              "<IPython.core.display.HTML object>"
            ]
          },
          "metadata": {
            "tags": []
          }
        },
        {
          "output_type": "display_data",
          "data": {
            "text/html": [
              "<table border=\"1\" class=\"dataframe\">\n",
              "    <thead>\n",
              "        <tr>\n",
              "            <th>Player</th> <th>Year</th> <th>Tm_2</th> <th>PER</th> <th>TS%</th> <th>TRB%</th> <th>AST%</th> <th>STL%</th> <th>BLK%</th> <th>TOV%</th> <th>USG%</th> <th>WS/48</th> <th>BPM</th> <th>FTr</th> <th>Synergy</th> <th>Overall</th>\n",
              "        </tr>\n",
              "    </thead>\n",
              "    <tbody>\n",
              "        <tr>\n",
              "            <td>LeBron James 1985.0     </td> <td>2010</td> <td>Cleveland Cavaliers   </td> <td>-18.6832</td> <td>-23.3334</td> <td>-1.29968</td> <td>1.61801 </td> <td>-4.97772</td> <td>2.18518 </td> <td>-0.375509</td> <td>15.5702</td> <td>22.9856</td> <td>36.8578</td> <td>3.1772 </td> <td>5.37865</td> <td>39.1031</td>\n",
              "        </tr>\n",
              "        <tr>\n",
              "            <td>David Robinson* 1966.0  </td> <td>1995</td> <td>San Antonio Spurs     </td> <td>-18.0939</td> <td>-22.7806</td> <td>-1.6164 </td> <td>0.91971 </td> <td>-4.77031</td> <td>4.91666 </td> <td>-0.372095</td> <td>14.741 </td> <td>21.3954</td> <td>30.9038</td> <td>3.75609</td> <td>4.81081</td> <td>33.8102</td>\n",
              "        </tr>\n",
              "        <tr>\n",
              "            <td>Shaquille O'Neal* 1973.0</td> <td>2001</td> <td>Los Angeles Lakers    </td> <td>-18.0349</td> <td>-22.8201</td> <td>-1.99866</td> <td>0.821778</td> <td>-1.24443</td> <td>4.82561 </td> <td>-0.337958</td> <td>14.3725</td> <td>20.4557</td> <td>27.5016</td> <td>3.33202</td> <td>4.81081</td> <td>31.6839</td>\n",
              "        </tr>\n",
              "        <tr>\n",
              "            <td>LeBron James 1985.0     </td> <td>2011</td> <td>Miami Heat            </td> <td>-18.3296</td> <td>-23.8466</td> <td>-1.2123 </td> <td>1.77981 </td> <td>-4.56291</td> <td>1.82098 </td> <td>-0.419888</td> <td>15.432 </td> <td>21.6122</td> <td>35.4402</td> <td>3.40606</td> <td>0      </td> <td>31.1199</td>\n",
              "        </tr>\n",
              "        <tr>\n",
              "            <td>LeBron James 1985.0     </td> <td>2009</td> <td>Cleveland Cavaliers   </td> <td>-17.1509</td> <td>-22.4253</td> <td>-1.2123 </td> <td>1.5882  </td> <td>-4.97772</td> <td>1.91203 </td> <td>-0.389164</td> <td>15.432 </td> <td>17.4922</td> <td>31.7544</td> <td>3.16373</td> <td>4.81081</td> <td>29.998 </td>\n",
              "        </tr>\n",
              "        <tr>\n",
              "            <td>David Robinson* 1966.0  </td> <td>1998</td> <td>San Antonio Spurs     </td> <td>-17.3277</td> <td>-23.2544</td> <td>-2.00958</td> <td>0.621656</td> <td>-3.94069</td> <td>5.82715 </td> <td>-0.334545</td> <td>13.2669</td> <td>20.9617</td> <td>26.084 </td> <td>4.01861</td> <td>5.89202</td> <td>29.8051</td>\n",
              "        </tr>\n",
              "        <tr>\n",
              "            <td>LeBron James 1985.0     </td> <td>2014</td> <td>Miami Heat            </td> <td>-18.6243</td> <td>-25.268 </td> <td>-1.43074</td> <td>1.54988 </td> <td>-4.97772</td> <td>1.72993 </td> <td>-0.423301</td> <td>13.9118</td> <td>23.2747</td> <td>32.8885</td> <td>2.65888</td> <td>4.16629</td> <td>29.456 </td>\n",
              "        </tr>\n",
              "        <tr>\n",
              "            <td>Kevin Garnett 1977.0    </td> <td>2005</td> <td>Minnesota Timberwolves</td> <td>-17.3277</td> <td>-21.5962</td> <td>-2.19525</td> <td>1.03893 </td> <td>-4.1481 </td> <td>3.64197 </td> <td>-0.358441</td> <td>13.6354</td> <td>19.6606</td> <td>28.0686</td> <td>1.94536</td> <td>6.80352</td> <td>29.1688</td>\n",
              "        </tr>\n",
              "        <tr>\n",
              "            <td>LeBron James 1985.0     </td> <td>2013</td> <td>Miami Heat            </td> <td>-18.0939</td> <td>-23.8861</td> <td>-1.37613</td> <td>1.43066 </td> <td>-5.39253</td> <td>1.54784 </td> <td>-0.454025</td> <td>14.741 </td> <td>21.5399</td> <td>31.1873</td> <td>2.88775</td> <td>3.40176</td> <td>27.5336</td>\n",
              "        </tr>\n",
              "        <tr>\n",
              "            <td>David Robinson* 1966.0  </td> <td>1999</td> <td>San Antonio Spurs     </td> <td>-16.3847</td> <td>-22.9386</td> <td>-1.98774</td> <td>0.677009</td> <td>-2.90367</td> <td>5.00771 </td> <td>-0.443784</td> <td>13.6815</td> <td>19.4438</td> <td>22.1147</td> <td>4.17343</td> <td>6.36411</td> <td>26.8038</td>\n",
              "        </tr>\n",
              "        <tr>\n",
              "            <td>Kevin Garnett 1977.0    </td> <td>2006</td> <td>Minnesota Timberwolves</td> <td>-16.6204</td> <td>-22.3858</td> <td>-2.21709</td> <td>1.1539  </td> <td>-4.3555 </td> <td>2.36728 </td> <td>-0.416474</td> <td>12.4838</td> <td>17.9259</td> <td>27.5016</td> <td>2.71946</td> <td>7.21622</td> <td>25.3728</td>\n",
              "        </tr>\n",
              "        <tr>\n",
              "            <td>Kevin Durant 1989.0     </td> <td>2015</td> <td>Oklahoma City Thunder </td> <td>-17.5634</td> <td>-25.0706</td> <td>-1.17954</td> <td>1.13686 </td> <td>-3.52588</td> <td>1.36574 </td> <td>-0.416474</td> <td>15.2017</td> <td>21.3231</td> <td>24.9499</td> <td>3.21085</td> <td>5.89202</td> <td>25.3242</td>\n",
              "        </tr>\n",
              "        <tr>\n",
              "            <td>Tim Duncan 1977.0       </td> <td>2005</td> <td>San Antonio Spurs     </td> <td>-15.9721</td> <td>-21.083 </td> <td>-2.07511</td> <td>0.740878</td> <td>-2.69626</td> <td>4.82561 </td> <td>-0.38575 </td> <td>13.6815</td> <td>17.9981</td> <td>20.6971</td> <td>3.35221</td> <td>5.89202</td> <td>24.9752</td>\n",
              "        </tr>\n",
              "        <tr>\n",
              "            <td>David Robinson* 1966.0  </td> <td>1996</td> <td>San Antonio Spurs     </td> <td>-17.1509</td> <td>-23.7677</td> <td>-1.76931</td> <td>0.583335</td> <td>-4.56291</td> <td>5.3719  </td> <td>-0.378923</td> <td>13.7736</td> <td>19.7329</td> <td>23.8158</td> <td>3.83687</td> <td>5.37865</td> <td>24.8634</td>\n",
              "        </tr>\n",
              "        <tr>\n",
              "            <td>Karl Malone* 1964.0     </td> <td>1998</td> <td>Utah Jazz             </td> <td>-17.033 </td> <td>-23.6887</td> <td>-1.83484</td> <td>1.04319 </td> <td>-4.1481 </td> <td>1.18364 </td> <td>-0.378923</td> <td>15.0635</td> <td>19.3715</td> <td>24.0993</td> <td>2.95506</td> <td>7.97783</td> <td>24.6104</td>\n",
              "        </tr>\n",
              "        <tr>\n",
              "            <td>David Robinson* 1966.0  </td> <td>1993</td> <td>San Antonio Spurs     </td> <td>-16.2079</td> <td>-23.5703</td> <td>-1.93313</td> <td>0.481145</td> <td>-6.42955</td> <td>6.73764 </td> <td>-0.41306 </td> <td>11.3782</td> <td>18.7932</td> <td>28.3521</td> <td>3.51376</td> <td>3.40176</td> <td>24.104 </td>\n",
              "        </tr>\n",
              "        <tr>\n",
              "            <td>Shaquille O'Neal* 1973.0</td> <td>2002</td> <td>Los Angeles Lakers    </td> <td>-17.7992</td> <td>-22.6622</td> <td>-1.97682</td> <td>0.800488</td> <td>-1.65924</td> <td>4.46141 </td> <td>-0.358441</td> <td>14.5568</td> <td>17.709 </td> <td>20.6971</td> <td>4.60424</td> <td>5.37865</td> <td>23.7517</td>\n",
              "        </tr>\n",
              "        <tr>\n",
              "            <td>Hakeem Olajuwon* 1963.0 </td> <td>1994</td> <td>Houston Rockets       </td> <td>-16.09  </td> <td>-22.7806</td> <td>-2.04235</td> <td>0.672751</td> <td>-4.97772</td> <td>5.9182  </td> <td>-0.423301</td> <td>13.2669</td> <td>16.9139</td> <td>23.8158</td> <td>2.39636</td> <td>6.80352</td> <td>23.4734</td>\n",
              "        </tr>\n",
              "        <tr>\n",
              "            <td>Tim Duncan 1977.0       </td> <td>2004</td> <td>San Antonio Spurs     </td> <td>-15.8542</td> <td>-22.2674</td> <td>-2.07511</td> <td>0.830294</td> <td>-1.86664</td> <td>4.73456 </td> <td>-0.44037 </td> <td>12.8984</td> <td>17.9259</td> <td>20.9806</td> <td>3.06276</td> <td>5.37865</td> <td>23.3073</td>\n",
              "        </tr>\n",
              "        <tr>\n",
              "            <td>David Robinson* 1966.0  </td> <td>2000</td> <td>San Antonio Spurs     </td> <td>-14.6755</td> <td>-22.2674</td> <td>-1.94405</td> <td>0.515208</td> <td>-4.97772</td> <td>4.82561 </td> <td>-0.464266</td> <td>10.9636</td> <td>18.8655</td> <td>20.9806</td> <td>4.6379 </td> <td>6.80352</td> <td>23.2631</td>\n",
              "        </tr>\n",
              "        <tr>\n",
              "            <td>Karl Malone* 1964.0     </td> <td>2001</td> <td>Utah Jazz             </td> <td>-15.9721</td> <td>-22.978 </td> <td>-1.75838</td> <td>0.889905</td> <td>-2.90367</td> <td>1.72993 </td> <td>-0.389164</td> <td>14.6949</td> <td>17.9981</td> <td>19.563 </td> <td>3.3724 </td> <td>9.00021</td> <td>23.2471</td>\n",
              "        </tr>\n",
              "        <tr>\n",
              "            <td>LeBron James 1985.0     </td> <td>2007</td> <td>Cleveland Cavaliers   </td> <td>-16.5615</td> <td>-22.4253</td> <td>-1.07032</td> <td>1.3966  </td> <td>-4.1481 </td> <td>1.36574 </td> <td>-0.365268</td> <td>15.4781</td> <td>16.7694</td> <td>26.3675</td> <td>3.00891</td> <td>3.40176</td> <td>23.2174</td>\n",
              "        </tr>\n",
              "        <tr>\n",
              "            <td>Tim Duncan 1977.0       </td> <td>2003</td> <td>San Antonio Spurs     </td> <td>-15.9132</td> <td>-22.7412</td> <td>-1.9659 </td> <td>0.779199</td> <td>-2.07405</td> <td>3.91512 </td> <td>-0.433542</td> <td>13.359 </td> <td>18.5764</td> <td>21.5476</td> <td>3.13681</td> <td>4.81081</td> <td>22.9972</td>\n",
              "        </tr>\n",
              "        <tr>\n",
              "            <td>Shaquille O'Neal* 1973.0</td> <td>2003</td> <td>Los Angeles Lakers    </td> <td>-17.5045</td> <td>-23.2939</td> <td>-1.78023</td> <td>0.698298</td> <td>-1.86664</td> <td>3.73302 </td> <td>-0.341372</td> <td>14.6489</td> <td>18.9378</td> <td>19.8465</td> <td>3.92437</td> <td>5.89202</td> <td>22.8943</td>\n",
              "        </tr>\n",
              "        <tr>\n",
              "            <td>Charles Barkley* 1964.0 </td> <td>1992</td> <td>Philadelphia 76ers    </td> <td>-17.033 </td> <td>-25.0706</td> <td>-1.67101</td> <td>0.877131</td> <td>-4.56291</td> <td>0.728394</td> <td>-0.430129</td> <td>13.4051</td> <td>18.6487</td> <td>28.0686</td> <td>3.79648</td> <td>5.89202</td> <td>22.6488</td>\n",
              "        </tr>\n",
              "        <tr>\n",
              "            <td>Tim Duncan 1977.0       </td> <td>2006</td> <td>San Antonio Spurs     </td> <td>-15.9132</td> <td>-21.3198</td> <td>-2.1188 </td> <td>0.685525</td> <td>-2.28145</td> <td>5.1898  </td> <td>-0.317476</td> <td>13.313 </td> <td>17.709 </td> <td>18.1454</td> <td>2.9416 </td> <td>6.36411</td> <td>22.3977</td>\n",
              "        </tr>\n",
              "        <tr>\n",
              "            <td>Karl Malone* 1964.0     </td> <td>2000</td> <td>Utah Jazz             </td> <td>-15.088 </td> <td>-22.7806</td> <td>-1.68193</td> <td>0.979321</td> <td>-3.94069</td> <td>1.09259 </td> <td>-0.471093</td> <td>14.05  </td> <td>18.215 </td> <td>19.2794</td> <td>4.05227</td> <td>8.67282</td> <td>22.3791</td>\n",
              "        </tr>\n",
              "        <tr>\n",
              "            <td>Tim Duncan 1977.0       </td> <td>2008</td> <td>San Antonio Spurs     </td> <td>-15.3827</td> <td>-22.8596</td> <td>-2.05327</td> <td>0.800488</td> <td>-2.69626</td> <td>4.64351 </td> <td>-0.477921</td> <td>12.8523</td> <td>16.6248</td> <td>20.13  </td> <td>3.37914</td> <td>7.21622</td> <td>22.1767</td>\n",
              "        </tr>\n",
              "        <tr>\n",
              "            <td>Karl Malone* 1964.0     </td> <td>1999</td> <td>Utah Jazz             </td> <td>-16.4436</td> <td>-23.5703</td> <td>-1.8676 </td> <td>0.889905</td> <td>-3.52588</td> <td>1.54784 </td> <td>-0.406233</td> <td>14.6489</td> <td>18.721 </td> <td>19.8465</td> <td>3.76955</td> <td>8.33257</td> <td>21.9426</td>\n",
              "        </tr>\n",
              "        <tr>\n",
              "            <td>Kevin Garnett 1977.0    </td> <td>2004</td> <td>Minnesota Timberwolves</td> <td>-15.5595</td> <td>-21.8331</td> <td>-2.05327</td> <td>1.09854 </td> <td>-3.73329</td> <td>2.54938 </td> <td>-0.406233</td> <td>12.1613</td> <td>16.2634</td> <td>24.6663</td> <td>2.28193</td> <td>6.36411</td> <td>21.7996</td>\n",
              "        </tr>\n",
              "    </tbody>\n",
              "</table>\n",
              "<p>... (4755 rows omitted)</p>"
            ],
            "text/plain": [
              "<IPython.core.display.HTML object>"
            ]
          },
          "metadata": {
            "tags": []
          }
        }
      ]
    },
    {
      "cell_type": "markdown",
      "metadata": {
        "id": "TAwLEN22_8ND"
      },
      "source": [
        "# Conclusion:\r\n",
        "\r\n",
        "Overall, we enjoyed working with historical NBA data and predicting team winrates using our least squares regression model. At the moment, we are only equipped with limited knowledge of data science and machine learning from only one semester of college studies. As we learn more and develop a more encapsulating understanding of these topics, we'll be able to further improve upon our existing work by incorporating more advanced machine learning strategies to create more fine-tuned, nuanced, and accurate models. "
      ]
    },
    {
      "cell_type": "markdown",
      "metadata": {
        "id": "KrdmlupDAJWg"
      },
      "source": [
        "Special Thanks to: Professors Gireeja Ranade, Swupnil Sahai, and David Wagner for exposure to key data science and machine learning fundamentals."
      ]
    }
  ]
}