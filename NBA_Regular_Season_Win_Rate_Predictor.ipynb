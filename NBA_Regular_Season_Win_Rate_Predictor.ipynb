{
  "nbformat": 4,
  "nbformat_minor": 0,
  "metadata": {
    "colab": {
      "name": "NBA-Regular-Season-Win-Rate-Predictor.ipynb",
      "provenance": [],
      "collapsed_sections": [],
      "toc_visible": true,
      "include_colab_link": true
    },
    "kernelspec": {
      "name": "python3",
      "display_name": "Python 3"
    }
  },
  "cells": [
    {
      "cell_type": "markdown",
      "metadata": {
        "id": "view-in-github",
        "colab_type": "text"
      },
      "source": [
        "<a href=\"https://colab.research.google.com/github/DylanHuynh/NBA-Regular-Season-Win-Rate-Predictor/blob/main/NBA_Regular_Season_Win_Rate_Predictor.ipynb\" target=\"_parent\"><img src=\"https://colab.research.google.com/assets/colab-badge.svg\" alt=\"Open In Colab\"/></a>"
      ]
    },
    {
      "cell_type": "markdown",
      "metadata": {
        "id": "8leVOxK-gm-v"
      },
      "source": [
        "# **NBA Regular Season Winrate Prediction Model**\n",
        "\n",
        "by Dylan Huynh & Victor Shen\n",
        "\n",
        "1-5-21"
      ]
    },
    {
      "cell_type": "markdown",
      "metadata": {
        "id": "32KdGdMxDvyQ"
      },
      "source": [
        "# Intro/Summary\n",
        "\n",
        "\n",
        "In this project, our goal is to utilize historical NBA data from 1980 - 2018 to develop a prediction model for a team's regular season winrate during a specific year. Each team is represented by its top 3 guards and top 5 forwards/centers; Carefully-chosen individual statistics for these players from their previous season are used to predict a team's regular season W/L ratio. \n",
        "\n",
        "Our strategy revolves around the least squares approximation concept from linear algebra (covered in one of our recent courses at UC Berkeley, EECS 16a). Given a matrix-vector multiplication equation, $Ax\\approx b$, where $A$ is a matrix and $x$ and $b$ are vectors, an approximation for the vector x can be attained using this formula: \n",
        "\n",
        "![Screen Shot 2021-01-19 at 8.36.07 PM.png](data:image/png;base64,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)\n",
        "\n",
        "This concept is used in various machine learning applications such as determining a unique location using multiple GPS satellite signals.  \n",
        "\n",
        "For our NBA performance prediction model, we fill each row of the $A$ matrix with statistics for the top 8 players on a specific team in a specific year. We have chosen 12 statistics to use for each player (including Player Efficiency Ratio, Win Shares, Box Plus-Minus, our own statistic called the \"Synergy Score\", and others). One row will therefore contain 12 statistics for each of the 3 guards and 5 forwards, appended together with a constant term added at the end. Each value in the $b$ vector is the corresponding regular season winrate for the team during that year.\n",
        "\n",
        "Below, you'll find our setup of $Ax \\approx b$. In the $A$matrix, the term $statsT_iT_j$ designates the stats for the top 3 guards and 5 forwards of the first team alphabetically in the first recorded year of 1981. The term $statG_i/F_j$ details the ith stat (ex. TOV%, TRB%, PER) in the jth position player (1-3 are guards, 4-8 are forwards). The b column is composed of $win\\%T_iY_j$ following the same format as the subscripts of the stats terms, giving the winrate of a specific team in a specific year.\n",
        "\n",
        "![Unknown.png](data:image/png;base64,iVBORw0KGgoAAAANSUhEUgAAAfkAAACiCAYAAABCiLRkAAAAAXNSR0IArs4c6QAAAARnQU1BAACxjwv8YQUAAAAJcEhZcwAADsMAAA7DAcdvqGQAADaWSURBVHhe7Z0HmBRV1oav7hrXnHPOOWMWTJgjigroqgTFnLMoihFxTWBYFJA1YALFjAFFERGzgglZlBXRVVAX3eWX+us91Blrmp6enpnuoafme5+nGbq6q7q669yT7625opgghBBCiMwxd/JXCCGEEBlDRl4IIYTIKDLyQgghREaRkRdCCCEyioy8EEIIkVFk5IUQQoiMIiMvhBBCZBQZeSGEECKjyMgLIYQQGUVGXgghhMgoMvJCCCFERpGRF0IIITKKjLwQQgiRUWTkhRBCiIwiIy+EEEJkFBl5IYQQIqPIyAshhBAZRUZeCCGEyCgy8kIIIURGkZEXQgghMspcUUzyf9EM+f3338Pll18e3nnnnbDddtuF//3vf2HQoEFh9dVXDzvvvLM9f/LJJ8PZZ58d2rRpk+wlhBCiKVBWI//bb7+FHj16hDfffDPZ8gf77bdfOOWUU5JnYk7xz3/+M9xxxx3hoosuCn/5y1/s+VFHHRXOO++8cMABB9h7/vGPf4Rlllkm7LHHHvZcNJwff/wxnHvuuWHixInJlj/o2rVrOPDAA5NndWPIkCGhd+/eybM/WGWVVcJ1110XFl988WSLcJqaniqX7DQmmJ1ff/01LLDAAmGuueZKtlaH9/z3v/8N888/f7KlaTKnr1dZ0/VcpO+++y785z//CTvttFPYddddqx6rrrqqvS7mLG+//XbYbbfdzMDDp59+Gn7++eewzjrr2HNgEC6xxBLJM1EK5plnnrDllltWGxNkUr766qswbdq05F1155dffgkffPBB2Gyzzaode4sttgh/+tOfkneJNHPPPXfYYIMNqv1e6Cv01r///e+K01MzZ840Ofnzn/9c7Zx5LLXUUsm7KpfPPvssnH766eG5554LF1xwgQUWufAdCS7IMpJNbMqUa6wXTSzAZWP69OlRly5doo4dO0bxgEm2ikoijmKi33//PXkWRb169YratGkTTZ06NdkSRbHHHc2YMSN5JsrF999/H7Vu3Trq379/sqXuDBw4MNp4442jsWPHJluaFrGTGb300kvJszmH665u3bpFscFJtlYGLidz6tz4bUaNGmXnUVd++OGHqG3bttGwYcPs+bhx4+y79OvXL4qNXvTTTz9FsRMQnX322dG2225r8pBFSjHWi0WNdxVCLNzhnHPOCS+++GKype4QwZH++de//pVsqZ355pvPIhkggqc2v+GGG4ZFFlnEtgHpMqIG0bwpl4wSyT3//PPh4osvtpLQq6++mrwiKpHHH3887L777uGNN95IthTPJ598Ej7//POw0kor2fOVV1457LDDDiE2eKZ/3n33Xcuc8P/TTjstrL322vY+UX9k5CuEjz/+ODz00ENh0UUXTbbUnaFDh1p5xFPvdSX2ssMXX3xhqd2a6mSi+VIuGaXfA5k76aSTwnrrrZdsFZXKoYceaqnmvffeO9lSPDh0lBS8rLDggguGhRde2MpM66+/vpVJxowZY9sOPvhge49oGDLyFcJ7771nHe3LL798sqVu4PmOHTvWPN+FFloo2Vo38tXjhXDKJaM0Xy255JJh3nnnTbaISoasHo6eZwDrAhE8coBRB+rt//d//1fVEEq9HkcSh48so2g4MvKNBIL87bffWjrKmy1oLqHzktTlW2+9ZVEMEbQPAIf0FQ1A7EszUBoGCa9hoN9//33zhqdOnTpbswrH4HN5D5/HZ+fy4YcfhnXXXbfeSlw0bRoio0C3NPI1efLkas1qxcqoaBy4pkTUpM7TeoBrxkwDh/IM7/NrWWg/Inte8+3IRz5dg5EnSnf5Qi5mzJhhTh/yc8stt4Sjjz46rLbaava6aDgy8o0A3in1JQbBiiuuGB555JHw8MMPm8H+6KOPwmuvvRZGjRoVll122aqaFfPXgRQ609v69etn3m737t1tWg/ToeCbb76xOucLL7wQpk+fbt41z9nu8DlXXnlleOKJJ8yAT5gwwZ4zqPgclPo999wT+vfvb/vR9cq5iuZDQ2QU5+D+++8Pp556qkVfyM+RRx5paV0chGJkVDQOXCumzH755ZdmUBn3zlNPPRVatWoVxo8fb9f9jDPOsOm0TP0qtN+wYcPs2rL9mmuuCXfddVcYPny4peR79uwZbrjhhipZYSonRpy6PhH9fffdZ+txIDdM/+TvXnvtZe8VpUFGvswwz/PWW2+1xpJtttmmSgmStsSj3XHHHa35BK95//33Dy1btrTpT0x3YqBdcsklFjmhgJl2ePjhh9u0NxQxsI19GESbbrqpOQA8Z7vz7LPPmrJl36WXXtr2f/31103h8jl83rHHHmvGfsSIEeGwww6rtr/INg2RUaK4QYMGhbvvvjtcdtlllgli3i/yiKzRtFmMjNYHokUiQWSbaJEHhiOdRRDVYYxTB6cHguvpDZBcGxw5SilcN3om2rVrZ7qHSLum/QgUcP723Xdfi8bvvPNOK/fxfIUVVrCpYzgAZG6A4+EAHnHEEVZ75y+Nd8haOk0/adKk8OCDD4aXX37Z5FPUHxn5MoMiIvJhIKCQGDx0EdNh7NRU63zggQfCSy+9ZN60d7cT2TOYNt54Y3sONdU6HSIxmqZoqsMjp6EFpa657wIaIqPIFVkhlLU7njin33//fdh8882t3g61yWixYMgZEzilZBswOGQFmG/dq1cvczYwJICs07VPBCpmQVSOI0c2j/LL9ttvb9uRAbI5lFJw7ACHjAf9Er4faXkMvu/HdV1uueVsLjgZAHQVTiHgbHFMjpeencP1WWuttczRQ2aQl9tuu60qTY+ckL3cZZdd7LPJGngmAF3GeTDL49prrw0dOnQwZ4LFu3jeqVMn0284fsA5cF7Mt/dtgHxef/31ti9BDfLt8FlkGHBoOCYlLAenhtdoIG0qVLSR50LQbVnKB0qpMVlsscXCnnvuaaks0lcoPlKdbmARGqatsT29kAU1q2eeeSZstdVWluJyqJvjKRNZOXjV1L+23XbbvAuesPgCg5oFP0i3kk5DWbsybM4QJeSTk4Y8MJZNifrKKBDxY0y33nrrZMusEhJpXQyEU5uMFgPncdVVV5nzSwr4mGOOqVp++YQTTrDyAjIOTO+i/ER0OGXKFNsmQjjkkEPMkBNdY2D996JMg6FD3zgYfowu02nZj34MsoLoEN+PmREdO3Y0Q5h7fXHAMMrIQXpKbhqMMGl6ZJDonz4N9BOLxeA8bLTRRtYngDwCDh4lAQw0hh1DTCbgwgsvtOe8xvfDqaA35Pbbb7fSwMiRI6v1BiDHlJcw8Bj1tI7lHJAZzoNj8n2B5b2RPWTKewqaAhUfyfft27ekj8ae743An3nmmTaIGCAMFNKaNCEB3iVRFGnOdHcxAprrWeM1o2w32WSTaoMGL5vUe03NKgwCBiCeO+kwIp7Bgwfbawj4pZdeamlYFCjnxgBmwOHFXnHFFTZwUaAOSpzX8JAdzg2lyr67xk4FaTb3voG51aR48dB9wEJNnnZjkk9OGvJoakvH1ldGMbpsz3U6kTOMb1px1iajtYEjcfPNN5vxRlZys1AoYiJDnxmCzB5//PHVzkvMwvUIjhlGGoie0SlcN4frzzV3o03KnXIeU+cwwGm4vhjR9Mwcxvno0aOtzl9TQDFu3DgzwieeeKLpZs6NQMwzRuzHuh04Ecgh59CiRQt7zb9Hel0PzgGHgZQ/58hx0w5oGt7D0t2UKThPQM7of8JZp9SQBp1IxsqNflOhoo083hZCU+pHY4ECxFNEcaL4iZZonEMgvc7E4CDqcQ+aevnTTz9t/4e0okTQGQB4xkRGAwcOtO0oVbZR48Rosp3InTQYaUwMNSC0559/fmjbtq156fD111+bYOOh4g0fe+yxdq5dunQxL5aeANbuZsoM++DdMig5R2p1Do4I6Ta8epQ55+LKgeNTY8PLJrVLqg4KedqNBQM9n4w09NFUKIWM0jHt64sTdeFQ4uyRlkdeiHpqktFiIUXcp0+fcNxxx81mYIDrSMOWGy1RM74eBsbRxygGHQNPPR5w0MkaprMxXHcepOPZH2MIXE+yV+mZOWyj+Y4ghe1EwRjTNJ6m55p6qQcdg/EmTe/QC0BggQ4iTe9rLORb14P9Tj755KKnY+IAIDc0juJAcD78LrkGvimjmnwZQbFhmKn7OBhnBg61SUBIvdaJ0FNDRJmiZH3AAYaSGiT7YyTxPPEoiaaIwLzWiWfMQCGCwYCzehiOAjUzIIWGIibqAQZtsWvXc3xqXuyLUs2F99G8xWfQcctA5/HYY4/Zd+G1tEdfm6ctyk9DZBRFmmtUUfYodGTUm+IwJDXJaLEgxxiCmpQvn4Fceg+AqBnGuke+gDNHaZTfzue+k2bnfekggxv4UBoh04PBJpUOXEv0RrrfAkefXgmyiBwXx8/lCdALnqbfddddk62zSkfIYtoBxMHEOeTc0nonn67iPTgFxcLvQKMoTi7ZLEpSfMcsISNfRlj6kdoSig5FirFjmgrpcVdGpJ7wUBFYaqIHHXSQGUQUKl4rXfCk0khV4hEjgJ56R9FyHIw0Xi0Dj6iYZhSU3pprrmnpJaDGxCAlmiZlz7Fgn332sXSak2+uPPW4tEdfCPal8YWOa7xvOmQZ0LkGXlQGDZFRZKxz585Ww8TppASEAWcbWRpkAAWO4q9JRoGyFOUfskzIOzcmoaxDlgcDAvwlW+RGBDAk1EeJvtifv2QdRGGIdnHWH330UdMl/M44T1xHnHP0BJka7653PJPDe3D2KL+BZxjT9XgyO2RzcBT4HKL/tEOYm6Z3MLpkkzgvAhsCBoy866s0pVrXg8idc6MMQZo+c8QKuGzEg7DZ36Bm5syZdrMXbkjA75GP2JO2GzfkuwkM+6Rf4y/P2SdN7NHa5/B5uXAMPr+m1514QEWx8q31xhfxAI3igWh/8xFHc1E88KL27dtHsaKv9SYaI0aMsJs1cI7NGb4/v0Nj36CmoTLqMun7+vGQyTSFZLQ2uHFSTTISR4RR7IhE48ePT7b8Qffu3e1RV/guWb9BDdc0fc1///13u46FrlG+a8h+bONvGj9erkzxubFDF8XRc7KlOrFDF/Xo0SPq06dPdNlll0UjR45MXvmDYnUV1KZfeD2O4IsaMy4XjLOG4NdQN6jJAHjCREF4zx4Z5ULak3povqZA9km/xl+e59aciHD4nHzRMsfg82t63YkH5Gw1rvpABoHmQKb5sSBKQ44lyk9DZdRl0vf146Wjbigko7XB3HrKTOmpTkDtmGY8Ura5nf+iMFzT9DUn1c11LHSN8l1D9mObp/odP16uTPG5V199tUXs+SD6pz+IGROxEbcMQS6l0lVARgCd1dCMQKUiIy+qyFfjqg+xl2rpWgZn7sAXoj5Qz2VWCOUCZjDQb4JyppGT1DEpV5+FAvQAUHrAAaDeSlqfbaJpg26hJ4TyDKUdekAoAf03z4I56DJm9VBGIv3PGgo0cOIYAo4CpQSajnkv/Un5juNQNkWOkDv+0nvC+VQ60sCiilLVuKiL4o03dEUzIdIQtaGU27RpY9EhjXjM/rjppptsJkgaZI/eEBSxVnHMDmRruB1x7969rdenR48e1tyXrxEYp4+eEObU00xKj5Ov1Ag0E9NvxNx71iShNynfcRxmCjCDCHnCcWBKXVPIHsnIN3PwavFui1m7Hi8Xr5k583TODhgwoJoXTUTFvkyb4v8cFw+5JmrztIXIxUsBpJlJBStTJERhNEKaOXi1xa5dj5eL10znM55xrhdN9E6dja5qjsXUlHQKNZfaPG0hhBANQ0ZeCCGEyCgy8s0cUuN1XdZWCCFE00BGvplTl2VthRCiFNA0N336dPtbE7zGtEnRMGTkmzl1WdZWCCEaCiscnn766daky7018jX5zpw501Y+5GZErMQn6o+MfDOn1MvaClEffGbGjTfeaNOZWPdeVCbcL4Olb+tzjVg+mewgd39jeWQyh2QNmdlDVpEAg7vXkUX0m9fkLvwl6oaMfIXAGs10lzOlrL4wra1r167WqV4sdMb7NCQGWO6tG4F1qPOtdCaaF+WSURYZQalzUxvuYvjVV1/ZevrMiS+UzhVzBtac554HLDRUV7jrIUacOxcCNylihk7r1q1N/zArh2vO/0877bRqN7UR9UNGvkLgBg+sotSQ2vfQoUPDd999V5V6ryulXCpSZI9yyCgR/L333mtp2zXWWMOmVbLgCDcLufjii+0zRWXBUtU4YlyjukJqngVkfBEZ7hjHNecGRCw2ww1ixowZY9tYzEg0HBn5CoE1uf12nvUBz5eIKH27x7pSqmVtRTYph4ySouWud2eccYalcoHs0jbbbGPvReGLyoKsXr616ouBCB458LsLUm+n8ZdmX6BejyPJnTILrT4nikdGvpFAkLklI+moadOm2TaaS1BspC65dSz3aSaC9gHgkL6i/sW+RD5pGCS8hoFm1Ti84alTp87WrMIx+Fzew+fx2bmUallb0TRpiIwCtVrki/sWpNPshWSUhk6es/gSZaFcVJsvPVxTImpS52k9wDVLd7NTnuF9fi0L7Udkz2u+HfnIp2sw8kTpLl9c3xkzZpjTh/xwbwIyOauttpq9LhqOjHwjgHdKfYlBwHrbjzzyiM07x2B/9NFHtjQsN1pYdtllq2pW6ZsosMJcv379zNvt3r273ZHruuuus9dZhpY65wsvvGBTUvCuec52h8/hRh5PPPGEGfAJEybYcwZVXZa1FdmlITKKc3D//feHU0891aIv5OfII4+0tC4OQiEZ5b707Muqh363Mo7LZ2AMuJuhKB1cqzvuuMPu0Y5BZdw7ZFRowh0/frxdd7IrRx11lN2LotB+3F+ea8v2a665xpa1Hj58uKXke/bsGW644YYqWVlllVXMiFPXJ6K/7777ws4772xyM2TIEPu711572XtFaZCRLzOs637rrbdaYwkpSFeCpCJRYjvuuKM1n+A1syBNy5Ytq5Z2ZaDRiUrkhAIm2jn88MNt2huKGNjGPgwiOuBxAHieXpaWu3ChbNkXpcr+3MEJhVuXZW1FNmmIjBLFDRo0yO47wEJKZIJYzhh5RNaIzouR0TQ4EBiBzp0722fXBNEikSCyTbTIA8ORziKI6jDGqYPTd8P19AZIrg2OHKUUrhs9E+3atTPdQ6Rd034ECjh/LJ5FNH7nnXdauY/nK6ywQthyyy3NASBzAxwPB/CII46wUgx/abxD1tJp+kmTJoUHH3wwvPzyywXvDCdqp6KNPLfxw+Mv5aOxG3lQREQlDAQUEoOHhiI6jJ2aap0sUMMdkvCmvbudyJ7BxL3anXy1zjREYnxvmurwyGloQalr7vssA5dPThr6aEo0REaRK7JCKGt3PHFOGbubb755VXRem4w67HvzzTeb4meONAo/DYacMYFTSrYBg8PvTeMet6LF2cCQALLObUmJQMUsiMpx5MjmUX7ZfvvtbTsyQDaH0gmOHeCQ8eBmQL4faXkMvu/HdV1uueXCPPPMYxkAdJU7ZjhbHJPjpWfncH2YSYGjh8xwzZku52l65ITs5S677GKfTdbAMwHoMs6DWR6syNmhQwdzJpidwfNOnTqZfnPH79VXX7XXuDc92VA+C5BPskfsS1CDfDt8FhkGHBqOSQnLwanhNRpImwoVPy+KlFEpQYE0JosttpjdtIUoh2VjMc6k3JmmBggN09ZQiOnbFlKzYr7wVlttZSkuh7o5njKRlYNXTf2LW3Dmu7kLN4FhYQmWq8Wws4Idg8SVYXOn1DLGjXuaEvWVUSDix5huvfXWyZZZJSTSuum1FWqTUeA4OJ+cD6sv5s4S4TxI/WJo+OtOKs4H44EIkWWYgeldGAQcl/RYae6w5gWwHgEGFp0AlGkwdGRPHAw/RpfptOyH0WY/Sja+3zLLLGPTHnESc68vDhjXADlIT8lNwzFJ03PNif7p0yDdzxRKnAc+i0wA2R2yRDh4lATQacD50EeAvNAMiJOKbOBUkBnASeT9HJcSJxlRnEHkmPISjZ/IU1rH8t4pU6bYeZCJcLhtMdvJMvE9mwzxj1w2Yq8pij3uKPa2otjjS7Y2T+IIPHr22Wej2GuMYqGPxo0bZ9snTZoUxR5tdPvtt9tzh9d5X6x0ky1RFA8a+y3jqCWKFWKyNYpiRRvFEVIUD9Jky+zEEWsUe+7RJZdcEsWedTRw4EDbznHYtt9++0WxcYq6desWxd58tM8++0Tx4IhiZR+1aNEiigdMFHvGUezFR7ExiGKPObrllluiWOjtOJxb7Cnbvq1atYriwVjtHOOBat8nHoxR7N0nWyM75hdffGHH5DdqzvBbxsoriiPPZEvdiSPZKFbAUaxwky3FU1cZnT59etSlS5coVs7Vrh3v4/3s59Qmo8hB7IiazMVK27bNmDEjig1N1f95jc+KnQjblgZdE0dsURyhJltmgfzyqCuuu84///wojuySrZWBy0l9zy2fHnnggQei2KBVG5tcs9gAJ89myUccJUexEbXrlYb3xs5hFEfhyZbI9M2qq64ajRgxItkyOx9//HHUtm3bKDa29jyOsKPWrVtX+1yOPXz4cPv82Imrkgn/HugsPx9+mzj6jqZOnWqy2bVr1yh2Du01zgPdN3LkSHsOw4YNi2JHxeQekLPevXvbuefDZd71Z30pxVgvlrKm64kUWa0Ib6o53vcZ75ZUEDVxmuaIloiQ8Gq9zkQajKiHiB2olz/99NP2f0h7mKSNSI/iGRMZxYJm20m7sY0aZ3xNbTvpOFJTpDE9usErjRVDiAeVeelQl7XrqeMTIZFKixW5peHat29v58L/Sbfh1VPr51zco+f41NjwqEntkqoDurA5Dp5xPPCqdeE2RxgjpD3zdZkXC+ON353jFEMpZJSOaT9noioiOiI90vJEQ2SlapJR4DmNWsyfP+uss6pS9EThgwcPtv+TIu7Tp4+tgEaElwv70LBFZFkK0rqr0jJeLif1PbfYWFrpjkyNj1FmPpARoR4PpKzJGnLNHK47D9Lx7E/6G7h+XKv0zBy/pqT/2U4UTM0/DfrJV7XzUg96iRIAaXqHXgCyQ+ggMpCe4fHvkV7Xg/1OPvlkey+6C3ly2UQveXe/QwYKuaH5k74BzoffJR3Bl4NSjPViUeNdGUGxYZip+zgYRAYOtUlASL3WidBTQ0SZomR9wAGGkhok+2MkR48ebaksUpik2rzWGUdfNlBIUWLAqUnhKLjSJ4WGIqYeBgzaYteuZ6UzOvR5HSHl7nR8Pz7D30fzFp9Bxy0Dncdjjz1m34XX0koJZX3iiSdWS/WKxqUhMooRzDWqKHsUOjLqTXEYkppkFF555RWru6Jcafyk2YrPwIj4VCpkDENQk/LlM5Bp7wEQNcNYT6fPceaoUfPbeTBGmp33pYMMlrKlE55plBjsjTbayLZzLdEbfn0Bg0qvBL0VHBfHz+UJ0AuepvfUO/AcWXQHEHAwcQ45N3cAIZ+u4j04BYC8sMASILek74855hhzOhx+BxpFcXLPPPNMK0nxHbOEjHwZYelHaksoOhQpxo5pKtza1ZVRixYtzOtEYJmCwnrOGEQUKl4r0TONKPQSIJwIIAMG5Yyi5TgYabxaBh5RMc0oKL0111zTGqJgypQpNkiJpulgdUGvy9r1NGLRrMJABJQD9at0nZZ9aXwZNGiQed90yDKgcw28qAwaIqPIGDVcZACnk6gbA842sjTIAAocxV+TjJIl6NatWxgwYEDYY489TBZ5kFHgmC5bGBIiMDcigCFBcRN90SDFX44nCkO0S4MaywajS8im4TxxHXHO0RNkary73vFMDu/BaDLDApAbMow4/VxTIEIlm4OjwOcQ/acdQuQEOcDJTzflYXS59pwXgQ0BA0Y+bZidYtf1QE/R60GvCTfGSX8e4Fxybqzgx4p7mSNWwGXD6xcdO3a0GldzhFoR9SFqTfwe+YiF0OpN1INyYZ/0a/zlOfukoeeBz8mtlQHH4PNret3JV+OqCc6D+hg1r1gBJ1tnEUdzUTzwovbt20exoq/1WNTKqMNxjs0Zr0f2798/2VJ3qBXm1kZro6Ey6jLp+/rxkMk0hWS0Nnr16lWjjFC/pW9k/PjxyZY/qG9Nnu+C7ipmLDQ2LicNPTeuafqaU9/nOha6RvmuIfuxLbc/wI+XK1N8Lv0EXgfPBX1Cf1CfPn2sVyddQ3eK1VX0d/Ts2TOKHVd7Hz0b3333XfLqLNA/cQRf1JhxuWhoTb4UY71YFMmXGTxhoiC8Z4+MciHtST0018ME9km/xl+es08aIhw+J1+0zDH4/Jped+IBOVuNKx/xYLEaPqUCMgOe6nfIILCICZ4zC6IUOpaY8zRURl0mfV8/XjrqhkIyWhvMrafMlJ7qBNSO6RMhZZvb+S8KwzVNX3NS3VzHQtco3zVkP7Z5qt/x4+XKFJ979dVXW8SeD/QJ/UFMeyPLQ4Ygl2J0VexMWB8Heohpd+xDdokyUhoyAuis2jICTRUZeVFFvhpXLhh45onG0ZvNY2Yg5a6OF3uplq5lcOYOfCHqA/Vcpj5RLujbt6/1m6CcaeQkdUzKNd1QhUxSesABoN5KWj9XTkXTA91CvwblGUqZ9IBQAkIPpcH5o8TJ9Ng4YjYHkAfT8dwZxOhTSiBgQe/Rn5R7nDSUTZEj5I6/9J5wPpWONLCoorYal0fwwP2g6ZqmrobCTUNdFG+cZhkhSgVRG0qZOcpEhzRW0UF900032UyQNMgevSEoYpr5mEEgeWz6YKDp3ejdu7f1+rAmBc196YY8oDeAnibek36w9gjZC6CZmH4j5t6znV6Q3OOkYaYAM4iQJ/pPmNffFLJHMvLNHDxepicVs3Y9qS5SaDRNuWeMt+yCTkTFvkyb4v8cFw+5JniNjn0GDI02rFbGPpyTEPnwUgCKmlSwMkVCFEYjpJmDx1vs2vV06tPtmvaM2cc7X4neqbPhDLCdqSnpFGouvEb3NR37TNvC8/Y10YUQQjQcGXkhhBAio5TVyJN2pZOR5gTmPAohaoZ5ylOnTrWV3+oLY41SSaEyiagd112sL0HGqpJwOanEcxPFUYqxXixlNfKkXamdUbPNN/VGCPEHTC1ioaH0Sod1hbFG2aRQmUTUjusuFkmpz5S/cuJyUonnJoqjFGO9WJSuF0IIITKKjLwQQgiRUWTkhRCiRNATwV3QWIClmAfrpbO4jxDlQkZeCCFKBD0R3AyFVfaKeXAjmOOPPz7ZW4jSIyMvhBBCZBQZeSGEKBEs/cxte5l+V+yD2+gKUS5k5IUQokRwgxPulf7BBx8U/fjqq6+SvYUoPTLyQghRIrhxznbbbRdatmxZ9IMbnwhRLmTkhRBCiIxSViPfGMva8hndu3cP6623XhgzZkyyVYimR3NZ1pZbe66wwgrWhV6py7JqWds5B/LbuXNnu/VrvrthZgEtaytEM0TL2lYOWtZWlBMta1sHGIyXXnqpNbtsueWWyVYhRKVChMathVk0RkZK5IKTeuedd1rGJ98tr0XdUE1eCCGEyCgy8kIIIURGkZEXQgghMoqMvBBCCJFRmryR1xQ6IZoWTWEKnZhzNIcpdI2JInkhhBAiozR5I68pdEI0LTSFThRCU+hKiyJ5IYQQIqPMFZWxKEa9nLss8XfTTTfVqndCFIA7mL3zzju2ktkaa6yRbK0b1DAnTpwYNtlkk7DooosmW0Vdcd2Fztpwww0rKuPgcrLQQgtV3LmJ4ijFWC+WskbyM2bMCI888kgYPHhw2dauFyIrTJ8+PfTt29eMS3159913raGNdddF/XHdRcq40oyoy0klnpsojlKM9WIpq5EnScAC/JMnTw4zZ85Mtgoh8sEY4d7i06ZNS7bUnV9++SWMHTvWboAh6o/rLpylSpsB4HJSiecmiqMUY71YVJMXQgghMkqTN/KaJy9E00Lz5EUhNE++tCiSF0IIITJKkzfymicvRNNC8+RFITRPvrQokhdCCCEyioy8EEIIkVFk5IUQQoiMIiMvhBBCZBQZeSGEECKjyMgLIYQQGUVGvhnw0UcfhW222Sacc8454dprrw0dOnSwxUjOO+88e96pU6dw8MEHhx9//DHZQwghRBaQkW8GMN/0mmuuCddff70Z9i222CLssMMO4cILL7TnvLb++uvrLoFCiJLB/RNqu4cCNwLSzcvKi4x8xiE6nzp1amjRooU9//nnn+0Wh9yicpFFFrFt3CxhscUWC/PNN589F0KI+oLRvuOOO+zBojb33ntvXkM+adIkyyp++OGHyRZRDmTkMw73FCdNzypS8MMPP4QvvvjConlfbWzJJZe01cfmnXdeey5EY8A9tZ944omibovLeuZXX3213blLlJ/x48eH999/v153D33yySfDm2++GY477rhw4oknhq+//jqccsopto27rnG9eQ8lQlYp3XjjjZM9RTmQkW9Enn/+eUuPczvQ+oBSvO6668LAgQOTLbUz99xzV4vQP/30U4vm11lnnWTLrPcsuOCCyTMhZlEOeWXbG2+8YdFdmzZtwiWXXBK+//775NX8cBObxx57LDz44IN2H25RXsj+nXrqqeGqq66q87X/7bffwnPPPRdWW201CyxYdpzS4C677BLWXHNNi9px1Agw1lprrfDXv/7V3iPKh4x8I4HwDx482GpQ9Y2YGRyDBg2qSrPXBwbZuuuuG5ZffvlkixCzUy55nWeeeUz+DjjggNC2bdtka2G4L8Vtt92WPBPlZvHFFw8PPPBAuOeee+qsa3799Ve7c9waa6yRbAlh2WWXtXvzkzHE4K+44orm+J155plh6aWXTt4lyoWMfCNBmvzjjz82BVdfpfnll1+Gn376ybzk+pCvHi9EPsolr2SNMCKUkYq5OQ1p+scffzwceOCByRbRGCy00EJhgQUWSJ4Vz/zzzx9WWmmlMGXKlGRLsGwAhh64NXi/fv2sR0g3FGscZORLCMI8duzYMGHChKpGEzxbalBMY6MWToqKdFhuIwpdqOyLF5yug5Gq9DrWiBEjTOkuvPDCti33Xtwcg/oXtTQ+N5d89XjRPHG5Qla4I5zLXGPKa23wfmq3GISVV1452SqKAefo3XffNScrTbqbnetG7Z33OjXth1wgE/5ejpFP1+AYcM2J3DHoQPbQHT1KNR988EE4+uijpYMaCRn5EoDA00l61113hSWWWMKE/uKLLzZBx+Aj1E899ZTNTaem+N5771nHO6DIXnzxRWtSIdL+5JNPwlFHHRX22msvU7KuTEeNGhVee+01S7OjWNmWnp7C4DnjjDNsEOI133zzzfZ+oOZJfZU58a+//nrVsaiPiuYHMnLllVda0xvyhIzyHLltLHkths8//9wiwh133DHZIoqB35qudn47rs0333xj2zHcdLP36tXLnr/yyiths802s/dCof3oreD6HnTQQSY3N954o5V0CBzY9tlnn9l7gX1xHMkEYeC5jjTXoQ8pu1DvJ5sjGgcZ+RLw9ttvh+HDh5viw8DiHQ8bNswGAPPPt912W1Nw22+/fWjdunVo2bJlWGqppWxfBhrz1c8991xbsIbXUK54uaQ0aZpjfxrlULT77befvYdt3lBHpPW3v/3NPh8vGuP99NNPm8IGPmuPPfYIvXv3NiXdo0cPq41pylzz5NlnnzWZOfzww60mivzi/GHQG0NeiwGHg7owHdiF1m/A0PTt29ccAR44KzizvsjTVlttZY4I9O/fP/Tp0ye8/PLL5vRiuDBAWYKxjxHm2nJNiLY9KkcfcK0333xze7711luHI444wn7DQvvh9HE9eXz77bfhmWeeCV27drUsD8ab99M576ADMebsz7EJeOjFuPvuu6vS9HweMkcDJlPpHKL/Sy+9NOy///7W+HfZZZeFDTbYIOy77752Ta+44gqTpYcfftjej+NAcIXT0a1bN3MuPWPEXxxU9uFas49nHQh8WDcE2T3ssMPsfQ7ncN9991nGk8/kO0Ohz8KhRVaRReTLH2RFPKMxp6jo1U+4EHXpJC+GPffc04SmlODFutfKwEEIqTutvfba9rrXNxlQ6fomnjJKiXOiTg4IP9+bgZj2dgvV4/G8aU566623bOAxyG666Sb7vygMvzeKv5Rst912VesSVCKkXZFHIjNkFOVEJE4WCsotr8VAHZ5xRJNWIagBY5hwsjFCF110kRkdwGnp3r27vQdoBKTzm5QyDsrxxx9f7/OrVCiLcB1xylgEi+tCjRww8vTirL766vac7ne63nGi0vu9+uqr1fbDyBHx8/thtLt06VI1JRfDR9ROSSYNrxNIOFwf5A69hNEjKOHacu3Igu69994mizgXZEZx8DgGWSAcMj6TZk2gqQ+HEvlievCxxx5r34PSATJ7yy23hN122y2MGTMm9OzZ0xwOvhtGHvm9/PLL7XuSUeDz+F6rrLKKHRtwcNGpGHTvG6jts/htkX/GAg+Mv2dX5/TsgYqP5BGqUj7KAQqdRhUiCYTnggsuMENLkxGg8HgQVaQZPXq0Rfw77bRTlSB43XzTTTet2obA4DWybdVVV7VtaRDQVq1ahRNOOMEWtSFqx2P1gSgKk09OGvKodHbddVdTSji7yCnKjLS6G8dyy2ttcG5kw3beeedkS2EwMihdxiHfASPBdeD/jAHGJvB/viuZDKK7rBl4WGaZZULHjh3D5MmTzbCik/jeGFaMjl9zB+NF9sb347fEEfL94JBDDgnrrbde3mvKlFz0HBnEmsBJ+Pvf/x7OPvtsM4REzTggyCHZHbJF9F4gN2QaMJr+2fmm/HJdMdpkB/g+Hp1zLJxSjCzfF0cRZ5SufvbZZJNNLBBCXv39OA5E4cg2IDsEaMh4ujGw0GcBmTGie6ac8iAL1q5du6JluJxUdCSPwTz//POTZ5ULETOpGYSHWibeKobXowoifLzn3GlrCDuC5J41INR4xww8h4Y+tuPpusJKQ2RCnQ3hGjlypNXj8VZJhfEb4kG7B8pzzueFF16w+hyDhZQlwko6DcFlTjKeLAqcVCsPT5migJmvzIBEWaAA8KoZiI8++qilt5ZbbjlLuaWNAXVcpsyQduNc+M1o/GGAkeoj6mI/PHuOx2Di+/B/Ijof9LDRRhvZ9ygFDNamIGOlhAgLo0gadsiQISY7yBZKCcotr7WBkUEO77///mRLMLkm/c/58vnIka/t4Ol4j8ZQ7kSWOLvMw3eQ2YkTJ5q8c3ycgqzOMvHrQmYRMOZcc669R92MWcZ92mgz+wYwwGn8mqZn5hDxovcYn+lIOI0bTYydL3pD1pFz8DFNypxrw5jfZ599zKA6yCIORFoW0TnoIx6UjYD9MdQ4I5w7+gRdhQPhkNHhe+B0uFPC70MWC1kju0NJhyxG2sADOramzwIWE3PobSD7QFkL/T+nUU2+ASDApJ24wAgVgnP66afbAg88x4gRUTC4EBwME+lN0lOkx4Bt6TQnniZeK93ECB6CilCSPmUwYTRJYWHAgdQa6VYUNkaS/2Pg+VxvdCp27XrOlzoYgkmaibob9XsEHzgXUlYMMgwj3/ess84yBcKgpWOWaIDvjuJwA8/vRN2NzyFd5mUE+gZIoXXu3NnOheiR34/GMI6Bo8GAZ6ATRQwdOtQcifpM7RGzGu7IMhHFAoqM68h8dZQflFteiwF5QK4YR/4gdUyWiql01FDdwKNwOV/Om7rrMcccY05L2hFxOG9kkdQwx0Ne3UHIGowZ0tpe7mAskZr2Mgvg8BDB40gD8kFdHucHo0r0zfUEz5akZ+Ywpqmr48zz+xNccIw0OPEEP8iY78e5EF3jaAHGmvGOrOF0ewYUJyTflF+MtQcdQJBw66232rkTSCCjnnJPg8OJniI973BcZIrsDvsi94Wi73yflYbvwDgglV8pekpGvgGg+EhfojAQTkBY8aDxDlFwCD1CjkFEqIlIEHAGFh5sGjxAIhWUJkJKrZ/3ojQxpKQXUVIIGAoU8KQ5ritej1aomxJpk0YiAvIacb6Bg3FHgaI4McB8Btv4Tjx8sBD9cz5eq+M7MdBxMIBBjOfMufK7cC48yAzQ4MVrac+W8+N34LvyWzEo+O14ToSx++67W0YARwRHiveTHUlH9aJ4UPI4hURdHi1xrVDQZGug3PJaavgcMgzt27c3o4SBR0mnU9IOGSQMPEaEc8Mpfuihh0xGswbGOw26inHshofrgmFLR7r0XDCWaZZkCiSZPI+g0SnotnSJg5IKskNZx4OM9NhEDrgmjN20kWblO5wHjgc4mFyDXKPopaDapvwSgbNsLtce/UCmMR8YYB5pBwHQhfxeyAYOSyFq+yxkEZ1YU2ZjTiAj3wBIdRM5oAwxTnjPpKtJE7qwYDwxuAwwIlciHKacwKGHHmp1HjqWMda8TjMQhpmIlWYXPE+UKEqSgXH77bdbXYxUKJDeJopiH5Q4KXcGJE0lGE6Uc7Fr1zPIUIR8J/ZFYFEGRE7UuNiPyMAHI4MF75jtDsaBbMKgQYNMaXhqP9fAA8qBxig+nxoijTJ8Ng4LxyErAJwDU3uoc+VT3qI4UK5EGIA8EpWQXTnppJPs94ZyyyvOAJEO2QTKWsgYKXXGDTXjXNjGe3EUMCo0UnFMzzwgNzgXXo9Hdujm5jzSkKJHtnO76RkzGKqs4U4+1wVHjTKiGyV+A35DUtVpo42h4xoybsm8EOF68ELGJrcejyHjuvJ+ZIkSisOYzU3TO2SQOC56Cjzo8AZJh/JAbj0+DdkFPgOdBuhjZBznBfi/fwZwLB65fSIEFDh+PlMgH4U+K529IHOBPq5PmapsxAq4bMSeWtSlS5coVtZR/EMkW7NH7B1GsaBEsQBEsTFMtv5BHBVHcTQdxQKWbPkD3s9+6df4P+9nP2fGjBn2Pj4rFz8G55Dv9TTPPfdcFAtzFEdhyZbZGTduXBQrgaht27bR0KFD7fh+LWOjnLzrj+ub3gajRo2K4gggiqOrKDb21b5HLnzPWOlHsVNix4mVd/LKH4wePdpeixVHsiWbcP1iZyjq379/sqXuDBw4sNbry3Xjs3JlzCm3vJaSIUOGRLHxMZktROyAR6effrqdE3C+7dq1i+JI057n4rLdrVu3gvI7J3A5qe3c/DrynV0v+bWv6brUdN3Yj0cubEsf34kNd9SpU6do2rRpyZbqxI5HdNppp0UDBgyIYkcz77iPo+WoTZs29h3ywbVH1mNH0Z7/9NNPUYcOHaJzzz3Xzp9re8EFF1TpjdhRiWJHJIoNtj130HWFPgdq+yxwmcnVh/koxVgvFkXyJYBInmiUKMLrSWnwDomo83l3vJ/90q/xf96f9iqJmnkfn5WLH4NzyPd6mnyNLLnweiysFj0Tkd9www1553rirceCPVv6Cw+XTlY8Y6K/mrxj4HsSXdLbQLqPZkCyIk48gCyq8PquaDhkYpCVXBlzyi2vpYDoiWwCU63IDtCVTe2/JpBpGjbZh6iMNDI1a89sZBG/jlwH10t+7Wu6LjVdN/bzDF4atqWP7/giO+k0fRrGM2Oe8U45zjON6BnmlrNuPr1AZAloxMx3benCp1mUGjulAWQBuaCXiPNH96A/6Nz3vhCa51z3xc6JZTrYL3ZUTYZ4fz5q+ywgI0RmKFcfznESY18W3LPJeiTfVHDvs6YI4Mcff4z69esXTZw4MdkSmVfaqlWraPLkydFVV10VxUId/frrr/aae6OxwNtzh6iK6Gr48OHJltnBuyZL8Morr1Sdy4gRIyiORsOGDbPnMGHCBPO+C0WmWaEU3n0xkXxzhqwDv3O+LEUa111NOZJvLvg1zc0mgWeeeJ1r2lAKfRbwejGf49dQkbwoKXiuhRpZeI0OfKbcAV4101qo1eGx03RCLZT1r4H/cxwipDTUwfDMc2tfadgXT52pJn48sgLsQ6Th4BnzyHe+QtQVsg7IV74shWia+DXNl5lKZznzZSLqSqHPAl4vxeeUkkYx8qTTMDB0bPoDJS8ah9hrLGrtehprmDpHOooHaS7mg5LiIu3GAhnMDSWFT8pzwIAB1ihHMxaQviK1xoIj/J+0W+zZ2mu5MEiYgkIKHqeATm1WpmL6X9pp8PRX1lL1cRRgDWvpMcFzSiANhWPEkcZsx+YzxezEwY51n6d/L/QVequSIT2cq1d9sRZROZRzrBfFrIC+PHjKi4/JfSjVVLlw3UgnkebKbajhmpGq4vXaUp7F4I0+HM8bWNLwOp+Xex5NHU/X5RsbDU3X5zvm7rvvHk2ZMiV5l0jT1PRUuWRHlIc5fb3m4p/4w8oCh2Yeaz6PheiM6FBpWNEcwbsneuRvLkwvqm86mUiOskcupC2ZVlZxTUEVQFPTU+WSHVEe5vT1KquRF0IIIcScQ413QgghREaRkRdCCCEyioy8EEIIkVFk5IUQQoiMIiMvhBBCZBQZeSGEECKjyMgLIYQQGUVGXgghhMgoMvJCCCFERpGRF0IIITKKjLwQQgiRUWTkhRBCiIwiIy+EEEJkFBl5IYQQIqPIyAshhBAZRUZeCCGEyCgy8kIIIURGkZEXQgghMoqMvBBCCJFRZOSFEEKIjCIjL4QQQmQUGXkhhBAio8jICyGEEBlFRl4IIYTIKDLyQgghREaRkRdCCCEyioy8EEIIkVFk5IUQQoiMIiMvhBBCZBQZeSGEECKjyMgLIYQQGUVGXgghhMgoMvJCCCFERpGRF0IIITKKjLwQQgiRUWTkhRBCiEwSwv8DAN2sHWi7mrEAAAAASUVORK5CYII=)\n",
        "\n",
        "We then perform the aforementioned least squares method on the training set to find the vector $x$, which we then use on data from teams/years designated to the test set to produce predictions of their regular season W/L%. \n",
        "\n",
        "Below, you'll find a brief snippet of our results: a table containing NBA regular season W/L ratio predictions for the 1983-84 and 2011-2012 seasons.\n",
        "\n",
        "\n",
        "\n",
        "\n",
        "\n",
        "\n",
        "\n",
        "\n"
      ]
    },
    {
      "cell_type": "code",
      "metadata": {
        "colab": {
          "base_uri": "https://localhost:8080/"
        },
        "id": "_FdbyE3tJnXF",
        "outputId": "4eeb6859-b6bc-485e-8129-29d07e049c61"
      },
      "source": [
        "import numpy as np\n",
        "from datascience import *\n",
        "import pandas\n",
        "from IPython.display import Image "
      ],
      "execution_count": null,
      "outputs": [
        {
          "output_type": "stream",
          "text": [
            "/usr/local/lib/python3.6/dist-packages/datascience/tables.py:17: MatplotlibDeprecationWarning: The 'warn' parameter of use() is deprecated since Matplotlib 3.1 and will be removed in 3.3.  If any parameter follows 'warn', they should be pass as keyword, not positionally.\n",
            "  matplotlib.use('agg', warn=False)\n",
            "/usr/local/lib/python3.6/dist-packages/datascience/util.py:10: MatplotlibDeprecationWarning: The 'warn' parameter of use() is deprecated since Matplotlib 3.1 and will be removed in 3.3.  If any parameter follows 'warn', they should be pass as keyword, not positionally.\n",
            "  matplotlib.use('agg', warn=False)\n"
          ],
          "name": "stderr"
        }
      ]
    },
    {
      "cell_type": "code",
      "metadata": {
        "id": "3-3P1_WpkSNX",
        "colab": {
          "base_uri": "https://localhost:8080/",
          "height": 1000
        },
        "outputId": "eac95698-915a-49d0-9968-9f3eb8d6c6f0"
      },
      "source": [
        "preview = Table.read_table('/content/sample_years.csv')\r\n",
        "preview.sort(\"Actual\",descending=True).sort(\"Season\").show(49)\r\n"
      ],
      "execution_count": null,
      "outputs": [
        {
          "output_type": "display_data",
          "data": {
            "text/html": [
              "<table border=\"1\" class=\"dataframe\">\n",
              "    <thead>\n",
              "        <tr>\n",
              "            <th>Season</th> <th>Team</th> <th>Actual</th> <th>Predicted</th> <th>Actual - Predicted</th> <th>(Actual-Predicted)/Predicted</th> <th>Accurate</th>\n",
              "        </tr>\n",
              "    </thead>\n",
              "    <tbody>\n",
              "        <tr>\n",
              "            <td>1984  </td> <td>Boston Celtics        </td> <td>0.756 </td> <td>0.686233 </td> <td>0.0697673         </td> <td>-0.0922848                  </td> <td>True    </td>\n",
              "        </tr>\n",
              "        <tr>\n",
              "            <td>1984  </td> <td>Philadelphia 76ers    </td> <td>0.634 </td> <td>0.706825 </td> <td>-0.0728254        </td> <td>0.114867                    </td> <td>True    </td>\n",
              "        </tr>\n",
              "        <tr>\n",
              "            <td>1984  </td> <td>Milwaukee Bucks       </td> <td>0.61  </td> <td>0.609743 </td> <td>0.000257417       </td> <td>-0.000421996                </td> <td>True    </td>\n",
              "        </tr>\n",
              "        <tr>\n",
              "            <td>1984  </td> <td>Detroit Pistons       </td> <td>0.598 </td> <td>0.502888 </td> <td>0.0951123         </td> <td>-0.159051                   </td> <td>True    </td>\n",
              "        </tr>\n",
              "        <tr>\n",
              "            <td>1984  </td> <td>Portland Trail Blazers</td> <td>0.585 </td> <td>0.577063 </td> <td>0.00793698        </td> <td>-0.0135675                  </td> <td>True    </td>\n",
              "        </tr>\n",
              "        <tr>\n",
              "            <td>1984  </td> <td>New York Knicks       </td> <td>0.573 </td> <td>0.586234 </td> <td>-0.0132345        </td> <td>0.0230968                   </td> <td>True    </td>\n",
              "        </tr>\n",
              "        <tr>\n",
              "            <td>1984  </td> <td>New Jersey Nets       </td> <td>0.549 </td> <td>0.609772 </td> <td>-0.0607719        </td> <td>0.110696                    </td> <td>True    </td>\n",
              "        </tr>\n",
              "        <tr>\n",
              "            <td>1984  </td> <td>Utah Jazz             </td> <td>0.549 </td> <td>0.475184 </td> <td>0.0738161         </td> <td>-0.134456                   </td> <td>True    </td>\n",
              "        </tr>\n",
              "        <tr>\n",
              "            <td>1984  </td> <td>Seattle SuperSonics   </td> <td>0.512 </td> <td>0.467952 </td> <td>0.0440485         </td> <td>-0.0860322                  </td> <td>True    </td>\n",
              "        </tr>\n",
              "        <tr>\n",
              "            <td>1984  </td> <td>Phoenix Suns          </td> <td>0.5   </td> <td>0.573387 </td> <td>-0.0733865        </td> <td>0.146773                    </td> <td>True    </td>\n",
              "        </tr>\n",
              "        <tr>\n",
              "            <td>1984  </td> <td>Atlanta Hawks         </td> <td>0.488 </td> <td>0.512773 </td> <td>-0.0247734        </td> <td>0.0507652                   </td> <td>True    </td>\n",
              "        </tr>\n",
              "        <tr>\n",
              "            <td>1984  </td> <td>Denver Nuggets        </td> <td>0.463 </td> <td>0.504592 </td> <td>-0.0415917        </td> <td>0.0898308                   </td> <td>True    </td>\n",
              "        </tr>\n",
              "        <tr>\n",
              "            <td>1984  </td> <td>Kansas City Kings     </td> <td>0.463 </td> <td>0.489011 </td> <td>-0.0260108        </td> <td>0.0561789                   </td> <td>True    </td>\n",
              "        </tr>\n",
              "        <tr>\n",
              "            <td>1984  </td> <td>Golden State Warriors </td> <td>0.451 </td> <td>0.411319 </td> <td>0.0396811         </td> <td>-0.0879847                  </td> <td>True    </td>\n",
              "        </tr>\n",
              "        <tr>\n",
              "            <td>1984  </td> <td>Washington Bullets    </td> <td>0.427 </td> <td>0.495253 </td> <td>-0.0682532        </td> <td>0.159844                    </td> <td>True    </td>\n",
              "        </tr>\n",
              "        <tr>\n",
              "            <td>1984  </td> <td>San Diego Clippers    </td> <td>0.366 </td> <td>0.415256 </td> <td>-0.0492565        </td> <td>0.134581                    </td> <td>True    </td>\n",
              "        </tr>\n",
              "        <tr>\n",
              "            <td>1984  </td> <td>Houston Rockets       </td> <td>0.354 </td> <td>0.391765 </td> <td>-0.0377651        </td> <td>0.106681                    </td> <td>True    </td>\n",
              "        </tr>\n",
              "        <tr>\n",
              "            <td>1984  </td> <td>Cleveland Cavaliers   </td> <td>0.341 </td> <td>0.370137 </td> <td>-0.0291366        </td> <td>0.0854447                   </td> <td>True    </td>\n",
              "        </tr>\n",
              "        <tr>\n",
              "            <td>1984  </td> <td>Chicago Bulls         </td> <td>0.329 </td> <td>0.416794 </td> <td>-0.0877939        </td> <td>0.266851                    </td> <td>True    </td>\n",
              "        </tr>\n",
              "        <tr>\n",
              "            <td>2012  </td> <td>Chicago Bulls         </td> <td>0.758 </td> <td>0.686506 </td> <td>0.0714941         </td> <td>-0.0943194                  </td> <td>True    </td>\n",
              "        </tr>\n",
              "        <tr>\n",
              "            <td>2012  </td> <td>San Antonio Spurs     </td> <td>0.758 </td> <td>0.691411 </td> <td>0.0665886         </td> <td>-0.0878477                  </td> <td>True    </td>\n",
              "        </tr>\n",
              "        <tr>\n",
              "            <td>2012  </td> <td>Oklahoma City Thunder </td> <td>0.712 </td> <td>0.616557 </td> <td>0.0954427         </td> <td>-0.134049                   </td> <td>True    </td>\n",
              "        </tr>\n",
              "        <tr>\n",
              "            <td>2012  </td> <td>Miami Heat            </td> <td>0.697 </td> <td>0.694849 </td> <td>0.00215132        </td> <td>-0.00308655                 </td> <td>True    </td>\n",
              "        </tr>\n",
              "        <tr>\n",
              "            <td>2012  </td> <td>Indiana Pacers        </td> <td>0.636 </td> <td>0.511387 </td> <td>0.124613          </td> <td>-0.195932                   </td> <td>False   </td>\n",
              "        </tr>\n",
              "        <tr>\n",
              "            <td>2012  </td> <td>Los Angeles Lakers    </td> <td>0.621 </td> <td>0.525918 </td> <td>0.0950821         </td> <td>-0.153111                   </td> <td>True    </td>\n",
              "        </tr>\n",
              "        <tr>\n",
              "            <td>2012  </td> <td>Memphis Grizzlies     </td> <td>0.621 </td> <td>0.646173 </td> <td>-0.0251735        </td> <td>0.040537                    </td> <td>True    </td>\n",
              "        </tr>\n",
              "        <tr>\n",
              "            <td>2012  </td> <td>Atlanta Hawks         </td> <td>0.606 </td> <td>0.545099 </td> <td>0.0609013         </td> <td>-0.100497                   </td> <td>True    </td>\n",
              "        </tr>\n",
              "        <tr>\n",
              "            <td>2012  </td> <td>Los Angeles Clippers  </td> <td>0.606 </td> <td>0.48633  </td> <td>0.11967           </td> <td>-0.197475                   </td> <td>False   </td>\n",
              "        </tr>\n",
              "        <tr>\n",
              "            <td>2012  </td> <td>Boston Celtics        </td> <td>0.591 </td> <td>0.595167 </td> <td>-0.00416745       </td> <td>0.00705153                  </td> <td>True    </td>\n",
              "        </tr>\n",
              "        <tr>\n",
              "            <td>2012  </td> <td>Denver Nuggets        </td> <td>0.576 </td> <td>0.521109 </td> <td>0.0548914         </td> <td>-0.0952976                  </td> <td>True    </td>\n",
              "        </tr>\n",
              "        <tr>\n",
              "            <td>2012  </td> <td>Orlando Magic         </td> <td>0.561 </td> <td>0.686071 </td> <td>-0.125071         </td> <td>0.222943                    </td> <td>False   </td>\n",
              "        </tr>\n",
              "        <tr>\n",
              "            <td>2012  </td> <td>Dallas Mavericks      </td> <td>0.545 </td> <td>0.633394 </td> <td>-0.0883938        </td> <td>0.16219                     </td> <td>True    </td>\n",
              "        </tr>\n",
              "        <tr>\n",
              "            <td>2012  </td> <td>New York Knicks       </td> <td>0.545 </td> <td>0.538525 </td> <td>0.00647533        </td> <td>-0.0118813                  </td> <td>True    </td>\n",
              "        </tr>\n",
              "        <tr>\n",
              "            <td>2012  </td> <td>Utah Jazz             </td> <td>0.545 </td> <td>0.34524  </td> <td>0.19976           </td> <td>-0.366532                   </td> <td>False   </td>\n",
              "        </tr>\n",
              "        <tr>\n",
              "            <td>2012  </td> <td>Philadelphia 76ers    </td> <td>0.53  </td> <td>0.530884 </td> <td>-0.000883689      </td> <td>0.00166734                  </td> <td>True    </td>\n",
              "        </tr>\n",
              "        <tr>\n",
              "            <td>2012  </td> <td>Houston Rockets       </td> <td>0.515 </td> <td>0.488    </td> <td>0.0269998         </td> <td>-0.0524268                  </td> <td>True    </td>\n",
              "        </tr>\n",
              "        <tr>\n",
              "            <td>2012  </td> <td>Phoenix Suns          </td> <td>0.5   </td> <td>0.506153 </td> <td>-0.00615314       </td> <td>0.0123063                   </td> <td>True    </td>\n",
              "        </tr>\n",
              "        <tr>\n",
              "            <td>2012  </td> <td>Milwaukee Bucks       </td> <td>0.47  </td> <td>0.517398 </td> <td>-0.0473981        </td> <td>0.100847                    </td> <td>True    </td>\n",
              "        </tr>\n",
              "        <tr>\n",
              "            <td>2012  </td> <td>Portland Trail Blazers</td> <td>0.424 </td> <td>0.462812 </td> <td>-0.0388117        </td> <td>0.0915371                   </td> <td>True    </td>\n",
              "        </tr>\n",
              "        <tr>\n",
              "            <td>2012  </td> <td>Minnesota Timberwolves</td> <td>0.394 </td> <td>0.354528 </td> <td>0.0394717         </td> <td>-0.100182                   </td> <td>True    </td>\n",
              "        </tr>\n",
              "        <tr>\n",
              "            <td>2012  </td> <td>Detroit Pistons       </td> <td>0.379 </td> <td>0.417333 </td> <td>-0.0383331        </td> <td>0.101143                    </td> <td>True    </td>\n",
              "        </tr>\n",
              "        <tr>\n",
              "            <td>2012  </td> <td>Golden State Warriors </td> <td>0.348 </td> <td>0.422693 </td> <td>-0.0746932        </td> <td>0.214636                    </td> <td>True    </td>\n",
              "        </tr>\n",
              "        <tr>\n",
              "            <td>2012  </td> <td>Toronto Raptors       </td> <td>0.348 </td> <td>0.418185 </td> <td>-0.0701853        </td> <td>0.201682                    </td> <td>True    </td>\n",
              "        </tr>\n",
              "        <tr>\n",
              "            <td>2012  </td> <td>New Jersey Nets       </td> <td>0.333 </td> <td>0.409166 </td> <td>-0.0761665        </td> <td>0.228728                    </td> <td>True    </td>\n",
              "        </tr>\n",
              "        <tr>\n",
              "            <td>2012  </td> <td>Sacramento Kings      </td> <td>0.333 </td> <td>0.350596 </td> <td>-0.0175961        </td> <td>0.0528411                   </td> <td>True    </td>\n",
              "        </tr>\n",
              "        <tr>\n",
              "            <td>2012  </td> <td>Cleveland Cavaliers   </td> <td>0.318 </td> <td>0.292244 </td> <td>0.0257562         </td> <td>-0.0809943                  </td> <td>True    </td>\n",
              "        </tr>\n",
              "        <tr>\n",
              "            <td>2012  </td> <td>New Orleans Hornets   </td> <td>0.318 </td> <td>0.38579  </td> <td>-0.0677898        </td> <td>0.213175                    </td> <td>True    </td>\n",
              "        </tr>\n",
              "        <tr>\n",
              "            <td>2012  </td> <td>Washington Wizards    </td> <td>0.303 </td> <td>0.388352 </td> <td>-0.0853517        </td> <td>0.281689                    </td> <td>True    </td>\n",
              "        </tr>\n",
              "        <tr>\n",
              "            <td>2012  </td> <td>Charlotte Bobcats     </td> <td>0.106 </td> <td>0.154936 </td> <td>-0.0489357        </td> <td>0.461657                    </td> <td>True    </td>\n",
              "        </tr>\n",
              "    </tbody>\n",
              "</table>"
            ],
            "text/plain": [
              "<IPython.core.display.HTML object>"
            ]
          },
          "metadata": {
            "tags": []
          }
        }
      ]
    },
    {
      "cell_type": "markdown",
      "metadata": {
        "id": "5X2b8BcnfQ4p"
      },
      "source": [
        "In additon, after we created our regular season W/L prediction model, we wondered if we could do more with our resulting $x$ vector. We aggregated the weightings of each stat (separated by guards and forwards), and then used these weightings with our historical player data to generate a rating for each player. After sorting the players by rating, we get a ranking of the best NBA player performances of all time. (Keep in mind that this is not all perfect, but it is interesting to see)"
      ]
    },
    {
      "cell_type": "code",
      "metadata": {
        "id": "s25tfRXUIP8V"
      },
      "source": [
        "forward_ranks = Table.read_table('/content/forward_ranks.csv')\n",
        "guard_ranks = Table.read_table('/content/guard_ranks.csv')"
      ],
      "execution_count": null,
      "outputs": []
    },
    {
      "cell_type": "code",
      "metadata": {
        "colab": {
          "base_uri": "https://localhost:8080/",
          "height": 514
        },
        "id": "QGyPHH-vHojc",
        "outputId": "72ee6c1b-c3fe-4dac-e14b-4c47ca2e0958"
      },
      "source": [
        "guard_ranks.show(15)"
      ],
      "execution_count": null,
      "outputs": [
        {
          "output_type": "display_data",
          "data": {
            "text/html": [
              "<table border=\"1\" class=\"dataframe\">\n",
              "    <thead>\n",
              "        <tr>\n",
              "            <th>Player</th> <th>Year</th> <th>Team</th> <th>Overall</th>\n",
              "        </tr>\n",
              "    </thead>\n",
              "    <tbody>\n",
              "        <tr>\n",
              "            <td>Stephen Curry </td> <td>2017</td> <td>Golden State Warriors</td> <td>52.3956</td>\n",
              "        </tr>\n",
              "        <tr>\n",
              "            <td>Michael Jordan</td> <td>1990</td> <td>Chicago Bulls        </td> <td>50.5549</td>\n",
              "        </tr>\n",
              "        <tr>\n",
              "            <td>Michael Jordan</td> <td>1992</td> <td>Chicago Bulls        </td> <td>50.1781</td>\n",
              "        </tr>\n",
              "        <tr>\n",
              "            <td>Michael Jordan</td> <td>1989</td> <td>Chicago Bulls        </td> <td>49.9567</td>\n",
              "        </tr>\n",
              "        <tr>\n",
              "            <td>Magic Johnson </td> <td>1990</td> <td>Los Angeles Lakers   </td> <td>48.0057</td>\n",
              "        </tr>\n",
              "        <tr>\n",
              "            <td>Magic Johnson </td> <td>1991</td> <td>Los Angeles Lakers   </td> <td>47.1805</td>\n",
              "        </tr>\n",
              "        <tr>\n",
              "            <td>Michael Jordan</td> <td>1991</td> <td>Chicago Bulls        </td> <td>47.0746</td>\n",
              "        </tr>\n",
              "        <tr>\n",
              "            <td>Stephen Curry </td> <td>2016</td> <td>Golden State Warriors</td> <td>45.6791</td>\n",
              "        </tr>\n",
              "        <tr>\n",
              "            <td>Michael Jordan</td> <td>1997</td> <td>Chicago Bulls        </td> <td>45.3685</td>\n",
              "        </tr>\n",
              "        <tr>\n",
              "            <td>Manu Ginobili </td> <td>2013</td> <td>San Antonio Spurs    </td> <td>45.2103</td>\n",
              "        </tr>\n",
              "        <tr>\n",
              "            <td>Magic Johnson </td> <td>1982</td> <td>Los Angeles Lakers   </td> <td>45.0316</td>\n",
              "        </tr>\n",
              "        <tr>\n",
              "            <td>Magic Johnson </td> <td>1983</td> <td>Los Angeles Lakers   </td> <td>44.5297</td>\n",
              "        </tr>\n",
              "        <tr>\n",
              "            <td>Chris Paul    </td> <td>2010</td> <td>New Orleans Hornets  </td> <td>44.353 </td>\n",
              "        </tr>\n",
              "        <tr>\n",
              "            <td>Michael Jordan</td> <td>1995</td> <td>Chicago Bulls        </td> <td>44.2855</td>\n",
              "        </tr>\n",
              "        <tr>\n",
              "            <td>Dwyane Wade   </td> <td>2010</td> <td>Miami Heat           </td> <td>43.961 </td>\n",
              "        </tr>\n",
              "    </tbody>\n",
              "</table>"
            ],
            "text/plain": [
              "<IPython.core.display.HTML object>"
            ]
          },
          "metadata": {
            "tags": []
          }
        }
      ]
    },
    {
      "cell_type": "code",
      "metadata": {
        "colab": {
          "base_uri": "https://localhost:8080/",
          "height": 514
        },
        "id": "2Pv9GYtpgFfD",
        "outputId": "2d26596f-86dc-446a-d3bb-5dcd4bd41cc3"
      },
      "source": [
        "forward_ranks.show(15)"
      ],
      "execution_count": null,
      "outputs": [
        {
          "output_type": "display_data",
          "data": {
            "text/html": [
              "<table border=\"1\" class=\"dataframe\">\n",
              "    <thead>\n",
              "        <tr>\n",
              "            <th>Player</th> <th>Year</th> <th>Team</th> <th>Overall</th>\n",
              "        </tr>\n",
              "    </thead>\n",
              "    <tbody>\n",
              "        <tr>\n",
              "            <td>LeBron James    </td> <td>2010</td> <td>Cleveland Cavaliers   </td> <td>39.1031</td>\n",
              "        </tr>\n",
              "        <tr>\n",
              "            <td>David Robinson  </td> <td>1995</td> <td>San Antonio Spurs     </td> <td>33.8102</td>\n",
              "        </tr>\n",
              "        <tr>\n",
              "            <td>Shaquille O'Neal</td> <td>2001</td> <td>Los Angeles Lakers    </td> <td>31.6839</td>\n",
              "        </tr>\n",
              "        <tr>\n",
              "            <td>LeBron James    </td> <td>2011</td> <td>Miami Heat            </td> <td>31.1199</td>\n",
              "        </tr>\n",
              "        <tr>\n",
              "            <td>LeBron James    </td> <td>2009</td> <td>Cleveland Cavaliers   </td> <td>29.998 </td>\n",
              "        </tr>\n",
              "        <tr>\n",
              "            <td>David Robinson  </td> <td>1998</td> <td>San Antonio Spurs     </td> <td>29.8051</td>\n",
              "        </tr>\n",
              "        <tr>\n",
              "            <td>LeBron James    </td> <td>2014</td> <td>Miami Heat            </td> <td>29.456 </td>\n",
              "        </tr>\n",
              "        <tr>\n",
              "            <td>Kevin Garnett   </td> <td>2005</td> <td>Minnesota Timberwolves</td> <td>29.1688</td>\n",
              "        </tr>\n",
              "        <tr>\n",
              "            <td>LeBron James    </td> <td>2013</td> <td>Miami Heat            </td> <td>27.5336</td>\n",
              "        </tr>\n",
              "        <tr>\n",
              "            <td>David Robinson  </td> <td>1999</td> <td>San Antonio Spurs     </td> <td>26.8038</td>\n",
              "        </tr>\n",
              "        <tr>\n",
              "            <td>Kevin Garnett   </td> <td>2006</td> <td>Minnesota Timberwolves</td> <td>25.3728</td>\n",
              "        </tr>\n",
              "        <tr>\n",
              "            <td>Kevin Durant    </td> <td>2015</td> <td>Oklahoma City Thunder </td> <td>25.3242</td>\n",
              "        </tr>\n",
              "        <tr>\n",
              "            <td>Tim Duncan      </td> <td>2005</td> <td>San Antonio Spurs     </td> <td>24.9752</td>\n",
              "        </tr>\n",
              "        <tr>\n",
              "            <td>David Robinson  </td> <td>1996</td> <td>San Antonio Spurs     </td> <td>24.8634</td>\n",
              "        </tr>\n",
              "        <tr>\n",
              "            <td>Karl Malone     </td> <td>1998</td> <td>Utah Jazz             </td> <td>24.6104</td>\n",
              "        </tr>\n",
              "    </tbody>\n",
              "</table>"
            ],
            "text/plain": [
              "<IPython.core.display.HTML object>"
            ]
          },
          "metadata": {
            "tags": []
          }
        }
      ]
    },
    {
      "cell_type": "markdown",
      "metadata": {
        "id": "K4hUFaxfcqOC"
      },
      "source": [
        "# **Part 1: Cleaning the Data**"
      ]
    },
    {
      "cell_type": "markdown",
      "metadata": {
        "id": "a-jjcOJyFfsM"
      },
      "source": [
        "We had to perform signficant data wrangling before constructing our model. Here is the raw data we're working with:"
      ]
    },
    {
      "cell_type": "code",
      "metadata": {
        "colab": {
          "base_uri": "https://localhost:8080/",
          "height": 966
        },
        "id": "4eMwEaXpHkPV",
        "outputId": "2ef6195a-26dc-451f-e4b1-263f8e01b8f1"
      },
      "source": [
        "stats = Table.read_table('/content/Seasons_Stats.csv')\r\n",
        "records = Table.read_table('/content/Team_Records.csv')\r\n",
        "\r\n",
        "stats.show(10)\r\n",
        "records.show(10)"
      ],
      "execution_count": null,
      "outputs": [
        {
          "output_type": "display_data",
          "data": {
            "text/html": [
              "<table border=\"1\" class=\"dataframe\">\n",
              "    <thead>\n",
              "        <tr>\n",
              "            <th>Unnamed: 0</th> <th>Year</th> <th>Player</th> <th>Pos</th> <th>Age</th> <th>Tm</th> <th>G</th> <th>GS</th> <th>MP</th> <th>PER</th> <th>TS%</th> <th>3PAr</th> <th>FTr</th> <th>ORB%</th> <th>DRB%</th> <th>TRB%</th> <th>AST%</th> <th>STL%</th> <th>BLK%</th> <th>TOV%</th> <th>USG%</th> <th>blanl</th> <th>OWS</th> <th>DWS</th> <th>WS</th> <th>WS/48</th> <th>blank2</th> <th>OBPM</th> <th>DBPM</th> <th>BPM</th> <th>VORP</th> <th>FG</th> <th>FGA</th> <th>FG%</th> <th>3P</th> <th>3PA</th> <th>3P%</th> <th>2P</th> <th>2PA</th> <th>2P%</th> <th>eFG%</th> <th>FT</th> <th>FTA</th> <th>FT%</th> <th>ORB</th> <th>DRB</th> <th>TRB</th> <th>AST</th> <th>STL</th> <th>BLK</th> <th>TOV</th> <th>PF</th> <th>PTS</th>\n",
              "        </tr>\n",
              "    </thead>\n",
              "    <tbody>\n",
              "        <tr>\n",
              "            <td>0         </td> <td>1950</td> <td>Curly Armstrong</td> <td>G-F </td> <td>31  </td> <td>FTW </td> <td>63  </td> <td>nan </td> <td>nan </td> <td>nan </td> <td>0.368</td> <td>nan </td> <td>0.467</td> <td>nan </td> <td>nan </td> <td>nan </td> <td>nan </td> <td>nan </td> <td>nan </td> <td>nan </td> <td>nan </td> <td>nan  </td> <td>-0.1</td> <td>3.6 </td> <td>3.5 </td> <td>nan  </td> <td>nan   </td> <td>nan </td> <td>nan </td> <td>nan </td> <td>nan </td> <td>144 </td> <td>516 </td> <td>0.279</td> <td>nan </td> <td>nan </td> <td>nan </td> <td>144 </td> <td>516 </td> <td>0.279</td> <td>0.279</td> <td>170 </td> <td>241 </td> <td>0.705</td> <td>nan </td> <td>nan </td> <td>nan </td> <td>176 </td> <td>nan </td> <td>nan </td> <td>nan </td> <td>217 </td> <td>458 </td>\n",
              "        </tr>\n",
              "        <tr>\n",
              "            <td>1         </td> <td>1950</td> <td>Cliff Barker   </td> <td>SG  </td> <td>29  </td> <td>INO </td> <td>49  </td> <td>nan </td> <td>nan </td> <td>nan </td> <td>0.435</td> <td>nan </td> <td>0.387</td> <td>nan </td> <td>nan </td> <td>nan </td> <td>nan </td> <td>nan </td> <td>nan </td> <td>nan </td> <td>nan </td> <td>nan  </td> <td>1.6 </td> <td>0.6 </td> <td>2.2 </td> <td>nan  </td> <td>nan   </td> <td>nan </td> <td>nan </td> <td>nan </td> <td>nan </td> <td>102 </td> <td>274 </td> <td>0.372</td> <td>nan </td> <td>nan </td> <td>nan </td> <td>102 </td> <td>274 </td> <td>0.372</td> <td>0.372</td> <td>75  </td> <td>106 </td> <td>0.708</td> <td>nan </td> <td>nan </td> <td>nan </td> <td>109 </td> <td>nan </td> <td>nan </td> <td>nan </td> <td>99  </td> <td>279 </td>\n",
              "        </tr>\n",
              "        <tr>\n",
              "            <td>2         </td> <td>1950</td> <td>Leo Barnhorst  </td> <td>SF  </td> <td>25  </td> <td>CHS </td> <td>67  </td> <td>nan </td> <td>nan </td> <td>nan </td> <td>0.394</td> <td>nan </td> <td>0.259</td> <td>nan </td> <td>nan </td> <td>nan </td> <td>nan </td> <td>nan </td> <td>nan </td> <td>nan </td> <td>nan </td> <td>nan  </td> <td>0.9 </td> <td>2.8 </td> <td>3.6 </td> <td>nan  </td> <td>nan   </td> <td>nan </td> <td>nan </td> <td>nan </td> <td>nan </td> <td>174 </td> <td>499 </td> <td>0.349</td> <td>nan </td> <td>nan </td> <td>nan </td> <td>174 </td> <td>499 </td> <td>0.349</td> <td>0.349</td> <td>90  </td> <td>129 </td> <td>0.698</td> <td>nan </td> <td>nan </td> <td>nan </td> <td>140 </td> <td>nan </td> <td>nan </td> <td>nan </td> <td>192 </td> <td>438 </td>\n",
              "        </tr>\n",
              "        <tr>\n",
              "            <td>3         </td> <td>1950</td> <td>Ed Bartels     </td> <td>F   </td> <td>24  </td> <td>TOT </td> <td>15  </td> <td>nan </td> <td>nan </td> <td>nan </td> <td>0.312</td> <td>nan </td> <td>0.395</td> <td>nan </td> <td>nan </td> <td>nan </td> <td>nan </td> <td>nan </td> <td>nan </td> <td>nan </td> <td>nan </td> <td>nan  </td> <td>-0.5</td> <td>-0.1</td> <td>-0.6</td> <td>nan  </td> <td>nan   </td> <td>nan </td> <td>nan </td> <td>nan </td> <td>nan </td> <td>22  </td> <td>86  </td> <td>0.256</td> <td>nan </td> <td>nan </td> <td>nan </td> <td>22  </td> <td>86  </td> <td>0.256</td> <td>0.256</td> <td>19  </td> <td>34  </td> <td>0.559</td> <td>nan </td> <td>nan </td> <td>nan </td> <td>20  </td> <td>nan </td> <td>nan </td> <td>nan </td> <td>29  </td> <td>63  </td>\n",
              "        </tr>\n",
              "        <tr>\n",
              "            <td>4         </td> <td>1950</td> <td>Ed Bartels     </td> <td>F   </td> <td>24  </td> <td>DNN </td> <td>13  </td> <td>nan </td> <td>nan </td> <td>nan </td> <td>0.308</td> <td>nan </td> <td>0.378</td> <td>nan </td> <td>nan </td> <td>nan </td> <td>nan </td> <td>nan </td> <td>nan </td> <td>nan </td> <td>nan </td> <td>nan  </td> <td>-0.5</td> <td>-0.1</td> <td>-0.6</td> <td>nan  </td> <td>nan   </td> <td>nan </td> <td>nan </td> <td>nan </td> <td>nan </td> <td>21  </td> <td>82  </td> <td>0.256</td> <td>nan </td> <td>nan </td> <td>nan </td> <td>21  </td> <td>82  </td> <td>0.256</td> <td>0.256</td> <td>17  </td> <td>31  </td> <td>0.548</td> <td>nan </td> <td>nan </td> <td>nan </td> <td>20  </td> <td>nan </td> <td>nan </td> <td>nan </td> <td>27  </td> <td>59  </td>\n",
              "        </tr>\n",
              "        <tr>\n",
              "            <td>5         </td> <td>1950</td> <td>Ed Bartels     </td> <td>F   </td> <td>24  </td> <td>NYK </td> <td>2   </td> <td>nan </td> <td>nan </td> <td>nan </td> <td>0.376</td> <td>nan </td> <td>0.75 </td> <td>nan </td> <td>nan </td> <td>nan </td> <td>nan </td> <td>nan </td> <td>nan </td> <td>nan </td> <td>nan </td> <td>nan  </td> <td>0   </td> <td>0   </td> <td>0   </td> <td>nan  </td> <td>nan   </td> <td>nan </td> <td>nan </td> <td>nan </td> <td>nan </td> <td>1   </td> <td>4   </td> <td>0.25 </td> <td>nan </td> <td>nan </td> <td>nan </td> <td>1   </td> <td>4   </td> <td>0.25 </td> <td>0.25 </td> <td>2   </td> <td>3   </td> <td>0.667</td> <td>nan </td> <td>nan </td> <td>nan </td> <td>0   </td> <td>nan </td> <td>nan </td> <td>nan </td> <td>2   </td> <td>4   </td>\n",
              "        </tr>\n",
              "        <tr>\n",
              "            <td>6         </td> <td>1950</td> <td>Ralph Beard    </td> <td>G   </td> <td>22  </td> <td>INO </td> <td>60  </td> <td>nan </td> <td>nan </td> <td>nan </td> <td>0.422</td> <td>nan </td> <td>0.301</td> <td>nan </td> <td>nan </td> <td>nan </td> <td>nan </td> <td>nan </td> <td>nan </td> <td>nan </td> <td>nan </td> <td>nan  </td> <td>3.6 </td> <td>1.2 </td> <td>4.8 </td> <td>nan  </td> <td>nan   </td> <td>nan </td> <td>nan </td> <td>nan </td> <td>nan </td> <td>340 </td> <td>936 </td> <td>0.363</td> <td>nan </td> <td>nan </td> <td>nan </td> <td>340 </td> <td>936 </td> <td>0.363</td> <td>0.363</td> <td>215 </td> <td>282 </td> <td>0.762</td> <td>nan </td> <td>nan </td> <td>nan </td> <td>233 </td> <td>nan </td> <td>nan </td> <td>nan </td> <td>132 </td> <td>895 </td>\n",
              "        </tr>\n",
              "        <tr>\n",
              "            <td>7         </td> <td>1950</td> <td>Gene Berce     </td> <td>G-F </td> <td>23  </td> <td>TRI </td> <td>3   </td> <td>nan </td> <td>nan </td> <td>nan </td> <td>0.275</td> <td>nan </td> <td>0.313</td> <td>nan </td> <td>nan </td> <td>nan </td> <td>nan </td> <td>nan </td> <td>nan </td> <td>nan </td> <td>nan </td> <td>nan  </td> <td>-0.1</td> <td>0   </td> <td>-0.1</td> <td>nan  </td> <td>nan   </td> <td>nan </td> <td>nan </td> <td>nan </td> <td>nan </td> <td>5   </td> <td>16  </td> <td>0.313</td> <td>nan </td> <td>nan </td> <td>nan </td> <td>5   </td> <td>16  </td> <td>0.313</td> <td>0.313</td> <td>0   </td> <td>5   </td> <td>0    </td> <td>nan </td> <td>nan </td> <td>nan </td> <td>2   </td> <td>nan </td> <td>nan </td> <td>nan </td> <td>6   </td> <td>10  </td>\n",
              "        </tr>\n",
              "        <tr>\n",
              "            <td>8         </td> <td>1950</td> <td>Charlie Black  </td> <td>F-C </td> <td>28  </td> <td>TOT </td> <td>65  </td> <td>nan </td> <td>nan </td> <td>nan </td> <td>0.346</td> <td>nan </td> <td>0.395</td> <td>nan </td> <td>nan </td> <td>nan </td> <td>nan </td> <td>nan </td> <td>nan </td> <td>nan </td> <td>nan </td> <td>nan  </td> <td>-2.2</td> <td>5   </td> <td>2.8 </td> <td>nan  </td> <td>nan   </td> <td>nan </td> <td>nan </td> <td>nan </td> <td>nan </td> <td>226 </td> <td>813 </td> <td>0.278</td> <td>nan </td> <td>nan </td> <td>nan </td> <td>226 </td> <td>813 </td> <td>0.278</td> <td>0.278</td> <td>209 </td> <td>321 </td> <td>0.651</td> <td>nan </td> <td>nan </td> <td>nan </td> <td>163 </td> <td>nan </td> <td>nan </td> <td>nan </td> <td>273 </td> <td>661 </td>\n",
              "        </tr>\n",
              "        <tr>\n",
              "            <td>9         </td> <td>1950</td> <td>Charlie Black  </td> <td>F-C </td> <td>28  </td> <td>FTW </td> <td>36  </td> <td>nan </td> <td>nan </td> <td>nan </td> <td>0.362</td> <td>nan </td> <td>0.48 </td> <td>nan </td> <td>nan </td> <td>nan </td> <td>nan </td> <td>nan </td> <td>nan </td> <td>nan </td> <td>nan </td> <td>nan  </td> <td>-0.7</td> <td>2.2 </td> <td>1.5 </td> <td>nan  </td> <td>nan   </td> <td>nan </td> <td>nan </td> <td>nan </td> <td>nan </td> <td>125 </td> <td>435 </td> <td>0.287</td> <td>nan </td> <td>nan </td> <td>nan </td> <td>125 </td> <td>435 </td> <td>0.287</td> <td>0.287</td> <td>132 </td> <td>209 </td> <td>0.632</td> <td>nan </td> <td>nan </td> <td>nan </td> <td>75  </td> <td>nan </td> <td>nan </td> <td>nan </td> <td>140 </td> <td>382 </td>\n",
              "        </tr>\n",
              "    </tbody>\n",
              "</table>\n",
              "<p>... (24681 rows omitted)</p>"
            ],
            "text/plain": [
              "<IPython.core.display.HTML object>"
            ]
          },
          "metadata": {
            "tags": []
          }
        },
        {
          "output_type": "display_data",
          "data": {
            "text/html": [
              "<table border=\"1\" class=\"dataframe\">\n",
              "    <thead>\n",
              "        <tr>\n",
              "            <th>Season</th> <th>Lg</th> <th>Team</th> <th>W</th> <th>L</th> <th>W/L%</th> <th>Finish</th> <th>SRS</th> <th>Pace</th> <th>Rel_Pace</th> <th>ORtg</th> <th>Rel_ORtg</th> <th>DRtg</th> <th>Rel_DRtg</th> <th>Playoffs</th> <th>Coaches</th> <th>Top WS</th>\n",
              "        </tr>\n",
              "    </thead>\n",
              "    <tbody>\n",
              "        <tr>\n",
              "            <td>2017-18</td> <td>NBA </td> <td>Boston Celtics </td> <td>29  </td> <td>10  </td> <td>0.744</td> <td>1     </td> <td>4.38 </td> <td>95.4</td> <td>-1.7    </td> <td>108  </td> <td>0.2     </td> <td>102.8</td> <td>-5      </td> <td>nan                   </td> <td>B. Stevens (29-10)</td> <td>K. Irving (5.7) </td>\n",
              "        </tr>\n",
              "        <tr>\n",
              "            <td>2016-17</td> <td>NBA </td> <td>Boston Celtics*</td> <td>53  </td> <td>29  </td> <td>0.646</td> <td>1     </td> <td>2.25 </td> <td>96.8</td> <td>0.4     </td> <td>111.2</td> <td>2.4     </td> <td>108.4</td> <td>-0.4    </td> <td>Lost E. Conf. Finals  </td> <td>B. Stevens (53-29)</td> <td>I. Thomas (12.5)</td>\n",
              "        </tr>\n",
              "        <tr>\n",
              "            <td>2015-16</td> <td>NBA </td> <td>Boston Celtics*</td> <td>48  </td> <td>34  </td> <td>0.585</td> <td>2     </td> <td>2.84 </td> <td>98.5</td> <td>2.7     </td> <td>106.8</td> <td>0.4     </td> <td>103.6</td> <td>-2.8    </td> <td>Lost E. Conf. 1st Rnd.</td> <td>B. Stevens (48-34)</td> <td>I. Thomas (9.7) </td>\n",
              "        </tr>\n",
              "        <tr>\n",
              "            <td>2014-15</td> <td>NBA </td> <td>Boston Celtics*</td> <td>40  </td> <td>42  </td> <td>0.488</td> <td>2     </td> <td>-0.4 </td> <td>95.8</td> <td>1.9     </td> <td>104.7</td> <td>-0.9    </td> <td>104.5</td> <td>-1.1    </td> <td>Lost E. Conf. 1st Rnd.</td> <td>B. Stevens (40-42)</td> <td>T. Zeller (6.5) </td>\n",
              "        </tr>\n",
              "        <tr>\n",
              "            <td>2013-14</td> <td>NBA </td> <td>Boston Celtics </td> <td>25  </td> <td>57  </td> <td>0.305</td> <td>4     </td> <td>-4.97</td> <td>93.3</td> <td>-0.6    </td> <td>102.9</td> <td>-3.8    </td> <td>107.7</td> <td>1       </td> <td>nan                   </td> <td>B. Stevens (25-57)</td> <td>B. Bass (5.1)   </td>\n",
              "        </tr>\n",
              "        <tr>\n",
              "            <td>2012-13</td> <td>NBA </td> <td>Boston Celtics*</td> <td>41  </td> <td>40  </td> <td>0.506</td> <td>3     </td> <td>-0.62</td> <td>91.7</td> <td>-0.3    </td> <td>103.1</td> <td>-2.8    </td> <td>103.3</td> <td>-2.6    </td> <td>Lost E. Conf. 1st Rnd.</td> <td>D. Rivers (41-40) </td> <td>P. Pierce (7.2) </td>\n",
              "        </tr>\n",
              "        <tr>\n",
              "            <td>2011-12</td> <td>NBA </td> <td>Boston Celtics*</td> <td>39  </td> <td>27  </td> <td>0.591</td> <td>1     </td> <td>2.26 </td> <td>90.4</td> <td>-0.9    </td> <td>101  </td> <td>-3.6    </td> <td>98.2 </td> <td>-6.4    </td> <td>Lost E. Conf. Finals  </td> <td>D. Rivers (39-27) </td> <td>P. Pierce (7.0) </td>\n",
              "        </tr>\n",
              "        <tr>\n",
              "            <td>2010-11</td> <td>NBA </td> <td>Boston Celtics*</td> <td>56  </td> <td>26  </td> <td>0.683</td> <td>1     </td> <td>4.83 </td> <td>90.4</td> <td>-1.7    </td> <td>106.2</td> <td>-1.1    </td> <td>100.3</td> <td>-7      </td> <td>Lost E. Conf. Semis   </td> <td>D. Rivers (56-26) </td> <td>P. Pierce (11.6)</td>\n",
              "        </tr>\n",
              "        <tr>\n",
              "            <td>2009-10</td> <td>NBA </td> <td>Boston Celtics*</td> <td>50  </td> <td>32  </td> <td>0.61 </td> <td>1     </td> <td>3.37 </td> <td>91.6</td> <td>-1.1    </td> <td>107.7</td> <td>0.1     </td> <td>103.8</td> <td>-3.8    </td> <td>Lost Finals           </td> <td>D. Rivers (50-32) </td> <td>R. Rondo (9.6)  </td>\n",
              "        </tr>\n",
              "        <tr>\n",
              "            <td>2008-09</td> <td>NBA </td> <td>Boston Celtics*</td> <td>62  </td> <td>20  </td> <td>0.756</td> <td>1     </td> <td>7.44 </td> <td>90.4</td> <td>-1.3    </td> <td>110.5</td> <td>2.2     </td> <td>102.3</td> <td>-6      </td> <td>Lost E. Conf. Semis   </td> <td>D. Rivers (62-20) </td> <td>R. Allen (11.1) </td>\n",
              "        </tr>\n",
              "    </tbody>\n",
              "</table>\n",
              "<p>... (1473 rows omitted)</p>"
            ],
            "text/plain": [
              "<IPython.core.display.HTML object>"
            ]
          },
          "metadata": {
            "tags": []
          }
        }
      ]
    },
    {
      "cell_type": "markdown",
      "metadata": {
        "id": "-PJff0tNask5"
      },
      "source": [
        "First, we are going to identify players who may have the same name and played during the same year by appending an identifier of the player's birth year onto their player name."
      ]
    },
    {
      "cell_type": "code",
      "metadata": {
        "id": "6v2MKaO1BEmH",
        "colab": {
          "base_uri": "https://localhost:8080/",
          "height": 765
        },
        "outputId": "15e08e88-4747-4753-b4a1-7a1b1ea83ba0"
      },
      "source": [
        "with_birth = stats.with_column(\"Birth year\",stats.column(\"Year\")-stats.column(\"Age\"))\n",
        "player_name_birth_year = stats.column(\"Player\")\n",
        "for i in range(len(player_name_birth_year)):\n",
        "  player_name_birth_year[i] = player_name_birth_year[i] + \" \"+str(with_birth.column(\"Birth year\").item(i))\n",
        "with_birth_stats = stats.with_column(\"Player\",player_name_birth_year)\n",
        "with_birth_stats"
      ],
      "execution_count": null,
      "outputs": [
        {
          "output_type": "execute_result",
          "data": {
            "text/html": [
              "<table border=\"1\" class=\"dataframe\">\n",
              "    <thead>\n",
              "        <tr>\n",
              "            <th>Unnamed: 0</th> <th>Year</th> <th>Player</th> <th>Pos</th> <th>Age</th> <th>Tm</th> <th>G</th> <th>GS</th> <th>MP</th> <th>PER</th> <th>TS%</th> <th>3PAr</th> <th>FTr</th> <th>ORB%</th> <th>DRB%</th> <th>TRB%</th> <th>AST%</th> <th>STL%</th> <th>BLK%</th> <th>TOV%</th> <th>USG%</th> <th>blanl</th> <th>OWS</th> <th>DWS</th> <th>WS</th> <th>WS/48</th> <th>blank2</th> <th>OBPM</th> <th>DBPM</th> <th>BPM</th> <th>VORP</th> <th>FG</th> <th>FGA</th> <th>FG%</th> <th>3P</th> <th>3PA</th> <th>3P%</th> <th>2P</th> <th>2PA</th> <th>2P%</th> <th>eFG%</th> <th>FT</th> <th>FTA</th> <th>FT%</th> <th>ORB</th> <th>DRB</th> <th>TRB</th> <th>AST</th> <th>STL</th> <th>BLK</th> <th>TOV</th> <th>PF</th> <th>PTS</th>\n",
              "        </tr>\n",
              "    </thead>\n",
              "    <tbody>\n",
              "        <tr>\n",
              "            <td>0         </td> <td>1950</td> <td>Curly Armstrong 1919.0</td> <td>G-F </td> <td>31  </td> <td>FTW </td> <td>63  </td> <td>nan </td> <td>nan </td> <td>nan </td> <td>0.368</td> <td>nan </td> <td>0.467</td> <td>nan </td> <td>nan </td> <td>nan </td> <td>nan </td> <td>nan </td> <td>nan </td> <td>nan </td> <td>nan </td> <td>nan  </td> <td>-0.1</td> <td>3.6 </td> <td>3.5 </td> <td>nan  </td> <td>nan   </td> <td>nan </td> <td>nan </td> <td>nan </td> <td>nan </td> <td>144 </td> <td>516 </td> <td>0.279</td> <td>nan </td> <td>nan </td> <td>nan </td> <td>144 </td> <td>516 </td> <td>0.279</td> <td>0.279</td> <td>170 </td> <td>241 </td> <td>0.705</td> <td>nan </td> <td>nan </td> <td>nan </td> <td>176 </td> <td>nan </td> <td>nan </td> <td>nan </td> <td>217 </td> <td>458 </td>\n",
              "        </tr>\n",
              "        <tr>\n",
              "            <td>1         </td> <td>1950</td> <td>Cliff Barker 1921.0   </td> <td>SG  </td> <td>29  </td> <td>INO </td> <td>49  </td> <td>nan </td> <td>nan </td> <td>nan </td> <td>0.435</td> <td>nan </td> <td>0.387</td> <td>nan </td> <td>nan </td> <td>nan </td> <td>nan </td> <td>nan </td> <td>nan </td> <td>nan </td> <td>nan </td> <td>nan  </td> <td>1.6 </td> <td>0.6 </td> <td>2.2 </td> <td>nan  </td> <td>nan   </td> <td>nan </td> <td>nan </td> <td>nan </td> <td>nan </td> <td>102 </td> <td>274 </td> <td>0.372</td> <td>nan </td> <td>nan </td> <td>nan </td> <td>102 </td> <td>274 </td> <td>0.372</td> <td>0.372</td> <td>75  </td> <td>106 </td> <td>0.708</td> <td>nan </td> <td>nan </td> <td>nan </td> <td>109 </td> <td>nan </td> <td>nan </td> <td>nan </td> <td>99  </td> <td>279 </td>\n",
              "        </tr>\n",
              "        <tr>\n",
              "            <td>2         </td> <td>1950</td> <td>Leo Barnhorst 1925.0  </td> <td>SF  </td> <td>25  </td> <td>CHS </td> <td>67  </td> <td>nan </td> <td>nan </td> <td>nan </td> <td>0.394</td> <td>nan </td> <td>0.259</td> <td>nan </td> <td>nan </td> <td>nan </td> <td>nan </td> <td>nan </td> <td>nan </td> <td>nan </td> <td>nan </td> <td>nan  </td> <td>0.9 </td> <td>2.8 </td> <td>3.6 </td> <td>nan  </td> <td>nan   </td> <td>nan </td> <td>nan </td> <td>nan </td> <td>nan </td> <td>174 </td> <td>499 </td> <td>0.349</td> <td>nan </td> <td>nan </td> <td>nan </td> <td>174 </td> <td>499 </td> <td>0.349</td> <td>0.349</td> <td>90  </td> <td>129 </td> <td>0.698</td> <td>nan </td> <td>nan </td> <td>nan </td> <td>140 </td> <td>nan </td> <td>nan </td> <td>nan </td> <td>192 </td> <td>438 </td>\n",
              "        </tr>\n",
              "        <tr>\n",
              "            <td>3         </td> <td>1950</td> <td>Ed Bartels 1926.0     </td> <td>F   </td> <td>24  </td> <td>TOT </td> <td>15  </td> <td>nan </td> <td>nan </td> <td>nan </td> <td>0.312</td> <td>nan </td> <td>0.395</td> <td>nan </td> <td>nan </td> <td>nan </td> <td>nan </td> <td>nan </td> <td>nan </td> <td>nan </td> <td>nan </td> <td>nan  </td> <td>-0.5</td> <td>-0.1</td> <td>-0.6</td> <td>nan  </td> <td>nan   </td> <td>nan </td> <td>nan </td> <td>nan </td> <td>nan </td> <td>22  </td> <td>86  </td> <td>0.256</td> <td>nan </td> <td>nan </td> <td>nan </td> <td>22  </td> <td>86  </td> <td>0.256</td> <td>0.256</td> <td>19  </td> <td>34  </td> <td>0.559</td> <td>nan </td> <td>nan </td> <td>nan </td> <td>20  </td> <td>nan </td> <td>nan </td> <td>nan </td> <td>29  </td> <td>63  </td>\n",
              "        </tr>\n",
              "        <tr>\n",
              "            <td>4         </td> <td>1950</td> <td>Ed Bartels 1926.0     </td> <td>F   </td> <td>24  </td> <td>DNN </td> <td>13  </td> <td>nan </td> <td>nan </td> <td>nan </td> <td>0.308</td> <td>nan </td> <td>0.378</td> <td>nan </td> <td>nan </td> <td>nan </td> <td>nan </td> <td>nan </td> <td>nan </td> <td>nan </td> <td>nan </td> <td>nan  </td> <td>-0.5</td> <td>-0.1</td> <td>-0.6</td> <td>nan  </td> <td>nan   </td> <td>nan </td> <td>nan </td> <td>nan </td> <td>nan </td> <td>21  </td> <td>82  </td> <td>0.256</td> <td>nan </td> <td>nan </td> <td>nan </td> <td>21  </td> <td>82  </td> <td>0.256</td> <td>0.256</td> <td>17  </td> <td>31  </td> <td>0.548</td> <td>nan </td> <td>nan </td> <td>nan </td> <td>20  </td> <td>nan </td> <td>nan </td> <td>nan </td> <td>27  </td> <td>59  </td>\n",
              "        </tr>\n",
              "        <tr>\n",
              "            <td>5         </td> <td>1950</td> <td>Ed Bartels 1926.0     </td> <td>F   </td> <td>24  </td> <td>NYK </td> <td>2   </td> <td>nan </td> <td>nan </td> <td>nan </td> <td>0.376</td> <td>nan </td> <td>0.75 </td> <td>nan </td> <td>nan </td> <td>nan </td> <td>nan </td> <td>nan </td> <td>nan </td> <td>nan </td> <td>nan </td> <td>nan  </td> <td>0   </td> <td>0   </td> <td>0   </td> <td>nan  </td> <td>nan   </td> <td>nan </td> <td>nan </td> <td>nan </td> <td>nan </td> <td>1   </td> <td>4   </td> <td>0.25 </td> <td>nan </td> <td>nan </td> <td>nan </td> <td>1   </td> <td>4   </td> <td>0.25 </td> <td>0.25 </td> <td>2   </td> <td>3   </td> <td>0.667</td> <td>nan </td> <td>nan </td> <td>nan </td> <td>0   </td> <td>nan </td> <td>nan </td> <td>nan </td> <td>2   </td> <td>4   </td>\n",
              "        </tr>\n",
              "        <tr>\n",
              "            <td>6         </td> <td>1950</td> <td>Ralph Beard 1928.0    </td> <td>G   </td> <td>22  </td> <td>INO </td> <td>60  </td> <td>nan </td> <td>nan </td> <td>nan </td> <td>0.422</td> <td>nan </td> <td>0.301</td> <td>nan </td> <td>nan </td> <td>nan </td> <td>nan </td> <td>nan </td> <td>nan </td> <td>nan </td> <td>nan </td> <td>nan  </td> <td>3.6 </td> <td>1.2 </td> <td>4.8 </td> <td>nan  </td> <td>nan   </td> <td>nan </td> <td>nan </td> <td>nan </td> <td>nan </td> <td>340 </td> <td>936 </td> <td>0.363</td> <td>nan </td> <td>nan </td> <td>nan </td> <td>340 </td> <td>936 </td> <td>0.363</td> <td>0.363</td> <td>215 </td> <td>282 </td> <td>0.762</td> <td>nan </td> <td>nan </td> <td>nan </td> <td>233 </td> <td>nan </td> <td>nan </td> <td>nan </td> <td>132 </td> <td>895 </td>\n",
              "        </tr>\n",
              "        <tr>\n",
              "            <td>7         </td> <td>1950</td> <td>Gene Berce 1927.0     </td> <td>G-F </td> <td>23  </td> <td>TRI </td> <td>3   </td> <td>nan </td> <td>nan </td> <td>nan </td> <td>0.275</td> <td>nan </td> <td>0.313</td> <td>nan </td> <td>nan </td> <td>nan </td> <td>nan </td> <td>nan </td> <td>nan </td> <td>nan </td> <td>nan </td> <td>nan  </td> <td>-0.1</td> <td>0   </td> <td>-0.1</td> <td>nan  </td> <td>nan   </td> <td>nan </td> <td>nan </td> <td>nan </td> <td>nan </td> <td>5   </td> <td>16  </td> <td>0.313</td> <td>nan </td> <td>nan </td> <td>nan </td> <td>5   </td> <td>16  </td> <td>0.313</td> <td>0.313</td> <td>0   </td> <td>5   </td> <td>0    </td> <td>nan </td> <td>nan </td> <td>nan </td> <td>2   </td> <td>nan </td> <td>nan </td> <td>nan </td> <td>6   </td> <td>10  </td>\n",
              "        </tr>\n",
              "        <tr>\n",
              "            <td>8         </td> <td>1950</td> <td>Charlie Black 1922.0  </td> <td>F-C </td> <td>28  </td> <td>TOT </td> <td>65  </td> <td>nan </td> <td>nan </td> <td>nan </td> <td>0.346</td> <td>nan </td> <td>0.395</td> <td>nan </td> <td>nan </td> <td>nan </td> <td>nan </td> <td>nan </td> <td>nan </td> <td>nan </td> <td>nan </td> <td>nan  </td> <td>-2.2</td> <td>5   </td> <td>2.8 </td> <td>nan  </td> <td>nan   </td> <td>nan </td> <td>nan </td> <td>nan </td> <td>nan </td> <td>226 </td> <td>813 </td> <td>0.278</td> <td>nan </td> <td>nan </td> <td>nan </td> <td>226 </td> <td>813 </td> <td>0.278</td> <td>0.278</td> <td>209 </td> <td>321 </td> <td>0.651</td> <td>nan </td> <td>nan </td> <td>nan </td> <td>163 </td> <td>nan </td> <td>nan </td> <td>nan </td> <td>273 </td> <td>661 </td>\n",
              "        </tr>\n",
              "        <tr>\n",
              "            <td>9         </td> <td>1950</td> <td>Charlie Black 1922.0  </td> <td>F-C </td> <td>28  </td> <td>FTW </td> <td>36  </td> <td>nan </td> <td>nan </td> <td>nan </td> <td>0.362</td> <td>nan </td> <td>0.48 </td> <td>nan </td> <td>nan </td> <td>nan </td> <td>nan </td> <td>nan </td> <td>nan </td> <td>nan </td> <td>nan </td> <td>nan  </td> <td>-0.7</td> <td>2.2 </td> <td>1.5 </td> <td>nan  </td> <td>nan   </td> <td>nan </td> <td>nan </td> <td>nan </td> <td>nan </td> <td>125 </td> <td>435 </td> <td>0.287</td> <td>nan </td> <td>nan </td> <td>nan </td> <td>125 </td> <td>435 </td> <td>0.287</td> <td>0.287</td> <td>132 </td> <td>209 </td> <td>0.632</td> <td>nan </td> <td>nan </td> <td>nan </td> <td>75  </td> <td>nan </td> <td>nan </td> <td>nan </td> <td>140 </td> <td>382 </td>\n",
              "        </tr>\n",
              "    </tbody>\n",
              "</table>\n",
              "<p>... (24681 rows omitted)</p>"
            ],
            "text/plain": [
              "Unnamed: 0 | Year | Player                 | Pos  | Age  | Tm   | G    | GS   | MP   | PER  | TS%   | 3PAr | FTr   | ORB% | DRB% | TRB% | AST% | STL% | BLK% | TOV% | USG% | blanl | OWS  | DWS  | WS   | WS/48 | blank2 | OBPM | DBPM | BPM  | VORP | FG   | FGA  | FG%   | 3P   | 3PA  | 3P%  | 2P   | 2PA  | 2P%   | eFG%  | FT   | FTA  | FT%   | ORB  | DRB  | TRB  | AST  | STL  | BLK  | TOV  | PF   | PTS\n",
              "0          | 1950 | Curly Armstrong 1919.0 | G-F  | 31   | FTW  | 63   | nan  | nan  | nan  | 0.368 | nan  | 0.467 | nan  | nan  | nan  | nan  | nan  | nan  | nan  | nan  | nan   | -0.1 | 3.6  | 3.5  | nan   | nan    | nan  | nan  | nan  | nan  | 144  | 516  | 0.279 | nan  | nan  | nan  | 144  | 516  | 0.279 | 0.279 | 170  | 241  | 0.705 | nan  | nan  | nan  | 176  | nan  | nan  | nan  | 217  | 458\n",
              "1          | 1950 | Cliff Barker 1921.0    | SG   | 29   | INO  | 49   | nan  | nan  | nan  | 0.435 | nan  | 0.387 | nan  | nan  | nan  | nan  | nan  | nan  | nan  | nan  | nan   | 1.6  | 0.6  | 2.2  | nan   | nan    | nan  | nan  | nan  | nan  | 102  | 274  | 0.372 | nan  | nan  | nan  | 102  | 274  | 0.372 | 0.372 | 75   | 106  | 0.708 | nan  | nan  | nan  | 109  | nan  | nan  | nan  | 99   | 279\n",
              "2          | 1950 | Leo Barnhorst 1925.0   | SF   | 25   | CHS  | 67   | nan  | nan  | nan  | 0.394 | nan  | 0.259 | nan  | nan  | nan  | nan  | nan  | nan  | nan  | nan  | nan   | 0.9  | 2.8  | 3.6  | nan   | nan    | nan  | nan  | nan  | nan  | 174  | 499  | 0.349 | nan  | nan  | nan  | 174  | 499  | 0.349 | 0.349 | 90   | 129  | 0.698 | nan  | nan  | nan  | 140  | nan  | nan  | nan  | 192  | 438\n",
              "3          | 1950 | Ed Bartels 1926.0      | F    | 24   | TOT  | 15   | nan  | nan  | nan  | 0.312 | nan  | 0.395 | nan  | nan  | nan  | nan  | nan  | nan  | nan  | nan  | nan   | -0.5 | -0.1 | -0.6 | nan   | nan    | nan  | nan  | nan  | nan  | 22   | 86   | 0.256 | nan  | nan  | nan  | 22   | 86   | 0.256 | 0.256 | 19   | 34   | 0.559 | nan  | nan  | nan  | 20   | nan  | nan  | nan  | 29   | 63\n",
              "4          | 1950 | Ed Bartels 1926.0      | F    | 24   | DNN  | 13   | nan  | nan  | nan  | 0.308 | nan  | 0.378 | nan  | nan  | nan  | nan  | nan  | nan  | nan  | nan  | nan   | -0.5 | -0.1 | -0.6 | nan   | nan    | nan  | nan  | nan  | nan  | 21   | 82   | 0.256 | nan  | nan  | nan  | 21   | 82   | 0.256 | 0.256 | 17   | 31   | 0.548 | nan  | nan  | nan  | 20   | nan  | nan  | nan  | 27   | 59\n",
              "5          | 1950 | Ed Bartels 1926.0      | F    | 24   | NYK  | 2    | nan  | nan  | nan  | 0.376 | nan  | 0.75  | nan  | nan  | nan  | nan  | nan  | nan  | nan  | nan  | nan   | 0    | 0    | 0    | nan   | nan    | nan  | nan  | nan  | nan  | 1    | 4    | 0.25  | nan  | nan  | nan  | 1    | 4    | 0.25  | 0.25  | 2    | 3    | 0.667 | nan  | nan  | nan  | 0    | nan  | nan  | nan  | 2    | 4\n",
              "6          | 1950 | Ralph Beard 1928.0     | G    | 22   | INO  | 60   | nan  | nan  | nan  | 0.422 | nan  | 0.301 | nan  | nan  | nan  | nan  | nan  | nan  | nan  | nan  | nan   | 3.6  | 1.2  | 4.8  | nan   | nan    | nan  | nan  | nan  | nan  | 340  | 936  | 0.363 | nan  | nan  | nan  | 340  | 936  | 0.363 | 0.363 | 215  | 282  | 0.762 | nan  | nan  | nan  | 233  | nan  | nan  | nan  | 132  | 895\n",
              "7          | 1950 | Gene Berce 1927.0      | G-F  | 23   | TRI  | 3    | nan  | nan  | nan  | 0.275 | nan  | 0.313 | nan  | nan  | nan  | nan  | nan  | nan  | nan  | nan  | nan   | -0.1 | 0    | -0.1 | nan   | nan    | nan  | nan  | nan  | nan  | 5    | 16   | 0.313 | nan  | nan  | nan  | 5    | 16   | 0.313 | 0.313 | 0    | 5    | 0     | nan  | nan  | nan  | 2    | nan  | nan  | nan  | 6    | 10\n",
              "8          | 1950 | Charlie Black 1922.0   | F-C  | 28   | TOT  | 65   | nan  | nan  | nan  | 0.346 | nan  | 0.395 | nan  | nan  | nan  | nan  | nan  | nan  | nan  | nan  | nan   | -2.2 | 5    | 2.8  | nan   | nan    | nan  | nan  | nan  | nan  | 226  | 813  | 0.278 | nan  | nan  | nan  | 226  | 813  | 0.278 | 0.278 | 209  | 321  | 0.651 | nan  | nan  | nan  | 163  | nan  | nan  | nan  | 273  | 661\n",
              "9          | 1950 | Charlie Black 1922.0   | F-C  | 28   | FTW  | 36   | nan  | nan  | nan  | 0.362 | nan  | 0.48  | nan  | nan  | nan  | nan  | nan  | nan  | nan  | nan  | nan   | -0.7 | 2.2  | 1.5  | nan   | nan    | nan  | nan  | nan  | nan  | 125  | 435  | 0.287 | nan  | nan  | nan  | 125  | 435  | 0.287 | 0.287 | 132  | 209  | 0.632 | nan  | nan  | nan  | 75   | nan  | nan  | nan  | 140  | 382\n",
              "... (24681 rows omitted)"
            ]
          },
          "metadata": {
            "tags": []
          },
          "execution_count": 57
        }
      ]
    },
    {
      "cell_type": "markdown",
      "metadata": {
        "id": "OjhQeHz_bJUn"
      },
      "source": [
        "Now we are going to clean up the records table by removing the asterisk at the end of each team's name if there"
      ]
    },
    {
      "cell_type": "code",
      "metadata": {
        "id": "So2MvZ4XmRoS"
      },
      "source": [
        "teams = records.column(\"Team\")\n",
        "\n",
        "for i in range(len(teams)):\n",
        "  if teams[i][len(teams[i])-1] == '*':\n",
        "    teams[i] = teams[i][:len(teams[i])-1]\n",
        "\n",
        "records = records.with_column(\"Team\",teams)"
      ],
      "execution_count": null,
      "outputs": []
    },
    {
      "cell_type": "markdown",
      "metadata": {
        "id": "ocGftXUVbfKa"
      },
      "source": [
        "Removing 3 more special cases. First are the special case of players playing before 1980 and 1981, but not in 1980. Second are low minute players who played 6 or less minutes per game. Third are players who played less than 10 games in the season."
      ]
    },
    {
      "cell_type": "code",
      "metadata": {
        "id": "eejINz6kJejW"
      },
      "source": [
        "#Keith Herron 5521\n",
        "#Mychal Thompson 5688\n",
        "#Ron Davis  4728\n",
        "\n",
        "year_column = with_birth_stats.column(\"Year\")\n",
        "year_column[5521] = 1980\n",
        "year_column[5688] = 1980\n",
        "year_column[4728] = 1980\n",
        "\n",
        "\n",
        "with_birth_stats = with_birth_stats.with_column(\"Year\",year_column).where(\"G\",are.above(10))\n",
        "#remove players who played less than 10 games in the season\n",
        "\n",
        "\n",
        "with_birth_stats = with_birth_stats.with_columns(\"MPG\",with_birth_stats.column(\"MP\")/with_birth_stats.column(\"G\")).where(\"MPG\",are.above(6))\n",
        "#remove players who averaged less than 6 minutes per game\n"
      ],
      "execution_count": null,
      "outputs": []
    },
    {
      "cell_type": "markdown",
      "metadata": {
        "id": "tlYrFpk_cEw3"
      },
      "source": [
        "Now we are creating our stats to use as parameters for our model and appending those custom stats to our overall stats table as the per_game_stats table. Here are a variety of different stats we experimented with using (most of which did not make it into the final equation)"
      ]
    },
    {
      "cell_type": "code",
      "metadata": {
        "id": "RA3JL75vmuHG",
        "colab": {
          "base_uri": "https://localhost:8080/",
          "height": 765
        },
        "outputId": "fda532d6-24ad-44e8-eae7-4b04c2ebe75f"
      },
      "source": [
        "pre_stats = with_birth_stats.with_columns(\"PPG\",with_birth_stats.column(\"PTS\")/with_birth_stats.column(\"G\"),\"APG\",with_birth_stats.column(\"AST\")/with_birth_stats.column(\"G\"),\"RPG\",with_birth_stats.column(\"TRB\")/with_birth_stats.column(\"G\"),\"SPG\",with_birth_stats.column(\"STL\")/with_birth_stats.column(\"G\"),\"3PG\",with_birth_stats.column(\"3P\")/with_birth_stats.column(\"G\"),\"FPG\",with_birth_stats.column(\"FT\")/with_birth_stats.column(\"G\"),\"TPG\",with_birth_stats.column(\"TOV\")/with_birth_stats.column(\"G\"),\"BPG\",with_birth_stats.column(\"BLK\")/with_birth_stats.column(\"G\")).with_columns(\"AGE_rating\",with_birth_stats.column(\"Age\")**2 - 56*with_birth_stats.column(\"Age\"))\r\n",
        "\r\n",
        "\r\n",
        "per_game_stats = pre_stats.with_columns(\r\n",
        "                                        \"AGE2\",pre_stats.column(\"Age\")**2,\r\n",
        "                                        \"AGE1\",pre_stats.column(\"Age\"),\r\n",
        "                                        \"PPM2\",(pre_stats.column(\"PPG\")**2)/pre_stats.column(\"MPG\"),\r\n",
        "                                        \"PPM1\",(pre_stats.column(\"PPG\"))/pre_stats.column(\"MPG\"),\r\n",
        "                                        \"RPM\",(pre_stats.column(\"RPG\"))/pre_stats.column(\"MPG\"),\r\n",
        "                                        \"3PM\",pre_stats.column(\"3PG\")/pre_stats.column(\"MPG\"),                           \r\n",
        "                                        \"PER/M\",pre_stats.column(\"PER\")*pre_stats.column(\"MPG\"),\r\n",
        "                                        \"PER1\",pre_stats.column(\"PER\"),\r\n",
        "                                        \"WS2\",pre_stats.column(\"WS\")**2,\r\n",
        "                                        \"WS1\",pre_stats.column(\"WS\"),\r\n",
        "                                        \"USG2\",pre_stats.column(\"USG%\")**2,\r\n",
        "                                        \"USG1\",pre_stats.column(\"USG%\"),\r\n",
        "                                        \"PTS/FGA\",pre_stats.column(\"PTS\")/pre_stats.column(\"FGA\"),\r\n",
        "                                        \"PFPG\",pre_stats.column(\"PF\")/pre_stats.column(\"G\")\r\n",
        "                                        )\r\n",
        "\r\n",
        "\r\n",
        "per_game_stats = per_game_stats.sort(\"Year\").sort(\"Player\")\r\n",
        "\r\n",
        "per_game_stats\r\n"
      ],
      "execution_count": null,
      "outputs": [
        {
          "output_type": "execute_result",
          "data": {
            "text/html": [
              "<table border=\"1\" class=\"dataframe\">\n",
              "    <thead>\n",
              "        <tr>\n",
              "            <th>Unnamed: 0</th> <th>Year</th> <th>Player</th> <th>Pos</th> <th>Age</th> <th>Tm</th> <th>G</th> <th>GS</th> <th>MP</th> <th>PER</th> <th>TS%</th> <th>3PAr</th> <th>FTr</th> <th>ORB%</th> <th>DRB%</th> <th>TRB%</th> <th>AST%</th> <th>STL%</th> <th>BLK%</th> <th>TOV%</th> <th>USG%</th> <th>blanl</th> <th>OWS</th> <th>DWS</th> <th>WS</th> <th>WS/48</th> <th>blank2</th> <th>OBPM</th> <th>DBPM</th> <th>BPM</th> <th>VORP</th> <th>FG</th> <th>FGA</th> <th>FG%</th> <th>3P</th> <th>3PA</th> <th>3P%</th> <th>2P</th> <th>2PA</th> <th>2P%</th> <th>eFG%</th> <th>FT</th> <th>FTA</th> <th>FT%</th> <th>ORB</th> <th>DRB</th> <th>TRB</th> <th>AST</th> <th>STL</th> <th>BLK</th> <th>TOV</th> <th>PF</th> <th>PTS</th> <th>MPG</th> <th>PPG</th> <th>APG</th> <th>RPG</th> <th>SPG</th> <th>3PG</th> <th>FPG</th> <th>TPG</th> <th>BPG</th> <th>AGE_rating</th> <th>AGE2</th> <th>AGE1</th> <th>PPM2</th> <th>PPM1</th> <th>RPM</th> <th>3PM</th> <th>PER/M</th> <th>PER1</th> <th>WS2</th> <th>WS1</th> <th>USG2</th> <th>USG1</th> <th>PTS/FGA</th> <th>PFPG</th>\n",
              "        </tr>\n",
              "    </thead>\n",
              "    <tbody>\n",
              "        <tr>\n",
              "            <td>8035      </td> <td>1986</td> <td>A.C. Green 1964.0</td> <td>PF  </td> <td>22  </td> <td>LAL </td> <td>82  </td> <td>1   </td> <td>1542</td> <td>11.8</td> <td>0.564</td> <td>0.015</td> <td>0.43 </td> <td>12.4</td> <td>15.5</td> <td>14  </td> <td>4.2 </td> <td>1.5 </td> <td>1.7 </td> <td>17.7</td> <td>14.7</td> <td>nan  </td> <td>1.4 </td> <td>2   </td> <td>3.3 </td> <td>0.103</td> <td>nan   </td> <td>-0.5</td> <td>0.8 </td> <td>0.3 </td> <td>0.9 </td> <td>209 </td> <td>388 </td> <td>0.539</td> <td>1   </td> <td>6   </td> <td>0.167</td> <td>208 </td> <td>382 </td> <td>0.545</td> <td>0.54 </td> <td>102 </td> <td>167 </td> <td>0.611</td> <td>160 </td> <td>221 </td> <td>381 </td> <td>54  </td> <td>49  </td> <td>49  </td> <td>99  </td> <td>229 </td> <td>521 </td> <td>18.8049</td> <td>6.35366</td> <td>0.658537</td> <td>4.64634</td> <td>0.597561</td> <td>0.0121951</td> <td>1.2439 </td> <td>1.20732</td> <td>0.597561</td> <td>-748      </td> <td>484 </td> <td>22  </td> <td>2.14673</td> <td>0.337873</td> <td>0.247082</td> <td>0.000648508</td> <td>221.898</td> <td>11.8</td> <td>10.89</td> <td>3.3 </td> <td>216.09</td> <td>14.7</td> <td>1.34278</td> <td>2.79268</td>\n",
              "        </tr>\n",
              "        <tr>\n",
              "            <td>8420      </td> <td>1987</td> <td>A.C. Green 1964.0</td> <td>PF  </td> <td>23  </td> <td>LAL </td> <td>79  </td> <td>72  </td> <td>2240</td> <td>15.7</td> <td>0.599</td> <td>0.009</td> <td>0.48 </td> <td>11.2</td> <td>18.8</td> <td>15.3</td> <td>4.6 </td> <td>1.5 </td> <td>2   </td> <td>12.5</td> <td>14.7</td> <td>nan  </td> <td>4.3 </td> <td>3.3 </td> <td>7.6 </td> <td>0.163</td> <td>nan   </td> <td>0.6 </td> <td>1   </td> <td>1.7 </td> <td>2.1 </td> <td>316 </td> <td>587 </td> <td>0.538</td> <td>0   </td> <td>5   </td> <td>0    </td> <td>316 </td> <td>582 </td> <td>0.543</td> <td>0.538</td> <td>220 </td> <td>282 </td> <td>0.78 </td> <td>210 </td> <td>405 </td> <td>615 </td> <td>84  </td> <td>70  </td> <td>80  </td> <td>102 </td> <td>171 </td> <td>852 </td> <td>28.3544</td> <td>10.7848</td> <td>1.06329 </td> <td>7.78481</td> <td>0.886076</td> <td>0        </td> <td>2.78481</td> <td>1.29114</td> <td>1.01266 </td> <td>-759      </td> <td>529 </td> <td>23  </td> <td>4.10208</td> <td>0.380357</td> <td>0.274554</td> <td>0          </td> <td>445.165</td> <td>15.7</td> <td>57.76</td> <td>7.6 </td> <td>216.09</td> <td>14.7</td> <td>1.45145</td> <td>2.16456</td>\n",
              "        </tr>\n",
              "        <tr>\n",
              "            <td>8807      </td> <td>1988</td> <td>A.C. Green 1964.0</td> <td>PF  </td> <td>24  </td> <td>LAL </td> <td>82  </td> <td>64  </td> <td>2636</td> <td>14.5</td> <td>0.581</td> <td>0.003</td> <td>0.592</td> <td>11.1</td> <td>19.1</td> <td>15.3</td> <td>4.5 </td> <td>1.6 </td> <td>1   </td> <td>12.9</td> <td>14.7</td> <td>nan  </td> <td>4.5 </td> <td>3.4 </td> <td>7.9 </td> <td>0.144</td> <td>nan   </td> <td>0.2 </td> <td>0.8 </td> <td>1   </td> <td>2   </td> <td>322 </td> <td>640 </td> <td>0.503</td> <td>0   </td> <td>2   </td> <td>0    </td> <td>322 </td> <td>638 </td> <td>0.505</td> <td>0.503</td> <td>293 </td> <td>379 </td> <td>0.773</td> <td>245 </td> <td>465 </td> <td>710 </td> <td>93  </td> <td>87  </td> <td>45  </td> <td>120 </td> <td>204 </td> <td>937 </td> <td>32.1463</td> <td>11.4268</td> <td>1.13415 </td> <td>8.65854</td> <td>1.06098 </td> <td>0        </td> <td>3.57317</td> <td>1.46341</td> <td>0.54878 </td> <td>-768      </td> <td>576 </td> <td>24  </td> <td>4.06181</td> <td>0.355463</td> <td>0.269347</td> <td>0          </td> <td>466.122</td> <td>14.5</td> <td>62.41</td> <td>7.9 </td> <td>216.09</td> <td>14.7</td> <td>1.46406</td> <td>2.4878 </td>\n",
              "        </tr>\n",
              "        <tr>\n",
              "            <td>9242      </td> <td>1989</td> <td>A.C. Green 1964.0</td> <td>PF  </td> <td>25  </td> <td>LAL </td> <td>82  </td> <td>82  </td> <td>2510</td> <td>17.8</td> <td>0.594</td> <td>0.022</td> <td>0.474</td> <td>12.3</td> <td>20  </td> <td>16.4</td> <td>5.5 </td> <td>1.8 </td> <td>1.2 </td> <td>11.5</td> <td>17  </td> <td>nan  </td> <td>5.8 </td> <td>3.5 </td> <td>9.4 </td> <td>0.179</td> <td>nan   </td> <td>1.6 </td> <td>0.6 </td> <td>2.2 </td> <td>2.7 </td> <td>401 </td> <td>758 </td> <td>0.529</td> <td>4   </td> <td>17  </td> <td>0.235</td> <td>397 </td> <td>741 </td> <td>0.536</td> <td>0.532</td> <td>282 </td> <td>359 </td> <td>0.786</td> <td>258 </td> <td>481 </td> <td>739 </td> <td>103 </td> <td>94  </td> <td>55  </td> <td>119 </td> <td>172 </td> <td>1088</td> <td>30.6098</td> <td>13.2683</td> <td>1.2561  </td> <td>9.0122 </td> <td>1.14634 </td> <td>0.0487805</td> <td>3.43902</td> <td>1.45122</td> <td>0.670732</td> <td>-775      </td> <td>625 </td> <td>25  </td> <td>5.75136</td> <td>0.433466</td> <td>0.294422</td> <td>0.00159363 </td> <td>544.854</td> <td>17.8</td> <td>88.36</td> <td>9.4 </td> <td>289   </td> <td>17  </td> <td>1.43536</td> <td>2.09756</td>\n",
              "        </tr>\n",
              "        <tr>\n",
              "            <td>9688      </td> <td>1990</td> <td>A.C. Green 1964.0</td> <td>PF  </td> <td>26  </td> <td>LAL </td> <td>82  </td> <td>82  </td> <td>2709</td> <td>14.7</td> <td>0.548</td> <td>0.057</td> <td>0.459</td> <td>11.5</td> <td>18.4</td> <td>15.1</td> <td>4.6 </td> <td>1.2 </td> <td>1.1 </td> <td>10.7</td> <td>17.1</td> <td>nan  </td> <td>4.4 </td> <td>3.3 </td> <td>7.7 </td> <td>0.137</td> <td>nan   </td> <td>0.3 </td> <td>0   </td> <td>0.4 </td> <td>1.6 </td> <td>385 </td> <td>806 </td> <td>0.478</td> <td>13  </td> <td>46  </td> <td>0.283</td> <td>372 </td> <td>760 </td> <td>0.489</td> <td>0.486</td> <td>278 </td> <td>370 </td> <td>0.751</td> <td>262 </td> <td>450 </td> <td>712 </td> <td>90  </td> <td>66  </td> <td>50  </td> <td>116 </td> <td>207 </td> <td>1061</td> <td>33.0366</td> <td>12.939 </td> <td>1.09756 </td> <td>8.68293</td> <td>0.804878</td> <td>0.158537 </td> <td>3.39024</td> <td>1.41463</td> <td>0.609756</td> <td>-780      </td> <td>676 </td> <td>26  </td> <td>5.06767</td> <td>0.391657</td> <td>0.262828</td> <td>0.00479882 </td> <td>485.638</td> <td>14.7</td> <td>59.29</td> <td>7.7 </td> <td>292.41</td> <td>17.1</td> <td>1.31638</td> <td>2.52439</td>\n",
              "        </tr>\n",
              "        <tr>\n",
              "            <td>10166     </td> <td>1991</td> <td>A.C. Green 1964.0</td> <td>PF  </td> <td>27  </td> <td>LAL </td> <td>82  </td> <td>21  </td> <td>2164</td> <td>13.8</td> <td>0.556</td> <td>0.101</td> <td>0.557</td> <td>11.3</td> <td>16.2</td> <td>13.8</td> <td>4.5 </td> <td>1.4 </td> <td>0.6 </td> <td>12.8</td> <td>15.6</td> <td>nan  </td> <td>3.2 </td> <td>2.9 </td> <td>6.1 </td> <td>0.135</td> <td>nan   </td> <td>0   </td> <td>0.6 </td> <td>0.5 </td> <td>1.4 </td> <td>258 </td> <td>542 </td> <td>0.476</td> <td>11  </td> <td>55  </td> <td>0.2  </td> <td>247 </td> <td>487 </td> <td>0.507</td> <td>0.486</td> <td>223 </td> <td>302 </td> <td>0.738</td> <td>201 </td> <td>315 </td> <td>516 </td> <td>71  </td> <td>59  </td> <td>23  </td> <td>99  </td> <td>117 </td> <td>750 </td> <td>26.3902</td> <td>9.14634</td> <td>0.865854</td> <td>6.29268</td> <td>0.719512</td> <td>0.134146 </td> <td>2.71951</td> <td>1.20732</td> <td>0.280488</td> <td>-783      </td> <td>729 </td> <td>27  </td> <td>3.16994</td> <td>0.34658 </td> <td>0.238447</td> <td>0.00508318 </td> <td>364.185</td> <td>13.8</td> <td>37.21</td> <td>6.1 </td> <td>243.36</td> <td>15.6</td> <td>1.38376</td> <td>1.42683</td>\n",
              "        </tr>\n",
              "        <tr>\n",
              "            <td>10617     </td> <td>1992</td> <td>A.C. Green 1964.0</td> <td>PF  </td> <td>28  </td> <td>LAL </td> <td>82  </td> <td>53  </td> <td>2902</td> <td>16.7</td> <td>0.556</td> <td>0.07 </td> <td>0.569</td> <td>11.8</td> <td>18.2</td> <td>14.9</td> <td>6   </td> <td>1.6 </td> <td>0.8 </td> <td>10  </td> <td>16.8</td> <td>nan  </td> <td>5.8 </td> <td>2.9 </td> <td>8.8 </td> <td>0.145</td> <td>nan   </td> <td>1.2 </td> <td>0.2 </td> <td>1.4 </td> <td>2.5 </td> <td>382 </td> <td>803 </td> <td>0.476</td> <td>12  </td> <td>56  </td> <td>0.214</td> <td>370 </td> <td>747 </td> <td>0.495</td> <td>0.483</td> <td>340 </td> <td>457 </td> <td>0.744</td> <td>306 </td> <td>456 </td> <td>762 </td> <td>117 </td> <td>91  </td> <td>36  </td> <td>111 </td> <td>141 </td> <td>1116</td> <td>35.3902</td> <td>13.6098</td> <td>1.42683 </td> <td>9.29268</td> <td>1.10976 </td> <td>0.146341 </td> <td>4.14634</td> <td>1.35366</td> <td>0.439024</td> <td>-784      </td> <td>784 </td> <td>28  </td> <td>5.2338 </td> <td>0.384562</td> <td>0.262578</td> <td>0.00413508 </td> <td>591.017</td> <td>16.7</td> <td>77.44</td> <td>8.8 </td> <td>282.24</td> <td>16.8</td> <td>1.38979</td> <td>1.71951</td>\n",
              "        </tr>\n",
              "        <tr>\n",
              "            <td>11060     </td> <td>1993</td> <td>A.C. Green 1964.0</td> <td>PF  </td> <td>29  </td> <td>LAL </td> <td>82  </td> <td>55  </td> <td>2819</td> <td>16.3</td> <td>0.603</td> <td>0.065</td> <td>0.531</td> <td>11.5</td> <td>17.3</td> <td>14.4</td> <td>5.9 </td> <td>1.6 </td> <td>0.9 </td> <td>11.8</td> <td>15  </td> <td>nan  </td> <td>6.1 </td> <td>2.6 </td> <td>8.6 </td> <td>0.147</td> <td>nan   </td> <td>1.6 </td> <td>0.5 </td> <td>2.1 </td> <td>2.9 </td> <td>379 </td> <td>706 </td> <td>0.537</td> <td>16  </td> <td>46  </td> <td>0.348</td> <td>363 </td> <td>660 </td> <td>0.55 </td> <td>0.548</td> <td>277 </td> <td>375 </td> <td>0.739</td> <td>287 </td> <td>424 </td> <td>711 </td> <td>116 </td> <td>88  </td> <td>39  </td> <td>116 </td> <td>149 </td> <td>1051</td> <td>34.378 </td> <td>12.8171</td> <td>1.41463 </td> <td>8.67073</td> <td>1.07317 </td> <td>0.195122 </td> <td>3.37805</td> <td>1.41463</td> <td>0.47561 </td> <td>-783      </td> <td>841 </td> <td>29  </td> <td>4.77855</td> <td>0.372827</td> <td>0.252217</td> <td>0.00567577 </td> <td>560.362</td> <td>16.3</td> <td>73.96</td> <td>8.6 </td> <td>225   </td> <td>15  </td> <td>1.48867</td> <td>1.81707</td>\n",
              "        </tr>\n",
              "        <tr>\n",
              "            <td>11529     </td> <td>1994</td> <td>A.C. Green 1964.0</td> <td>PF  </td> <td>30  </td> <td>PHO </td> <td>82  </td> <td>55  </td> <td>2825</td> <td>17  </td> <td>0.555</td> <td>0.038</td> <td>0.391</td> <td>11.1</td> <td>18.8</td> <td>15  </td> <td>6.9 </td> <td>1.2 </td> <td>0.8 </td> <td>8.4 </td> <td>17.6</td> <td>nan  </td> <td>6.7 </td> <td>2.6 </td> <td>9.3 </td> <td>0.157</td> <td>nan   </td> <td>1.5 </td> <td>-0.3</td> <td>1.2 </td> <td>2.3 </td> <td>465 </td> <td>926 </td> <td>0.502</td> <td>8   </td> <td>35  </td> <td>0.229</td> <td>457 </td> <td>891 </td> <td>0.513</td> <td>0.506</td> <td>266 </td> <td>362 </td> <td>0.735</td> <td>275 </td> <td>478 </td> <td>753 </td> <td>137 </td> <td>70  </td> <td>38  </td> <td>100 </td> <td>142 </td> <td>1204</td> <td>34.4512</td> <td>14.6829</td> <td>1.67073 </td> <td>9.18293</td> <td>0.853659</td> <td>0.097561 </td> <td>3.2439 </td> <td>1.21951</td> <td>0.463415</td> <td>-780      </td> <td>900 </td> <td>30  </td> <td>6.25779</td> <td>0.426195</td> <td>0.266549</td> <td>0.00283186 </td> <td>585.671</td> <td>17  </td> <td>86.49</td> <td>9.3 </td> <td>309.76</td> <td>17.6</td> <td>1.30022</td> <td>1.73171</td>\n",
              "        </tr>\n",
              "        <tr>\n",
              "            <td>11999     </td> <td>1995</td> <td>A.C. Green 1964.0</td> <td>SF  </td> <td>31  </td> <td>PHO </td> <td>82  </td> <td>52  </td> <td>2687</td> <td>14.2</td> <td>0.596</td> <td>0.206</td> <td>0.556</td> <td>8.3 </td> <td>20.4</td> <td>14.3</td> <td>6.5 </td> <td>1   </td> <td>0.8 </td> <td>12.9</td> <td>14.2</td> <td>nan  </td> <td>4.6 </td> <td>2.1 </td> <td>6.7 </td> <td>0.12 </td> <td>nan   </td> <td>0.6 </td> <td>0.2 </td> <td>0.7 </td> <td>1.9 </td> <td>311 </td> <td>617 </td> <td>0.504</td> <td>43  </td> <td>127 </td> <td>0.339</td> <td>268 </td> <td>490 </td> <td>0.547</td> <td>0.539</td> <td>251 </td> <td>343 </td> <td>0.732</td> <td>194 </td> <td>475 </td> <td>669 </td> <td>127 </td> <td>55  </td> <td>31  </td> <td>114 </td> <td>146 </td> <td>916 </td> <td>32.7683</td> <td>11.1707</td> <td>1.54878 </td> <td>8.15854</td> <td>0.670732</td> <td>0.52439  </td> <td>3.06098</td> <td>1.39024</td> <td>0.378049</td> <td>-775      </td> <td>961 </td> <td>31  </td> <td>3.80811</td> <td>0.340901</td> <td>0.248977</td> <td>0.016003   </td> <td>465.31 </td> <td>14.2</td> <td>44.89</td> <td>6.7 </td> <td>201.64</td> <td>14.2</td> <td>1.4846 </td> <td>1.78049</td>\n",
              "        </tr>\n",
              "    </tbody>\n",
              "</table>\n",
              "<p>... (20637 rows omitted)</p>"
            ],
            "text/plain": [
              "Unnamed: 0 | Year | Player            | Pos  | Age  | Tm   | G    | GS   | MP   | PER  | TS%   | 3PAr  | FTr   | ORB% | DRB% | TRB% | AST% | STL% | BLK% | TOV% | USG% | blanl | OWS  | DWS  | WS   | WS/48 | blank2 | OBPM | DBPM | BPM  | VORP | FG   | FGA  | FG%   | 3P   | 3PA  | 3P%   | 2P   | 2PA  | 2P%   | eFG%  | FT   | FTA  | FT%   | ORB  | DRB  | TRB  | AST  | STL  | BLK  | TOV  | PF   | PTS  | MPG     | PPG     | APG      | RPG     | SPG      | 3PG       | FPG     | TPG     | BPG      | AGE_rating | AGE2 | AGE1 | PPM2    | PPM1     | RPM      | 3PM         | PER/M   | PER1 | WS2   | WS1  | USG2   | USG1 | PTS/FGA | PFPG\n",
              "8035       | 1986 | A.C. Green 1964.0 | PF   | 22   | LAL  | 82   | 1    | 1542 | 11.8 | 0.564 | 0.015 | 0.43  | 12.4 | 15.5 | 14   | 4.2  | 1.5  | 1.7  | 17.7 | 14.7 | nan   | 1.4  | 2    | 3.3  | 0.103 | nan    | -0.5 | 0.8  | 0.3  | 0.9  | 209  | 388  | 0.539 | 1    | 6    | 0.167 | 208  | 382  | 0.545 | 0.54  | 102  | 167  | 0.611 | 160  | 221  | 381  | 54   | 49   | 49   | 99   | 229  | 521  | 18.8049 | 6.35366 | 0.658537 | 4.64634 | 0.597561 | 0.0121951 | 1.2439  | 1.20732 | 0.597561 | -748       | 484  | 22   | 2.14673 | 0.337873 | 0.247082 | 0.000648508 | 221.898 | 11.8 | 10.89 | 3.3  | 216.09 | 14.7 | 1.34278 | 2.79268\n",
              "8420       | 1987 | A.C. Green 1964.0 | PF   | 23   | LAL  | 79   | 72   | 2240 | 15.7 | 0.599 | 0.009 | 0.48  | 11.2 | 18.8 | 15.3 | 4.6  | 1.5  | 2    | 12.5 | 14.7 | nan   | 4.3  | 3.3  | 7.6  | 0.163 | nan    | 0.6  | 1    | 1.7  | 2.1  | 316  | 587  | 0.538 | 0    | 5    | 0     | 316  | 582  | 0.543 | 0.538 | 220  | 282  | 0.78  | 210  | 405  | 615  | 84   | 70   | 80   | 102  | 171  | 852  | 28.3544 | 10.7848 | 1.06329  | 7.78481 | 0.886076 | 0         | 2.78481 | 1.29114 | 1.01266  | -759       | 529  | 23   | 4.10208 | 0.380357 | 0.274554 | 0           | 445.165 | 15.7 | 57.76 | 7.6  | 216.09 | 14.7 | 1.45145 | 2.16456\n",
              "8807       | 1988 | A.C. Green 1964.0 | PF   | 24   | LAL  | 82   | 64   | 2636 | 14.5 | 0.581 | 0.003 | 0.592 | 11.1 | 19.1 | 15.3 | 4.5  | 1.6  | 1    | 12.9 | 14.7 | nan   | 4.5  | 3.4  | 7.9  | 0.144 | nan    | 0.2  | 0.8  | 1    | 2    | 322  | 640  | 0.503 | 0    | 2    | 0     | 322  | 638  | 0.505 | 0.503 | 293  | 379  | 0.773 | 245  | 465  | 710  | 93   | 87   | 45   | 120  | 204  | 937  | 32.1463 | 11.4268 | 1.13415  | 8.65854 | 1.06098  | 0         | 3.57317 | 1.46341 | 0.54878  | -768       | 576  | 24   | 4.06181 | 0.355463 | 0.269347 | 0           | 466.122 | 14.5 | 62.41 | 7.9  | 216.09 | 14.7 | 1.46406 | 2.4878\n",
              "9242       | 1989 | A.C. Green 1964.0 | PF   | 25   | LAL  | 82   | 82   | 2510 | 17.8 | 0.594 | 0.022 | 0.474 | 12.3 | 20   | 16.4 | 5.5  | 1.8  | 1.2  | 11.5 | 17   | nan   | 5.8  | 3.5  | 9.4  | 0.179 | nan    | 1.6  | 0.6  | 2.2  | 2.7  | 401  | 758  | 0.529 | 4    | 17   | 0.235 | 397  | 741  | 0.536 | 0.532 | 282  | 359  | 0.786 | 258  | 481  | 739  | 103  | 94   | 55   | 119  | 172  | 1088 | 30.6098 | 13.2683 | 1.2561   | 9.0122  | 1.14634  | 0.0487805 | 3.43902 | 1.45122 | 0.670732 | -775       | 625  | 25   | 5.75136 | 0.433466 | 0.294422 | 0.00159363  | 544.854 | 17.8 | 88.36 | 9.4  | 289    | 17   | 1.43536 | 2.09756\n",
              "9688       | 1990 | A.C. Green 1964.0 | PF   | 26   | LAL  | 82   | 82   | 2709 | 14.7 | 0.548 | 0.057 | 0.459 | 11.5 | 18.4 | 15.1 | 4.6  | 1.2  | 1.1  | 10.7 | 17.1 | nan   | 4.4  | 3.3  | 7.7  | 0.137 | nan    | 0.3  | 0    | 0.4  | 1.6  | 385  | 806  | 0.478 | 13   | 46   | 0.283 | 372  | 760  | 0.489 | 0.486 | 278  | 370  | 0.751 | 262  | 450  | 712  | 90   | 66   | 50   | 116  | 207  | 1061 | 33.0366 | 12.939  | 1.09756  | 8.68293 | 0.804878 | 0.158537  | 3.39024 | 1.41463 | 0.609756 | -780       | 676  | 26   | 5.06767 | 0.391657 | 0.262828 | 0.00479882  | 485.638 | 14.7 | 59.29 | 7.7  | 292.41 | 17.1 | 1.31638 | 2.52439\n",
              "10166      | 1991 | A.C. Green 1964.0 | PF   | 27   | LAL  | 82   | 21   | 2164 | 13.8 | 0.556 | 0.101 | 0.557 | 11.3 | 16.2 | 13.8 | 4.5  | 1.4  | 0.6  | 12.8 | 15.6 | nan   | 3.2  | 2.9  | 6.1  | 0.135 | nan    | 0    | 0.6  | 0.5  | 1.4  | 258  | 542  | 0.476 | 11   | 55   | 0.2   | 247  | 487  | 0.507 | 0.486 | 223  | 302  | 0.738 | 201  | 315  | 516  | 71   | 59   | 23   | 99   | 117  | 750  | 26.3902 | 9.14634 | 0.865854 | 6.29268 | 0.719512 | 0.134146  | 2.71951 | 1.20732 | 0.280488 | -783       | 729  | 27   | 3.16994 | 0.34658  | 0.238447 | 0.00508318  | 364.185 | 13.8 | 37.21 | 6.1  | 243.36 | 15.6 | 1.38376 | 1.42683\n",
              "10617      | 1992 | A.C. Green 1964.0 | PF   | 28   | LAL  | 82   | 53   | 2902 | 16.7 | 0.556 | 0.07  | 0.569 | 11.8 | 18.2 | 14.9 | 6    | 1.6  | 0.8  | 10   | 16.8 | nan   | 5.8  | 2.9  | 8.8  | 0.145 | nan    | 1.2  | 0.2  | 1.4  | 2.5  | 382  | 803  | 0.476 | 12   | 56   | 0.214 | 370  | 747  | 0.495 | 0.483 | 340  | 457  | 0.744 | 306  | 456  | 762  | 117  | 91   | 36   | 111  | 141  | 1116 | 35.3902 | 13.6098 | 1.42683  | 9.29268 | 1.10976  | 0.146341  | 4.14634 | 1.35366 | 0.439024 | -784       | 784  | 28   | 5.2338  | 0.384562 | 0.262578 | 0.00413508  | 591.017 | 16.7 | 77.44 | 8.8  | 282.24 | 16.8 | 1.38979 | 1.71951\n",
              "11060      | 1993 | A.C. Green 1964.0 | PF   | 29   | LAL  | 82   | 55   | 2819 | 16.3 | 0.603 | 0.065 | 0.531 | 11.5 | 17.3 | 14.4 | 5.9  | 1.6  | 0.9  | 11.8 | 15   | nan   | 6.1  | 2.6  | 8.6  | 0.147 | nan    | 1.6  | 0.5  | 2.1  | 2.9  | 379  | 706  | 0.537 | 16   | 46   | 0.348 | 363  | 660  | 0.55  | 0.548 | 277  | 375  | 0.739 | 287  | 424  | 711  | 116  | 88   | 39   | 116  | 149  | 1051 | 34.378  | 12.8171 | 1.41463  | 8.67073 | 1.07317  | 0.195122  | 3.37805 | 1.41463 | 0.47561  | -783       | 841  | 29   | 4.77855 | 0.372827 | 0.252217 | 0.00567577  | 560.362 | 16.3 | 73.96 | 8.6  | 225    | 15   | 1.48867 | 1.81707\n",
              "11529      | 1994 | A.C. Green 1964.0 | PF   | 30   | PHO  | 82   | 55   | 2825 | 17   | 0.555 | 0.038 | 0.391 | 11.1 | 18.8 | 15   | 6.9  | 1.2  | 0.8  | 8.4  | 17.6 | nan   | 6.7  | 2.6  | 9.3  | 0.157 | nan    | 1.5  | -0.3 | 1.2  | 2.3  | 465  | 926  | 0.502 | 8    | 35   | 0.229 | 457  | 891  | 0.513 | 0.506 | 266  | 362  | 0.735 | 275  | 478  | 753  | 137  | 70   | 38   | 100  | 142  | 1204 | 34.4512 | 14.6829 | 1.67073  | 9.18293 | 0.853659 | 0.097561  | 3.2439  | 1.21951 | 0.463415 | -780       | 900  | 30   | 6.25779 | 0.426195 | 0.266549 | 0.00283186  | 585.671 | 17   | 86.49 | 9.3  | 309.76 | 17.6 | 1.30022 | 1.73171\n",
              "11999      | 1995 | A.C. Green 1964.0 | SF   | 31   | PHO  | 82   | 52   | 2687 | 14.2 | 0.596 | 0.206 | 0.556 | 8.3  | 20.4 | 14.3 | 6.5  | 1    | 0.8  | 12.9 | 14.2 | nan   | 4.6  | 2.1  | 6.7  | 0.12  | nan    | 0.6  | 0.2  | 0.7  | 1.9  | 311  | 617  | 0.504 | 43   | 127  | 0.339 | 268  | 490  | 0.547 | 0.539 | 251  | 343  | 0.732 | 194  | 475  | 669  | 127  | 55   | 31   | 114  | 146  | 916  | 32.7683 | 11.1707 | 1.54878  | 8.15854 | 0.670732 | 0.52439   | 3.06098 | 1.39024 | 0.378049 | -775       | 961  | 31   | 3.80811 | 0.340901 | 0.248977 | 0.016003    | 465.31  | 14.2 | 44.89 | 6.7  | 201.64 | 14.2 | 1.4846  | 1.78049\n",
              "... (20637 rows omitted)"
            ]
          },
          "metadata": {
            "tags": []
          },
          "execution_count": 60
        }
      ]
    },
    {
      "cell_type": "markdown",
      "metadata": {
        "id": "VzF-lcHVc588"
      },
      "source": [
        "Splitting the stats table into 2 categories: per_game_stats_previous which has the stats from 1980-2017 which we'll use to obtain all the previous year's stats of a player to use for prediction and per_game_stats_current which uses 1981-2017 which we'll use to find the current team's roster to select previous year stats from. Then we filter out the rookies from the \"current\" table since we can't access previous years of rookies since they didn't play in the NBA."
      ]
    },
    {
      "cell_type": "code",
      "metadata": {
        "id": "oO7NZErZsg1U"
      },
      "source": [
        "per_game_stats_previous = per_game_stats.where(\"Year\",are.between(1980,2018))\r\n",
        "per_game_stat_current = per_game_stats.where(\"Year\",are.between(1981,2018))\r\n",
        "\r\n",
        "take_indices = []\r\n",
        "\r\n",
        "i = 1\r\n",
        "exists_before_TOT = False\r\n",
        "\r\n",
        "while i < per_game_stat_current.num_rows:\r\n",
        "\r\n",
        "  if exists_before_TOT and per_game_stat_current.column(\"Year\").item(i-1) != per_game_stat_current.column(\"Year\").item(i):\r\n",
        "    exists_before_TOT = False\r\n",
        "  if per_game_stat_current.column(\"Tm\").item(i) == \"TOT\" and per_game_stat_current.column(\"Player\").item(i-1) == per_game_stat_current.column(\"Player\").item(i):\r\n",
        "    exists_before_TOT = True\r\n",
        "  if per_game_stat_current.column(\"Player\").item(i)== per_game_stat_current.column(\"Player\").item(i-1) and (per_game_stat_current.column(\"Year\").item(i) != per_game_stat_current.column(\"Year\").item(i-1) or exists_before_TOT):\r\n",
        "    take_indices.append(i)\r\n",
        "  \r\n",
        "  i+=1\r\n",
        "\r\n",
        "no_rookies_stats = per_game_stat_current.take(take_indices)"
      ],
      "execution_count": null,
      "outputs": []
    },
    {
      "cell_type": "markdown",
      "metadata": {
        "id": "rsV4Ae_2eKbn"
      },
      "source": [
        "Taking the \"current\" year stats and splitting them up into forwards and guards tables for each team in the \"current\" year"
      ]
    },
    {
      "cell_type": "code",
      "metadata": {
        "id": "UQa0AsFms7ww",
        "colab": {
          "base_uri": "https://localhost:8080/",
          "height": 1000
        },
        "outputId": "49ba9447-9582-473c-9c5e-47ebf4c2fdeb"
      },
      "source": [
        "time_filtered_stats = per_game_stats_previous\r\n",
        "forwards = no_rookies_stats.sort(\"Year\").sort(\"Tm\").where(\"Pos\",are.contained_in(\"SF-PF-C\"))\r\n",
        "guards = no_rookies_stats.sort(\"Year\").sort(\"Tm\").where(\"Pos\",are.contained_in(\"PG-SG\"))\r\n",
        "forwards.show(10)\r\n",
        "guards.show(10)\r\n"
      ],
      "execution_count": null,
      "outputs": [
        {
          "output_type": "display_data",
          "data": {
            "text/html": [
              "<table border=\"1\" class=\"dataframe\">\n",
              "    <thead>\n",
              "        <tr>\n",
              "            <th>Unnamed: 0</th> <th>Year</th> <th>Player</th> <th>Pos</th> <th>Age</th> <th>Tm</th> <th>G</th> <th>GS</th> <th>MP</th> <th>PER</th> <th>TS%</th> <th>3PAr</th> <th>FTr</th> <th>ORB%</th> <th>DRB%</th> <th>TRB%</th> <th>AST%</th> <th>STL%</th> <th>BLK%</th> <th>TOV%</th> <th>USG%</th> <th>blanl</th> <th>OWS</th> <th>DWS</th> <th>WS</th> <th>WS/48</th> <th>blank2</th> <th>OBPM</th> <th>DBPM</th> <th>BPM</th> <th>VORP</th> <th>FG</th> <th>FGA</th> <th>FG%</th> <th>3P</th> <th>3PA</th> <th>3P%</th> <th>2P</th> <th>2PA</th> <th>2P%</th> <th>eFG%</th> <th>FT</th> <th>FTA</th> <th>FT%</th> <th>ORB</th> <th>DRB</th> <th>TRB</th> <th>AST</th> <th>STL</th> <th>BLK</th> <th>TOV</th> <th>PF</th> <th>PTS</th> <th>MPG</th> <th>PPG</th> <th>APG</th> <th>RPG</th> <th>SPG</th> <th>3PG</th> <th>FPG</th> <th>TPG</th> <th>BPG</th> <th>AGE_rating</th> <th>AGE2</th> <th>AGE1</th> <th>PPM2</th> <th>PPM1</th> <th>RPM</th> <th>3PM</th> <th>PER/M</th> <th>PER1</th> <th>WS2</th> <th>WS1</th> <th>USG2</th> <th>USG1</th> <th>PTS/FGA</th> <th>PFPG</th>\n",
              "        </tr>\n",
              "    </thead>\n",
              "    <tbody>\n",
              "        <tr>\n",
              "            <td>6741      </td> <td>1982</td> <td>Dan Roundfield 1954.0</td> <td>PF  </td> <td>28  </td> <td>ATL </td> <td>61  </td> <td>58  </td> <td>2217</td> <td>19.5</td> <td>0.527</td> <td>0.005</td> <td>0.412</td> <td>11.6</td> <td>25.3</td> <td>18.4</td> <td>11.9</td> <td>1.5 </td> <td>2.6 </td> <td>14.5</td> <td>24.6</td> <td>nan  </td> <td>2.4 </td> <td>4.1 </td> <td>6.5 </td> <td>0.141</td> <td>nan   </td> <td>0.8 </td> <td>2.5 </td> <td>3.3 </td> <td>2.9 </td> <td>424 </td> <td>910 </td> <td>0.466</td> <td>1   </td> <td>5   </td> <td>0.2  </td> <td>423 </td> <td>905 </td> <td>0.467</td> <td>0.466</td> <td>285 </td> <td>375 </td> <td>0.76 </td> <td>227 </td> <td>494 </td> <td>721 </td> <td>162 </td> <td>64  </td> <td>93  </td> <td>183 </td> <td>210 </td> <td>1134</td> <td>36.3443</td> <td>18.5902</td> <td>2.65574 </td> <td>11.8197</td> <td>1.04918 </td> <td>0.0163934</td> <td>4.67213 </td> <td>3       </td> <td>1.52459  </td> <td>-784      </td> <td>784 </td> <td>28  </td> <td>9.50891 </td> <td>0.511502</td> <td>0.325214</td> <td>0.00045106 </td> <td>708.713</td> <td>19.5</td> <td>42.25</td> <td>6.5 </td> <td>605.16</td> <td>24.6</td> <td>1.24615</td> <td>3.44262</td>\n",
              "        </tr>\n",
              "        <tr>\n",
              "            <td>6535      </td> <td>1982</td> <td>John Drew 1955.0     </td> <td>SF  </td> <td>27  </td> <td>ATL </td> <td>70  </td> <td>51  </td> <td>2040</td> <td>18.1</td> <td>0.553</td> <td>0.013</td> <td>0.513</td> <td>9.3 </td> <td>11.5</td> <td>10.4</td> <td>8.1 </td> <td>1.6 </td> <td>0.1 </td> <td>13.2</td> <td>28.7</td> <td>nan  </td> <td>3.2 </td> <td>2.4 </td> <td>5.5 </td> <td>0.13 </td> <td>nan   </td> <td>1.4 </td> <td>-1.6</td> <td>-0.1</td> <td>1   </td> <td>465 </td> <td>957 </td> <td>0.486</td> <td>4   </td> <td>12  </td> <td>0.333</td> <td>461 </td> <td>945 </td> <td>0.488</td> <td>0.488</td> <td>364 </td> <td>491 </td> <td>0.741</td> <td>169 </td> <td>206 </td> <td>375 </td> <td>96  </td> <td>64  </td> <td>3   </td> <td>178 </td> <td>250 </td> <td>1298</td> <td>29.1429</td> <td>18.5429</td> <td>1.37143 </td> <td>5.35714</td> <td>0.914286</td> <td>0.0571429</td> <td>5.2     </td> <td>2.54286 </td> <td>0.0428571</td> <td>-783      </td> <td>729 </td> <td>27  </td> <td>11.7983 </td> <td>0.636275</td> <td>0.183824</td> <td>0.00196078 </td> <td>527.486</td> <td>18.1</td> <td>30.25</td> <td>5.5 </td> <td>823.69</td> <td>28.7</td> <td>1.35632</td> <td>3.57143</td>\n",
              "        </tr>\n",
              "        <tr>\n",
              "            <td>6714      </td> <td>1982</td> <td>Sam Pellom 1952.0    </td> <td>PF  </td> <td>30  </td> <td>ATL </td> <td>69  </td> <td>4   </td> <td>1037</td> <td>10.3</td> <td>0.506</td> <td>0.004</td> <td>0.315</td> <td>9.8 </td> <td>15.2</td> <td>12.5</td> <td>3.9 </td> <td>1.4 </td> <td>2.8 </td> <td>16.6</td> <td>14.3</td> <td>nan  </td> <td>0.2 </td> <td>1.6 </td> <td>1.8 </td> <td>0.083</td> <td>nan   </td> <td>-2.9</td> <td>1.5 </td> <td>-1.4</td> <td>0.2 </td> <td>114 </td> <td>251 </td> <td>0.454</td> <td>0   </td> <td>1   </td> <td>0    </td> <td>114 </td> <td>250 </td> <td>0.456</td> <td>0.454</td> <td>61  </td> <td>79  </td> <td>0.772</td> <td>90  </td> <td>139 </td> <td>229 </td> <td>28  </td> <td>29  </td> <td>47  </td> <td>57  </td> <td>164 </td> <td>289 </td> <td>15.029 </td> <td>4.18841</td> <td>0.405797</td> <td>3.31884</td> <td>0.42029 </td> <td>0        </td> <td>0.884058</td> <td>0.826087</td> <td>0.681159 </td> <td>-780      </td> <td>900 </td> <td>30  </td> <td>1.16726 </td> <td>0.278689</td> <td>0.220829</td> <td>0          </td> <td>154.799</td> <td>10.3</td> <td>3.24 </td> <td>1.8 </td> <td>204.49</td> <td>14.3</td> <td>1.15139</td> <td>2.37681</td>\n",
              "        </tr>\n",
              "        <tr>\n",
              "            <td>6576      </td> <td>1982</td> <td>Steve Hawes 1951.0   </td> <td>PF  </td> <td>31  </td> <td>ATL </td> <td>49  </td> <td>42  </td> <td>1317</td> <td>14.5</td> <td>0.536</td> <td>0.027</td> <td>0.341</td> <td>7.6 </td> <td>19.9</td> <td>13.7</td> <td>16  </td> <td>1.4 </td> <td>1.6 </td> <td>17  </td> <td>16.9</td> <td>nan  </td> <td>1.2 </td> <td>2.1 </td> <td>3.2 </td> <td>0.118</td> <td>nan   </td> <td>-0.2</td> <td>2.5 </td> <td>2.2 </td> <td>1.4 </td> <td>178 </td> <td>370 </td> <td>0.481</td> <td>4   </td> <td>10  </td> <td>0.4  </td> <td>174 </td> <td>360 </td> <td>0.483</td> <td>0.486</td> <td>96  </td> <td>126 </td> <td>0.762</td> <td>89  </td> <td>231 </td> <td>320 </td> <td>142 </td> <td>36  </td> <td>34  </td> <td>87  </td> <td>156 </td> <td>456 </td> <td>26.8776</td> <td>9.30612</td> <td>2.89796 </td> <td>6.53061</td> <td>0.734694</td> <td>0.0816327</td> <td>1.95918 </td> <td>1.77551 </td> <td>0.693878 </td> <td>-775      </td> <td>961 </td> <td>31  </td> <td>3.22217 </td> <td>0.346241</td> <td>0.242976</td> <td>0.00303721 </td> <td>389.724</td> <td>14.5</td> <td>10.24</td> <td>3.2 </td> <td>285.61</td> <td>16.9</td> <td>1.23243</td> <td>3.18367</td>\n",
              "        </tr>\n",
              "        <tr>\n",
              "            <td>6685      </td> <td>1982</td> <td>Tom McMillen 1953.0  </td> <td>C   </td> <td>29  </td> <td>ATL </td> <td>73  </td> <td>23  </td> <td>1792</td> <td>13.1</td> <td>0.559</td> <td>0.005</td> <td>0.297</td> <td>6.4 </td> <td>14.8</td> <td>10.6</td> <td>11.2</td> <td>0.7 </td> <td>0.8 </td> <td>16.1</td> <td>18.7</td> <td>nan  </td> <td>1.7 </td> <td>2   </td> <td>3.7 </td> <td>0.099</td> <td>nan   </td> <td>-0.7</td> <td>0.2 </td> <td>-0.5</td> <td>0.7 </td> <td>291 </td> <td>572 </td> <td>0.509</td> <td>1   </td> <td>3   </td> <td>0.333</td> <td>290 </td> <td>569 </td> <td>0.51 </td> <td>0.51 </td> <td>140 </td> <td>170 </td> <td>0.824</td> <td>102 </td> <td>234 </td> <td>336 </td> <td>129 </td> <td>25  </td> <td>24  </td> <td>124 </td> <td>202 </td> <td>723 </td> <td>24.5479</td> <td>9.90411</td> <td>1.76712 </td> <td>4.60274</td> <td>0.342466</td> <td>0.0136986</td> <td>1.91781 </td> <td>1.69863 </td> <td>0.328767 </td> <td>-783      </td> <td>841 </td> <td>29  </td> <td>3.99591 </td> <td>0.40346 </td> <td>0.1875  </td> <td>0.000558036</td> <td>321.578</td> <td>13.1</td> <td>13.69</td> <td>3.7 </td> <td>349.69</td> <td>18.7</td> <td>1.26399</td> <td>2.76712</td>\n",
              "        </tr>\n",
              "        <tr>\n",
              "            <td>6739      </td> <td>1982</td> <td>Tree Rollins 1956.0  </td> <td>C   </td> <td>26  </td> <td>ATL </td> <td>79  </td> <td>39  </td> <td>2018</td> <td>14.7</td> <td>0.6  </td> <td>0    </td> <td>0.373</td> <td>9.4 </td> <td>24.9</td> <td>17.1</td> <td>4.1 </td> <td>0.9 </td> <td>6.8 </td> <td>16.4</td> <td>10.4</td> <td>nan  </td> <td>2.2 </td> <td>4.2 </td> <td>6.4 </td> <td>0.153</td> <td>nan   </td> <td>-1.8</td> <td>4.9 </td> <td>3.1 </td> <td>2.6 </td> <td>202 </td> <td>346 </td> <td>0.584</td> <td>0   </td> <td>0   </td> <td>nan  </td> <td>202 </td> <td>346 </td> <td>0.584</td> <td>0.584</td> <td>79  </td> <td>129 </td> <td>0.612</td> <td>168 </td> <td>443 </td> <td>611 </td> <td>59  </td> <td>35  </td> <td>224 </td> <td>79  </td> <td>285 </td> <td>483 </td> <td>25.5443</td> <td>6.11392</td> <td>0.746835</td> <td>7.73418</td> <td>0.443038</td> <td>0        </td> <td>1       </td> <td>1       </td> <td>2.83544  </td> <td>-780      </td> <td>676 </td> <td>26  </td> <td>1.46334 </td> <td>0.239346</td> <td>0.302775</td> <td>0          </td> <td>375.501</td> <td>14.7</td> <td>40.96</td> <td>6.4 </td> <td>108.16</td> <td>10.4</td> <td>1.39595</td> <td>3.60759</td>\n",
              "        </tr>\n",
              "        <tr>\n",
              "            <td>7117      </td> <td>1983</td> <td>Dan Roundfield 1954.0</td> <td>PF  </td> <td>29  </td> <td>ATL </td> <td>77  </td> <td>76  </td> <td>2811</td> <td>18.8</td> <td>0.526</td> <td>0.023</td> <td>0.377</td> <td>9.8 </td> <td>23.4</td> <td>16.6</td> <td>12.4</td> <td>1   </td> <td>2.3 </td> <td>15  </td> <td>24.2</td> <td>nan  </td> <td>2.9 </td> <td>4.5 </td> <td>7.4 </td> <td>0.127</td> <td>nan   </td> <td>0.7 </td> <td>1.7 </td> <td>2.4 </td> <td>3.1 </td> <td>561 </td> <td>1193</td> <td>0.47 </td> <td>5   </td> <td>27  </td> <td>0.185</td> <td>556 </td> <td>1166</td> <td>0.477</td> <td>0.472</td> <td>337 </td> <td>450 </td> <td>0.749</td> <td>259 </td> <td>621 </td> <td>880 </td> <td>225 </td> <td>60  </td> <td>115 </td> <td>245 </td> <td>239 </td> <td>1464</td> <td>36.5065</td> <td>19.013 </td> <td>2.92208 </td> <td>11.4286</td> <td>0.779221</td> <td>0.0649351</td> <td>4.37662 </td> <td>3.18182 </td> <td>1.49351  </td> <td>-783      </td> <td>841 </td> <td>29  </td> <td>9.90217 </td> <td>0.520811</td> <td>0.313056</td> <td>0.00177873 </td> <td>686.322</td> <td>18.8</td> <td>54.76</td> <td>7.4 </td> <td>585.64</td> <td>24.2</td> <td>1.22716</td> <td>3.1039 </td>\n",
              "        </tr>\n",
              "        <tr>\n",
              "            <td>6981      </td> <td>1983</td> <td>George Johnson 1949.0</td> <td>C   </td> <td>34  </td> <td>ATL </td> <td>37  </td> <td>0   </td> <td>461 </td> <td>10.8</td> <td>0.49 </td> <td>0    </td> <td>0.333</td> <td>10.2</td> <td>16.8</td> <td>13.5</td> <td>4.6 </td> <td>1.1 </td> <td>7.2 </td> <td>22.5</td> <td>7.6 </td> <td>nan  </td> <td>0.1 </td> <td>0.8 </td> <td>1   </td> <td>0.1  </td> <td>nan   </td> <td>-3.5</td> <td>5.1 </td> <td>1.6 </td> <td>0.4 </td> <td>25  </td> <td>57  </td> <td>0.439</td> <td>0   </td> <td>0   </td> <td>nan  </td> <td>25  </td> <td>57  </td> <td>0.439</td> <td>0.439</td> <td>14  </td> <td>19  </td> <td>0.737</td> <td>44  </td> <td>73  </td> <td>117 </td> <td>17  </td> <td>10  </td> <td>59  </td> <td>19  </td> <td>69  </td> <td>64  </td> <td>12.4595</td> <td>1.72973</td> <td>0.459459</td> <td>3.16216</td> <td>0.27027 </td> <td>0        </td> <td>0.378378</td> <td>0.513514</td> <td>1.59459  </td> <td>-748      </td> <td>1156</td> <td>34  </td> <td>0.240136</td> <td>0.138829</td> <td>0.253796</td> <td>0          </td> <td>134.562</td> <td>10.8</td> <td>1    </td> <td>1   </td> <td>57.76 </td> <td>7.6 </td> <td>1.12281</td> <td>1.86486</td>\n",
              "        </tr>\n",
              "        <tr>\n",
              "            <td>6861      </td> <td>1983</td> <td>Rickey Brown 1959.0  </td> <td>C   </td> <td>24  </td> <td>ATL </td> <td>26  </td> <td>0   </td> <td>305 </td> <td>12.4</td> <td>0.506</td> <td>0.01 </td> <td>0.385</td> <td>12.2</td> <td>18.4</td> <td>15.3</td> <td>4.3 </td> <td>0.8 </td> <td>0.9 </td> <td>15.3</td> <td>19.6</td> <td>nan  </td> <td>0.1 </td> <td>0.4 </td> <td>0.5 </td> <td>0.077</td> <td>nan   </td> <td>-2.6</td> <td>-1.7</td> <td>-4.3</td> <td>-0.2</td> <td>49  </td> <td>104 </td> <td>0.471</td> <td>0   </td> <td>1   </td> <td>0    </td> <td>49  </td> <td>103 </td> <td>0.476</td> <td>0.471</td> <td>25  </td> <td>40  </td> <td>0.625</td> <td>35  </td> <td>53  </td> <td>88  </td> <td>9   </td> <td>5   </td> <td>5   </td> <td>22  </td> <td>46  </td> <td>123 </td> <td>11.7308</td> <td>4.73077</td> <td>0.346154</td> <td>3.38462</td> <td>0.192308</td> <td>0        </td> <td>0.961538</td> <td>0.846154</td> <td>0.192308 </td> <td>-768      </td> <td>576 </td> <td>24  </td> <td>1.90782 </td> <td>0.403279</td> <td>0.288525</td> <td>0          </td> <td>145.462</td> <td>12.4</td> <td>0.25 </td> <td>0.5 </td> <td>384.16</td> <td>19.6</td> <td>1.18269</td> <td>1.76923</td>\n",
              "        </tr>\n",
              "        <tr>\n",
              "            <td>7041      </td> <td>1983</td> <td>Rudy Macklin 1959.0  </td> <td>SF  </td> <td>24  </td> <td>ATL </td> <td>73  </td> <td>20  </td> <td>1171</td> <td>10.9</td> <td>0.528</td> <td>0.011</td> <td>0.364</td> <td>7.7 </td> <td>9.5 </td> <td>8.6 </td> <td>8.6 </td> <td>1.7 </td> <td>0.5 </td> <td>17.6</td> <td>18  </td> <td>nan  </td> <td>0.5 </td> <td>1.2 </td> <td>1.8 </td> <td>0.073</td> <td>nan   </td> <td>-1.5</td> <td>-0.1</td> <td>-1.6</td> <td>0.1 </td> <td>170 </td> <td>360 </td> <td>0.472</td> <td>0   </td> <td>4   </td> <td>0    </td> <td>170 </td> <td>356 </td> <td>0.478</td> <td>0.472</td> <td>101 </td> <td>131 </td> <td>0.771</td> <td>85  </td> <td>105 </td> <td>190 </td> <td>71  </td> <td>41  </td> <td>10  </td> <td>89  </td> <td>189 </td> <td>441 </td> <td>16.0411</td> <td>6.0411 </td> <td>0.972603</td> <td>2.60274</td> <td>0.561644</td> <td>0        </td> <td>1.38356 </td> <td>1.21918 </td> <td>0.136986 </td> <td>-768      </td> <td>576 </td> <td>24  </td> <td>2.27508 </td> <td>0.376601</td> <td>0.162254</td> <td>0          </td> <td>174.848</td> <td>10.9</td> <td>3.24 </td> <td>1.8 </td> <td>324   </td> <td>18  </td> <td>1.225  </td> <td>2.58904</td>\n",
              "        </tr>\n",
              "    </tbody>\n",
              "</table>\n",
              "<p>... (7885 rows omitted)</p>"
            ],
            "text/plain": [
              "<IPython.core.display.HTML object>"
            ]
          },
          "metadata": {
            "tags": []
          }
        },
        {
          "output_type": "display_data",
          "data": {
            "text/html": [
              "<table border=\"1\" class=\"dataframe\">\n",
              "    <thead>\n",
              "        <tr>\n",
              "            <th>Unnamed: 0</th> <th>Year</th> <th>Player</th> <th>Pos</th> <th>Age</th> <th>Tm</th> <th>G</th> <th>GS</th> <th>MP</th> <th>PER</th> <th>TS%</th> <th>3PAr</th> <th>FTr</th> <th>ORB%</th> <th>DRB%</th> <th>TRB%</th> <th>AST%</th> <th>STL%</th> <th>BLK%</th> <th>TOV%</th> <th>USG%</th> <th>blanl</th> <th>OWS</th> <th>DWS</th> <th>WS</th> <th>WS/48</th> <th>blank2</th> <th>OBPM</th> <th>DBPM</th> <th>BPM</th> <th>VORP</th> <th>FG</th> <th>FGA</th> <th>FG%</th> <th>3P</th> <th>3PA</th> <th>3P%</th> <th>2P</th> <th>2PA</th> <th>2P%</th> <th>eFG%</th> <th>FT</th> <th>FTA</th> <th>FT%</th> <th>ORB</th> <th>DRB</th> <th>TRB</th> <th>AST</th> <th>STL</th> <th>BLK</th> <th>TOV</th> <th>PF</th> <th>PTS</th> <th>MPG</th> <th>PPG</th> <th>APG</th> <th>RPG</th> <th>SPG</th> <th>3PG</th> <th>FPG</th> <th>TPG</th> <th>BPG</th> <th>AGE_rating</th> <th>AGE2</th> <th>AGE1</th> <th>PPM2</th> <th>PPM1</th> <th>RPM</th> <th>3PM</th> <th>PER/M</th> <th>PER1</th> <th>WS2</th> <th>WS1</th> <th>USG2</th> <th>USG1</th> <th>PTS/FGA</th> <th>PFPG</th>\n",
              "        </tr>\n",
              "    </thead>\n",
              "    <tbody>\n",
              "        <tr>\n",
              "            <td>6515      </td> <td>1982</td> <td>Charlie Criss 1949.0   </td> <td>PG  </td> <td>33  </td> <td>ATL </td> <td>27  </td> <td>0   </td> <td>552 </td> <td>13.6</td> <td>0.485</td> <td>0.038</td> <td>0.348</td> <td>1.2 </td> <td>6.6 </td> <td>3.9 </td> <td>20.7</td> <td>2.1 </td> <td>0.2 </td> <td>11  </td> <td>21.4</td> <td>nan  </td> <td>0.4 </td> <td>0.6 </td> <td>1   </td> <td>0.089 </td> <td>nan   </td> <td>-1.2</td> <td>-1.3</td> <td>-2.5</td> <td>-0.1</td> <td>84  </td> <td>210 </td> <td>0.4  </td> <td>2   </td> <td>8   </td> <td>0.25 </td> <td>82  </td> <td>202 </td> <td>0.406</td> <td>0.405</td> <td>65  </td> <td>73  </td> <td>0.89 </td> <td>6   </td> <td>32  </td> <td>38  </td> <td>75  </td> <td>23  </td> <td>2   </td> <td>30  </td> <td>40  </td> <td>235 </td> <td>20.4444</td> <td>8.7037 </td> <td>2.77778 </td> <td>1.40741 </td> <td>0.851852</td> <td>0.0740741</td> <td>2.40741 </td> <td>1.11111 </td> <td>0.0740741</td> <td>-759      </td> <td>1089</td> <td>33  </td> <td>3.70538</td> <td>0.425725</td> <td>0.0688406</td> <td>0.00362319 </td> <td>278.044</td> <td>13.6</td> <td>1    </td> <td>1   </td> <td>457.96</td> <td>21.4</td> <td>1.11905</td> <td>1.48148 </td>\n",
              "        </tr>\n",
              "        <tr>\n",
              "            <td>6605      </td> <td>1982</td> <td>Eddie Johnson 1956.0   </td> <td>SG  </td> <td>26  </td> <td>ATL </td> <td>68  </td> <td>57  </td> <td>2314</td> <td>16.5</td> <td>0.513</td> <td>0.03 </td> <td>0.381</td> <td>3.1 </td> <td>6.3 </td> <td>4.7 </td> <td>25.3</td> <td>2.2 </td> <td>0.4 </td> <td>13.6</td> <td>25.6</td> <td>nan  </td> <td>2.2 </td> <td>2.6 </td> <td>4.8 </td> <td>0.1   </td> <td>nan   </td> <td>1.4 </td> <td>-0.5</td> <td>0.9 </td> <td>1.7 </td> <td>455 </td> <td>1011</td> <td>0.45 </td> <td>7   </td> <td>30  </td> <td>0.233</td> <td>448 </td> <td>981 </td> <td>0.457</td> <td>0.454</td> <td>294 </td> <td>385 </td> <td>0.764</td> <td>63  </td> <td>128 </td> <td>191 </td> <td>358 </td> <td>102 </td> <td>16  </td> <td>186 </td> <td>188 </td> <td>1211</td> <td>34.0294</td> <td>17.8088</td> <td>5.26471 </td> <td>2.80882 </td> <td>1.5     </td> <td>0.102941 </td> <td>4.32353 </td> <td>2.73529 </td> <td>0.235294 </td> <td>-780      </td> <td>676 </td> <td>26  </td> <td>9.32   </td> <td>0.523336</td> <td>0.0825411</td> <td>0.00302506 </td> <td>561.485</td> <td>16.5</td> <td>23.04</td> <td>4.8 </td> <td>655.36</td> <td>25.6</td> <td>1.19782</td> <td>2.76471 </td>\n",
              "        </tr>\n",
              "        <tr>\n",
              "            <td>6802      </td> <td>1982</td> <td>Freeman Williams 1957.0</td> <td>SG  </td> <td>25  </td> <td>ATL </td> <td>23  </td> <td>0   </td> <td>189 </td> <td>11.2</td> <td>0.453</td> <td>0.182</td> <td>0.236</td> <td>1.2 </td> <td>6   </td> <td>3.6 </td> <td>17.2</td> <td>1.6 </td> <td>0   </td> <td>12.9</td> <td>32  </td> <td>nan  </td> <td>-0.2</td> <td>0.2 </td> <td>-0.1</td> <td>-0.018</td> <td>nan   </td> <td>-2.9</td> <td>-4.1</td> <td>-7.1</td> <td>-0.2</td> <td>42  </td> <td>110 </td> <td>0.382</td> <td>4   </td> <td>20  </td> <td>0.2  </td> <td>38  </td> <td>90  </td> <td>0.422</td> <td>0.4  </td> <td>22  </td> <td>26  </td> <td>0.846</td> <td>2   </td> <td>10  </td> <td>12  </td> <td>19  </td> <td>6   </td> <td>0   </td> <td>18  </td> <td>18  </td> <td>110 </td> <td>8.21739</td> <td>4.78261</td> <td>0.826087</td> <td>0.521739</td> <td>0.26087 </td> <td>0.173913 </td> <td>0.956522</td> <td>0.782609</td> <td>0        </td> <td>-775      </td> <td>625 </td> <td>25  </td> <td>2.78353</td> <td>0.582011</td> <td>0.0634921</td> <td>0.021164   </td> <td>92.0348</td> <td>11.2</td> <td>0.01 </td> <td>-0.1</td> <td>1024  </td> <td>32  </td> <td>1      </td> <td>0.782609</td>\n",
              "        </tr>\n",
              "        <tr>\n",
              "            <td>6679      </td> <td>1982</td> <td>Jim McElroy 1954.0     </td> <td>PG  </td> <td>28  </td> <td>ATL </td> <td>20  </td> <td>17  </td> <td>349 </td> <td>9.3 </td> <td>0.476</td> <td>0.04 </td> <td>0.288</td> <td>1.9 </td> <td>3.6 </td> <td>2.8 </td> <td>17  </td> <td>1.2 </td> <td>0.5 </td> <td>13.5</td> <td>20.2</td> <td>nan  </td> <td>0   </td> <td>0.3 </td> <td>0.3 </td> <td>0.036 </td> <td>nan   </td> <td>-2.8</td> <td>-2.2</td> <td>-5.1</td> <td>-0.3</td> <td>52  </td> <td>125 </td> <td>0.416</td> <td>1   </td> <td>5   </td> <td>0.2  </td> <td>51  </td> <td>120 </td> <td>0.425</td> <td>0.42 </td> <td>29  </td> <td>36  </td> <td>0.806</td> <td>6   </td> <td>11  </td> <td>17  </td> <td>39  </td> <td>8   </td> <td>3   </td> <td>22  </td> <td>44  </td> <td>134 </td> <td>17.45  </td> <td>6.7    </td> <td>1.95    </td> <td>0.85    </td> <td>0.4     </td> <td>0.05     </td> <td>1.45    </td> <td>1.1     </td> <td>0.15     </td> <td>-784      </td> <td>784 </td> <td>28  </td> <td>2.57249</td> <td>0.383954</td> <td>0.0487106</td> <td>0.00286533 </td> <td>162.285</td> <td>9.3 </td> <td>0.09 </td> <td>0.3 </td> <td>408.04</td> <td>20.2</td> <td>1.072  </td> <td>2.2     </td>\n",
              "        </tr>\n",
              "        <tr>\n",
              "            <td>6559      </td> <td>1982</td> <td>Mike Glenn 1956.0      </td> <td>SG  </td> <td>26  </td> <td>ATL </td> <td>49  </td> <td>0   </td> <td>833 </td> <td>16  </td> <td>0.587</td> <td>0.007</td> <td>0.23 </td> <td>0.7 </td> <td>7.6 </td> <td>4.1 </td> <td>16.9</td> <td>1.6 </td> <td>0.2 </td> <td>7.8 </td> <td>18.1</td> <td>nan  </td> <td>2   </td> <td>0.8 </td> <td>2.8 </td> <td>0.161 </td> <td>nan   </td> <td>0.9 </td> <td>-1.3</td> <td>-0.5</td> <td>0.3 </td> <td>158 </td> <td>291 </td> <td>0.543</td> <td>1   </td> <td>2   </td> <td>0.5  </td> <td>157 </td> <td>289 </td> <td>0.543</td> <td>0.545</td> <td>59  </td> <td>67  </td> <td>0.881</td> <td>5   </td> <td>56  </td> <td>61  </td> <td>87  </td> <td>26  </td> <td>3   </td> <td>27  </td> <td>80  </td> <td>376 </td> <td>17     </td> <td>7.67347</td> <td>1.77551 </td> <td>1.2449  </td> <td>0.530612</td> <td>0.0204082</td> <td>1.20408 </td> <td>0.55102 </td> <td>0.0612245</td> <td>-780      </td> <td>676 </td> <td>26  </td> <td>3.46365</td> <td>0.451381</td> <td>0.0732293</td> <td>0.00120048 </td> <td>272    </td> <td>16  </td> <td>7.84 </td> <td>2.8 </td> <td>327.61</td> <td>18.1</td> <td>1.2921 </td> <td>1.63265 </td>\n",
              "        </tr>\n",
              "        <tr>\n",
              "            <td>6762      </td> <td>1982</td> <td>Rory Sparrow 1959.0    </td> <td>PG  </td> <td>23  </td> <td>ATL </td> <td>82  </td> <td>82  </td> <td>2610</td> <td>13  </td> <td>0.539</td> <td>0.021</td> <td>0.203</td> <td>2.3 </td> <td>7.4 </td> <td>4.9 </td> <td>24.4</td> <td>1.7 </td> <td>0.3 </td> <td>15.4</td> <td>15.6</td> <td>nan  </td> <td>2.9 </td> <td>2.7 </td> <td>5.6 </td> <td>0.104 </td> <td>nan   </td> <td>0.2 </td> <td>0.1 </td> <td>0.3 </td> <td>1.5 </td> <td>366 </td> <td>730 </td> <td>0.501</td> <td>1   </td> <td>15  </td> <td>0.067</td> <td>365 </td> <td>715 </td> <td>0.51 </td> <td>0.502</td> <td>124 </td> <td>148 </td> <td>0.838</td> <td>53  </td> <td>171 </td> <td>224 </td> <td>424 </td> <td>87  </td> <td>13  </td> <td>145 </td> <td>240 </td> <td>857 </td> <td>31.8293</td> <td>10.4512</td> <td>5.17073 </td> <td>2.73171 </td> <td>1.06098 </td> <td>0.0121951</td> <td>1.5122  </td> <td>1.76829 </td> <td>0.158537 </td> <td>-759      </td> <td>529 </td> <td>23  </td> <td>3.43168</td> <td>0.328352</td> <td>0.0858238</td> <td>0.000383142</td> <td>413.78 </td> <td>13  </td> <td>31.36</td> <td>5.6 </td> <td>243.36</td> <td>15.6</td> <td>1.17397</td> <td>2.92683 </td>\n",
              "        </tr>\n",
              "        <tr>\n",
              "            <td>6673      </td> <td>1982</td> <td>Wes Matthews 1960.0    </td> <td>PG  </td> <td>22  </td> <td>ATL </td> <td>47  </td> <td>5   </td> <td>837 </td> <td>12.6</td> <td>0.487</td> <td>0.027</td> <td>0.265</td> <td>2.6 </td> <td>5.3 </td> <td>3.9 </td> <td>25.5</td> <td>3.2 </td> <td>0.1 </td> <td>15.9</td> <td>20.5</td> <td>nan  </td> <td>0.2 </td> <td>1.1 </td> <td>1.3 </td> <td>0.073 </td> <td>nan   </td> <td>-1.1</td> <td>-0.5</td> <td>-1.6</td> <td>0.1 </td> <td>131 </td> <td>298 </td> <td>0.44 </td> <td>2   </td> <td>8   </td> <td>0.25 </td> <td>129 </td> <td>290 </td> <td>0.445</td> <td>0.443</td> <td>60  </td> <td>79  </td> <td>0.759</td> <td>19  </td> <td>39  </td> <td>58  </td> <td>139 </td> <td>53  </td> <td>2   </td> <td>63  </td> <td>129 </td> <td>324 </td> <td>17.8085</td> <td>6.89362</td> <td>2.95745 </td> <td>1.23404 </td> <td>1.12766 </td> <td>0.0425532</td> <td>1.2766  </td> <td>1.34043 </td> <td>0.0425532</td> <td>-748      </td> <td>484 </td> <td>22  </td> <td>2.6685 </td> <td>0.387097</td> <td>0.0692951</td> <td>0.00238949 </td> <td>224.387</td> <td>12.6</td> <td>1.69 </td> <td>1.3 </td> <td>420.25</td> <td>20.5</td> <td>1.08725</td> <td>2.74468 </td>\n",
              "        </tr>\n",
              "        <tr>\n",
              "            <td>6978      </td> <td>1983</td> <td>Eddie Johnson 1956.0   </td> <td>SG  </td> <td>27  </td> <td>ATL </td> <td>61  </td> <td>57  </td> <td>1813</td> <td>16  </td> <td>0.508</td> <td>0.048</td> <td>0.276</td> <td>1.5 </td> <td>5.7 </td> <td>3.6 </td> <td>27.7</td> <td>1.6 </td> <td>0.2 </td> <td>13.9</td> <td>25.7</td> <td>nan  </td> <td>1.6 </td> <td>1.5 </td> <td>3   </td> <td>0.081 </td> <td>nan   </td> <td>0.9 </td> <td>-2.2</td> <td>-1.3</td> <td>0.3 </td> <td>389 </td> <td>858 </td> <td>0.453</td> <td>14  </td> <td>41  </td> <td>0.341</td> <td>375 </td> <td>817 </td> <td>0.459</td> <td>0.462</td> <td>186 </td> <td>237 </td> <td>0.785</td> <td>26  </td> <td>98  </td> <td>124 </td> <td>318 </td> <td>61  </td> <td>6   </td> <td>156 </td> <td>138 </td> <td>978 </td> <td>29.7213</td> <td>16.0328</td> <td>5.21311 </td> <td>2.03279 </td> <td>1       </td> <td>0.229508 </td> <td>3.04918 </td> <td>2.55738 </td> <td>0.0983607</td> <td>-783      </td> <td>729 </td> <td>27  </td> <td>8.64868</td> <td>0.539437</td> <td>0.0683949</td> <td>0.00772201 </td> <td>475.541</td> <td>16  </td> <td>9    </td> <td>3   </td> <td>660.49</td> <td>25.7</td> <td>1.13986</td> <td>2.2623  </td>\n",
              "        </tr>\n",
              "        <tr>\n",
              "            <td>6898      </td> <td>1983</td> <td>Johnny Davis 1956.0    </td> <td>SG  </td> <td>27  </td> <td>ATL </td> <td>53  </td> <td>33  </td> <td>1465</td> <td>16.8</td> <td>0.521</td> <td>0.032</td> <td>0.363</td> <td>2.7 </td> <td>6.6 </td> <td>4.6 </td> <td>32  </td> <td>1.4 </td> <td>0.3 </td> <td>14.8</td> <td>21.9</td> <td>nan  </td> <td>2.3 </td> <td>1.2 </td> <td>3.5 </td> <td>0.113 </td> <td>nan   </td> <td>1.3 </td> <td>-1.9</td> <td>-0.6</td> <td>0.5 </td> <td>258 </td> <td>567 </td> <td>0.455</td> <td>5   </td> <td>18  </td> <td>0.278</td> <td>253 </td> <td>549 </td> <td>0.461</td> <td>0.459</td> <td>164 </td> <td>206 </td> <td>0.796</td> <td>37  </td> <td>91  </td> <td>128 </td> <td>315 </td> <td>43  </td> <td>7   </td> <td>114 </td> <td>100 </td> <td>685 </td> <td>27.6415</td> <td>12.9245</td> <td>5.9434  </td> <td>2.41509 </td> <td>0.811321</td> <td>0.0943396</td> <td>3.09434 </td> <td>2.15094 </td> <td>0.132075 </td> <td>-783      </td> <td>729 </td> <td>27  </td> <td>6.04321</td> <td>0.467577</td> <td>0.087372 </td> <td>0.00341297 </td> <td>464.377</td> <td>16.8</td> <td>12.25</td> <td>3.5 </td> <td>479.61</td> <td>21.9</td> <td>1.20811</td> <td>1.88679 </td>\n",
              "        </tr>\n",
              "        <tr>\n",
              "            <td>6939      </td> <td>1983</td> <td>Mike Glenn 1956.0      </td> <td>SG  </td> <td>27  </td> <td>ATL </td> <td>73  </td> <td>4   </td> <td>1124</td> <td>15.1</td> <td>0.553</td> <td>0.002</td> <td>0.2  </td> <td>1.5 </td> <td>7   </td> <td>4.3 </td> <td>17.3</td> <td>1.3 </td> <td>0.5 </td> <td>9.7 </td> <td>19.8</td> <td>nan  </td> <td>2   </td> <td>0.9 </td> <td>2.9 </td> <td>0.126 </td> <td>nan   </td> <td>0.2 </td> <td>-1.9</td> <td>-1.6</td> <td>0.1 </td> <td>230 </td> <td>444 </td> <td>0.518</td> <td>0   </td> <td>1   </td> <td>0    </td> <td>230 </td> <td>443 </td> <td>0.519</td> <td>0.518</td> <td>74  </td> <td>89  </td> <td>0.831</td> <td>16  </td> <td>74  </td> <td>90  </td> <td>125 </td> <td>30  </td> <td>9   </td> <td>52  </td> <td>132 </td> <td>534 </td> <td>15.3973</td> <td>7.31507</td> <td>1.71233 </td> <td>1.23288 </td> <td>0.410959</td> <td>0        </td> <td>1.0137  </td> <td>0.712329</td> <td>0.123288 </td> <td>-783      </td> <td>729 </td> <td>27  </td> <td>3.47531</td> <td>0.475089</td> <td>0.0800712</td> <td>0          </td> <td>232.499</td> <td>15.1</td> <td>8.41 </td> <td>2.9 </td> <td>392.04</td> <td>19.8</td> <td>1.2027 </td> <td>1.80822 </td>\n",
              "        </tr>\n",
              "    </tbody>\n",
              "</table>\n",
              "<p>... (5172 rows omitted)</p>"
            ],
            "text/plain": [
              "<IPython.core.display.HTML object>"
            ]
          },
          "metadata": {
            "tags": []
          }
        }
      ]
    },
    {
      "cell_type": "markdown",
      "metadata": {
        "id": "HCQ8GuLnfGrr"
      },
      "source": [
        "Now we alter the guards and forwards table, where if a team in a year has at least 3 guards or at least 5 forwards, we keep that team."
      ]
    },
    {
      "cell_type": "code",
      "metadata": {
        "id": "oDUX5dKqu3Gz"
      },
      "source": [
        "remove = []\r\n",
        "\r\n",
        "def findHighestMPG(tbl,x):\r\n",
        "  tbl = tbl.with_columns(\"MPG\",tbl.column(\"MP\")/tbl.column(\"G\"))\r\n",
        "  indices_array = []\r\n",
        "  i = 0\r\n",
        "  tbl = tbl.sort(\"MPG\",descending=True).sort(\"Year\").sort(\"Tm\")\r\n",
        "  while i < tbl.num_rows:\r\n",
        "    year = tbl.column(\"Year\").item(i)\r\n",
        "    count = 0\r\n",
        "    while i < tbl.num_rows and year == tbl.column(\"Year\").item(i):\r\n",
        "      if count < x:\r\n",
        "        indices_array.append(i)\r\n",
        "        count+=1\r\n",
        "      i+=1\r\n",
        "    if count!=x:\r\n",
        "      remove.append(tbl.column(\"Tm\").item(i-1) +\" \" + str(tbl.column(\"Year\").item(i-1)))\r\n",
        "  return tbl.take(indices_array)\r\n",
        "\r\n",
        "findHighestMPG(guards,3)\r\n",
        "findHighestMPG(forwards,5)\r\n",
        "# just fills the remove array, doesn't affect guards or forwards yet\r\n",
        "\r\n",
        "team_year_guards = guards.with_column(\"Team/Year\", guards.apply(lambda x,y: x+\" \"+str(y),\"Tm\",\"Year\"))\r\n",
        "team_year_forwards = forwards.with_column(\"Team/Year\", forwards.apply(lambda x,y: x+\" \"+str(y),\"Tm\",\"Year\"))\r\n",
        "least_three_guards = team_year_guards.where(\"Team/Year\", are.not_contained_in(remove))\r\n",
        "least_five_forwards = team_year_forwards.where(\"Team/Year\", are.not_contained_in(remove))"
      ],
      "execution_count": null,
      "outputs": []
    },
    {
      "cell_type": "markdown",
      "metadata": {
        "id": "RLWjz3eyfuat"
      },
      "source": [
        "Taking those guards and forwards tables and truncating them to only include 3 guards and 5 forwards per team"
      ]
    },
    {
      "cell_type": "code",
      "metadata": {
        "id": "bNdBK_ZVmr3W",
        "colab": {
          "base_uri": "https://localhost:8080/",
          "height": 1000
        },
        "outputId": "dd14a677-292b-42dc-8002-0b6033dc82eb"
      },
      "source": [
        "only_three_guards = findHighestMPG(least_three_guards,3)\r\n",
        "only_five_forwards = findHighestMPG(least_five_forwards,5)\r\n",
        "only_three_guards.show(12)\r\n",
        "only_five_forwards.show(20)"
      ],
      "execution_count": null,
      "outputs": [
        {
          "output_type": "display_data",
          "data": {
            "text/html": [
              "<table border=\"1\" class=\"dataframe\">\n",
              "    <thead>\n",
              "        <tr>\n",
              "            <th>Unnamed: 0</th> <th>Year</th> <th>Player</th> <th>Pos</th> <th>Age</th> <th>Tm</th> <th>G</th> <th>GS</th> <th>MP</th> <th>PER</th> <th>TS%</th> <th>3PAr</th> <th>FTr</th> <th>ORB%</th> <th>DRB%</th> <th>TRB%</th> <th>AST%</th> <th>STL%</th> <th>BLK%</th> <th>TOV%</th> <th>USG%</th> <th>blanl</th> <th>OWS</th> <th>DWS</th> <th>WS</th> <th>WS/48</th> <th>blank2</th> <th>OBPM</th> <th>DBPM</th> <th>BPM</th> <th>VORP</th> <th>FG</th> <th>FGA</th> <th>FG%</th> <th>3P</th> <th>3PA</th> <th>3P%</th> <th>2P</th> <th>2PA</th> <th>2P%</th> <th>eFG%</th> <th>FT</th> <th>FTA</th> <th>FT%</th> <th>ORB</th> <th>DRB</th> <th>TRB</th> <th>AST</th> <th>STL</th> <th>BLK</th> <th>TOV</th> <th>PF</th> <th>PTS</th> <th>MPG</th> <th>PPG</th> <th>APG</th> <th>RPG</th> <th>SPG</th> <th>3PG</th> <th>FPG</th> <th>TPG</th> <th>BPG</th> <th>AGE_rating</th> <th>AGE2</th> <th>AGE1</th> <th>PPM2</th> <th>PPM1</th> <th>RPM</th> <th>3PM</th> <th>PER/M</th> <th>PER1</th> <th>WS2</th> <th>WS1</th> <th>USG2</th> <th>USG1</th> <th>PTS/FGA</th> <th>PFPG</th> <th>Team/Year</th>\n",
              "        </tr>\n",
              "    </thead>\n",
              "    <tbody>\n",
              "        <tr>\n",
              "            <td>6605      </td> <td>1982</td> <td>Eddie Johnson 1956.0</td> <td>SG  </td> <td>26  </td> <td>ATL </td> <td>68  </td> <td>57  </td> <td>2314</td> <td>16.5</td> <td>0.513</td> <td>0.03 </td> <td>0.381</td> <td>3.1 </td> <td>6.3 </td> <td>4.7 </td> <td>25.3</td> <td>2.2 </td> <td>0.4 </td> <td>13.6</td> <td>25.6</td> <td>nan  </td> <td>2.2 </td> <td>2.6 </td> <td>4.8 </td> <td>0.1  </td> <td>nan   </td> <td>1.4 </td> <td>-0.5</td> <td>0.9 </td> <td>1.7 </td> <td>455 </td> <td>1011</td> <td>0.45 </td> <td>7   </td> <td>30  </td> <td>0.233</td> <td>448 </td> <td>981 </td> <td>0.457</td> <td>0.454</td> <td>294 </td> <td>385 </td> <td>0.764</td> <td>63  </td> <td>128 </td> <td>191 </td> <td>358 </td> <td>102 </td> <td>16  </td> <td>186 </td> <td>188 </td> <td>1211</td> <td>34.0294</td> <td>17.8088</td> <td>5.26471</td> <td>2.80882</td> <td>1.5     </td> <td>0.102941 </td> <td>4.32353 </td> <td>2.73529 </td> <td>0.235294 </td> <td>-780      </td> <td>676 </td> <td>26  </td> <td>9.32   </td> <td>0.523336</td> <td>0.0825411</td> <td>0.00302506 </td> <td>561.485</td> <td>16.5</td> <td>23.04</td> <td>4.8 </td> <td>655.36</td> <td>25.6</td> <td>1.19782</td> <td>2.76471</td> <td>ATL 1982.0</td>\n",
              "        </tr>\n",
              "        <tr>\n",
              "            <td>6762      </td> <td>1982</td> <td>Rory Sparrow 1959.0 </td> <td>PG  </td> <td>23  </td> <td>ATL </td> <td>82  </td> <td>82  </td> <td>2610</td> <td>13  </td> <td>0.539</td> <td>0.021</td> <td>0.203</td> <td>2.3 </td> <td>7.4 </td> <td>4.9 </td> <td>24.4</td> <td>1.7 </td> <td>0.3 </td> <td>15.4</td> <td>15.6</td> <td>nan  </td> <td>2.9 </td> <td>2.7 </td> <td>5.6 </td> <td>0.104</td> <td>nan   </td> <td>0.2 </td> <td>0.1 </td> <td>0.3 </td> <td>1.5 </td> <td>366 </td> <td>730 </td> <td>0.501</td> <td>1   </td> <td>15  </td> <td>0.067</td> <td>365 </td> <td>715 </td> <td>0.51 </td> <td>0.502</td> <td>124 </td> <td>148 </td> <td>0.838</td> <td>53  </td> <td>171 </td> <td>224 </td> <td>424 </td> <td>87  </td> <td>13  </td> <td>145 </td> <td>240 </td> <td>857 </td> <td>31.8293</td> <td>10.4512</td> <td>5.17073</td> <td>2.73171</td> <td>1.06098 </td> <td>0.0121951</td> <td>1.5122  </td> <td>1.76829 </td> <td>0.158537 </td> <td>-759      </td> <td>529 </td> <td>23  </td> <td>3.43168</td> <td>0.328352</td> <td>0.0858238</td> <td>0.000383142</td> <td>413.78 </td> <td>13  </td> <td>31.36</td> <td>5.6 </td> <td>243.36</td> <td>15.6</td> <td>1.17397</td> <td>2.92683</td> <td>ATL 1982.0</td>\n",
              "        </tr>\n",
              "        <tr>\n",
              "            <td>6515      </td> <td>1982</td> <td>Charlie Criss 1949.0</td> <td>PG  </td> <td>33  </td> <td>ATL </td> <td>27  </td> <td>0   </td> <td>552 </td> <td>13.6</td> <td>0.485</td> <td>0.038</td> <td>0.348</td> <td>1.2 </td> <td>6.6 </td> <td>3.9 </td> <td>20.7</td> <td>2.1 </td> <td>0.2 </td> <td>11  </td> <td>21.4</td> <td>nan  </td> <td>0.4 </td> <td>0.6 </td> <td>1   </td> <td>0.089</td> <td>nan   </td> <td>-1.2</td> <td>-1.3</td> <td>-2.5</td> <td>-0.1</td> <td>84  </td> <td>210 </td> <td>0.4  </td> <td>2   </td> <td>8   </td> <td>0.25 </td> <td>82  </td> <td>202 </td> <td>0.406</td> <td>0.405</td> <td>65  </td> <td>73  </td> <td>0.89 </td> <td>6   </td> <td>32  </td> <td>38  </td> <td>75  </td> <td>23  </td> <td>2   </td> <td>30  </td> <td>40  </td> <td>235 </td> <td>20.4444</td> <td>8.7037 </td> <td>2.77778</td> <td>1.40741</td> <td>0.851852</td> <td>0.0740741</td> <td>2.40741 </td> <td>1.11111 </td> <td>0.0740741</td> <td>-759      </td> <td>1089</td> <td>33  </td> <td>3.70538</td> <td>0.425725</td> <td>0.0688406</td> <td>0.00362319 </td> <td>278.044</td> <td>13.6</td> <td>1    </td> <td>1   </td> <td>457.96</td> <td>21.4</td> <td>1.11905</td> <td>1.48148</td> <td>ATL 1982.0</td>\n",
              "        </tr>\n",
              "        <tr>\n",
              "            <td>7147      </td> <td>1983</td> <td>Rory Sparrow 1959.0 </td> <td>PG  </td> <td>24  </td> <td>ATL </td> <td>49  </td> <td>49  </td> <td>1548</td> <td>13.7</td> <td>0.547</td> <td>0.029</td> <td>0.221</td> <td>2.7 </td> <td>7   </td> <td>4.8 </td> <td>22.7</td> <td>2.2 </td> <td>0   </td> <td>18.3</td> <td>18.5</td> <td>nan  </td> <td>1.2 </td> <td>1.6 </td> <td>2.8 </td> <td>0.087</td> <td>nan   </td> <td>0.4 </td> <td>-0.2</td> <td>0.2 </td> <td>0.8 </td> <td>264 </td> <td>512 </td> <td>0.516</td> <td>3   </td> <td>15  </td> <td>0.2  </td> <td>261 </td> <td>497 </td> <td>0.525</td> <td>0.519</td> <td>84  </td> <td>113 </td> <td>0.743</td> <td>39  </td> <td>102 </td> <td>141 </td> <td>238 </td> <td>70  </td> <td>1   </td> <td>126 </td> <td>162 </td> <td>615 </td> <td>31.5918</td> <td>12.551 </td> <td>4.85714</td> <td>2.87755</td> <td>1.42857 </td> <td>0.0612245</td> <td>1.71429 </td> <td>2.57143 </td> <td>0.0204082</td> <td>-768      </td> <td>576 </td> <td>24  </td> <td>4.98636</td> <td>0.397287</td> <td>0.0910853</td> <td>0.00193798 </td> <td>432.808</td> <td>13.7</td> <td>7.84 </td> <td>2.8 </td> <td>342.25</td> <td>18.5</td> <td>1.20117</td> <td>3.30612</td> <td>ATL 1983.0</td>\n",
              "        </tr>\n",
              "        <tr>\n",
              "            <td>6978      </td> <td>1983</td> <td>Eddie Johnson 1956.0</td> <td>SG  </td> <td>27  </td> <td>ATL </td> <td>61  </td> <td>57  </td> <td>1813</td> <td>16  </td> <td>0.508</td> <td>0.048</td> <td>0.276</td> <td>1.5 </td> <td>5.7 </td> <td>3.6 </td> <td>27.7</td> <td>1.6 </td> <td>0.2 </td> <td>13.9</td> <td>25.7</td> <td>nan  </td> <td>1.6 </td> <td>1.5 </td> <td>3   </td> <td>0.081</td> <td>nan   </td> <td>0.9 </td> <td>-2.2</td> <td>-1.3</td> <td>0.3 </td> <td>389 </td> <td>858 </td> <td>0.453</td> <td>14  </td> <td>41  </td> <td>0.341</td> <td>375 </td> <td>817 </td> <td>0.459</td> <td>0.462</td> <td>186 </td> <td>237 </td> <td>0.785</td> <td>26  </td> <td>98  </td> <td>124 </td> <td>318 </td> <td>61  </td> <td>6   </td> <td>156 </td> <td>138 </td> <td>978 </td> <td>29.7213</td> <td>16.0328</td> <td>5.21311</td> <td>2.03279</td> <td>1       </td> <td>0.229508 </td> <td>3.04918 </td> <td>2.55738 </td> <td>0.0983607</td> <td>-783      </td> <td>729 </td> <td>27  </td> <td>8.64868</td> <td>0.539437</td> <td>0.0683949</td> <td>0.00772201 </td> <td>475.541</td> <td>16  </td> <td>9    </td> <td>3   </td> <td>660.49</td> <td>25.7</td> <td>1.13986</td> <td>2.2623 </td> <td>ATL 1983.0</td>\n",
              "        </tr>\n",
              "        <tr>\n",
              "            <td>6898      </td> <td>1983</td> <td>Johnny Davis 1956.0 </td> <td>SG  </td> <td>27  </td> <td>ATL </td> <td>53  </td> <td>33  </td> <td>1465</td> <td>16.8</td> <td>0.521</td> <td>0.032</td> <td>0.363</td> <td>2.7 </td> <td>6.6 </td> <td>4.6 </td> <td>32  </td> <td>1.4 </td> <td>0.3 </td> <td>14.8</td> <td>21.9</td> <td>nan  </td> <td>2.3 </td> <td>1.2 </td> <td>3.5 </td> <td>0.113</td> <td>nan   </td> <td>1.3 </td> <td>-1.9</td> <td>-0.6</td> <td>0.5 </td> <td>258 </td> <td>567 </td> <td>0.455</td> <td>5   </td> <td>18  </td> <td>0.278</td> <td>253 </td> <td>549 </td> <td>0.461</td> <td>0.459</td> <td>164 </td> <td>206 </td> <td>0.796</td> <td>37  </td> <td>91  </td> <td>128 </td> <td>315 </td> <td>43  </td> <td>7   </td> <td>114 </td> <td>100 </td> <td>685 </td> <td>27.6415</td> <td>12.9245</td> <td>5.9434 </td> <td>2.41509</td> <td>0.811321</td> <td>0.0943396</td> <td>3.09434 </td> <td>2.15094 </td> <td>0.132075 </td> <td>-783      </td> <td>729 </td> <td>27  </td> <td>6.04321</td> <td>0.467577</td> <td>0.087372 </td> <td>0.00341297 </td> <td>464.377</td> <td>16.8</td> <td>12.25</td> <td>3.5 </td> <td>479.61</td> <td>21.9</td> <td>1.20811</td> <td>1.88679</td> <td>ATL 1983.0</td>\n",
              "        </tr>\n",
              "        <tr>\n",
              "            <td>7344      </td> <td>1984</td> <td>Eddie Johnson 1956.0</td> <td>SG  </td> <td>28  </td> <td>ATL </td> <td>67  </td> <td>43  </td> <td>1893</td> <td>14.2</td> <td>0.497</td> <td>0.054</td> <td>0.267</td> <td>1.8 </td> <td>7   </td> <td>4.4 </td> <td>31.5</td> <td>1.5 </td> <td>0.2 </td> <td>16.2</td> <td>24.3</td> <td>nan  </td> <td>0.3 </td> <td>1.4 </td> <td>1.7 </td> <td>0.044</td> <td>nan   </td> <td>-0.1</td> <td>-2  </td> <td>-2.2</td> <td>-0.1</td> <td>353 </td> <td>798 </td> <td>0.442</td> <td>16  </td> <td>43  </td> <td>0.372</td> <td>337 </td> <td>755 </td> <td>0.446</td> <td>0.452</td> <td>164 </td> <td>213 </td> <td>0.77 </td> <td>31  </td> <td>115 </td> <td>146 </td> <td>374 </td> <td>58  </td> <td>7   </td> <td>173 </td> <td>155 </td> <td>886 </td> <td>28.2537</td> <td>13.2239</td> <td>5.58209</td> <td>2.1791 </td> <td>0.865672</td> <td>0.238806 </td> <td>2.44776 </td> <td>2.58209 </td> <td>0.104478 </td> <td>-784      </td> <td>784 </td> <td>28  </td> <td>6.18931</td> <td>0.46804 </td> <td>0.0771263</td> <td>0.00845219 </td> <td>401.203</td> <td>14.2</td> <td>2.89 </td> <td>1.7 </td> <td>590.49</td> <td>24.3</td> <td>1.11028</td> <td>2.31343</td> <td>ATL 1984.0</td>\n",
              "        </tr>\n",
              "        <tr>\n",
              "            <td>7277      </td> <td>1984</td> <td>Johnny Davis 1956.0 </td> <td>PG  </td> <td>28  </td> <td>ATL </td> <td>75  </td> <td>72  </td> <td>2079</td> <td>14.3</td> <td>0.507</td> <td>0.01 </td> <td>0.32 </td> <td>2.9 </td> <td>4.8 </td> <td>3.8 </td> <td>24.4</td> <td>1.5 </td> <td>0.2 </td> <td>12.8</td> <td>21.7</td> <td>nan  </td> <td>1.9 </td> <td>1.4 </td> <td>3.3 </td> <td>0.075</td> <td>nan   </td> <td>0.1 </td> <td>-1.9</td> <td>-1.8</td> <td>0.1 </td> <td>354 </td> <td>800 </td> <td>0.443</td> <td>0   </td> <td>8   </td> <td>0    </td> <td>354 </td> <td>792 </td> <td>0.447</td> <td>0.443</td> <td>217 </td> <td>256 </td> <td>0.848</td> <td>53  </td> <td>86  </td> <td>139 </td> <td>326 </td> <td>62  </td> <td>6   </td> <td>134 </td> <td>146 </td> <td>925 </td> <td>27.72  </td> <td>12.3333</td> <td>4.34667</td> <td>1.85333</td> <td>0.826667</td> <td>0        </td> <td>2.89333 </td> <td>1.78667 </td> <td>0.08     </td> <td>-784      </td> <td>784 </td> <td>28  </td> <td>5.48741</td> <td>0.444925</td> <td>0.0668591</td> <td>0          </td> <td>396.396</td> <td>14.3</td> <td>10.89</td> <td>3.3 </td> <td>470.89</td> <td>21.7</td> <td>1.15625</td> <td>1.94667</td> <td>ATL 1984.0</td>\n",
              "        </tr>\n",
              "        <tr>\n",
              "            <td>7313      </td> <td>1984</td> <td>Mike Glenn 1956.0   </td> <td>SG  </td> <td>28  </td> <td>ATL </td> <td>81  </td> <td>0   </td> <td>1503</td> <td>15.5</td> <td>0.582</td> <td>0.004</td> <td>0.126</td> <td>1.3 </td> <td>6.7 </td> <td>4   </td> <td>18.8</td> <td>1.5 </td> <td>0.2 </td> <td>9.7 </td> <td>18.6</td> <td>nan  </td> <td>2.8 </td> <td>1.1 </td> <td>3.9 </td> <td>0.124</td> <td>nan   </td> <td>1   </td> <td>-1.8</td> <td>-0.9</td> <td>0.4 </td> <td>312 </td> <td>554 </td> <td>0.563</td> <td>1   </td> <td>2   </td> <td>0.5  </td> <td>311 </td> <td>552 </td> <td>0.563</td> <td>0.564</td> <td>56  </td> <td>70  </td> <td>0.8  </td> <td>17  </td> <td>87  </td> <td>104 </td> <td>171 </td> <td>46  </td> <td>5   </td> <td>63  </td> <td>146 </td> <td>681 </td> <td>18.5556</td> <td>8.40741</td> <td>2.11111</td> <td>1.28395</td> <td>0.567901</td> <td>0.0123457</td> <td>0.691358</td> <td>0.777778</td> <td>0.0617284</td> <td>-784      </td> <td>784 </td> <td>28  </td> <td>3.80934</td> <td>0.453094</td> <td>0.0691949</td> <td>0.000665336</td> <td>287.611</td> <td>15.5</td> <td>15.21</td> <td>3.9 </td> <td>345.96</td> <td>18.6</td> <td>1.22924</td> <td>1.80247</td> <td>ATL 1984.0</td>\n",
              "        </tr>\n",
              "        <tr>\n",
              "            <td>7694      </td> <td>1985</td> <td>Eddie Johnson 1956.0</td> <td>SG  </td> <td>29  </td> <td>ATL </td> <td>73  </td> <td>66  </td> <td>2367</td> <td>15.8</td> <td>0.546</td> <td>0.076</td> <td>0.351</td> <td>1.8 </td> <td>7   </td> <td>4.4 </td> <td>35.4</td> <td>0.9 </td> <td>0.2 </td> <td>18.3</td> <td>23.3</td> <td>nan  </td> <td>2.8 </td> <td>1.4 </td> <td>4.2 </td> <td>0.084</td> <td>nan   </td> <td>1.2 </td> <td>-2.5</td> <td>-1.2</td> <td>0.4 </td> <td>453 </td> <td>946 </td> <td>0.479</td> <td>22  </td> <td>72  </td> <td>0.306</td> <td>431 </td> <td>874 </td> <td>0.493</td> <td>0.49 </td> <td>265 </td> <td>332 </td> <td>0.798</td> <td>38  </td> <td>154 </td> <td>192 </td> <td>566 </td> <td>43  </td> <td>7   </td> <td>244 </td> <td>184 </td> <td>1193</td> <td>32.4247</td> <td>16.3425</td> <td>7.75342</td> <td>2.63014</td> <td>0.589041</td> <td>0.30137  </td> <td>3.63014 </td> <td>3.34247 </td> <td>0.0958904</td> <td>-783      </td> <td>841 </td> <td>29  </td> <td>8.23682</td> <td>0.504014</td> <td>0.0811153</td> <td>0.00929447 </td> <td>512.31 </td> <td>15.8</td> <td>17.64</td> <td>4.2 </td> <td>542.89</td> <td>23.3</td> <td>1.2611 </td> <td>2.52055</td> <td>ATL 1985.0</td>\n",
              "        </tr>\n",
              "        <tr>\n",
              "            <td>7805      </td> <td>1985</td> <td>Doc Rivers 1962.0   </td> <td>PG  </td> <td>23  </td> <td>ATL </td> <td>69  </td> <td>58  </td> <td>2126</td> <td>18.1</td> <td>0.561</td> <td>0.051</td> <td>0.539</td> <td>3.5 </td> <td>7.5 </td> <td>5.5 </td> <td>27.2</td> <td>3.7 </td> <td>1.4 </td> <td>16.9</td> <td>20.2</td> <td>nan  </td> <td>3.4 </td> <td>3   </td> <td>6.3 </td> <td>0.143</td> <td>nan   </td> <td>2.1 </td> <td>1.8 </td> <td>3.9 </td> <td>3.2 </td> <td>334 </td> <td>701 </td> <td>0.476</td> <td>15  </td> <td>36  </td> <td>0.417</td> <td>319 </td> <td>665 </td> <td>0.48 </td> <td>0.487</td> <td>291 </td> <td>378 </td> <td>0.77 </td> <td>66  </td> <td>148 </td> <td>214 </td> <td>410 </td> <td>163 </td> <td>53  </td> <td>176 </td> <td>250 </td> <td>974 </td> <td>30.8116</td> <td>14.1159</td> <td>5.94203</td> <td>3.10145</td> <td>2.36232 </td> <td>0.217391 </td> <td>4.21739 </td> <td>2.55072 </td> <td>0.768116 </td> <td>-759      </td> <td>529 </td> <td>23  </td> <td>6.46704</td> <td>0.458137</td> <td>0.100659 </td> <td>0.0070555  </td> <td>557.69 </td> <td>18.1</td> <td>39.69</td> <td>6.3 </td> <td>408.04</td> <td>20.2</td> <td>1.38944</td> <td>3.62319</td> <td>ATL 1985.0</td>\n",
              "        </tr>\n",
              "        <tr>\n",
              "            <td>7913      </td> <td>1985</td> <td>Randy Wittman 1960.0</td> <td>SG  </td> <td>25  </td> <td>ATL </td> <td>41  </td> <td>22  </td> <td>1168</td> <td>11.2</td> <td>0.549</td> <td>0.02 </td> <td>0.116</td> <td>1.5 </td> <td>5.3 </td> <td>3.4 </td> <td>15.1</td> <td>1.2 </td> <td>0.3 </td> <td>13.3</td> <td>15.1</td> <td>nan  </td> <td>0.9 </td> <td>0.7 </td> <td>1.6 </td> <td>0.065</td> <td>nan   </td> <td>-1  </td> <td>-0.9</td> <td>-1.9</td> <td>0   </td> <td>187 </td> <td>352 </td> <td>0.531</td> <td>2   </td> <td>7   </td> <td>0.286</td> <td>185 </td> <td>345 </td> <td>0.536</td> <td>0.534</td> <td>30  </td> <td>41  </td> <td>0.732</td> <td>16  </td> <td>57  </td> <td>73  </td> <td>125 </td> <td>28  </td> <td>7   </td> <td>57  </td> <td>58  </td> <td>406 </td> <td>28.4878</td> <td>9.90244</td> <td>3.04878</td> <td>1.78049</td> <td>0.682927</td> <td>0.0487805</td> <td>0.731707</td> <td>1.39024 </td> <td>0.170732 </td> <td>-775      </td> <td>625 </td> <td>25  </td> <td>3.44211</td> <td>0.347603</td> <td>0.0625   </td> <td>0.00171233 </td> <td>319.063</td> <td>11.2</td> <td>2.56 </td> <td>1.6 </td> <td>228.01</td> <td>15.1</td> <td>1.15341</td> <td>1.41463</td> <td>ATL 1985.0</td>\n",
              "        </tr>\n",
              "    </tbody>\n",
              "</table>\n",
              "<p>... (2970 rows omitted)</p>"
            ],
            "text/plain": [
              "<IPython.core.display.HTML object>"
            ]
          },
          "metadata": {
            "tags": []
          }
        },
        {
          "output_type": "display_data",
          "data": {
            "text/html": [
              "<table border=\"1\" class=\"dataframe\">\n",
              "    <thead>\n",
              "        <tr>\n",
              "            <th>Unnamed: 0</th> <th>Year</th> <th>Player</th> <th>Pos</th> <th>Age</th> <th>Tm</th> <th>G</th> <th>GS</th> <th>MP</th> <th>PER</th> <th>TS%</th> <th>3PAr</th> <th>FTr</th> <th>ORB%</th> <th>DRB%</th> <th>TRB%</th> <th>AST%</th> <th>STL%</th> <th>BLK%</th> <th>TOV%</th> <th>USG%</th> <th>blanl</th> <th>OWS</th> <th>DWS</th> <th>WS</th> <th>WS/48</th> <th>blank2</th> <th>OBPM</th> <th>DBPM</th> <th>BPM</th> <th>VORP</th> <th>FG</th> <th>FGA</th> <th>FG%</th> <th>3P</th> <th>3PA</th> <th>3P%</th> <th>2P</th> <th>2PA</th> <th>2P%</th> <th>eFG%</th> <th>FT</th> <th>FTA</th> <th>FT%</th> <th>ORB</th> <th>DRB</th> <th>TRB</th> <th>AST</th> <th>STL</th> <th>BLK</th> <th>TOV</th> <th>PF</th> <th>PTS</th> <th>MPG</th> <th>PPG</th> <th>APG</th> <th>RPG</th> <th>SPG</th> <th>3PG</th> <th>FPG</th> <th>TPG</th> <th>BPG</th> <th>AGE_rating</th> <th>AGE2</th> <th>AGE1</th> <th>PPM2</th> <th>PPM1</th> <th>RPM</th> <th>3PM</th> <th>PER/M</th> <th>PER1</th> <th>WS2</th> <th>WS1</th> <th>USG2</th> <th>USG1</th> <th>PTS/FGA</th> <th>PFPG</th> <th>Team/Year</th>\n",
              "        </tr>\n",
              "    </thead>\n",
              "    <tbody>\n",
              "        <tr>\n",
              "            <td>6741      </td> <td>1982</td> <td>Dan Roundfield 1954.0   </td> <td>PF  </td> <td>28  </td> <td>ATL </td> <td>61  </td> <td>58  </td> <td>2217</td> <td>19.5</td> <td>0.527</td> <td>0.005</td> <td>0.412</td> <td>11.6</td> <td>25.3</td> <td>18.4</td> <td>11.9</td> <td>1.5 </td> <td>2.6 </td> <td>14.5</td> <td>24.6</td> <td>nan  </td> <td>2.4 </td> <td>4.1 </td> <td>6.5 </td> <td>0.141 </td> <td>nan   </td> <td>0.8 </td> <td>2.5 </td> <td>3.3 </td> <td>2.9 </td> <td>424 </td> <td>910 </td> <td>0.466</td> <td>1   </td> <td>5   </td> <td>0.2  </td> <td>423 </td> <td>905 </td> <td>0.467</td> <td>0.466</td> <td>285 </td> <td>375 </td> <td>0.76 </td> <td>227 </td> <td>494 </td> <td>721 </td> <td>162 </td> <td>64  </td> <td>93  </td> <td>183 </td> <td>210 </td> <td>1134</td> <td>36.3443</td> <td>18.5902</td> <td>2.65574 </td> <td>11.8197</td> <td>1.04918 </td> <td>0.0163934</td> <td>4.67213 </td> <td>3      </td> <td>1.52459  </td> <td>-784      </td> <td>784 </td> <td>28  </td> <td>9.50891 </td> <td>0.511502</td> <td>0.325214</td> <td>0.00045106 </td> <td>708.713</td> <td>19.5</td> <td>42.25</td> <td>6.5 </td> <td>605.16 </td> <td>24.6</td> <td>1.24615 </td> <td>3.44262</td> <td>ATL 1982.0</td>\n",
              "        </tr>\n",
              "        <tr>\n",
              "            <td>6535      </td> <td>1982</td> <td>John Drew 1955.0        </td> <td>SF  </td> <td>27  </td> <td>ATL </td> <td>70  </td> <td>51  </td> <td>2040</td> <td>18.1</td> <td>0.553</td> <td>0.013</td> <td>0.513</td> <td>9.3 </td> <td>11.5</td> <td>10.4</td> <td>8.1 </td> <td>1.6 </td> <td>0.1 </td> <td>13.2</td> <td>28.7</td> <td>nan  </td> <td>3.2 </td> <td>2.4 </td> <td>5.5 </td> <td>0.13  </td> <td>nan   </td> <td>1.4 </td> <td>-1.6</td> <td>-0.1</td> <td>1   </td> <td>465 </td> <td>957 </td> <td>0.486</td> <td>4   </td> <td>12  </td> <td>0.333</td> <td>461 </td> <td>945 </td> <td>0.488</td> <td>0.488</td> <td>364 </td> <td>491 </td> <td>0.741</td> <td>169 </td> <td>206 </td> <td>375 </td> <td>96  </td> <td>64  </td> <td>3   </td> <td>178 </td> <td>250 </td> <td>1298</td> <td>29.1429</td> <td>18.5429</td> <td>1.37143 </td> <td>5.35714</td> <td>0.914286</td> <td>0.0571429</td> <td>5.2     </td> <td>2.54286</td> <td>0.0428571</td> <td>-783      </td> <td>729 </td> <td>27  </td> <td>11.7983 </td> <td>0.636275</td> <td>0.183824</td> <td>0.00196078 </td> <td>527.486</td> <td>18.1</td> <td>30.25</td> <td>5.5 </td> <td>823.69 </td> <td>28.7</td> <td>1.35632 </td> <td>3.57143</td> <td>ATL 1982.0</td>\n",
              "        </tr>\n",
              "        <tr>\n",
              "            <td>6576      </td> <td>1982</td> <td>Steve Hawes 1951.0      </td> <td>PF  </td> <td>31  </td> <td>ATL </td> <td>49  </td> <td>42  </td> <td>1317</td> <td>14.5</td> <td>0.536</td> <td>0.027</td> <td>0.341</td> <td>7.6 </td> <td>19.9</td> <td>13.7</td> <td>16  </td> <td>1.4 </td> <td>1.6 </td> <td>17  </td> <td>16.9</td> <td>nan  </td> <td>1.2 </td> <td>2.1 </td> <td>3.2 </td> <td>0.118 </td> <td>nan   </td> <td>-0.2</td> <td>2.5 </td> <td>2.2 </td> <td>1.4 </td> <td>178 </td> <td>370 </td> <td>0.481</td> <td>4   </td> <td>10  </td> <td>0.4  </td> <td>174 </td> <td>360 </td> <td>0.483</td> <td>0.486</td> <td>96  </td> <td>126 </td> <td>0.762</td> <td>89  </td> <td>231 </td> <td>320 </td> <td>142 </td> <td>36  </td> <td>34  </td> <td>87  </td> <td>156 </td> <td>456 </td> <td>26.8776</td> <td>9.30612</td> <td>2.89796 </td> <td>6.53061</td> <td>0.734694</td> <td>0.0816327</td> <td>1.95918 </td> <td>1.77551</td> <td>0.693878 </td> <td>-775      </td> <td>961 </td> <td>31  </td> <td>3.22217 </td> <td>0.346241</td> <td>0.242976</td> <td>0.00303721 </td> <td>389.724</td> <td>14.5</td> <td>10.24</td> <td>3.2 </td> <td>285.61 </td> <td>16.9</td> <td>1.23243 </td> <td>3.18367</td> <td>ATL 1982.0</td>\n",
              "        </tr>\n",
              "        <tr>\n",
              "            <td>6739      </td> <td>1982</td> <td>Tree Rollins 1956.0     </td> <td>C   </td> <td>26  </td> <td>ATL </td> <td>79  </td> <td>39  </td> <td>2018</td> <td>14.7</td> <td>0.6  </td> <td>0    </td> <td>0.373</td> <td>9.4 </td> <td>24.9</td> <td>17.1</td> <td>4.1 </td> <td>0.9 </td> <td>6.8 </td> <td>16.4</td> <td>10.4</td> <td>nan  </td> <td>2.2 </td> <td>4.2 </td> <td>6.4 </td> <td>0.153 </td> <td>nan   </td> <td>-1.8</td> <td>4.9 </td> <td>3.1 </td> <td>2.6 </td> <td>202 </td> <td>346 </td> <td>0.584</td> <td>0   </td> <td>0   </td> <td>nan  </td> <td>202 </td> <td>346 </td> <td>0.584</td> <td>0.584</td> <td>79  </td> <td>129 </td> <td>0.612</td> <td>168 </td> <td>443 </td> <td>611 </td> <td>59  </td> <td>35  </td> <td>224 </td> <td>79  </td> <td>285 </td> <td>483 </td> <td>25.5443</td> <td>6.11392</td> <td>0.746835</td> <td>7.73418</td> <td>0.443038</td> <td>0        </td> <td>1       </td> <td>1      </td> <td>2.83544  </td> <td>-780      </td> <td>676 </td> <td>26  </td> <td>1.46334 </td> <td>0.239346</td> <td>0.302775</td> <td>0          </td> <td>375.501</td> <td>14.7</td> <td>40.96</td> <td>6.4 </td> <td>108.16 </td> <td>10.4</td> <td>1.39595 </td> <td>3.60759</td> <td>ATL 1982.0</td>\n",
              "        </tr>\n",
              "        <tr>\n",
              "            <td>6685      </td> <td>1982</td> <td>Tom McMillen 1953.0     </td> <td>C   </td> <td>29  </td> <td>ATL </td> <td>73  </td> <td>23  </td> <td>1792</td> <td>13.1</td> <td>0.559</td> <td>0.005</td> <td>0.297</td> <td>6.4 </td> <td>14.8</td> <td>10.6</td> <td>11.2</td> <td>0.7 </td> <td>0.8 </td> <td>16.1</td> <td>18.7</td> <td>nan  </td> <td>1.7 </td> <td>2   </td> <td>3.7 </td> <td>0.099 </td> <td>nan   </td> <td>-0.7</td> <td>0.2 </td> <td>-0.5</td> <td>0.7 </td> <td>291 </td> <td>572 </td> <td>0.509</td> <td>1   </td> <td>3   </td> <td>0.333</td> <td>290 </td> <td>569 </td> <td>0.51 </td> <td>0.51 </td> <td>140 </td> <td>170 </td> <td>0.824</td> <td>102 </td> <td>234 </td> <td>336 </td> <td>129 </td> <td>25  </td> <td>24  </td> <td>124 </td> <td>202 </td> <td>723 </td> <td>24.5479</td> <td>9.90411</td> <td>1.76712 </td> <td>4.60274</td> <td>0.342466</td> <td>0.0136986</td> <td>1.91781 </td> <td>1.69863</td> <td>0.328767 </td> <td>-783      </td> <td>841 </td> <td>29  </td> <td>3.99591 </td> <td>0.40346 </td> <td>0.1875  </td> <td>0.000558036</td> <td>321.578</td> <td>13.1</td> <td>13.69</td> <td>3.7 </td> <td>349.69 </td> <td>18.7</td> <td>1.26399 </td> <td>2.76712</td> <td>ATL 1982.0</td>\n",
              "        </tr>\n",
              "        <tr>\n",
              "            <td>7117      </td> <td>1983</td> <td>Dan Roundfield 1954.0   </td> <td>PF  </td> <td>29  </td> <td>ATL </td> <td>77  </td> <td>76  </td> <td>2811</td> <td>18.8</td> <td>0.526</td> <td>0.023</td> <td>0.377</td> <td>9.8 </td> <td>23.4</td> <td>16.6</td> <td>12.4</td> <td>1   </td> <td>2.3 </td> <td>15  </td> <td>24.2</td> <td>nan  </td> <td>2.9 </td> <td>4.5 </td> <td>7.4 </td> <td>0.127 </td> <td>nan   </td> <td>0.7 </td> <td>1.7 </td> <td>2.4 </td> <td>3.1 </td> <td>561 </td> <td>1193</td> <td>0.47 </td> <td>5   </td> <td>27  </td> <td>0.185</td> <td>556 </td> <td>1166</td> <td>0.477</td> <td>0.472</td> <td>337 </td> <td>450 </td> <td>0.749</td> <td>259 </td> <td>621 </td> <td>880 </td> <td>225 </td> <td>60  </td> <td>115 </td> <td>245 </td> <td>239 </td> <td>1464</td> <td>36.5065</td> <td>19.013 </td> <td>2.92208 </td> <td>11.4286</td> <td>0.779221</td> <td>0.0649351</td> <td>4.37662 </td> <td>3.18182</td> <td>1.49351  </td> <td>-783      </td> <td>841 </td> <td>29  </td> <td>9.90217 </td> <td>0.520811</td> <td>0.313056</td> <td>0.00177873 </td> <td>686.322</td> <td>18.8</td> <td>54.76</td> <td>7.4 </td> <td>585.64 </td> <td>24.2</td> <td>1.22716 </td> <td>3.1039 </td> <td>ATL 1983.0</td>\n",
              "        </tr>\n",
              "        <tr>\n",
              "            <td>7115      </td> <td>1983</td> <td>Tree Rollins 1956.0     </td> <td>C   </td> <td>27  </td> <td>ATL </td> <td>80  </td> <td>80  </td> <td>2472</td> <td>15.4</td> <td>0.543</td> <td>0.002</td> <td>0.264</td> <td>9.1 </td> <td>22.8</td> <td>16  </td> <td>4.1 </td> <td>1   </td> <td>7.8 </td> <td>14.3</td> <td>11.2</td> <td>nan  </td> <td>2.3 </td> <td>5   </td> <td>7.3 </td> <td>0.142 </td> <td>nan   </td> <td>-1.8</td> <td>5.4 </td> <td>3.6 </td> <td>3.5 </td> <td>261 </td> <td>512 </td> <td>0.51 </td> <td>0   </td> <td>1   </td> <td>0    </td> <td>261 </td> <td>511 </td> <td>0.511</td> <td>0.51 </td> <td>98  </td> <td>135 </td> <td>0.726</td> <td>210 </td> <td>533 </td> <td>743 </td> <td>75  </td> <td>49  </td> <td>343 </td> <td>95  </td> <td>294 </td> <td>620 </td> <td>30.9   </td> <td>7.75   </td> <td>0.9375  </td> <td>9.2875 </td> <td>0.6125  </td> <td>0        </td> <td>1.225   </td> <td>1.1875 </td> <td>4.2875   </td> <td>-783      </td> <td>729 </td> <td>27  </td> <td>1.94377 </td> <td>0.250809</td> <td>0.300566</td> <td>0          </td> <td>475.86 </td> <td>15.4</td> <td>53.29</td> <td>7.3 </td> <td>125.44 </td> <td>11.2</td> <td>1.21094 </td> <td>3.675  </td> <td>ATL 1983.0</td>\n",
              "        </tr>\n",
              "        <tr>\n",
              "            <td>7056      </td> <td>1983</td> <td>Tom McMillen 1953.0     </td> <td>C   </td> <td>30  </td> <td>ATL </td> <td>61  </td> <td>4   </td> <td>1364</td> <td>10.8</td> <td>0.522</td> <td>0.002</td> <td>0.314</td> <td>4.5 </td> <td>12.4</td> <td>8.5 </td> <td>7.9 </td> <td>0.6 </td> <td>1   </td> <td>14.2</td> <td>17.2</td> <td>nan  </td> <td>0.7 </td> <td>1.3 </td> <td>2   </td> <td>0.071 </td> <td>nan   </td> <td>-2.2</td> <td>-0.4</td> <td>-2.5</td> <td>-0.2</td> <td>198 </td> <td>424 </td> <td>0.467</td> <td>0   </td> <td>1   </td> <td>0    </td> <td>198 </td> <td>423 </td> <td>0.468</td> <td>0.467</td> <td>108 </td> <td>133 </td> <td>0.812</td> <td>57  </td> <td>160 </td> <td>217 </td> <td>76  </td> <td>17  </td> <td>24  </td> <td>80  </td> <td>143 </td> <td>504 </td> <td>22.3607</td> <td>8.2623 </td> <td>1.2459  </td> <td>3.55738</td> <td>0.278689</td> <td>0        </td> <td>1.77049 </td> <td>1.31148</td> <td>0.393443 </td> <td>-780      </td> <td>900 </td> <td>30  </td> <td>3.05293 </td> <td>0.369501</td> <td>0.159091</td> <td>0          </td> <td>241.495</td> <td>10.8</td> <td>4    </td> <td>2   </td> <td>295.84 </td> <td>17.2</td> <td>1.18868 </td> <td>2.34426</td> <td>ATL 1983.0</td>\n",
              "        </tr>\n",
              "        <tr>\n",
              "            <td>6956      </td> <td>1983</td> <td>Steve Hawes 1951.0      </td> <td>PF  </td> <td>32  </td> <td>ATL </td> <td>46  </td> <td>3   </td> <td>860 </td> <td>8   </td> <td>0.424</td> <td>0.057</td> <td>0.254</td> <td>6.6 </td> <td>21.5</td> <td>14.1</td> <td>9.3 </td> <td>1.6 </td> <td>0.5 </td> <td>21.2</td> <td>16.7</td> <td>nan  </td> <td>-1.2</td> <td>1.3 </td> <td>0.1 </td> <td>0.006 </td> <td>nan   </td> <td>-4.9</td> <td>1.2 </td> <td>-3.7</td> <td>-0.4</td> <td>91  </td> <td>244 </td> <td>0.373</td> <td>2   </td> <td>14  </td> <td>0.143</td> <td>89  </td> <td>230 </td> <td>0.387</td> <td>0.377</td> <td>46  </td> <td>62  </td> <td>0.742</td> <td>53  </td> <td>175 </td> <td>228 </td> <td>59  </td> <td>29  </td> <td>8   </td> <td>73  </td> <td>110 </td> <td>230 </td> <td>18.6957</td> <td>5      </td> <td>1.28261 </td> <td>4.95652</td> <td>0.630435</td> <td>0.0434783</td> <td>1       </td> <td>1.58696</td> <td>0.173913 </td> <td>-768      </td> <td>1024</td> <td>32  </td> <td>1.33721 </td> <td>0.267442</td> <td>0.265116</td> <td>0.00232558 </td> <td>149.565</td> <td>8   </td> <td>0.01 </td> <td>0.1 </td> <td>278.89 </td> <td>16.7</td> <td>0.942623</td> <td>2.3913 </td> <td>ATL 1983.0</td>\n",
              "        </tr>\n",
              "        <tr>\n",
              "            <td>7041      </td> <td>1983</td> <td>Rudy Macklin 1959.0     </td> <td>SF  </td> <td>24  </td> <td>ATL </td> <td>73  </td> <td>20  </td> <td>1171</td> <td>10.9</td> <td>0.528</td> <td>0.011</td> <td>0.364</td> <td>7.7 </td> <td>9.5 </td> <td>8.6 </td> <td>8.6 </td> <td>1.7 </td> <td>0.5 </td> <td>17.6</td> <td>18  </td> <td>nan  </td> <td>0.5 </td> <td>1.2 </td> <td>1.8 </td> <td>0.073 </td> <td>nan   </td> <td>-1.5</td> <td>-0.1</td> <td>-1.6</td> <td>0.1 </td> <td>170 </td> <td>360 </td> <td>0.472</td> <td>0   </td> <td>4   </td> <td>0    </td> <td>170 </td> <td>356 </td> <td>0.478</td> <td>0.472</td> <td>101 </td> <td>131 </td> <td>0.771</td> <td>85  </td> <td>105 </td> <td>190 </td> <td>71  </td> <td>41  </td> <td>10  </td> <td>89  </td> <td>189 </td> <td>441 </td> <td>16.0411</td> <td>6.0411 </td> <td>0.972603</td> <td>2.60274</td> <td>0.561644</td> <td>0        </td> <td>1.38356 </td> <td>1.21918</td> <td>0.136986 </td> <td>-768      </td> <td>576 </td> <td>24  </td> <td>2.27508 </td> <td>0.376601</td> <td>0.162254</td> <td>0          </td> <td>174.848</td> <td>10.9</td> <td>3.24 </td> <td>1.8 </td> <td>324    </td> <td>18  </td> <td>1.225   </td> <td>2.58904</td> <td>ATL 1983.0</td>\n",
              "        </tr>\n",
              "        <tr>\n",
              "            <td>7539      </td> <td>1984</td> <td>Dominique Wilkins* 1960.</td> <td>SF  </td> <td>24  </td> <td>ATL </td> <td>81  </td> <td>81  </td> <td>2961</td> <td>19.2</td> <td>0.531</td> <td>0.008</td> <td>0.347</td> <td>9.7 </td> <td>12.9</td> <td>11.2</td> <td>7.3 </td> <td>2   </td> <td>1.8 </td> <td>11.5</td> <td>27.1</td> <td>nan  </td> <td>3.4 </td> <td>3.6 </td> <td>7   </td> <td>0.113 </td> <td>nan   </td> <td>1.3 </td> <td>0   </td> <td>1.3 </td> <td>2.5 </td> <td>684 </td> <td>1429</td> <td>0.479</td> <td>0   </td> <td>11  </td> <td>0    </td> <td>684 </td> <td>1418</td> <td>0.482</td> <td>0.479</td> <td>382 </td> <td>496 </td> <td>0.77 </td> <td>254 </td> <td>328 </td> <td>582 </td> <td>126 </td> <td>117 </td> <td>87  </td> <td>215 </td> <td>197 </td> <td>1750</td> <td>36.5556</td> <td>21.6049</td> <td>1.55556 </td> <td>7.18519</td> <td>1.44444 </td> <td>0        </td> <td>4.71605 </td> <td>2.65432</td> <td>1.07407  </td> <td>-768      </td> <td>576 </td> <td>24  </td> <td>12.7689 </td> <td>0.591017</td> <td>0.196555</td> <td>0          </td> <td>701.867</td> <td>19.2</td> <td>49   </td> <td>7   </td> <td>734.41 </td> <td>27.1</td> <td>1.22463 </td> <td>2.4321 </td> <td>ATL 1984.0</td>\n",
              "        </tr>\n",
              "        <tr>\n",
              "            <td>7470      </td> <td>1984</td> <td>Dan Roundfield 1954.0   </td> <td>PF  </td> <td>30  </td> <td>ATL </td> <td>73  </td> <td>72  </td> <td>2610</td> <td>18.9</td> <td>0.551</td> <td>0.011</td> <td>0.468</td> <td>8.9 </td> <td>22.9</td> <td>15.8</td> <td>11.4</td> <td>1.2 </td> <td>1.7 </td> <td>14.1</td> <td>24.1</td> <td>nan  </td> <td>3.5 </td> <td>3.6 </td> <td>7.1 </td> <td>0.131 </td> <td>nan   </td> <td>1   </td> <td>1.1 </td> <td>2.1 </td> <td>2.7 </td> <td>503 </td> <td>1038</td> <td>0.485</td> <td>0   </td> <td>11  </td> <td>0    </td> <td>503 </td> <td>1027</td> <td>0.49 </td> <td>0.485</td> <td>374 </td> <td>486 </td> <td>0.77 </td> <td>206 </td> <td>515 </td> <td>721 </td> <td>184 </td> <td>61  </td> <td>74  </td> <td>205 </td> <td>221 </td> <td>1380</td> <td>35.7534</td> <td>18.9041</td> <td>2.52055 </td> <td>9.87671</td> <td>0.835616</td> <td>0        </td> <td>5.12329 </td> <td>2.80822</td> <td>1.0137   </td> <td>-780      </td> <td>900 </td> <td>30  </td> <td>9.99528 </td> <td>0.528736</td> <td>0.276245</td> <td>0          </td> <td>675.74 </td> <td>18.9</td> <td>50.41</td> <td>7.1 </td> <td>580.81 </td> <td>24.1</td> <td>1.32948 </td> <td>3.0274 </td> <td>ATL 1984.0</td>\n",
              "        </tr>\n",
              "        <tr>\n",
              "            <td>7466      </td> <td>1984</td> <td>Tree Rollins 1956.0     </td> <td>C   </td> <td>28  </td> <td>ATL </td> <td>77  </td> <td>76  </td> <td>2351</td> <td>14.2</td> <td>0.544</td> <td>0    </td> <td>0.359</td> <td>9.6 </td> <td>19.4</td> <td>14.4</td> <td>3.8 </td> <td>0.7 </td> <td>7   </td> <td>14.2</td> <td>13.1</td> <td>nan  </td> <td>1.8 </td> <td>3.8 </td> <td>5.5 </td> <td>0.113 </td> <td>nan   </td> <td>-1.8</td> <td>4   </td> <td>2.3 </td> <td>2.5 </td> <td>274 </td> <td>529 </td> <td>0.518</td> <td>0   </td> <td>0   </td> <td>nan  </td> <td>274 </td> <td>529 </td> <td>0.518</td> <td>0.518</td> <td>118 </td> <td>190 </td> <td>0.621</td> <td>200 </td> <td>393 </td> <td>593 </td> <td>62  </td> <td>35  </td> <td>277 </td> <td>101 </td> <td>297 </td> <td>666 </td> <td>30.5325</td> <td>8.64935</td> <td>0.805195</td> <td>7.7013 </td> <td>0.454545</td> <td>0        </td> <td>1.53247 </td> <td>1.31169</td> <td>3.5974   </td> <td>-784      </td> <td>784 </td> <td>28  </td> <td>2.45022 </td> <td>0.283284</td> <td>0.252233</td> <td>0          </td> <td>433.561</td> <td>14.2</td> <td>30.25</td> <td>5.5 </td> <td>171.61 </td> <td>13.1</td> <td>1.25898 </td> <td>3.85714</td> <td>ATL 1984.0</td>\n",
              "        </tr>\n",
              "        <tr>\n",
              "            <td>7550      </td> <td>1984</td> <td>Sly Williams 1958.0     </td> <td>SF  </td> <td>26  </td> <td>ATL </td> <td>13  </td> <td>1   </td> <td>258 </td> <td>9.3 </td> <td>0.391</td> <td>0.079</td> <td>0.404</td> <td>8.3 </td> <td>13.9</td> <td>11.1</td> <td>9.1 </td> <td>2.7 </td> <td>0.2 </td> <td>11.8</td> <td>25.5</td> <td>nan  </td> <td>-0.5</td> <td>0.3 </td> <td>-0.1</td> <td>-0.021</td> <td>nan   </td> <td>-4.1</td> <td>-0.7</td> <td>-4.8</td> <td>-0.2</td> <td>34  </td> <td>114 </td> <td>0.298</td> <td>1   </td> <td>9   </td> <td>0.111</td> <td>33  </td> <td>105 </td> <td>0.314</td> <td>0.303</td> <td>36  </td> <td>46  </td> <td>0.783</td> <td>19  </td> <td>31  </td> <td>50  </td> <td>16  </td> <td>14  </td> <td>1   </td> <td>18  </td> <td>33  </td> <td>105 </td> <td>19.8462</td> <td>8.07692</td> <td>1.23077 </td> <td>3.84615</td> <td>1.07692 </td> <td>0.0769231</td> <td>2.76923 </td> <td>1.38462</td> <td>0.0769231</td> <td>-780      </td> <td>676 </td> <td>26  </td> <td>3.28712 </td> <td>0.406977</td> <td>0.193798</td> <td>0.00387597 </td> <td>184.569</td> <td>9.3 </td> <td>0.01 </td> <td>-0.1</td> <td>650.25 </td> <td>25.5</td> <td>0.921053</td> <td>2.53846</td> <td>ATL 1984.0</td>\n",
              "        </tr>\n",
              "        <tr>\n",
              "            <td>7438      </td> <td>1984</td> <td>Billy Paultz 1949.0     </td> <td>C   </td> <td>35  </td> <td>ATL </td> <td>40  </td> <td>4   </td> <td>486 </td> <td>6.6 </td> <td>0.434</td> <td>0    </td> <td>0.375</td> <td>8.1 </td> <td>18.6</td> <td>13.3</td> <td>5   </td> <td>0.8 </td> <td>0.9 </td> <td>17.7</td> <td>11.1</td> <td>nan  </td> <td>-0.3</td> <td>0.5 </td> <td>0.3 </td> <td>0.027 </td> <td>nan   </td> <td>-4.7</td> <td>0.5 </td> <td>-4.2</td> <td>-0.3</td> <td>36  </td> <td>88  </td> <td>0.409</td> <td>0   </td> <td>0   </td> <td>nan  </td> <td>36  </td> <td>88  </td> <td>0.409</td> <td>0.409</td> <td>17  </td> <td>33  </td> <td>0.515</td> <td>35  </td> <td>78  </td> <td>113 </td> <td>18  </td> <td>8   </td> <td>7   </td> <td>22  </td> <td>57  </td> <td>89  </td> <td>12.15  </td> <td>2.225  </td> <td>0.45    </td> <td>2.825  </td> <td>0.2     </td> <td>0        </td> <td>0.425   </td> <td>0.55   </td> <td>0.175    </td> <td>-735      </td> <td>1225</td> <td>35  </td> <td>0.407459</td> <td>0.183128</td> <td>0.23251 </td> <td>0          </td> <td>80.19  </td> <td>6.6 </td> <td>0.09 </td> <td>0.3 </td> <td>123.21 </td> <td>11.1</td> <td>1.01136 </td> <td>1.425  </td> <td>ATL 1984.0</td>\n",
              "        </tr>\n",
              "        <tr>\n",
              "            <td>7894      </td> <td>1985</td> <td>Dominique Wilkins* 1960.</td> <td>SF  </td> <td>25  </td> <td>ATL </td> <td>81  </td> <td>81  </td> <td>3023</td> <td>20.9</td> <td>0.514</td> <td>0.043</td> <td>0.319</td> <td>8.3 </td> <td>11.8</td> <td>10.1</td> <td>11.3</td> <td>2.1 </td> <td>1   </td> <td>9.4 </td> <td>32.5</td> <td>nan  </td> <td>4.1 </td> <td>3.5 </td> <td>7.6 </td> <td>0.121 </td> <td>nan   </td> <td>2   </td> <td>-0.9</td> <td>1.1 </td> <td>2.4 </td> <td>853 </td> <td>1891</td> <td>0.451</td> <td>25  </td> <td>81  </td> <td>0.309</td> <td>828 </td> <td>1810</td> <td>0.457</td> <td>0.458</td> <td>486 </td> <td>603 </td> <td>0.806</td> <td>226 </td> <td>331 </td> <td>557 </td> <td>200 </td> <td>135 </td> <td>54  </td> <td>225 </td> <td>170 </td> <td>2217</td> <td>37.321 </td> <td>27.3704</td> <td>2.46914 </td> <td>6.87654</td> <td>1.66667 </td> <td>0.308642 </td> <td>6       </td> <td>2.77778</td> <td>0.666667 </td> <td>-775      </td> <td>625 </td> <td>25  </td> <td>20.0728 </td> <td>0.733377</td> <td>0.184254</td> <td>0.00826993 </td> <td>780.009</td> <td>20.9</td> <td>57.76</td> <td>7.6 </td> <td>1056.25</td> <td>32.5</td> <td>1.1724  </td> <td>2.09877</td> <td>ATL 1985.0</td>\n",
              "        </tr>\n",
              "        <tr>\n",
              "            <td>7735      </td> <td>1985</td> <td>Cliff Levingston 1961.0 </td> <td>PF  </td> <td>24  </td> <td>ATL </td> <td>74  </td> <td>53  </td> <td>2017</td> <td>14.6</td> <td>0.56 </td> <td>0.004</td> <td>0.402</td> <td>12.7</td> <td>18  </td> <td>15.4</td> <td>7.1 </td> <td>1.7 </td> <td>1.9 </td> <td>17  </td> <td>16  </td> <td>nan  </td> <td>2   </td> <td>2.8 </td> <td>4.7 </td> <td>0.113 </td> <td>nan   </td> <td>0.1 </td> <td>2   </td> <td>2.1 </td> <td>2.1 </td> <td>291 </td> <td>552 </td> <td>0.527</td> <td>0   </td> <td>2   </td> <td>0    </td> <td>291 </td> <td>550 </td> <td>0.529</td> <td>0.527</td> <td>145 </td> <td>222 </td> <td>0.653</td> <td>230 </td> <td>336 </td> <td>566 </td> <td>104 </td> <td>70  </td> <td>69  </td> <td>133 </td> <td>231 </td> <td>727 </td> <td>27.2568</td> <td>9.82432</td> <td>1.40541 </td> <td>7.64865</td> <td>0.945946</td> <td>0        </td> <td>1.95946 </td> <td>1.7973 </td> <td>0.932432 </td> <td>-768      </td> <td>576 </td> <td>24  </td> <td>3.54104 </td> <td>0.360436</td> <td>0.280615</td> <td>0          </td> <td>397.949</td> <td>14.6</td> <td>22.09</td> <td>4.7 </td> <td>256    </td> <td>16  </td> <td>1.31703 </td> <td>3.12162</td> <td>ATL 1985.0</td>\n",
              "        </tr>\n",
              "        <tr>\n",
              "            <td>7907      </td> <td>1985</td> <td>Sly Williams 1958.0     </td> <td>SF  </td> <td>27  </td> <td>ATL </td> <td>34  </td> <td>20  </td> <td>867 </td> <td>12.9</td> <td>0.48 </td> <td>0.039</td> <td>0.324</td> <td>5.8 </td> <td>15.3</td> <td>10.6</td> <td>16.1</td> <td>1.6 </td> <td>0.5 </td> <td>15.2</td> <td>24.3</td> <td>nan  </td> <td>-0.4</td> <td>1   </td> <td>0.5 </td> <td>0.03  </td> <td>nan   </td> <td>-1.8</td> <td>0.1 </td> <td>-1.7</td> <td>0.1 </td> <td>167 </td> <td>380 </td> <td>0.439</td> <td>4   </td> <td>15  </td> <td>0.267</td> <td>163 </td> <td>365 </td> <td>0.447</td> <td>0.445</td> <td>79  </td> <td>123 </td> <td>0.642</td> <td>45  </td> <td>123 </td> <td>168 </td> <td>94  </td> <td>28  </td> <td>8   </td> <td>78  </td> <td>83  </td> <td>417 </td> <td>25.5   </td> <td>12.2647</td> <td>2.76471 </td> <td>4.94118</td> <td>0.823529</td> <td>0.117647 </td> <td>2.32353 </td> <td>2.29412</td> <td>0.235294 </td> <td>-783      </td> <td>729 </td> <td>27  </td> <td>5.89894 </td> <td>0.480969</td> <td>0.193772</td> <td>0.00461361 </td> <td>328.95 </td> <td>12.9</td> <td>0.25 </td> <td>0.5 </td> <td>590.49 </td> <td>24.3</td> <td>1.09737 </td> <td>2.44118</td> <td>ATL 1985.0</td>\n",
              "        </tr>\n",
              "        <tr>\n",
              "            <td>7813      </td> <td>1985</td> <td>Tree Rollins 1956.0     </td> <td>C   </td> <td>29  </td> <td>ATL </td> <td>70  </td> <td>60  </td> <td>1750</td> <td>12.3</td> <td>0.578</td> <td>0    </td> <td>0.274</td> <td>7.2 </td> <td>20.3</td> <td>13.8</td> <td>3.9 </td> <td>1   </td> <td>5.4 </td> <td>17.4</td> <td>10.8</td> <td>nan  </td> <td>1.1 </td> <td>2.7 </td> <td>3.8 </td> <td>0.105 </td> <td>nan   </td> <td>-2.5</td> <td>3.8 </td> <td>1.3 </td> <td>1.5 </td> <td>186 </td> <td>339 </td> <td>0.549</td> <td>0   </td> <td>0   </td> <td>nan  </td> <td>186 </td> <td>339 </td> <td>0.549</td> <td>0.549</td> <td>67  </td> <td>93  </td> <td>0.72 </td> <td>113 </td> <td>329 </td> <td>442 </td> <td>52  </td> <td>35  </td> <td>167 </td> <td>80  </td> <td>213 </td> <td>439 </td> <td>25     </td> <td>6.27143</td> <td>0.742857</td> <td>6.31429</td> <td>0.5     </td> <td>0        </td> <td>0.957143</td> <td>1.14286</td> <td>2.38571  </td> <td>-783      </td> <td>841 </td> <td>29  </td> <td>1.57323 </td> <td>0.250857</td> <td>0.252571</td> <td>0          </td> <td>307.5  </td> <td>12.3</td> <td>14.44</td> <td>3.8 </td> <td>116.64 </td> <td>10.8</td> <td>1.29499 </td> <td>3.04286</td> <td>ATL 1985.0</td>\n",
              "        </tr>\n",
              "        <tr>\n",
              "            <td>7676      </td> <td>1985</td> <td>Scott Hastings 1961.0   </td> <td>PF  </td> <td>24  </td> <td>ATL </td> <td>64  </td> <td>1   </td> <td>825 </td> <td>9.7 </td> <td>0.539</td> <td>0    </td> <td>0.431</td> <td>8   </td> <td>13.1</td> <td>10.6</td> <td>7.3 </td> <td>1.4 </td> <td>1.6 </td> <td>18.3</td> <td>13.7</td> <td>nan  </td> <td>0.4 </td> <td>0.9 </td> <td>1.3 </td> <td>0.075 </td> <td>nan   </td> <td>-2.3</td> <td>1   </td> <td>-1.3</td> <td>0.1 </td> <td>89  </td> <td>188 </td> <td>0.473</td> <td>0   </td> <td>0   </td> <td>nan  </td> <td>89  </td> <td>188 </td> <td>0.473</td> <td>0.473</td> <td>63  </td> <td>81  </td> <td>0.778</td> <td>59  </td> <td>100 </td> <td>159 </td> <td>46  </td> <td>24  </td> <td>23  </td> <td>50  </td> <td>135 </td> <td>241 </td> <td>12.8906</td> <td>3.76562</td> <td>0.71875 </td> <td>2.48438</td> <td>0.375   </td> <td>0        </td> <td>0.984375</td> <td>0.78125</td> <td>0.359375 </td> <td>-768      </td> <td>576 </td> <td>24  </td> <td>1.10002 </td> <td>0.292121</td> <td>0.192727</td> <td>0          </td> <td>125.039</td> <td>9.7 </td> <td>1.69 </td> <td>1.3 </td> <td>187.69 </td> <td>13.7</td> <td>1.28191 </td> <td>2.10938</td> <td>ATL 1985.0</td>\n",
              "        </tr>\n",
              "    </tbody>\n",
              "</table>\n",
              "<p>... (4950 rows omitted)</p>"
            ],
            "text/plain": [
              "<IPython.core.display.HTML object>"
            ]
          },
          "metadata": {
            "tags": []
          }
        }
      ]
    },
    {
      "cell_type": "markdown",
      "metadata": {
        "id": "67p2_VCygkWm"
      },
      "source": [
        "Taking the previous year's stats table and removing the years of players who played for multiple teams in one year, only keeping the \"TOT\" row that averages the year's stats."
      ]
    },
    {
      "cell_type": "code",
      "metadata": {
        "id": "wMUJrune792K"
      },
      "source": [
        "keep_indices = []\r\n",
        "i = 0\r\n",
        "while i < time_filtered_stats.num_rows:\r\n",
        "  keep_indices.append(i)\r\n",
        "  player = time_filtered_stats.column(\"Player\").item(i)\r\n",
        "  if time_filtered_stats.column(\"Tm\").item(i) == \"TOT\":\r\n",
        "    year = time_filtered_stats.column(\"Year\").item(i)\r\n",
        "    while time_filtered_stats.column(\"Player\").item(i+1) == player and time_filtered_stats.column(\"Year\").item(i+1)==year:\r\n",
        "      i+=1\r\n",
        "  i+=1\r\n",
        "\r\n",
        "\r\n",
        "no_below_TOT_stats = time_filtered_stats.take(keep_indices)"
      ],
      "execution_count": null,
      "outputs": []
    },
    {
      "cell_type": "markdown",
      "metadata": {
        "id": "GFaqSGCtg1EB"
      },
      "source": [
        "Now, we take the \"previous\" table and jump up the year, player name, and team of each player by 1 to show their previous year's stats in the current year, removing the last year of players as well."
      ]
    },
    {
      "cell_type": "code",
      "metadata": {
        "id": "iuURWUPMIni9"
      },
      "source": [
        "no_below_TOT_stats = no_below_TOT_stats.sort(\"Year\").sort(\"Player\")\n",
        "\n",
        "\n",
        "player_col = no_below_TOT_stats.column(\"Player\")\n",
        "team_col = no_below_TOT_stats.column(\"Tm\")\n",
        "year_col = no_below_TOT_stats.column(\"Year\")\n",
        "\n",
        "\n",
        "\n",
        "keeping_indices = make_array(0)\n",
        "for i in range(0,no_below_TOT_stats.num_rows-1):\n",
        "  if player_col.item(i) == player_col.item(i+1): #player played next year\n",
        "    player_col[i] = player_col[i+1]\n",
        "    team_col[i] = team_col[i+1]\n",
        "    year_col[i] = year_col[i+1]\n",
        "    keeping_indices = np.append(keeping_indices,int(i))\n",
        "  \n",
        "keeping_indices = keeping_indices[1:]\n",
        "  \n",
        "shifted_stats = no_below_TOT_stats.with_columns(\"Player\",player_col,\"Team\",team_col,\"Year\",year_col).take(keeping_indices)"
      ],
      "execution_count": null,
      "outputs": []
    },
    {
      "cell_type": "markdown",
      "metadata": {
        "id": "JLL6xAlRhJG7"
      },
      "source": [
        "Appending our own new stat called the Synergy score that is a root function of how many years a player has played on a team."
      ]
    },
    {
      "cell_type": "code",
      "metadata": {
        "id": "atr_O3PElOj-",
        "colab": {
          "base_uri": "https://localhost:8080/",
          "height": 388
        },
        "outputId": "71118b11-64f0-4db4-dbc0-ff7ef24fa1da"
      },
      "source": [
        "synergy_scores = make_array(0)\r\n",
        "count = 0\r\n",
        "for i in range(1,shifted_stats.num_rows):\r\n",
        "  if shifted_stats.column(\"Player\").item(i) == shifted_stats.column(\"Player\").item(i-1) and shifted_stats.column(\"Tm\").item(i) == shifted_stats.column(\"Tm\").item(i-1):\r\n",
        "    count+=1\r\n",
        "  else:\r\n",
        "    count = 0\r\n",
        "  synergy_scores = np.append(synergy_scores,count)\r\n",
        "synergy_shifted_stats = shifted_stats.with_columns(\"Synergy\",np.sqrt(synergy_scores))\r\n",
        "synergy_shifted_stats.select(\"Year\",\"Player\",\"Pos\",\"Age\",\"Tm\",\"Synergy\")\r\n"
      ],
      "execution_count": null,
      "outputs": [
        {
          "output_type": "execute_result",
          "data": {
            "text/html": [
              "<table border=\"1\" class=\"dataframe\">\n",
              "    <thead>\n",
              "        <tr>\n",
              "            <th>Year</th> <th>Player</th> <th>Pos</th> <th>Age</th> <th>Tm</th> <th>Synergy</th>\n",
              "        </tr>\n",
              "    </thead>\n",
              "    <tbody>\n",
              "        <tr>\n",
              "            <td>1987</td> <td>A.C. Green 1964.0</td> <td>PF  </td> <td>22  </td> <td>LAL </td> <td>0      </td>\n",
              "        </tr>\n",
              "        <tr>\n",
              "            <td>1988</td> <td>A.C. Green 1964.0</td> <td>PF  </td> <td>23  </td> <td>LAL </td> <td>1      </td>\n",
              "        </tr>\n",
              "        <tr>\n",
              "            <td>1989</td> <td>A.C. Green 1964.0</td> <td>PF  </td> <td>24  </td> <td>LAL </td> <td>1.41421</td>\n",
              "        </tr>\n",
              "        <tr>\n",
              "            <td>1990</td> <td>A.C. Green 1964.0</td> <td>PF  </td> <td>25  </td> <td>LAL </td> <td>1.73205</td>\n",
              "        </tr>\n",
              "        <tr>\n",
              "            <td>1991</td> <td>A.C. Green 1964.0</td> <td>PF  </td> <td>26  </td> <td>LAL </td> <td>2      </td>\n",
              "        </tr>\n",
              "        <tr>\n",
              "            <td>1992</td> <td>A.C. Green 1964.0</td> <td>PF  </td> <td>27  </td> <td>LAL </td> <td>2.23607</td>\n",
              "        </tr>\n",
              "        <tr>\n",
              "            <td>1993</td> <td>A.C. Green 1964.0</td> <td>PF  </td> <td>28  </td> <td>LAL </td> <td>2.44949</td>\n",
              "        </tr>\n",
              "        <tr>\n",
              "            <td>1994</td> <td>A.C. Green 1964.0</td> <td>PF  </td> <td>29  </td> <td>PHO </td> <td>0      </td>\n",
              "        </tr>\n",
              "        <tr>\n",
              "            <td>1995</td> <td>A.C. Green 1964.0</td> <td>PF  </td> <td>30  </td> <td>PHO </td> <td>1      </td>\n",
              "        </tr>\n",
              "        <tr>\n",
              "            <td>1996</td> <td>A.C. Green 1964.0</td> <td>SF  </td> <td>31  </td> <td>PHO </td> <td>1.41421</td>\n",
              "        </tr>\n",
              "    </tbody>\n",
              "</table>\n",
              "<p>... (11333 rows omitted)</p>"
            ],
            "text/plain": [
              "Year | Player            | Pos  | Age  | Tm   | Synergy\n",
              "1987 | A.C. Green 1964.0 | PF   | 22   | LAL  | 0\n",
              "1988 | A.C. Green 1964.0 | PF   | 23   | LAL  | 1\n",
              "1989 | A.C. Green 1964.0 | PF   | 24   | LAL  | 1.41421\n",
              "1990 | A.C. Green 1964.0 | PF   | 25   | LAL  | 1.73205\n",
              "1991 | A.C. Green 1964.0 | PF   | 26   | LAL  | 2\n",
              "1992 | A.C. Green 1964.0 | PF   | 27   | LAL  | 2.23607\n",
              "1993 | A.C. Green 1964.0 | PF   | 28   | LAL  | 2.44949\n",
              "1994 | A.C. Green 1964.0 | PF   | 29   | PHO  | 0\n",
              "1995 | A.C. Green 1964.0 | PF   | 30   | PHO  | 1\n",
              "1996 | A.C. Green 1964.0 | SF   | 31   | PHO  | 1.41421\n",
              "... (11333 rows omitted)"
            ]
          },
          "metadata": {
            "tags": []
          },
          "execution_count": 67
        }
      ]
    },
    {
      "cell_type": "markdown",
      "metadata": {
        "id": "B7DteDjkM8rv"
      },
      "source": [
        "In preparation for joining the previous year stats table with the current rosters, we had to append the player and year strings into one column in order to identify a specific player/year pair."
      ]
    },
    {
      "cell_type": "code",
      "metadata": {
        "id": "YyJF2n2rrgxL",
        "colab": {
          "base_uri": "https://localhost:8080/",
          "height": 883
        },
        "outputId": "84f01d56-4e54-4167-c578-31f61a6d65a1"
      },
      "source": [
        "player_year_stats = synergy_shifted_stats.with_column(\"Player/Year\", synergy_shifted_stats.apply(lambda x,y: x+\" \"+str(y),\"Player\",\"Year\"))\n",
        "\n",
        "player_year_guards = only_three_guards.with_column(\"Player/Year\", only_three_guards.apply(lambda x,y: x+\" \"+str(y),\"Player\",\"Year\"))\n",
        "player_year_forwards = only_five_forwards.with_column(\"Player/Year\", only_five_forwards.apply(lambda x,y: x+\" \"+str(y),\"Player\",\"Year\"))\n",
        "\n",
        "final_guards=player_year_guards.select(\"Player/Year\",\"Tm\",\"Pos\",\"Year\")\n",
        "final_forwards=player_year_forwards.select(\"Player/Year\",\"Tm\",\"Pos\",\"Year\")\n",
        "\n",
        "final_guards.show(9)\n",
        "final_forwards.show(15)"
      ],
      "execution_count": null,
      "outputs": [
        {
          "output_type": "display_data",
          "data": {
            "text/html": [
              "<table border=\"1\" class=\"dataframe\">\n",
              "    <thead>\n",
              "        <tr>\n",
              "            <th>Player/Year</th> <th>Tm</th> <th>Pos</th> <th>Year</th>\n",
              "        </tr>\n",
              "    </thead>\n",
              "    <tbody>\n",
              "        <tr>\n",
              "            <td>Eddie Johnson 1956.0 1982.0</td> <td>ATL </td> <td>SG  </td> <td>1982</td>\n",
              "        </tr>\n",
              "        <tr>\n",
              "            <td>Rory Sparrow 1959.0 1982.0 </td> <td>ATL </td> <td>PG  </td> <td>1982</td>\n",
              "        </tr>\n",
              "        <tr>\n",
              "            <td>Charlie Criss 1949.0 1982.0</td> <td>ATL </td> <td>PG  </td> <td>1982</td>\n",
              "        </tr>\n",
              "        <tr>\n",
              "            <td>Rory Sparrow 1959.0 1983.0 </td> <td>ATL </td> <td>PG  </td> <td>1983</td>\n",
              "        </tr>\n",
              "        <tr>\n",
              "            <td>Eddie Johnson 1956.0 1983.0</td> <td>ATL </td> <td>SG  </td> <td>1983</td>\n",
              "        </tr>\n",
              "        <tr>\n",
              "            <td>Johnny Davis 1956.0 1983.0 </td> <td>ATL </td> <td>SG  </td> <td>1983</td>\n",
              "        </tr>\n",
              "        <tr>\n",
              "            <td>Eddie Johnson 1956.0 1984.0</td> <td>ATL </td> <td>SG  </td> <td>1984</td>\n",
              "        </tr>\n",
              "        <tr>\n",
              "            <td>Johnny Davis 1956.0 1984.0 </td> <td>ATL </td> <td>PG  </td> <td>1984</td>\n",
              "        </tr>\n",
              "        <tr>\n",
              "            <td>Mike Glenn 1956.0 1984.0   </td> <td>ATL </td> <td>SG  </td> <td>1984</td>\n",
              "        </tr>\n",
              "    </tbody>\n",
              "</table>\n",
              "<p>... (2973 rows omitted)</p>"
            ],
            "text/plain": [
              "<IPython.core.display.HTML object>"
            ]
          },
          "metadata": {
            "tags": []
          }
        },
        {
          "output_type": "display_data",
          "data": {
            "text/html": [
              "<table border=\"1\" class=\"dataframe\">\n",
              "    <thead>\n",
              "        <tr>\n",
              "            <th>Player/Year</th> <th>Tm</th> <th>Pos</th> <th>Year</th>\n",
              "        </tr>\n",
              "    </thead>\n",
              "    <tbody>\n",
              "        <tr>\n",
              "            <td>Dan Roundfield 1954.0 1982.0   </td> <td>ATL </td> <td>PF  </td> <td>1982</td>\n",
              "        </tr>\n",
              "        <tr>\n",
              "            <td>John Drew 1955.0 1982.0        </td> <td>ATL </td> <td>SF  </td> <td>1982</td>\n",
              "        </tr>\n",
              "        <tr>\n",
              "            <td>Steve Hawes 1951.0 1982.0      </td> <td>ATL </td> <td>PF  </td> <td>1982</td>\n",
              "        </tr>\n",
              "        <tr>\n",
              "            <td>Tree Rollins 1956.0 1982.0     </td> <td>ATL </td> <td>C   </td> <td>1982</td>\n",
              "        </tr>\n",
              "        <tr>\n",
              "            <td>Tom McMillen 1953.0 1982.0     </td> <td>ATL </td> <td>C   </td> <td>1982</td>\n",
              "        </tr>\n",
              "        <tr>\n",
              "            <td>Dan Roundfield 1954.0 1983.0   </td> <td>ATL </td> <td>PF  </td> <td>1983</td>\n",
              "        </tr>\n",
              "        <tr>\n",
              "            <td>Tree Rollins 1956.0 1983.0     </td> <td>ATL </td> <td>C   </td> <td>1983</td>\n",
              "        </tr>\n",
              "        <tr>\n",
              "            <td>Tom McMillen 1953.0 1983.0     </td> <td>ATL </td> <td>C   </td> <td>1983</td>\n",
              "        </tr>\n",
              "        <tr>\n",
              "            <td>Steve Hawes 1951.0 1983.0      </td> <td>ATL </td> <td>PF  </td> <td>1983</td>\n",
              "        </tr>\n",
              "        <tr>\n",
              "            <td>Rudy Macklin 1959.0 1983.0     </td> <td>ATL </td> <td>SF  </td> <td>1983</td>\n",
              "        </tr>\n",
              "        <tr>\n",
              "            <td>Dominique Wilkins* 1960. 1984.0</td> <td>ATL </td> <td>SF  </td> <td>1984</td>\n",
              "        </tr>\n",
              "        <tr>\n",
              "            <td>Dan Roundfield 1954.0 1984.0   </td> <td>ATL </td> <td>PF  </td> <td>1984</td>\n",
              "        </tr>\n",
              "        <tr>\n",
              "            <td>Tree Rollins 1956.0 1984.0     </td> <td>ATL </td> <td>C   </td> <td>1984</td>\n",
              "        </tr>\n",
              "        <tr>\n",
              "            <td>Sly Williams 1958.0 1984.0     </td> <td>ATL </td> <td>SF  </td> <td>1984</td>\n",
              "        </tr>\n",
              "        <tr>\n",
              "            <td>Billy Paultz 1949.0 1984.0     </td> <td>ATL </td> <td>C   </td> <td>1984</td>\n",
              "        </tr>\n",
              "    </tbody>\n",
              "</table>\n",
              "<p>... (4955 rows omitted)</p>"
            ],
            "text/plain": [
              "<IPython.core.display.HTML object>"
            ]
          },
          "metadata": {
            "tags": []
          }
        }
      ]
    },
    {
      "cell_type": "markdown",
      "metadata": {
        "id": "RZ0YzkQbhfFG"
      },
      "source": [
        "Lastly, we are joining the guards and forwards tables with the \"previous\" stats table to yield 2 tables detailing the previous year's stats of each player in the current year organized into teams."
      ]
    },
    {
      "cell_type": "code",
      "metadata": {
        "colab": {
          "base_uri": "https://localhost:8080/",
          "height": 1000
        },
        "id": "IAJxZvayMvDS",
        "outputId": "ac28bc78-c485-4a45-d4f6-811b2ec305d2"
      },
      "source": [
        "joined_final_guards = player_year_stats.join(\"Player/Year\", final_guards).sort(\"Year\").sort(\"Tm_2\")\n",
        "joined_final_forwards = player_year_stats.join(\"Player/Year\", final_forwards).sort(\"Year\").sort(\"Tm_2\")\n",
        "joined_final_guards.show(9)\n",
        "joined_final_forwards.show(15)"
      ],
      "execution_count": null,
      "outputs": [
        {
          "output_type": "display_data",
          "data": {
            "text/html": [
              "<table border=\"1\" class=\"dataframe\">\n",
              "    <thead>\n",
              "        <tr>\n",
              "            <th>Player/Year</th> <th>Unnamed: 0</th> <th>Year</th> <th>Player</th> <th>Pos</th> <th>Age</th> <th>Tm</th> <th>G</th> <th>GS</th> <th>MP</th> <th>PER</th> <th>TS%</th> <th>3PAr</th> <th>FTr</th> <th>ORB%</th> <th>DRB%</th> <th>TRB%</th> <th>AST%</th> <th>STL%</th> <th>BLK%</th> <th>TOV%</th> <th>USG%</th> <th>blanl</th> <th>OWS</th> <th>DWS</th> <th>WS</th> <th>WS/48</th> <th>blank2</th> <th>OBPM</th> <th>DBPM</th> <th>BPM</th> <th>VORP</th> <th>FG</th> <th>FGA</th> <th>FG%</th> <th>3P</th> <th>3PA</th> <th>3P%</th> <th>2P</th> <th>2PA</th> <th>2P%</th> <th>eFG%</th> <th>FT</th> <th>FTA</th> <th>FT%</th> <th>ORB</th> <th>DRB</th> <th>TRB</th> <th>AST</th> <th>STL</th> <th>BLK</th> <th>TOV</th> <th>PF</th> <th>PTS</th> <th>MPG</th> <th>PPG</th> <th>APG</th> <th>RPG</th> <th>SPG</th> <th>3PG</th> <th>FPG</th> <th>TPG</th> <th>BPG</th> <th>AGE_rating</th> <th>AGE2</th> <th>AGE1</th> <th>PPM2</th> <th>PPM1</th> <th>RPM</th> <th>3PM</th> <th>PER/M</th> <th>PER1</th> <th>WS2</th> <th>WS1</th> <th>USG2</th> <th>USG1</th> <th>PTS/FGA</th> <th>PFPG</th> <th>Team</th> <th>Synergy</th> <th>Tm_2</th> <th>Pos_2</th> <th>Year_2</th>\n",
              "        </tr>\n",
              "    </thead>\n",
              "    <tbody>\n",
              "        <tr>\n",
              "            <td>Charlie Criss 1949.0 1982.0</td> <td>6147      </td> <td>1982</td> <td>Charlie Criss 1949.0</td> <td>PG  </td> <td>32  </td> <td>TOT </td> <td>66  </td> <td>nan </td> <td>1708</td> <td>13  </td> <td>0.54 </td> <td>0.043</td> <td>0.441</td> <td>1.7 </td> <td>5   </td> <td>3.4 </td> <td>23.8</td> <td>1.7 </td> <td>0.1 </td> <td>18.8</td> <td>17.3</td> <td>nan  </td> <td>1.8 </td> <td>0.7 </td> <td>2.5 </td> <td>0.07  </td> <td>nan   </td> <td>-0.7</td> <td>-2.3</td> <td>-2.9</td> <td>-0.4</td> <td>220 </td> <td>485 </td> <td>0.454</td> <td>1   </td> <td>21  </td> <td>0.048</td> <td>219 </td> <td>464 </td> <td>0.472</td> <td>0.455</td> <td>185 </td> <td>214 </td> <td>0.864</td> <td>26  </td> <td>74  </td> <td>100 </td> <td>283 </td> <td>61  </td> <td>3   </td> <td>134 </td> <td>87  </td> <td>626 </td> <td>25.8788</td> <td>9.48485</td> <td>4.28788</td> <td>1.51515</td> <td>0.924242</td> <td>0.0151515</td> <td>2.80303</td> <td>2.0303  </td> <td>0.0454545</td> <td>-768      </td> <td>1024</td> <td>32  </td> <td>3.4763  </td> <td>0.366511</td> <td>0.058548 </td> <td>0.00058548 </td> <td>336.424</td> <td>13  </td> <td>6.25 </td> <td>2.5 </td> <td>299.29</td> <td>17.3</td> <td>1.29072 </td> <td>1.31818</td> <td>TOT </td> <td>0      </td> <td>ATL </td> <td>PG   </td> <td>1982  </td>\n",
              "        </tr>\n",
              "        <tr>\n",
              "            <td>Eddie Johnson 1956.0 1982.0</td> <td>6240      </td> <td>1982</td> <td>Eddie Johnson 1956.0</td> <td>SG  </td> <td>25  </td> <td>ATL </td> <td>75  </td> <td>nan </td> <td>2693</td> <td>17.9</td> <td>0.554</td> <td>0.018</td> <td>0.313</td> <td>2.5 </td> <td>5.1 </td> <td>3.8 </td> <td>24.7</td> <td>2.3 </td> <td>0.2 </td> <td>13.2</td> <td>22.9</td> <td>nan  </td> <td>5.3 </td> <td>1.5 </td> <td>6.9 </td> <td>0.122 </td> <td>nan   </td> <td>2.7 </td> <td>-1.7</td> <td>1   </td> <td>2   </td> <td>573 </td> <td>1136</td> <td>0.504</td> <td>6   </td> <td>20  </td> <td>0.3  </td> <td>567 </td> <td>1116</td> <td>0.508</td> <td>0.507</td> <td>279 </td> <td>356 </td> <td>0.784</td> <td>60  </td> <td>119 </td> <td>179 </td> <td>407 </td> <td>126 </td> <td>11  </td> <td>197 </td> <td>188 </td> <td>1431</td> <td>35.9067</td> <td>19.08  </td> <td>5.42667</td> <td>2.38667</td> <td>1.68    </td> <td>0.08     </td> <td>3.72   </td> <td>2.62667 </td> <td>0.146667 </td> <td>-775      </td> <td>625 </td> <td>25  </td> <td>10.1387 </td> <td>0.531378</td> <td>0.0664686</td> <td>0.002228   </td> <td>642.729</td> <td>17.9</td> <td>47.61</td> <td>6.9 </td> <td>524.41</td> <td>22.9</td> <td>1.25968 </td> <td>2.50667</td> <td>ATL </td> <td>1      </td> <td>ATL </td> <td>SG   </td> <td>1982  </td>\n",
              "        </tr>\n",
              "        <tr>\n",
              "            <td>Rory Sparrow 1959.0 1982.0 </td> <td>6399      </td> <td>1982</td> <td>Rory Sparrow 1959.0 </td> <td>PG  </td> <td>22  </td> <td>ATL </td> <td>15  </td> <td>nan </td> <td>212 </td> <td>8.2 </td> <td>0.4  </td> <td>0    </td> <td>0.254</td> <td>3.6 </td> <td>6   </td> <td>4.8 </td> <td>19.5</td> <td>2.8 </td> <td>0.8 </td> <td>20.4</td> <td>16.4</td> <td>nan  </td> <td>-0.3</td> <td>0.2 </td> <td>-0.1</td> <td>-0.023</td> <td>nan   </td> <td>-4.7</td> <td>-0.4</td> <td>-5.2</td> <td>-0.2</td> <td>22  </td> <td>63  </td> <td>0.349</td> <td>0   </td> <td>0   </td> <td>nan  </td> <td>22  </td> <td>63  </td> <td>0.349</td> <td>0.349</td> <td>12  </td> <td>16  </td> <td>0.75 </td> <td>7   </td> <td>11  </td> <td>18  </td> <td>32  </td> <td>13  </td> <td>3   </td> <td>18  </td> <td>15  </td> <td>56  </td> <td>14.1333</td> <td>3.73333</td> <td>2.13333</td> <td>1.2    </td> <td>0.866667</td> <td>0        </td> <td>0.8    </td> <td>1.2     </td> <td>0.2      </td> <td>-748      </td> <td>484 </td> <td>22  </td> <td>0.986164</td> <td>0.264151</td> <td>0.0849057</td> <td>0          </td> <td>115.893</td> <td>8.2 </td> <td>0.01 </td> <td>-0.1</td> <td>268.96</td> <td>16.4</td> <td>0.888889</td> <td>1      </td> <td>ATL </td> <td>0      </td> <td>ATL </td> <td>PG   </td> <td>1982  </td>\n",
              "        </tr>\n",
              "        <tr>\n",
              "            <td>Eddie Johnson 1956.0 1983.0</td> <td>6605      </td> <td>1983</td> <td>Eddie Johnson 1956.0</td> <td>SG  </td> <td>26  </td> <td>ATL </td> <td>68  </td> <td>57  </td> <td>2314</td> <td>16.5</td> <td>0.513</td> <td>0.03 </td> <td>0.381</td> <td>3.1 </td> <td>6.3 </td> <td>4.7 </td> <td>25.3</td> <td>2.2 </td> <td>0.4 </td> <td>13.6</td> <td>25.6</td> <td>nan  </td> <td>2.2 </td> <td>2.6 </td> <td>4.8 </td> <td>0.1   </td> <td>nan   </td> <td>1.4 </td> <td>-0.5</td> <td>0.9 </td> <td>1.7 </td> <td>455 </td> <td>1011</td> <td>0.45 </td> <td>7   </td> <td>30  </td> <td>0.233</td> <td>448 </td> <td>981 </td> <td>0.457</td> <td>0.454</td> <td>294 </td> <td>385 </td> <td>0.764</td> <td>63  </td> <td>128 </td> <td>191 </td> <td>358 </td> <td>102 </td> <td>16  </td> <td>186 </td> <td>188 </td> <td>1211</td> <td>34.0294</td> <td>17.8088</td> <td>5.26471</td> <td>2.80882</td> <td>1.5     </td> <td>0.102941 </td> <td>4.32353</td> <td>2.73529 </td> <td>0.235294 </td> <td>-780      </td> <td>676 </td> <td>26  </td> <td>9.32    </td> <td>0.523336</td> <td>0.0825411</td> <td>0.00302506 </td> <td>561.485</td> <td>16.5</td> <td>23.04</td> <td>4.8 </td> <td>655.36</td> <td>25.6</td> <td>1.19782 </td> <td>2.76471</td> <td>ATL </td> <td>1.41421</td> <td>ATL </td> <td>SG   </td> <td>1983  </td>\n",
              "        </tr>\n",
              "        <tr>\n",
              "            <td>Johnny Davis 1956.0 1983.0 </td> <td>6524      </td> <td>1983</td> <td>Johnny Davis 1956.0 </td> <td>SG  </td> <td>26  </td> <td>ATL </td> <td>82  </td> <td>70  </td> <td>2664</td> <td>15.2</td> <td>0.526</td> <td>0.023</td> <td>0.342</td> <td>2.9 </td> <td>4.4 </td> <td>3.6 </td> <td>20.4</td> <td>1.4 </td> <td>0.2 </td> <td>12.3</td> <td>23.7</td> <td>nan  </td> <td>3   </td> <td>2.1 </td> <td>5.1 </td> <td>0.091 </td> <td>nan   </td> <td>0.7 </td> <td>-1.9</td> <td>-1.2</td> <td>0.5 </td> <td>538 </td> <td>1153</td> <td>0.467</td> <td>5   </td> <td>27  </td> <td>0.185</td> <td>533 </td> <td>1126</td> <td>0.473</td> <td>0.469</td> <td>315 </td> <td>394 </td> <td>0.799</td> <td>72  </td> <td>106 </td> <td>178 </td> <td>346 </td> <td>76  </td> <td>11  </td> <td>186 </td> <td>176 </td> <td>1396</td> <td>32.4878</td> <td>17.0244</td> <td>4.21951</td> <td>2.17073</td> <td>0.926829</td> <td>0.0609756</td> <td>3.84146</td> <td>2.26829 </td> <td>0.134146 </td> <td>-780      </td> <td>676 </td> <td>26  </td> <td>8.92119 </td> <td>0.524024</td> <td>0.0668168</td> <td>0.00187688 </td> <td>493.815</td> <td>15.2</td> <td>26.01</td> <td>5.1 </td> <td>561.69</td> <td>23.7</td> <td>1.21075 </td> <td>2.14634</td> <td>ATL </td> <td>0      </td> <td>ATL </td> <td>SG   </td> <td>1983  </td>\n",
              "        </tr>\n",
              "        <tr>\n",
              "            <td>Rory Sparrow 1959.0 1983.0 </td> <td>6762      </td> <td>1983</td> <td>Rory Sparrow 1959.0 </td> <td>PG  </td> <td>23  </td> <td>TOT </td> <td>82  </td> <td>82  </td> <td>2610</td> <td>13  </td> <td>0.539</td> <td>0.021</td> <td>0.203</td> <td>2.3 </td> <td>7.4 </td> <td>4.9 </td> <td>24.4</td> <td>1.7 </td> <td>0.3 </td> <td>15.4</td> <td>15.6</td> <td>nan  </td> <td>2.9 </td> <td>2.7 </td> <td>5.6 </td> <td>0.104 </td> <td>nan   </td> <td>0.2 </td> <td>0.1 </td> <td>0.3 </td> <td>1.5 </td> <td>366 </td> <td>730 </td> <td>0.501</td> <td>1   </td> <td>15  </td> <td>0.067</td> <td>365 </td> <td>715 </td> <td>0.51 </td> <td>0.502</td> <td>124 </td> <td>148 </td> <td>0.838</td> <td>53  </td> <td>171 </td> <td>224 </td> <td>424 </td> <td>87  </td> <td>13  </td> <td>145 </td> <td>240 </td> <td>857 </td> <td>31.8293</td> <td>10.4512</td> <td>5.17073</td> <td>2.73171</td> <td>1.06098 </td> <td>0.0121951</td> <td>1.5122 </td> <td>1.76829 </td> <td>0.158537 </td> <td>-759      </td> <td>529 </td> <td>23  </td> <td>3.43168 </td> <td>0.328352</td> <td>0.0858238</td> <td>0.000383142</td> <td>413.78 </td> <td>13  </td> <td>31.36</td> <td>5.6 </td> <td>243.36</td> <td>15.6</td> <td>1.17397 </td> <td>2.92683</td> <td>TOT </td> <td>0      </td> <td>ATL </td> <td>PG   </td> <td>1983  </td>\n",
              "        </tr>\n",
              "        <tr>\n",
              "            <td>Eddie Johnson 1956.0 1984.0</td> <td>6978      </td> <td>1984</td> <td>Eddie Johnson 1956.0</td> <td>SG  </td> <td>27  </td> <td>ATL </td> <td>61  </td> <td>57  </td> <td>1813</td> <td>16  </td> <td>0.508</td> <td>0.048</td> <td>0.276</td> <td>1.5 </td> <td>5.7 </td> <td>3.6 </td> <td>27.7</td> <td>1.6 </td> <td>0.2 </td> <td>13.9</td> <td>25.7</td> <td>nan  </td> <td>1.6 </td> <td>1.5 </td> <td>3   </td> <td>0.081 </td> <td>nan   </td> <td>0.9 </td> <td>-2.2</td> <td>-1.3</td> <td>0.3 </td> <td>389 </td> <td>858 </td> <td>0.453</td> <td>14  </td> <td>41  </td> <td>0.341</td> <td>375 </td> <td>817 </td> <td>0.459</td> <td>0.462</td> <td>186 </td> <td>237 </td> <td>0.785</td> <td>26  </td> <td>98  </td> <td>124 </td> <td>318 </td> <td>61  </td> <td>6   </td> <td>156 </td> <td>138 </td> <td>978 </td> <td>29.7213</td> <td>16.0328</td> <td>5.21311</td> <td>2.03279</td> <td>1       </td> <td>0.229508 </td> <td>3.04918</td> <td>2.55738 </td> <td>0.0983607</td> <td>-783      </td> <td>729 </td> <td>27  </td> <td>8.64868 </td> <td>0.539437</td> <td>0.0683949</td> <td>0.00772201 </td> <td>475.541</td> <td>16  </td> <td>9    </td> <td>3   </td> <td>660.49</td> <td>25.7</td> <td>1.13986 </td> <td>2.2623 </td> <td>ATL </td> <td>1.73205</td> <td>ATL </td> <td>SG   </td> <td>1984  </td>\n",
              "        </tr>\n",
              "        <tr>\n",
              "            <td>Johnny Davis 1956.0 1984.0 </td> <td>6898      </td> <td>1984</td> <td>Johnny Davis 1956.0 </td> <td>SG  </td> <td>27  </td> <td>ATL </td> <td>53  </td> <td>33  </td> <td>1465</td> <td>16.8</td> <td>0.521</td> <td>0.032</td> <td>0.363</td> <td>2.7 </td> <td>6.6 </td> <td>4.6 </td> <td>32  </td> <td>1.4 </td> <td>0.3 </td> <td>14.8</td> <td>21.9</td> <td>nan  </td> <td>2.3 </td> <td>1.2 </td> <td>3.5 </td> <td>0.113 </td> <td>nan   </td> <td>1.3 </td> <td>-1.9</td> <td>-0.6</td> <td>0.5 </td> <td>258 </td> <td>567 </td> <td>0.455</td> <td>5   </td> <td>18  </td> <td>0.278</td> <td>253 </td> <td>549 </td> <td>0.461</td> <td>0.459</td> <td>164 </td> <td>206 </td> <td>0.796</td> <td>37  </td> <td>91  </td> <td>128 </td> <td>315 </td> <td>43  </td> <td>7   </td> <td>114 </td> <td>100 </td> <td>685 </td> <td>27.6415</td> <td>12.9245</td> <td>5.9434 </td> <td>2.41509</td> <td>0.811321</td> <td>0.0943396</td> <td>3.09434</td> <td>2.15094 </td> <td>0.132075 </td> <td>-783      </td> <td>729 </td> <td>27  </td> <td>6.04321 </td> <td>0.467577</td> <td>0.087372 </td> <td>0.00341297 </td> <td>464.377</td> <td>16.8</td> <td>12.25</td> <td>3.5 </td> <td>479.61</td> <td>21.9</td> <td>1.20811 </td> <td>1.88679</td> <td>ATL </td> <td>1      </td> <td>ATL </td> <td>PG   </td> <td>1984  </td>\n",
              "        </tr>\n",
              "        <tr>\n",
              "            <td>Mike Glenn 1956.0 1984.0   </td> <td>6939      </td> <td>1984</td> <td>Mike Glenn 1956.0   </td> <td>SG  </td> <td>27  </td> <td>ATL </td> <td>73  </td> <td>4   </td> <td>1124</td> <td>15.1</td> <td>0.553</td> <td>0.002</td> <td>0.2  </td> <td>1.5 </td> <td>7   </td> <td>4.3 </td> <td>17.3</td> <td>1.3 </td> <td>0.5 </td> <td>9.7 </td> <td>19.8</td> <td>nan  </td> <td>2   </td> <td>0.9 </td> <td>2.9 </td> <td>0.126 </td> <td>nan   </td> <td>0.2 </td> <td>-1.9</td> <td>-1.6</td> <td>0.1 </td> <td>230 </td> <td>444 </td> <td>0.518</td> <td>0   </td> <td>1   </td> <td>0    </td> <td>230 </td> <td>443 </td> <td>0.519</td> <td>0.518</td> <td>74  </td> <td>89  </td> <td>0.831</td> <td>16  </td> <td>74  </td> <td>90  </td> <td>125 </td> <td>30  </td> <td>9   </td> <td>52  </td> <td>132 </td> <td>534 </td> <td>15.3973</td> <td>7.31507</td> <td>1.71233</td> <td>1.23288</td> <td>0.410959</td> <td>0        </td> <td>1.0137 </td> <td>0.712329</td> <td>0.123288 </td> <td>-783      </td> <td>729 </td> <td>27  </td> <td>3.47531 </td> <td>0.475089</td> <td>0.0800712</td> <td>0          </td> <td>232.499</td> <td>15.1</td> <td>8.41 </td> <td>2.9 </td> <td>392.04</td> <td>19.8</td> <td>1.2027  </td> <td>1.80822</td> <td>ATL </td> <td>1.41421</td> <td>ATL </td> <td>SG   </td> <td>1984  </td>\n",
              "        </tr>\n",
              "    </tbody>\n",
              "</table>\n",
              "<p>... (2973 rows omitted)</p>"
            ],
            "text/plain": [
              "<IPython.core.display.HTML object>"
            ]
          },
          "metadata": {
            "tags": []
          }
        },
        {
          "output_type": "display_data",
          "data": {
            "text/html": [
              "<table border=\"1\" class=\"dataframe\">\n",
              "    <thead>\n",
              "        <tr>\n",
              "            <th>Player/Year</th> <th>Unnamed: 0</th> <th>Year</th> <th>Player</th> <th>Pos</th> <th>Age</th> <th>Tm</th> <th>G</th> <th>GS</th> <th>MP</th> <th>PER</th> <th>TS%</th> <th>3PAr</th> <th>FTr</th> <th>ORB%</th> <th>DRB%</th> <th>TRB%</th> <th>AST%</th> <th>STL%</th> <th>BLK%</th> <th>TOV%</th> <th>USG%</th> <th>blanl</th> <th>OWS</th> <th>DWS</th> <th>WS</th> <th>WS/48</th> <th>blank2</th> <th>OBPM</th> <th>DBPM</th> <th>BPM</th> <th>VORP</th> <th>FG</th> <th>FGA</th> <th>FG%</th> <th>3P</th> <th>3PA</th> <th>3P%</th> <th>2P</th> <th>2PA</th> <th>2P%</th> <th>eFG%</th> <th>FT</th> <th>FTA</th> <th>FT%</th> <th>ORB</th> <th>DRB</th> <th>TRB</th> <th>AST</th> <th>STL</th> <th>BLK</th> <th>TOV</th> <th>PF</th> <th>PTS</th> <th>MPG</th> <th>PPG</th> <th>APG</th> <th>RPG</th> <th>SPG</th> <th>3PG</th> <th>FPG</th> <th>TPG</th> <th>BPG</th> <th>AGE_rating</th> <th>AGE2</th> <th>AGE1</th> <th>PPM2</th> <th>PPM1</th> <th>RPM</th> <th>3PM</th> <th>PER/M</th> <th>PER1</th> <th>WS2</th> <th>WS1</th> <th>USG2</th> <th>USG1</th> <th>PTS/FGA</th> <th>PFPG</th> <th>Team</th> <th>Synergy</th> <th>Tm_2</th> <th>Pos_2</th> <th>Year_2</th>\n",
              "        </tr>\n",
              "    </thead>\n",
              "    <tbody>\n",
              "        <tr>\n",
              "            <td>Dan Roundfield 1954.0 1982.0   </td> <td>6379      </td> <td>1982</td> <td>Dan Roundfield 1954.0   </td> <td>PF  </td> <td>27  </td> <td>ATL </td> <td>63  </td> <td>nan </td> <td>2128</td> <td>20.7</td> <td>0.575</td> <td>0.001</td> <td>0.439</td> <td>12.3</td> <td>22  </td> <td>17.1</td> <td>12.1</td> <td>1.7 </td> <td>3.3 </td> <td>15.6</td> <td>22.3</td> <td>nan  </td> <td>4.2 </td> <td>2.8 </td> <td>7   </td> <td>0.159</td> <td>nan   </td> <td>2.5 </td> <td>2.1 </td> <td>4.6 </td> <td>3.5 </td> <td>426 </td> <td>808 </td> <td>0.527</td> <td>0   </td> <td>1   </td> <td>0    </td> <td>426 </td> <td>807 </td> <td>0.528</td> <td>0.527</td> <td>256 </td> <td>355 </td> <td>0.721</td> <td>231 </td> <td>403 </td> <td>634 </td> <td>161 </td> <td>76  </td> <td>119 </td> <td>178 </td> <td>258 </td> <td>1108</td> <td>33.7778</td> <td>17.5873</td> <td>2.55556 </td> <td>10.0635</td> <td>1.20635 </td> <td>0        </td> <td>4.06349 </td> <td>2.8254  </td> <td>1.88889  </td> <td>-783      </td> <td>729 </td> <td>27  </td> <td>9.1573  </td> <td>0.520677</td> <td>0.297932</td> <td>0          </td> <td>699.2  </td> <td>20.7</td> <td>49   </td> <td>7   </td> <td>497.29</td> <td>22.3</td> <td>1.37129</td> <td>4.09524</td> <td>ATL </td> <td>1      </td> <td>ATL </td> <td>PF   </td> <td>1982  </td>\n",
              "        </tr>\n",
              "        <tr>\n",
              "            <td>John Drew 1955.0 1982.0        </td> <td>6166      </td> <td>1982</td> <td>John Drew 1955.0        </td> <td>SF  </td> <td>26  </td> <td>ATL </td> <td>67  </td> <td>nan </td> <td>2075</td> <td>19.2</td> <td>0.539</td> <td>0.006</td> <td>0.526</td> <td>7.9 </td> <td>13.3</td> <td>10.6</td> <td>6.5 </td> <td>2.3 </td> <td>0.4 </td> <td>12.6</td> <td>30.9</td> <td>nan  </td> <td>3.5 </td> <td>1.9 </td> <td>5.4 </td> <td>0.124</td> <td>nan   </td> <td>0.6 </td> <td>-2.4</td> <td>-1.8</td> <td>0.1 </td> <td>500 </td> <td>1096</td> <td>0.456</td> <td>0   </td> <td>7   </td> <td>0    </td> <td>500 </td> <td>1089</td> <td>0.459</td> <td>0.456</td> <td>454 </td> <td>577 </td> <td>0.787</td> <td>145 </td> <td>238 </td> <td>383 </td> <td>79  </td> <td>98  </td> <td>15  </td> <td>194 </td> <td>264 </td> <td>1454</td> <td>30.9701</td> <td>21.7015</td> <td>1.1791  </td> <td>5.71642</td> <td>1.46269 </td> <td>0        </td> <td>6.77612 </td> <td>2.89552 </td> <td>0.223881 </td> <td>-780      </td> <td>676 </td> <td>26  </td> <td>15.2067 </td> <td>0.700723</td> <td>0.184578</td> <td>0          </td> <td>594.627</td> <td>19.2</td> <td>29.16</td> <td>5.4 </td> <td>954.81</td> <td>30.9</td> <td>1.32664</td> <td>3.9403 </td> <td>ATL </td> <td>1      </td> <td>ATL </td> <td>SF   </td> <td>1982  </td>\n",
              "        </tr>\n",
              "        <tr>\n",
              "            <td>Steve Hawes 1951.0 1982.0      </td> <td>6214      </td> <td>1982</td> <td>Steve Hawes 1951.0      </td> <td>C   </td> <td>30  </td> <td>ATL </td> <td>74  </td> <td>nan </td> <td>2309</td> <td>14.7</td> <td>0.585</td> <td>0.006</td> <td>0.436</td> <td>8.1 </td> <td>19.9</td> <td>13.9</td> <td>10.7</td> <td>1.5 </td> <td>0.8 </td> <td>17.5</td> <td>16.5</td> <td>nan  </td> <td>3.4 </td> <td>2.3 </td> <td>5.7 </td> <td>0.119</td> <td>nan   </td> <td>0.7 </td> <td>1   </td> <td>1.6 </td> <td>2.1 </td> <td>333 </td> <td>637 </td> <td>0.523</td> <td>1   </td> <td>4   </td> <td>0.25 </td> <td>332 </td> <td>633 </td> <td>0.524</td> <td>0.524</td> <td>222 </td> <td>278 </td> <td>0.799</td> <td>165 </td> <td>396 </td> <td>561 </td> <td>168 </td> <td>73  </td> <td>32  </td> <td>161 </td> <td>289 </td> <td>889 </td> <td>31.2027</td> <td>12.0135</td> <td>2.27027 </td> <td>7.58108</td> <td>0.986486</td> <td>0.0135135</td> <td>3       </td> <td>2.17568 </td> <td>0.432432 </td> <td>-780      </td> <td>900 </td> <td>30  </td> <td>4.62538 </td> <td>0.385015</td> <td>0.242962</td> <td>0.000433088</td> <td>458.68 </td> <td>14.7</td> <td>32.49</td> <td>5.7 </td> <td>272.25</td> <td>16.5</td> <td>1.3956 </td> <td>3.90541</td> <td>ATL </td> <td>1      </td> <td>ATL </td> <td>PF   </td> <td>1982  </td>\n",
              "        </tr>\n",
              "        <tr>\n",
              "            <td>Tom McMillen 1953.0 1982.0     </td> <td>6316      </td> <td>1982</td> <td>Tom McMillen 1953.0     </td> <td>C   </td> <td>28  </td> <td>ATL </td> <td>79  </td> <td>nan </td> <td>1564</td> <td>11.6</td> <td>0.518</td> <td>0.012</td> <td>0.208</td> <td>7   </td> <td>14.8</td> <td>10.8</td> <td>6.9 </td> <td>0.7 </td> <td>0.9 </td> <td>12.5</td> <td>17.2</td> <td>nan  </td> <td>1.2 </td> <td>0.9 </td> <td>2.2 </td> <td>0.066</td> <td>nan   </td> <td>-1.6</td> <td>-1.3</td> <td>-2.9</td> <td>-0.4</td> <td>253 </td> <td>519 </td> <td>0.487</td> <td>1   </td> <td>6   </td> <td>0.167</td> <td>252 </td> <td>513 </td> <td>0.491</td> <td>0.488</td> <td>80  </td> <td>108 </td> <td>0.741</td> <td>96  </td> <td>199 </td> <td>295 </td> <td>72  </td> <td>23  </td> <td>25  </td> <td>81  </td> <td>165 </td> <td>587 </td> <td>19.7975</td> <td>7.43038</td> <td>0.911392</td> <td>3.73418</td> <td>0.291139</td> <td>0.0126582</td> <td>1.01266 </td> <td>1.02532 </td> <td>0.316456 </td> <td>-784      </td> <td>784 </td> <td>28  </td> <td>2.78877 </td> <td>0.37532 </td> <td>0.188619</td> <td>0.000639386</td> <td>229.651</td> <td>11.6</td> <td>4.84 </td> <td>2.2 </td> <td>295.84</td> <td>17.2</td> <td>1.13102</td> <td>2.08861</td> <td>ATL </td> <td>1      </td> <td>ATL </td> <td>C    </td> <td>1982  </td>\n",
              "        </tr>\n",
              "        <tr>\n",
              "            <td>Tree Rollins 1956.0 1982.0     </td> <td>6377      </td> <td>1982</td> <td>Tree Rollins 1956.0     </td> <td>C   </td> <td>25  </td> <td>ATL </td> <td>40  </td> <td>nan </td> <td>1044</td> <td>14.5</td> <td>0.591</td> <td>0.005</td> <td>0.271</td> <td>11.1</td> <td>20.5</td> <td>15.7</td> <td>4.7 </td> <td>1.3 </td> <td>6.7 </td> <td>19.5</td> <td>11.6</td> <td>nan  </td> <td>1.1 </td> <td>1.5 </td> <td>2.6 </td> <td>0.12 </td> <td>nan   </td> <td>-0.9</td> <td>3.9 </td> <td>3   </td> <td>1.3 </td> <td>116 </td> <td>210 </td> <td>0.552</td> <td>0   </td> <td>1   </td> <td>0    </td> <td>116 </td> <td>209 </td> <td>0.555</td> <td>0.552</td> <td>46  </td> <td>57  </td> <td>0.807</td> <td>102 </td> <td>184 </td> <td>286 </td> <td>35  </td> <td>29  </td> <td>117 </td> <td>57  </td> <td>151 </td> <td>278 </td> <td>26.1   </td> <td>6.95   </td> <td>0.875   </td> <td>7.15   </td> <td>0.725   </td> <td>0        </td> <td>1.15    </td> <td>1.425   </td> <td>2.925    </td> <td>-775      </td> <td>625 </td> <td>25  </td> <td>1.85067 </td> <td>0.266284</td> <td>0.273946</td> <td>0          </td> <td>378.45 </td> <td>14.5</td> <td>6.76 </td> <td>2.6 </td> <td>134.56</td> <td>11.6</td> <td>1.32381</td> <td>3.775  </td> <td>ATL </td> <td>1      </td> <td>ATL </td> <td>C    </td> <td>1982  </td>\n",
              "        </tr>\n",
              "        <tr>\n",
              "            <td>Dan Roundfield 1954.0 1983.0   </td> <td>6741      </td> <td>1983</td> <td>Dan Roundfield 1954.0   </td> <td>PF  </td> <td>28  </td> <td>ATL </td> <td>61  </td> <td>58  </td> <td>2217</td> <td>19.5</td> <td>0.527</td> <td>0.005</td> <td>0.412</td> <td>11.6</td> <td>25.3</td> <td>18.4</td> <td>11.9</td> <td>1.5 </td> <td>2.6 </td> <td>14.5</td> <td>24.6</td> <td>nan  </td> <td>2.4 </td> <td>4.1 </td> <td>6.5 </td> <td>0.141</td> <td>nan   </td> <td>0.8 </td> <td>2.5 </td> <td>3.3 </td> <td>2.9 </td> <td>424 </td> <td>910 </td> <td>0.466</td> <td>1   </td> <td>5   </td> <td>0.2  </td> <td>423 </td> <td>905 </td> <td>0.467</td> <td>0.466</td> <td>285 </td> <td>375 </td> <td>0.76 </td> <td>227 </td> <td>494 </td> <td>721 </td> <td>162 </td> <td>64  </td> <td>93  </td> <td>183 </td> <td>210 </td> <td>1134</td> <td>36.3443</td> <td>18.5902</td> <td>2.65574 </td> <td>11.8197</td> <td>1.04918 </td> <td>0.0163934</td> <td>4.67213 </td> <td>3       </td> <td>1.52459  </td> <td>-784      </td> <td>784 </td> <td>28  </td> <td>9.50891 </td> <td>0.511502</td> <td>0.325214</td> <td>0.00045106 </td> <td>708.713</td> <td>19.5</td> <td>42.25</td> <td>6.5 </td> <td>605.16</td> <td>24.6</td> <td>1.24615</td> <td>3.44262</td> <td>ATL </td> <td>1.41421</td> <td>ATL </td> <td>PF   </td> <td>1983  </td>\n",
              "        </tr>\n",
              "        <tr>\n",
              "            <td>Rudy Macklin 1959.0 1983.0     </td> <td>6669      </td> <td>1983</td> <td>Rudy Macklin 1959.0     </td> <td>SF  </td> <td>23  </td> <td>ATL </td> <td>79  </td> <td>32  </td> <td>1516</td> <td>9.3 </td> <td>0.495</td> <td>0.006</td> <td>0.357</td> <td>8.4 </td> <td>11.2</td> <td>9.8 </td> <td>4.6 </td> <td>1.3 </td> <td>0.8 </td> <td>16.7</td> <td>19.2</td> <td>nan  </td> <td>-0.4</td> <td>1.8 </td> <td>1.4 </td> <td>0.043</td> <td>nan   </td> <td>-3.1</td> <td>-0.5</td> <td>-3.6</td> <td>-0.6</td> <td>210 </td> <td>484 </td> <td>0.434</td> <td>0   </td> <td>3   </td> <td>0    </td> <td>210 </td> <td>481 </td> <td>0.437</td> <td>0.434</td> <td>134 </td> <td>173 </td> <td>0.775</td> <td>113 </td> <td>150 </td> <td>263 </td> <td>47  </td> <td>40  </td> <td>20  </td> <td>112 </td> <td>225 </td> <td>554 </td> <td>19.1899</td> <td>7.01266</td> <td>0.594937</td> <td>3.32911</td> <td>0.506329</td> <td>0        </td> <td>1.6962  </td> <td>1.41772 </td> <td>0.253165 </td> <td>-759      </td> <td>529 </td> <td>23  </td> <td>2.56267 </td> <td>0.365435</td> <td>0.173483</td> <td>0          </td> <td>178.466</td> <td>9.3 </td> <td>1.96 </td> <td>1.4 </td> <td>368.64</td> <td>19.2</td> <td>1.14463</td> <td>2.8481 </td> <td>ATL </td> <td>0      </td> <td>ATL </td> <td>SF   </td> <td>1983  </td>\n",
              "        </tr>\n",
              "        <tr>\n",
              "            <td>Steve Hawes 1951.0 1983.0      </td> <td>6576      </td> <td>1983</td> <td>Steve Hawes 1951.0      </td> <td>PF  </td> <td>31  </td> <td>TOT </td> <td>49  </td> <td>42  </td> <td>1317</td> <td>14.5</td> <td>0.536</td> <td>0.027</td> <td>0.341</td> <td>7.6 </td> <td>19.9</td> <td>13.7</td> <td>16  </td> <td>1.4 </td> <td>1.6 </td> <td>17  </td> <td>16.9</td> <td>nan  </td> <td>1.2 </td> <td>2.1 </td> <td>3.2 </td> <td>0.118</td> <td>nan   </td> <td>-0.2</td> <td>2.5 </td> <td>2.2 </td> <td>1.4 </td> <td>178 </td> <td>370 </td> <td>0.481</td> <td>4   </td> <td>10  </td> <td>0.4  </td> <td>174 </td> <td>360 </td> <td>0.483</td> <td>0.486</td> <td>96  </td> <td>126 </td> <td>0.762</td> <td>89  </td> <td>231 </td> <td>320 </td> <td>142 </td> <td>36  </td> <td>34  </td> <td>87  </td> <td>156 </td> <td>456 </td> <td>26.8776</td> <td>9.30612</td> <td>2.89796 </td> <td>6.53061</td> <td>0.734694</td> <td>0.0816327</td> <td>1.95918 </td> <td>1.77551 </td> <td>0.693878 </td> <td>-775      </td> <td>961 </td> <td>31  </td> <td>3.22217 </td> <td>0.346241</td> <td>0.242976</td> <td>0.00303721 </td> <td>389.724</td> <td>14.5</td> <td>10.24</td> <td>3.2 </td> <td>285.61</td> <td>16.9</td> <td>1.23243</td> <td>3.18367</td> <td>TOT </td> <td>0      </td> <td>ATL </td> <td>PF   </td> <td>1983  </td>\n",
              "        </tr>\n",
              "        <tr>\n",
              "            <td>Tom McMillen 1953.0 1983.0     </td> <td>6685      </td> <td>1983</td> <td>Tom McMillen 1953.0     </td> <td>C   </td> <td>29  </td> <td>ATL </td> <td>73  </td> <td>23  </td> <td>1792</td> <td>13.1</td> <td>0.559</td> <td>0.005</td> <td>0.297</td> <td>6.4 </td> <td>14.8</td> <td>10.6</td> <td>11.2</td> <td>0.7 </td> <td>0.8 </td> <td>16.1</td> <td>18.7</td> <td>nan  </td> <td>1.7 </td> <td>2   </td> <td>3.7 </td> <td>0.099</td> <td>nan   </td> <td>-0.7</td> <td>0.2 </td> <td>-0.5</td> <td>0.7 </td> <td>291 </td> <td>572 </td> <td>0.509</td> <td>1   </td> <td>3   </td> <td>0.333</td> <td>290 </td> <td>569 </td> <td>0.51 </td> <td>0.51 </td> <td>140 </td> <td>170 </td> <td>0.824</td> <td>102 </td> <td>234 </td> <td>336 </td> <td>129 </td> <td>25  </td> <td>24  </td> <td>124 </td> <td>202 </td> <td>723 </td> <td>24.5479</td> <td>9.90411</td> <td>1.76712 </td> <td>4.60274</td> <td>0.342466</td> <td>0.0136986</td> <td>1.91781 </td> <td>1.69863 </td> <td>0.328767 </td> <td>-783      </td> <td>841 </td> <td>29  </td> <td>3.99591 </td> <td>0.40346 </td> <td>0.1875  </td> <td>0.000558036</td> <td>321.578</td> <td>13.1</td> <td>13.69</td> <td>3.7 </td> <td>349.69</td> <td>18.7</td> <td>1.26399</td> <td>2.76712</td> <td>ATL </td> <td>1.41421</td> <td>ATL </td> <td>C    </td> <td>1983  </td>\n",
              "        </tr>\n",
              "        <tr>\n",
              "            <td>Tree Rollins 1956.0 1983.0     </td> <td>6739      </td> <td>1983</td> <td>Tree Rollins 1956.0     </td> <td>C   </td> <td>26  </td> <td>ATL </td> <td>79  </td> <td>39  </td> <td>2018</td> <td>14.7</td> <td>0.6  </td> <td>0    </td> <td>0.373</td> <td>9.4 </td> <td>24.9</td> <td>17.1</td> <td>4.1 </td> <td>0.9 </td> <td>6.8 </td> <td>16.4</td> <td>10.4</td> <td>nan  </td> <td>2.2 </td> <td>4.2 </td> <td>6.4 </td> <td>0.153</td> <td>nan   </td> <td>-1.8</td> <td>4.9 </td> <td>3.1 </td> <td>2.6 </td> <td>202 </td> <td>346 </td> <td>0.584</td> <td>0   </td> <td>0   </td> <td>nan  </td> <td>202 </td> <td>346 </td> <td>0.584</td> <td>0.584</td> <td>79  </td> <td>129 </td> <td>0.612</td> <td>168 </td> <td>443 </td> <td>611 </td> <td>59  </td> <td>35  </td> <td>224 </td> <td>79  </td> <td>285 </td> <td>483 </td> <td>25.5443</td> <td>6.11392</td> <td>0.746835</td> <td>7.73418</td> <td>0.443038</td> <td>0        </td> <td>1       </td> <td>1       </td> <td>2.83544  </td> <td>-780      </td> <td>676 </td> <td>26  </td> <td>1.46334 </td> <td>0.239346</td> <td>0.302775</td> <td>0          </td> <td>375.501</td> <td>14.7</td> <td>40.96</td> <td>6.4 </td> <td>108.16</td> <td>10.4</td> <td>1.39595</td> <td>3.60759</td> <td>ATL </td> <td>1.41421</td> <td>ATL </td> <td>C    </td> <td>1983  </td>\n",
              "        </tr>\n",
              "        <tr>\n",
              "            <td>Billy Paultz 1949.0 1984.0     </td> <td>7087      </td> <td>1984</td> <td>Billy Paultz 1949.0     </td> <td>C   </td> <td>34  </td> <td>ATL </td> <td>64  </td> <td>0   </td> <td>820 </td> <td>9.5 </td> <td>0.453</td> <td>0    </td> <td>0.26 </td> <td>8   </td> <td>18.7</td> <td>13.1</td> <td>10.3</td> <td>1   </td> <td>1.2 </td> <td>15.7</td> <td>14.6</td> <td>nan  </td> <td>-0.2</td> <td>0.6 </td> <td>0.3 </td> <td>0.02 </td> <td>nan   </td> <td>-3.7</td> <td>-0.2</td> <td>-3.8</td> <td>-0.4</td> <td>101 </td> <td>227 </td> <td>0.445</td> <td>0   </td> <td>0   </td> <td>nan  </td> <td>101 </td> <td>227 </td> <td>0.445</td> <td>0.445</td> <td>27  </td> <td>59  </td> <td>0.458</td> <td>64  </td> <td>136 </td> <td>200 </td> <td>61  </td> <td>17  </td> <td>18  </td> <td>47  </td> <td>109 </td> <td>229 </td> <td>12.8125</td> <td>3.57812</td> <td>0.953125</td> <td>3.125  </td> <td>0.265625</td> <td>0        </td> <td>0.421875</td> <td>0.734375</td> <td>0.28125  </td> <td>-748      </td> <td>1156</td> <td>34  </td> <td>0.999257</td> <td>0.279268</td> <td>0.243902</td> <td>0          </td> <td>121.719</td> <td>9.5 </td> <td>0.09 </td> <td>0.3 </td> <td>213.16</td> <td>14.6</td> <td>1.00881</td> <td>1.70312</td> <td>ATL </td> <td>0      </td> <td>ATL </td> <td>C    </td> <td>1984  </td>\n",
              "        </tr>\n",
              "        <tr>\n",
              "            <td>Dan Roundfield 1954.0 1984.0   </td> <td>7117      </td> <td>1984</td> <td>Dan Roundfield 1954.0   </td> <td>PF  </td> <td>29  </td> <td>ATL </td> <td>77  </td> <td>76  </td> <td>2811</td> <td>18.8</td> <td>0.526</td> <td>0.023</td> <td>0.377</td> <td>9.8 </td> <td>23.4</td> <td>16.6</td> <td>12.4</td> <td>1   </td> <td>2.3 </td> <td>15  </td> <td>24.2</td> <td>nan  </td> <td>2.9 </td> <td>4.5 </td> <td>7.4 </td> <td>0.127</td> <td>nan   </td> <td>0.7 </td> <td>1.7 </td> <td>2.4 </td> <td>3.1 </td> <td>561 </td> <td>1193</td> <td>0.47 </td> <td>5   </td> <td>27  </td> <td>0.185</td> <td>556 </td> <td>1166</td> <td>0.477</td> <td>0.472</td> <td>337 </td> <td>450 </td> <td>0.749</td> <td>259 </td> <td>621 </td> <td>880 </td> <td>225 </td> <td>60  </td> <td>115 </td> <td>245 </td> <td>239 </td> <td>1464</td> <td>36.5065</td> <td>19.013 </td> <td>2.92208 </td> <td>11.4286</td> <td>0.779221</td> <td>0.0649351</td> <td>4.37662 </td> <td>3.18182 </td> <td>1.49351  </td> <td>-783      </td> <td>841 </td> <td>29  </td> <td>9.90217 </td> <td>0.520811</td> <td>0.313056</td> <td>0.00177873 </td> <td>686.322</td> <td>18.8</td> <td>54.76</td> <td>7.4 </td> <td>585.64</td> <td>24.2</td> <td>1.22716</td> <td>3.1039 </td> <td>ATL </td> <td>1.73205</td> <td>ATL </td> <td>PF   </td> <td>1984  </td>\n",
              "        </tr>\n",
              "        <tr>\n",
              "            <td>Dominique Wilkins* 1960. 1984.0</td> <td>7194      </td> <td>1984</td> <td>Dominique Wilkins* 1960.</td> <td>SF  </td> <td>23  </td> <td>ATL </td> <td>82  </td> <td>82  </td> <td>2697</td> <td>16.6</td> <td>0.524</td> <td>0.009</td> <td>0.276</td> <td>8.9 </td> <td>9.9 </td> <td>9.4 </td> <td>7.7 </td> <td>1.5 </td> <td>1.3 </td> <td>11.6</td> <td>23.9</td> <td>nan  </td> <td>2.9 </td> <td>2.9 </td> <td>5.8 </td> <td>0.103</td> <td>nan   </td> <td>1   </td> <td>-0.3</td> <td>0.7 </td> <td>1.8 </td> <td>601 </td> <td>1220</td> <td>0.493</td> <td>2   </td> <td>11  </td> <td>0.182</td> <td>599 </td> <td>1209</td> <td>0.495</td> <td>0.493</td> <td>230 </td> <td>337 </td> <td>0.682</td> <td>226 </td> <td>252 </td> <td>478 </td> <td>129 </td> <td>84  </td> <td>63  </td> <td>180 </td> <td>210 </td> <td>1434</td> <td>32.8902</td> <td>17.4878</td> <td>1.57317 </td> <td>5.82927</td> <td>1.02439 </td> <td>0.0243902</td> <td>2.80488 </td> <td>2.19512 </td> <td>0.768293 </td> <td>-759      </td> <td>529 </td> <td>23  </td> <td>9.2983  </td> <td>0.531702</td> <td>0.177234</td> <td>0.000741565</td> <td>545.978</td> <td>16.6</td> <td>33.64</td> <td>5.8 </td> <td>571.21</td> <td>23.9</td> <td>1.17541</td> <td>2.56098</td> <td>ATL </td> <td>0      </td> <td>ATL </td> <td>SF   </td> <td>1984  </td>\n",
              "        </tr>\n",
              "        <tr>\n",
              "            <td>Sly Williams 1958.0 1984.0     </td> <td>7204      </td> <td>1984</td> <td>Sly Williams 1958.0     </td> <td>PF  </td> <td>25  </td> <td>ATL </td> <td>68  </td> <td>6   </td> <td>1385</td> <td>18.2</td> <td>0.53 </td> <td>0.029</td> <td>0.4  </td> <td>7.9 </td> <td>16.8</td> <td>12.3</td> <td>16  </td> <td>2.6 </td> <td>0.1 </td> <td>14.9</td> <td>27.5</td> <td>nan  </td> <td>1.2 </td> <td>2.6 </td> <td>3.8 </td> <td>0.132</td> <td>nan   </td> <td>1   </td> <td>1   </td> <td>2   </td> <td>1.4 </td> <td>314 </td> <td>647 </td> <td>0.485</td> <td>2   </td> <td>19  </td> <td>0.105</td> <td>312 </td> <td>628 </td> <td>0.497</td> <td>0.487</td> <td>176 </td> <td>259 </td> <td>0.68 </td> <td>94  </td> <td>196 </td> <td>290 </td> <td>133 </td> <td>73  </td> <td>3   </td> <td>133 </td> <td>166 </td> <td>806 </td> <td>20.3676</td> <td>11.8529</td> <td>1.95588 </td> <td>4.26471</td> <td>1.07353 </td> <td>0.0294118</td> <td>2.58824 </td> <td>1.95588 </td> <td>0.0441176</td> <td>-775      </td> <td>625 </td> <td>25  </td> <td>6.89781 </td> <td>0.581949</td> <td>0.209386</td> <td>0.00144404 </td> <td>370.691</td> <td>18.2</td> <td>14.44</td> <td>3.8 </td> <td>756.25</td> <td>27.5</td> <td>1.24575</td> <td>2.44118</td> <td>ATL </td> <td>0      </td> <td>ATL </td> <td>SF   </td> <td>1984  </td>\n",
              "        </tr>\n",
              "        <tr>\n",
              "            <td>Tree Rollins 1956.0 1984.0     </td> <td>7115      </td> <td>1984</td> <td>Tree Rollins 1956.0     </td> <td>C   </td> <td>27  </td> <td>ATL </td> <td>80  </td> <td>80  </td> <td>2472</td> <td>15.4</td> <td>0.543</td> <td>0.002</td> <td>0.264</td> <td>9.1 </td> <td>22.8</td> <td>16  </td> <td>4.1 </td> <td>1   </td> <td>7.8 </td> <td>14.3</td> <td>11.2</td> <td>nan  </td> <td>2.3 </td> <td>5   </td> <td>7.3 </td> <td>0.142</td> <td>nan   </td> <td>-1.8</td> <td>5.4 </td> <td>3.6 </td> <td>3.5 </td> <td>261 </td> <td>512 </td> <td>0.51 </td> <td>0   </td> <td>1   </td> <td>0    </td> <td>261 </td> <td>511 </td> <td>0.511</td> <td>0.51 </td> <td>98  </td> <td>135 </td> <td>0.726</td> <td>210 </td> <td>533 </td> <td>743 </td> <td>75  </td> <td>49  </td> <td>343 </td> <td>95  </td> <td>294 </td> <td>620 </td> <td>30.9   </td> <td>7.75   </td> <td>0.9375  </td> <td>9.2875 </td> <td>0.6125  </td> <td>0        </td> <td>1.225   </td> <td>1.1875  </td> <td>4.2875   </td> <td>-783      </td> <td>729 </td> <td>27  </td> <td>1.94377 </td> <td>0.250809</td> <td>0.300566</td> <td>0          </td> <td>475.86 </td> <td>15.4</td> <td>53.29</td> <td>7.3 </td> <td>125.44</td> <td>11.2</td> <td>1.21094</td> <td>3.675  </td> <td>ATL </td> <td>1.73205</td> <td>ATL </td> <td>C    </td> <td>1984  </td>\n",
              "        </tr>\n",
              "    </tbody>\n",
              "</table>\n",
              "<p>... (4955 rows omitted)</p>"
            ],
            "text/plain": [
              "<IPython.core.display.HTML object>"
            ]
          },
          "metadata": {
            "tags": []
          }
        }
      ]
    },
    {
      "cell_type": "markdown",
      "metadata": {
        "id": "dDLHSPeLifKg"
      },
      "source": [
        "Removing from the \"current\" table the \"TOT\" rows since they don't correspond to any team."
      ]
    },
    {
      "cell_type": "code",
      "metadata": {
        "id": "OxQZnEli9B3A"
      },
      "source": [
        "no_TOT_final_guards = joined_final_guards.where(\"Tm_2\",are.not_equal_to(\"TOT\"))\r\n",
        "no_TOT_final_forwards = joined_final_forwards.where(\"Tm_2\",are.not_equal_to(\"TOT\"))"
      ],
      "execution_count": null,
      "outputs": []
    },
    {
      "cell_type": "markdown",
      "metadata": {
        "id": "9TW-8Hnoh6Vo"
      },
      "source": [
        "Adjusting the team names and seasons of the records table to make them shorter or resolve inconsistencies"
      ]
    },
    {
      "cell_type": "code",
      "metadata": {
        "id": "BzxdSIVuxXgE",
        "colab": {
          "base_uri": "https://localhost:8080/",
          "height": 388
        },
        "outputId": "2f6860e3-0a1e-496e-a144-1200729d7e1b"
      },
      "source": [
        "def team_name(word):\r\n",
        "  if word == \"New Orleans/Oklahoma City Hornets\":\r\n",
        "    return \"New Orleans Hornets\"\r\n",
        "  return word\r\n",
        "def shorten_season(word):\r\n",
        "  if word[:4]==\"1999\":\r\n",
        "    return \"2000\"\r\n",
        "  return word[:2] + word[-2:]\r\n",
        "short_records = records.with_columns(\"Season\",records.apply(shorten_season,\"Season\"),\"Team\",records.apply(team_name,\"Team\"))\r\n",
        "sorted_records = short_records.sort(\"Team\").sort(\"Season\").select(\"Season\",\"Team\",\"W/L%\")\r\n",
        "year_sorted_records = sorted_records.with_columns(\"Season\",sorted_records.apply(int,\"Season\")).where(\"Season\",are.between(1981,2018))\r\n",
        "year_sorted_records"
      ],
      "execution_count": null,
      "outputs": [
        {
          "output_type": "execute_result",
          "data": {
            "text/html": [
              "<table border=\"1\" class=\"dataframe\">\n",
              "    <thead>\n",
              "        <tr>\n",
              "            <th>Season</th> <th>Team</th> <th>W/L%</th>\n",
              "        </tr>\n",
              "    </thead>\n",
              "    <tbody>\n",
              "        <tr>\n",
              "            <td>1981  </td> <td>Atlanta Hawks        </td> <td>0.378</td>\n",
              "        </tr>\n",
              "        <tr>\n",
              "            <td>1981  </td> <td>Boston Celtics       </td> <td>0.756</td>\n",
              "        </tr>\n",
              "        <tr>\n",
              "            <td>1981  </td> <td>Chicago Bulls        </td> <td>0.549</td>\n",
              "        </tr>\n",
              "        <tr>\n",
              "            <td>1981  </td> <td>Cleveland Cavaliers  </td> <td>0.341</td>\n",
              "        </tr>\n",
              "        <tr>\n",
              "            <td>1981  </td> <td>Dallas Mavericks     </td> <td>0.183</td>\n",
              "        </tr>\n",
              "        <tr>\n",
              "            <td>1981  </td> <td>Denver Nuggets       </td> <td>0.451</td>\n",
              "        </tr>\n",
              "        <tr>\n",
              "            <td>1981  </td> <td>Detroit Pistons      </td> <td>0.256</td>\n",
              "        </tr>\n",
              "        <tr>\n",
              "            <td>1981  </td> <td>Golden State Warriors</td> <td>0.476</td>\n",
              "        </tr>\n",
              "        <tr>\n",
              "            <td>1981  </td> <td>Houston Rockets      </td> <td>0.488</td>\n",
              "        </tr>\n",
              "        <tr>\n",
              "            <td>1981  </td> <td>Indiana Pacers       </td> <td>0.537</td>\n",
              "        </tr>\n",
              "    </tbody>\n",
              "</table>\n",
              "<p>... (1012 rows omitted)</p>"
            ],
            "text/plain": [
              "Season | Team                  | W/L%\n",
              "1981   | Atlanta Hawks         | 0.378\n",
              "1981   | Boston Celtics        | 0.756\n",
              "1981   | Chicago Bulls         | 0.549\n",
              "1981   | Cleveland Cavaliers   | 0.341\n",
              "1981   | Dallas Mavericks      | 0.183\n",
              "1981   | Denver Nuggets        | 0.451\n",
              "1981   | Detroit Pistons       | 0.256\n",
              "1981   | Golden State Warriors | 0.476\n",
              "1981   | Houston Rockets       | 0.488\n",
              "1981   | Indiana Pacers        | 0.537\n",
              "... (1012 rows omitted)"
            ]
          },
          "metadata": {
            "tags": []
          },
          "execution_count": 71
        }
      ]
    },
    {
      "cell_type": "markdown",
      "metadata": {
        "id": "W3rZNYmbOMym"
      },
      "source": [
        "Converting team abbreviations to team names"
      ]
    },
    {
      "cell_type": "code",
      "metadata": {
        "id": "wO0emijTONlW"
      },
      "source": [
        "team_abbreviations = {\n",
        "\"ATL\":\t\"Atlanta Hawks\",\n",
        "\"BKN\":\t\"Brooklyn Nets\",\n",
        "\"BRK\": \"Brooklyn Nets\",\n",
        "\"BOS\":\t\"Boston Celtics\",\n",
        "\"CHA\":\t\"Charlotte Bobcats\",\n",
        "\"CHH\": \"Charlotte Hornets\",\n",
        "\"CHO\": \"Charlotte Hornets\",\n",
        "\"CHI\":\t\"Chicago Bulls\",\n",
        "\"CLE\":\t\"Cleveland Cavaliers\",\n",
        "\"DAL\":\t\"Dallas Mavericks\",\n",
        "\"DEN\":\t\"Denver Nuggets\",\n",
        "\"DET\":\t\"Detroit Pistons\",\n",
        "\"GSW\":\t\"Golden State Warriors\",\n",
        "\"HOU\":\t\"Houston Rockets\",\n",
        "\"IND\":\t\"Indiana Pacers\",\n",
        "\"KCK\": \"Kansas City Kings\",\n",
        "\"LAC\":\t\"Los Angeles Clippers\",\n",
        "\"LAL\":\t\"Los Angeles Lakers\",\n",
        "\"MEM\":\t\"Memphis Grizzlies\",\n",
        "\"MIA\":\t\"Miami Heat\",\n",
        "\"MIL\":\t\"Milwaukee Bucks\",\n",
        "\"MIN\":\t\"Minnesota Timberwolves\",\n",
        "\"NOP\":\t\"New Orleans Pelicans\",\n",
        "\"NOK\": \"New Orleans Hornets\",\n",
        "\"NOH\": \"New Orleans Hornets\",\n",
        "\"NYK\":\t\"New York Knicks\",\n",
        "\"NJN\": \"New Jersey Nets\",\n",
        "\"OKC\":\t\"Oklahoma City Thunder\",\n",
        "\"ORL\":\t\"Orlando Magic\",\n",
        "\"PHI\":\t\"Philadelphia 76ers\",\n",
        "\"PHO\": \"Phoenix Suns\",\n",
        "\"PHX\":\t\"Phoenix Suns\",\n",
        "\"POR\":\t\"Portland Trail Blazers\",\n",
        "\"SAC\":\t\"Sacramento Kings\",\n",
        "\"SDC\": \"San Diego Clippers\",\n",
        "\"SAS\":\t\"San Antonio Spurs\",\n",
        "\"SEA\": \"Seattle SuperSonics\",\n",
        "\"TOR\":\t\"Toronto Raptors\",\n",
        "\"UTA\":\t\"Utah Jazz\",\n",
        "\"VAN\": \"Vancouver Grizzlies\",\n",
        "\"WAS\":\t\"Washington Wizards\",\n",
        "\"WSB\": \"Washington Bullets\"\n",
        "}\n",
        "\n",
        "abbreviated_final_guards = no_TOT_final_guards.with_column(\"Tm_2\",no_TOT_final_guards.apply(lambda name: team_name(team_abbreviations[name]),'Tm_2'))\n",
        "\n",
        "abbreviated_final_forwards = no_TOT_final_forwards.with_column(\"Tm_2\",no_TOT_final_forwards.apply(lambda name: team_name(team_abbreviations[name]),'Tm_2'))\n"
      ],
      "execution_count": null,
      "outputs": []
    },
    {
      "cell_type": "markdown",
      "metadata": {
        "id": "4Re7LrwKJxUv"
      },
      "source": [
        "#Part 2: Least Squares"
      ]
    },
    {
      "cell_type": "markdown",
      "metadata": {
        "id": "M739QLHV9DCk"
      },
      "source": [
        "**Choosing the parameters to train upon:**\r\n",
        "\r\n",
        "As we are using a linear regression approach, we decided to use metrics that aren't additive values of importance like points per game, assists per game, etc. We decided to use more % and efficiency stats to possibly find insights regarding the importance of efficiency in a team's success. \r\n",
        "\r\n",
        "Thus, we chose mostly advanced % stats including **total rebound %, assist %, steal and block %, free throw rate, and turnover %** that give an overview of a player in relation to their team. We also made use of directly correlated \"winning\" stats like the **universally used PER, win shares per 48 min, box plus or minus**. We also decided to incorporate **usage rate** as a metric of holding in check a player's importance to a team's system, in the case of high usage players possibly having poorer efficiency. Finally, to include stats that don't depend on purely a player's performance in the previous year, we included the **synergy score** rating, giving a square root indication of a player's years on a team. A player with a higher synergy score should be expected to have better chemistry with his teammates to obtain more wins.\r\n",
        "\r\n"
      ]
    },
    {
      "cell_type": "code",
      "metadata": {
        "id": "LSaoiA_WqDZ6"
      },
      "source": [
        "categories = [\"Player\",\"Year\",\"Tm_2\",\"PER\",\"TS%\",\"TRB%\",\"AST%\",\"STL%\",\"BLK%\",\"TOV%\",\"USG%\",\"WS/48\",\"BPM\",\"FTr\",\"Synergy\"]\n",
        "\n",
        "abbreviated_final_guards = abbreviated_final_guards.select(categories)\n",
        "abbreviated_final_forwards = abbreviated_final_forwards.select(categories)\n",
        "#selecting only the categories/stats we want to train under\n",
        "\n",
        "\n",
        "year_to_predict = [2017]\n",
        "\n",
        "keeper_indices = make_array()\n",
        "\n",
        "with_indices = abbreviated_final_forwards.with_columns(\"indices\",np.arange(abbreviated_final_forwards.num_rows))\n",
        "\n",
        "test_indices = with_indices.where(\"Year\",are.contained_in(year_to_predict)).column(\"indices\")\n",
        "A = make_array()\n",
        "B = make_array()\n",
        "test_set = make_array()\n",
        "test_set_actual_winrates = make_array()\n",
        "test_set_seasons = make_array()\n",
        "test_set_teams = make_array()\n",
        "random_indices = test_indices[0::5]//5\n",
        "#preparing arrays to be used for training and testing"
      ],
      "execution_count": null,
      "outputs": []
    },
    {
      "cell_type": "markdown",
      "metadata": {
        "id": "fRceYhhejFSJ"
      },
      "source": [
        "Here, we are assembling the $A$$x$ $\\approx$ $b$ equation, which will yield our $x$ vector of stat parameter weights. The $A$ matrix consists of one row per team, including the custom stats for the 3 guards and 5 forwards in addition to a constant term. The $b$ vector is the records for that corresponding team in that specific year.\n",
        "\n",
        "![Unknown.png](data:image/png;base64,iVBORw0KGgoAAAANSUhEUgAAAfkAAACiCAYAAABCiLRkAAAAAXNSR0IArs4c6QAAAARnQU1BAACxjwv8YQUAAAAJcEhZcwAADsMAAA7DAcdvqGQAADaWSURBVHhe7Z0HmBRV1oav7hrXnHPOOWMWTJgjigroqgTFnLMoihFxTWBYFJA1YALFjAFFERGzgglZlBXRVVAX3eWX+us91Blrmp6enpnuoafme5+nGbq6q7q669yT7625opgghBBCiMwxd/JXCCGEEBlDRl4IIYTIKDLyQgghREaRkRdCCCEyioy8EEIIkVFk5IUQQoiMIiMvhBBCZBQZeSGEECKjyMgLIYQQGUVGXgghhMgoMvJCCCFERpGRF0IIITKKjLwQQgiRUWTkhRBCiIwiIy+EEEJkFBl5IYQQIqPIyAshhBAZRUZeCCGEyCgy8kIIIURGkZEXQgghMspcUUzyf9EM+f3338Pll18e3nnnnbDddtuF//3vf2HQoEFh9dVXDzvvvLM9f/LJJ8PZZ58d2rRpk+wlhBCiKVBWI//bb7+FHj16hDfffDPZ8gf77bdfOOWUU5JnYk7xz3/+M9xxxx3hoosuCn/5y1/s+VFHHRXOO++8cMABB9h7/vGPf4Rlllkm7LHHHvZcNJwff/wxnHvuuWHixInJlj/o2rVrOPDAA5NndWPIkCGhd+/eybM/WGWVVcJ1110XFl988WSLcJqaniqX7DQmmJ1ff/01LLDAAmGuueZKtlaH9/z3v/8N888/f7KlaTKnr1dZ0/VcpO+++y785z//CTvttFPYddddqx6rrrqqvS7mLG+//XbYbbfdzMDDp59+Gn7++eewzjrr2HNgEC6xxBLJM1EK5plnnrDllltWGxNkUr766qswbdq05F1155dffgkffPBB2Gyzzaode4sttgh/+tOfkneJNHPPPXfYYIMNqv1e6Cv01r///e+K01MzZ840Ofnzn/9c7Zx5LLXUUsm7KpfPPvssnH766eG5554LF1xwgQUWufAdCS7IMpJNbMqUa6wXTSzAZWP69OlRly5doo4dO0bxgEm2ikoijmKi33//PXkWRb169YratGkTTZ06NdkSRbHHHc2YMSN5JsrF999/H7Vu3Trq379/sqXuDBw4MNp4442jsWPHJluaFrGTGb300kvJszmH665u3bpFscFJtlYGLidz6tz4bUaNGmXnUVd++OGHqG3bttGwYcPs+bhx4+y79OvXL4qNXvTTTz9FsRMQnX322dG2225r8pBFSjHWi0WNdxVCLNzhnHPOCS+++GKype4QwZH++de//pVsqZ355pvPIhkggqc2v+GGG4ZFFlnEtgHpMqIG0bwpl4wSyT3//PPh4osvtpLQq6++mrwiKpHHH3887L777uGNN95IthTPJ598Ej7//POw0kor2fOVV1457LDDDiE2eKZ/3n33Xcuc8P/TTjstrL322vY+UX9k5CuEjz/+ODz00ENh0UUXTbbUnaFDh1p5xFPvdSX2ssMXX3xhqd2a6mSi+VIuGaXfA5k76aSTwnrrrZdsFZXKoYceaqnmvffeO9lSPDh0lBS8rLDggguGhRde2MpM66+/vpVJxowZY9sOPvhge49oGDLyFcJ7771nHe3LL798sqVu4PmOHTvWPN+FFloo2Vo38tXjhXDKJaM0Xy255JJh3nnnTbaISoasHo6eZwDrAhE8coBRB+rt//d//1fVEEq9HkcSh48so2g4MvKNBIL87bffWjrKmy1oLqHzktTlW2+9ZVEMEbQPAIf0FQ1A7EszUBoGCa9hoN9//33zhqdOnTpbswrH4HN5D5/HZ+fy4YcfhnXXXbfeSlw0bRoio0C3NPI1efLkas1qxcqoaBy4pkTUpM7TeoBrxkwDh/IM7/NrWWg/Inte8+3IRz5dg5EnSnf5Qi5mzJhhTh/yc8stt4Sjjz46rLbaava6aDgy8o0A3in1JQbBiiuuGB555JHw8MMPm8H+6KOPwmuvvRZGjRoVll122aqaFfPXgRQ609v69etn3m737t1tWg/ToeCbb76xOucLL7wQpk+fbt41z9nu8DlXXnlleOKJJ8yAT5gwwZ4zqPgclPo999wT+vfvb/vR9cq5iuZDQ2QU5+D+++8Pp556qkVfyM+RRx5paV0chGJkVDQOXCumzH755ZdmUBn3zlNPPRVatWoVxo8fb9f9jDPOsOm0TP0qtN+wYcPs2rL9mmuuCXfddVcYPny4peR79uwZbrjhhipZYSonRpy6PhH9fffdZ+txIDdM/+TvXnvtZe8VpUFGvswwz/PWW2+1xpJtttmmSgmStsSj3XHHHa35BK95//33Dy1btrTpT0x3YqBdcsklFjmhgJl2ePjhh9u0NxQxsI19GESbbrqpOQA8Z7vz7LPPmrJl36WXXtr2f/31103h8jl83rHHHmvGfsSIEeGwww6rtr/INg2RUaK4QYMGhbvvvjtcdtlllgli3i/yiKzRtFmMjNYHokUiQWSbaJEHhiOdRRDVYYxTB6cHguvpDZBcGxw5SilcN3om2rVrZ7qHSLum/QgUcP723Xdfi8bvvPNOK/fxfIUVVrCpYzgAZG6A4+EAHnHEEVZ75y+Nd8haOk0/adKk8OCDD4aXX37Z5FPUHxn5MoMiIvJhIKCQGDx0EdNh7NRU63zggQfCSy+9ZN60d7cT2TOYNt54Y3sONdU6HSIxmqZoqsMjp6EFpa657wIaIqPIFVkhlLU7njin33//fdh8882t3g61yWixYMgZEzilZBswOGQFmG/dq1cvczYwJICs07VPBCpmQVSOI0c2j/LL9ttvb9uRAbI5lFJw7ACHjAf9Er4faXkMvu/HdV1uueVsLjgZAHQVTiHgbHFMjpeencP1WWuttczRQ2aQl9tuu60qTY+ckL3cZZdd7LPJGngmAF3GeTDL49prrw0dOnQwZ4LFu3jeqVMn0284fsA5cF7Mt/dtgHxef/31ti9BDfLt8FlkGHBoOCYlLAenhtdoIG0qVLSR50LQbVnKB0qpMVlsscXCnnvuaaks0lcoPlKdbmARGqatsT29kAU1q2eeeSZstdVWluJyqJvjKRNZOXjV1L+23XbbvAuesPgCg5oFP0i3kk5DWbsybM4QJeSTk4Y8MJZNifrKKBDxY0y33nrrZMusEhJpXQyEU5uMFgPncdVVV5nzSwr4mGOOqVp++YQTTrDyAjIOTO+i/ER0OGXKFNsmQjjkkEPMkBNdY2D996JMg6FD3zgYfowu02nZj34MsoLoEN+PmREdO3Y0Q5h7fXHAMMrIQXpKbhqMMGl6ZJDonz4N9BOLxeA8bLTRRtYngDwCDh4lAQw0hh1DTCbgwgsvtOe8xvfDqaA35Pbbb7fSwMiRI6v1BiDHlJcw8Bj1tI7lHJAZzoNj8n2B5b2RPWTKewqaAhUfyfft27ekj8ae743An3nmmTaIGCAMFNKaNCEB3iVRFGnOdHcxAprrWeM1o2w32WSTaoMGL5vUe03NKgwCBiCeO+kwIp7Bgwfbawj4pZdeamlYFCjnxgBmwOHFXnHFFTZwUaAOSpzX8JAdzg2lyr67xk4FaTb3voG51aR48dB9wEJNnnZjkk9OGvJoakvH1ldGMbpsz3U6kTOMb1px1iajtYEjcfPNN5vxRlZys1AoYiJDnxmCzB5//PHVzkvMwvUIjhlGGoie0SlcN4frzzV3o03KnXIeU+cwwGm4vhjR9Mwcxvno0aOtzl9TQDFu3DgzwieeeKLpZs6NQMwzRuzHuh04Ecgh59CiRQt7zb9Hel0PzgGHgZQ/58hx0w5oGt7D0t2UKThPQM7of8JZp9SQBp1IxsqNflOhoo083hZCU+pHY4ECxFNEcaL4iZZonEMgvc7E4CDqcQ+aevnTTz9t/4e0okTQGQB4xkRGAwcOtO0oVbZR48Rosp3InTQYaUwMNSC0559/fmjbtq156fD111+bYOOh4g0fe+yxdq5dunQxL5aeANbuZsoM++DdMig5R2p1Do4I6Ta8epQ55+LKgeNTY8PLJrVLqg4KedqNBQM9n4w09NFUKIWM0jHt64sTdeFQ4uyRlkdeiHpqktFiIUXcp0+fcNxxx81mYIDrSMOWGy1RM74eBsbRxygGHQNPPR5w0MkaprMxXHcepOPZH2MIXE+yV+mZOWyj+Y4ghe1EwRjTNJ6m55p6qQcdg/EmTe/QC0BggQ4iTe9rLORb14P9Tj755KKnY+IAIDc0juJAcD78LrkGvimjmnwZQbFhmKn7OBhnBg61SUBIvdaJ0FNDRJmiZH3AAYaSGiT7YyTxPPEoiaaIwLzWiWfMQCGCwYCzehiOAjUzIIWGIibqAQZtsWvXc3xqXuyLUs2F99G8xWfQcctA5/HYY4/Zd+G1tEdfm6ctyk9DZBRFmmtUUfYodGTUm+IwJDXJaLEgxxiCmpQvn4Fceg+AqBnGuke+gDNHaZTfzue+k2bnfekggxv4UBoh04PBJpUOXEv0RrrfAkefXgmyiBwXx8/lCdALnqbfddddk62zSkfIYtoBxMHEOeTc0nonn67iPTgFxcLvQKMoTi7ZLEpSfMcsISNfRlj6kdoSig5FirFjmgrpcVdGpJ7wUBFYaqIHHXSQGUQUKl4rXfCk0khV4hEjgJ56R9FyHIw0Xi0Dj6iYZhSU3pprrmnpJaDGxCAlmiZlz7Fgn332sXSak2+uPPW4tEdfCPal8YWOa7xvOmQZ0LkGXlQGDZFRZKxz585Ww8TppASEAWcbWRpkAAWO4q9JRoGyFOUfskzIOzcmoaxDlgcDAvwlW+RGBDAk1EeJvtifv2QdRGGIdnHWH330UdMl/M44T1xHnHP0BJka7653PJPDe3D2KL+BZxjT9XgyO2RzcBT4HKL/tEOYm6Z3MLpkkzgvAhsCBoy866s0pVrXg8idc6MMQZo+c8QKuGzEg7DZ36Bm5syZdrMXbkjA75GP2JO2GzfkuwkM+6Rf4y/P2SdN7NHa5/B5uXAMPr+m1514QEWx8q31xhfxAI3igWh/8xFHc1E88KL27dtHsaKv9SYaI0aMsJs1cI7NGb4/v0Nj36CmoTLqMun7+vGQyTSFZLQ2uHFSTTISR4RR7IhE48ePT7b8Qffu3e1RV/guWb9BDdc0fc1///13u46FrlG+a8h+bONvGj9erkzxubFDF8XRc7KlOrFDF/Xo0SPq06dPdNlll0UjR45MXvmDYnUV1KZfeD2O4IsaMy4XjLOG4NdQN6jJAHjCREF4zx4Z5ULak3povqZA9km/xl+e59aciHD4nHzRMsfg82t63YkH5Gw1rvpABoHmQKb5sSBKQ44lyk9DZdRl0vf146Wjbigko7XB3HrKTOmpTkDtmGY8Ura5nf+iMFzT9DUn1c11LHSN8l1D9mObp/odP16uTPG5V199tUXs+SD6pz+IGROxEbcMQS6l0lVARgCd1dCMQKUiIy+qyFfjqg+xl2rpWgZn7sAXoj5Qz2VWCOUCZjDQb4JyppGT1DEpV5+FAvQAUHrAAaDeSlqfbaJpg26hJ4TyDKUdekAoAf03z4I56DJm9VBGIv3PGgo0cOIYAo4CpQSajnkv/Un5juNQNkWOkDv+0nvC+VQ60sCiilLVuKiL4o03dEUzIdIQtaGU27RpY9EhjXjM/rjppptsJkgaZI/eEBSxVnHMDmRruB1x7969rdenR48e1tyXrxEYp4+eEObU00xKj5Ov1Ag0E9NvxNx71iShNynfcRxmCjCDCHnCcWBKXVPIHsnIN3PwavFui1m7Hi8Xr5k583TODhgwoJoXTUTFvkyb4v8cFw+5JmrztIXIxUsBpJlJBStTJERhNEKaOXi1xa5dj5eL10znM55xrhdN9E6dja5qjsXUlHQKNZfaPG0hhBANQ0ZeCCGEyCgy8s0cUuN1XdZWCCFE00BGvplTl2VthRCiFNA0N336dPtbE7zGtEnRMGTkmzl1WdZWCCEaCiscnn766daky7018jX5zpw501Y+5GZErMQn6o+MfDOn1MvaClEffGbGjTfeaNOZWPdeVCbcL4Olb+tzjVg+mewgd39jeWQyh2QNmdlDVpEAg7vXkUX0m9fkLvwl6oaMfIXAGs10lzOlrL4wra1r167WqV4sdMb7NCQGWO6tG4F1qPOtdCaaF+WSURYZQalzUxvuYvjVV1/ZevrMiS+UzhVzBtac554HLDRUV7jrIUacOxcCNylihk7r1q1N/zArh2vO/0877bRqN7UR9UNGvkLgBg+sotSQ2vfQoUPDd999V5V6ryulXCpSZI9yyCgR/L333mtp2zXWWMOmVbLgCDcLufjii+0zRWXBUtU4YlyjukJqngVkfBEZ7hjHNecGRCw2ww1ixowZY9tYzEg0HBn5CoE1uf12nvUBz5eIKH27x7pSqmVtRTYph4ySouWud2eccYalcoHs0jbbbGPvReGLyoKsXr616ouBCB458LsLUm+n8ZdmX6BejyPJnTILrT4nikdGvpFAkLklI+moadOm2TaaS1BspC65dSz3aSaC9gHgkL6i/sW+RD5pGCS8hoFm1Ti84alTp87WrMIx+Fzew+fx2bmUallb0TRpiIwCtVrki/sWpNPshWSUhk6es/gSZaFcVJsvPVxTImpS52k9wDVLd7NTnuF9fi0L7Udkz2u+HfnIp2sw8kTpLl9c3xkzZpjTh/xwbwIyOauttpq9LhqOjHwjgHdKfYlBwHrbjzzyiM07x2B/9NFHtjQsN1pYdtllq2pW6ZsosMJcv379zNvt3r273ZHruuuus9dZhpY65wsvvGBTUvCuec52h8/hRh5PPPGEGfAJEybYcwZVXZa1FdmlITKKc3D//feHU0891aIv5OfII4+0tC4OQiEZ5b707Muqh363Mo7LZ2AMuJuhKB1cqzvuuMPu0Y5BZdw7ZFRowh0/frxdd7IrRx11lN2LotB+3F+ea8v2a665xpa1Hj58uKXke/bsGW644YYqWVlllVXMiFPXJ6K/7777ws4772xyM2TIEPu711572XtFaZCRLzOs637rrbdaYwkpSFeCpCJRYjvuuKM1n+A1syBNy5Ytq5Z2ZaDRiUrkhAIm2jn88MNt2huKGNjGPgwiOuBxAHieXpaWu3ChbNkXpcr+3MEJhVuXZW1FNmmIjBLFDRo0yO47wEJKZIJYzhh5RNaIzouR0TQ4EBiBzp0722fXBNEikSCyTbTIA8ORziKI6jDGqYPTd8P19AZIrg2OHKUUrhs9E+3atTPdQ6Rd034ECjh/LJ5FNH7nnXdauY/nK6ywQthyyy3NASBzAxwPB/CII46wUgx/abxD1tJp+kmTJoUHH3wwvPzyywXvDCdqp6KNPLfxw+Mv5aOxG3lQREQlDAQUEoOHhiI6jJ2aap0sUMMdkvCmvbudyJ7BxL3anXy1zjREYnxvmurwyGloQalr7vssA5dPThr6aEo0REaRK7JCKGt3PHFOGbubb755VXRem4w67HvzzTeb4meONAo/DYacMYFTSrYBg8PvTeMet6LF2cCQALLObUmJQMUsiMpx5MjmUX7ZfvvtbTsyQDaH0gmOHeCQ8eBmQL4faXkMvu/HdV1uueXCPPPMYxkAdJU7ZjhbHJPjpWfncH2YSYGjh8xwzZku52l65ITs5S677GKfTdbAMwHoMs6DWR6syNmhQwdzJpidwfNOnTqZfnPH79VXX7XXuDc92VA+C5BPskfsS1CDfDt8FhkGHBqOSQnLwanhNRpImwoVPy+KlFEpQYE0JosttpjdtIUoh2VjMc6k3JmmBggN09ZQiOnbFlKzYr7wVlttZSkuh7o5njKRlYNXTf2LW3Dmu7kLN4FhYQmWq8Wws4Idg8SVYXOn1DLGjXuaEvWVUSDix5huvfXWyZZZJSTSuum1FWqTUeA4OJ+cD6sv5s4S4TxI/WJo+OtOKs4H44EIkWWYgeldGAQcl/RYae6w5gWwHgEGFp0AlGkwdGRPHAw/RpfptOyH0WY/Sja+3zLLLGPTHnESc68vDhjXADlIT8lNwzFJ03PNif7p0yDdzxRKnAc+i0wA2R2yRDh4lATQacD50EeAvNAMiJOKbOBUkBnASeT9HJcSJxlRnEHkmPISjZ/IU1rH8t4pU6bYeZCJcLhtMdvJMvE9mwzxj1w2Yq8pij3uKPa2otjjS7Y2T+IIPHr22Wej2GuMYqGPxo0bZ9snTZoUxR5tdPvtt9tzh9d5X6x0ky1RFA8a+y3jqCWKFWKyNYpiRRvFEVIUD9Jky+zEEWsUe+7RJZdcEsWedTRw4EDbznHYtt9++0WxcYq6desWxd58tM8++0Tx4IhiZR+1aNEiigdMFHvGUezFR7ExiGKPObrllluiWOjtOJxb7Cnbvq1atYriwVjtHOOBat8nHoxR7N0nWyM75hdffGHH5DdqzvBbxsoriiPPZEvdiSPZKFbAUaxwky3FU1cZnT59etSlS5coVs7Vrh3v4/3s59Qmo8hB7IiazMVK27bNmDEjig1N1f95jc+KnQjblgZdE0dsURyhJltmgfzyqCuuu84///wojuySrZWBy0l9zy2fHnnggQei2KBVG5tcs9gAJ89myUccJUexEbXrlYb3xs5hFEfhyZbI9M2qq64ajRgxItkyOx9//HHUtm3bKDa29jyOsKPWrVtX+1yOPXz4cPv82Imrkgn/HugsPx9+mzj6jqZOnWqy2bVr1yh2Du01zgPdN3LkSHsOw4YNi2JHxeQekLPevXvbuefDZd71Z30pxVgvlrKm64kUWa0Ib6o53vcZ75ZUEDVxmuaIloiQ8Gq9zkQajKiHiB2olz/99NP2f0h7mKSNSI/iGRMZxYJm20m7sY0aZ3xNbTvpOFJTpDE9usErjRVDiAeVeelQl7XrqeMTIZFKixW5peHat29v58L/Sbfh1VPr51zco+f41NjwqEntkqoDurA5Dp5xPPCqdeE2RxgjpD3zdZkXC+ON353jFEMpZJSOaT9noioiOiI90vJEQ2SlapJR4DmNWsyfP+uss6pS9EThgwcPtv+TIu7Tp4+tgEaElwv70LBFZFkK0rqr0jJeLif1PbfYWFrpjkyNj1FmPpARoR4PpKzJGnLNHK47D9Lx7E/6G7h+XKv0zBy/pqT/2U4UTM0/DfrJV7XzUg96iRIAaXqHXgCyQ+ggMpCe4fHvkV7Xg/1OPvlkey+6C3ly2UQveXe/QwYKuaH5k74BzoffJR3Bl4NSjPViUeNdGUGxYZip+zgYRAYOtUlASL3WidBTQ0SZomR9wAGGkhok+2MkR48ebaksUpik2rzWGUdfNlBIUWLAqUnhKLjSJ4WGIqYeBgzaYteuZ6UzOvR5HSHl7nR8Pz7D30fzFp9Bxy0Dncdjjz1m34XX0koJZX3iiSdWS/WKxqUhMooRzDWqKHsUOjLqTXEYkppkFF555RWru6Jcafyk2YrPwIj4VCpkDENQk/LlM5Bp7wEQNcNYT6fPceaoUfPbeTBGmp33pYMMlrKlE55plBjsjTbayLZzLdEbfn0Bg0qvBL0VHBfHz+UJ0AuepvfUO/AcWXQHEHAwcQ45N3cAIZ+u4j04BYC8sMASILek74855hhzOhx+BxpFcXLPPPNMK0nxHbOEjHwZYelHaksoOhQpxo5pKtza1ZVRixYtzOtEYJmCwnrOGEQUKl4r0TONKPQSIJwIIAMG5Yyi5TgYabxaBh5RMc0oKL0111zTGqJgypQpNkiJpulgdUGvy9r1NGLRrMJABJQD9at0nZZ9aXwZNGiQed90yDKgcw28qAwaIqPIGDVcZACnk6gbA842sjTIAAocxV+TjJIl6NatWxgwYEDYY489TBZ5kFHgmC5bGBIiMDcigCFBcRN90SDFX44nCkO0S4MaywajS8im4TxxHXHO0RNkary73vFMDu/BaDLDApAbMow4/VxTIEIlm4OjwOcQ/acdQuQEOcDJTzflYXS59pwXgQ0BA0Y+bZidYtf1QE/R60GvCTfGSX8e4Fxybqzgx4p7mSNWwGXD6xcdO3a0GldzhFoR9SFqTfwe+YiF0OpN1INyYZ/0a/zlOfukoeeBz8mtlQHH4PNret3JV+OqCc6D+hg1r1gBJ1tnEUdzUTzwovbt20exoq/1WNTKqMNxjs0Zr0f2798/2VJ3qBXm1kZro6Ey6jLp+/rxkMk0hWS0Nnr16lWjjFC/pW9k/PjxyZY/qG9Nnu+C7ipmLDQ2LicNPTeuafqaU9/nOha6RvmuIfuxLbc/wI+XK1N8Lv0EXgfPBX1Cf1CfPn2sVyddQ3eK1VX0d/Ts2TOKHVd7Hz0b3333XfLqLNA/cQRf1JhxuWhoTb4UY71YFMmXGTxhoiC8Z4+MciHtST0018ME9km/xl+es08aIhw+J1+0zDH4/Jped+IBOVuNKx/xYLEaPqUCMgOe6nfIILCICZ4zC6IUOpaY8zRURl0mfV8/XjrqhkIyWhvMrafMlJ7qBNSO6RMhZZvb+S8KwzVNX3NS3VzHQtco3zVkP7Z5qt/x4+XKFJ979dVXW8SeD/QJ/UFMeyPLQ4Ygl2J0VexMWB8Heohpd+xDdokyUhoyAuis2jICTRUZeVFFvhpXLhh45onG0ZvNY2Yg5a6OF3uplq5lcOYOfCHqA/Vcpj5RLujbt6/1m6CcaeQkdUzKNd1QhUxSesABoN5KWj9XTkXTA91CvwblGUqZ9IBQAkIPpcH5o8TJ9Ng4YjYHkAfT8dwZxOhTSiBgQe/Rn5R7nDSUTZEj5I6/9J5wPpWONLCoorYal0fwwP2g6ZqmrobCTUNdFG+cZhkhSgVRG0qZOcpEhzRW0UF900032UyQNMgevSEoYpr5mEEgeWz6YKDp3ejdu7f1+rAmBc196YY8oDeAnibek36w9gjZC6CZmH4j5t6znV6Q3OOkYaYAM4iQJ/pPmNffFLJHMvLNHDxepicVs3Y9qS5SaDRNuWeMt+yCTkTFvkyb4v8cFw+5JniNjn0GDI02rFbGPpyTEPnwUgCKmlSwMkVCFEYjpJmDx1vs2vV06tPtmvaM2cc7X4neqbPhDLCdqSnpFGouvEb3NR37TNvC8/Y10YUQQjQcGXkhhBAio5TVyJN2pZOR5gTmPAohaoZ5ylOnTrWV3+oLY41SSaEyiagd112sL0HGqpJwOanEcxPFUYqxXixlNfKkXamdUbPNN/VGCPEHTC1ioaH0Sod1hbFG2aRQmUTUjusuFkmpz5S/cuJyUonnJoqjFGO9WJSuF0IIITKKjLwQQgiRUWTkhRCiRNATwV3QWIClmAfrpbO4jxDlQkZeCCFKBD0R3AyFVfaKeXAjmOOPPz7ZW4jSIyMvhBBCZBQZeSGEKBEs/cxte5l+V+yD2+gKUS5k5IUQokRwgxPulf7BBx8U/fjqq6+SvYUoPTLyQghRIrhxznbbbRdatmxZ9IMbnwhRLmTkhRBCiIxSViPfGMva8hndu3cP6623XhgzZkyyVYimR3NZ1pZbe66wwgrWhV6py7JqWds5B/LbuXNnu/VrvrthZgEtaytEM0TL2lYOWtZWlBMta1sHGIyXXnqpNbtsueWWyVYhRKVChMathVk0RkZK5IKTeuedd1rGJ98tr0XdUE1eCCGEyCgy8kIIIURGkZEXQgghMoqMvBBCCJFRmryR1xQ6IZoWTWEKnZhzNIcpdI2JInkhhBAiozR5I68pdEI0LTSFThRCU+hKiyJ5IYQQIqPMFZWxKEa9nLss8XfTTTfVqndCFIA7mL3zzju2ktkaa6yRbK0b1DAnTpwYNtlkk7DooosmW0Vdcd2Fztpwww0rKuPgcrLQQgtV3LmJ4ijFWC+WskbyM2bMCI888kgYPHhw2dauFyIrTJ8+PfTt29eMS3159913raGNdddF/XHdRcq40oyoy0klnpsojlKM9WIpq5EnScAC/JMnTw4zZ85Mtgoh8sEY4d7i06ZNS7bUnV9++SWMHTvWboAh6o/rLpylSpsB4HJSiecmiqMUY71YVJMXQgghMkqTN/KaJy9E00Lz5EUhNE++tCiSF0IIITJKkzfymicvRNNC8+RFITRPvrQokhdCCCEyioy8EEIIkVFk5IUQQoiMIiMvhBBCZBQZeSGEECKjyMgLIYQQGUVGvhnw0UcfhW222Sacc8454dprrw0dOnSwxUjOO+88e96pU6dw8MEHhx9//DHZQwghRBaQkW8GMN/0mmuuCddff70Z9i222CLssMMO4cILL7TnvLb++uvrLoFCiJLB/RNqu4cCNwLSzcvKi4x8xiE6nzp1amjRooU9//nnn+0Wh9yicpFFFrFt3CxhscUWC/PNN589F0KI+oLRvuOOO+zBojb33ntvXkM+adIkyyp++OGHyRZRDmTkMw73FCdNzypS8MMPP4QvvvjConlfbWzJJZe01cfmnXdeey5EY8A9tZ944omibovLeuZXX3213blLlJ/x48eH999/v153D33yySfDm2++GY477rhw4oknhq+//jqccsopto27rnG9eQ8lQlYp3XjjjZM9RTmQkW9Enn/+eUuPczvQ+oBSvO6668LAgQOTLbUz99xzV4vQP/30U4vm11lnnWTLrPcsuOCCyTMhZlEOeWXbG2+8YdFdmzZtwiWXXBK+//775NX8cBObxx57LDz44IN2H25RXsj+nXrqqeGqq66q87X/7bffwnPPPRdWW201CyxYdpzS4C677BLWXHNNi9px1Agw1lprrfDXv/7V3iPKh4x8I4HwDx482GpQ9Y2YGRyDBg2qSrPXBwbZuuuuG5ZffvlkixCzUy55nWeeeUz+DjjggNC2bdtka2G4L8Vtt92WPBPlZvHFFw8PPPBAuOeee+qsa3799Ve7c9waa6yRbAlh2WWXtXvzkzHE4K+44orm+J155plh6aWXTt4lyoWMfCNBmvzjjz82BVdfpfnll1+Gn376ybzk+pCvHi9EPsolr2SNMCKUkYq5OQ1p+scffzwceOCByRbRGCy00EJhgQUWSJ4Vz/zzzx9WWmmlMGXKlGRLsGwAhh64NXi/fv2sR0g3FGscZORLCMI8duzYMGHChKpGEzxbalBMY6MWToqKdFhuIwpdqOyLF5yug5Gq9DrWiBEjTOkuvPDCti33Xtwcg/oXtTQ+N5d89XjRPHG5Qla4I5zLXGPKa23wfmq3GISVV1452SqKAefo3XffNScrTbqbnetG7Z33OjXth1wgE/5ejpFP1+AYcM2J3DHoQPbQHT1KNR988EE4+uijpYMaCRn5EoDA00l61113hSWWWMKE/uKLLzZBx+Aj1E899ZTNTaem+N5771nHO6DIXnzxRWtSIdL+5JNPwlFHHRX22msvU7KuTEeNGhVee+01S7OjWNmWnp7C4DnjjDNsEOI133zzzfZ+oOZJfZU58a+//nrVsaiPiuYHMnLllVda0xvyhIzyHLltLHkths8//9wiwh133DHZIoqB35qudn47rs0333xj2zHcdLP36tXLnr/yyiths802s/dCof3oreD6HnTQQSY3N954o5V0CBzY9tlnn9l7gX1xHMkEYeC5jjTXoQ8pu1DvJ5sjGgcZ+RLw9ttvh+HDh5viw8DiHQ8bNswGAPPPt912W1Nw22+/fWjdunVo2bJlWGqppWxfBhrz1c8991xbsIbXUK54uaQ0aZpjfxrlULT77befvYdt3lBHpPW3v/3NPh8vGuP99NNPm8IGPmuPPfYIvXv3NiXdo0cPq41pylzz5NlnnzWZOfzww60mivzi/GHQG0NeiwGHg7owHdiF1m/A0PTt29ccAR44KzizvsjTVlttZY4I9O/fP/Tp0ye8/PLL5vRiuDBAWYKxjxHm2nJNiLY9KkcfcK0333xze7711luHI444wn7DQvvh9HE9eXz77bfhmWeeCV27drUsD8ab99M576ADMebsz7EJeOjFuPvuu6vS9HweMkcDJlPpHKL/Sy+9NOy///7W+HfZZZeFDTbYIOy77752Ta+44gqTpYcfftjej+NAcIXT0a1bN3MuPWPEXxxU9uFas49nHQh8WDcE2T3ssMPsfQ7ncN9991nGk8/kO0Ohz8KhRVaRReTLH2RFPKMxp6jo1U+4EHXpJC+GPffc04SmlODFutfKwEEIqTutvfba9rrXNxlQ6fomnjJKiXOiTg4IP9+bgZj2dgvV4/G8aU566623bOAxyG666Sb7vygMvzeKv5Rst912VesSVCKkXZFHIjNkFOVEJE4WCsotr8VAHZ5xRJNWIagBY5hwsjFCF110kRkdwGnp3r27vQdoBKTzm5QyDsrxxx9f7/OrVCiLcB1xylgEi+tCjRww8vTirL766vac7ne63nGi0vu9+uqr1fbDyBHx8/thtLt06VI1JRfDR9ROSSYNrxNIOFwf5A69hNEjKOHacu3Igu69994mizgXZEZx8DgGWSAcMj6TZk2gqQ+HEvlievCxxx5r34PSATJ7yy23hN122y2MGTMm9OzZ0xwOvhtGHvm9/PLL7XuSUeDz+F6rrLKKHRtwcNGpGHTvG6jts/htkX/GAg+Mv2dX5/TsgYqP5BGqUj7KAQqdRhUiCYTnggsuMENLkxGg8HgQVaQZPXq0Rfw77bRTlSB43XzTTTet2obA4DWybdVVV7VtaRDQVq1ahRNOOMEWtSFqx2P1gSgKk09OGvKodHbddVdTSji7yCnKjLS6G8dyy2ttcG5kw3beeedkS2EwMihdxiHfASPBdeD/jAHGJvB/viuZDKK7rBl4WGaZZULHjh3D5MmTzbCik/jeGFaMjl9zB+NF9sb347fEEfL94JBDDgnrrbde3mvKlFz0HBnEmsBJ+Pvf/x7OPvtsM4REzTggyCHZHbJF9F4gN2QaMJr+2fmm/HJdMdpkB/g+Hp1zLJxSjCzfF0cRZ5SufvbZZJNNLBBCXv39OA5E4cg2IDsEaMh4ujGw0GcBmTGie6ac8iAL1q5du6JluJxUdCSPwTz//POTZ5ULETOpGYSHWibeKobXowoifLzn3GlrCDuC5J41INR4xww8h4Y+tuPpusJKQ2RCnQ3hGjlypNXj8VZJhfEb4kG7B8pzzueFF16w+hyDhZQlwko6DcFlTjKeLAqcVCsPT5migJmvzIBEWaAA8KoZiI8++qilt5ZbbjlLuaWNAXVcpsyQduNc+M1o/GGAkeoj6mI/PHuOx2Di+/B/Ijof9LDRRhvZ9ygFDNamIGOlhAgLo0gadsiQISY7yBZKCcotr7WBkUEO77///mRLMLkm/c/58vnIka/t4Ol4j8ZQ7kSWOLvMw3eQ2YkTJ5q8c3ycgqzOMvHrQmYRMOZcc669R92MWcZ92mgz+wYwwGn8mqZn5hDxovcYn+lIOI0bTYydL3pD1pFz8DFNypxrw5jfZ599zKA6yCIORFoW0TnoIx6UjYD9MdQ4I5w7+gRdhQPhkNHhe+B0uFPC70MWC1kju0NJhyxG2sADOramzwIWE3PobSD7QFkL/T+nUU2+ASDApJ24wAgVgnP66afbAg88x4gRUTC4EBwME+lN0lOkx4Bt6TQnniZeK93ECB6CilCSPmUwYTRJYWHAgdQa6VYUNkaS/2Pg+VxvdCp27XrOlzoYgkmaibob9XsEHzgXUlYMMgwj3/ess84yBcKgpWOWaIDvjuJwA8/vRN2NzyFd5mUE+gZIoXXu3NnOheiR34/GMI6Bo8GAZ6ATRQwdOtQcifpM7RGzGu7IMhHFAoqM68h8dZQflFteiwF5QK4YR/4gdUyWiql01FDdwKNwOV/Om7rrMcccY05L2hFxOG9kkdQwx0Ne3UHIGowZ0tpe7mAskZr2Mgvg8BDB40gD8kFdHucHo0r0zfUEz5akZ+Ywpqmr48zz+xNccIw0OPEEP8iY78e5EF3jaAHGmvGOrOF0ewYUJyTflF+MtQcdQJBw66232rkTSCCjnnJPg8OJniI973BcZIrsDvsi94Wi73yflYbvwDgglV8pekpGvgGg+EhfojAQTkBY8aDxDlFwCD1CjkFEqIlIEHAGFh5sGjxAIhWUJkJKrZ/3ojQxpKQXUVIIGAoU8KQ5ritej1aomxJpk0YiAvIacb6Bg3FHgaI4McB8Btv4Tjx8sBD9cz5eq+M7MdBxMIBBjOfMufK7cC48yAzQ4MVrac+W8+N34LvyWzEo+O14ToSx++67W0YARwRHiveTHUlH9aJ4UPI4hURdHi1xrVDQZGug3PJaavgcMgzt27c3o4SBR0mnU9IOGSQMPEaEc8Mpfuihh0xGswbGOw26inHshofrgmFLR7r0XDCWaZZkCiSZPI+g0SnotnSJg5IKskNZx4OM9NhEDrgmjN20kWblO5wHjgc4mFyDXKPopaDapvwSgbNsLtce/UCmMR8YYB5pBwHQhfxeyAYOSyFq+yxkEZ1YU2ZjTiAj3wBIdRM5oAwxTnjPpKtJE7qwYDwxuAwwIlciHKacwKGHHmp1HjqWMda8TjMQhpmIlWYXPE+UKEqSgXH77bdbXYxUKJDeJopiH5Q4KXcGJE0lGE6Uc7Fr1zPIUIR8J/ZFYFEGRE7UuNiPyMAHI4MF75jtDsaBbMKgQYNMaXhqP9fAA8qBxig+nxoijTJ8Ng4LxyErAJwDU3uoc+VT3qI4UK5EGIA8EpWQXTnppJPs94ZyyyvOAJEO2QTKWsgYKXXGDTXjXNjGe3EUMCo0UnFMzzwgNzgXXo9Hdujm5jzSkKJHtnO76RkzGKqs4U4+1wVHjTKiGyV+A35DUtVpo42h4xoybsm8EOF68ELGJrcejyHjuvJ+ZIkSisOYzU3TO2SQOC56Cjzo8AZJh/JAbj0+DdkFPgOdBuhjZBznBfi/fwZwLB65fSIEFDh+PlMgH4U+K529IHOBPq5PmapsxAq4bMSeWtSlS5coVtZR/EMkW7NH7B1GsaBEsQBEsTFMtv5BHBVHcTQdxQKWbPkD3s9+6df4P+9nP2fGjBn2Pj4rFz8G55Dv9TTPPfdcFAtzFEdhyZbZGTduXBQrgaht27bR0KFD7fh+LWOjnLzrj+ub3gajRo2K4gggiqOrKDb21b5HLnzPWOlHsVNix4mVd/LKH4wePdpeixVHsiWbcP1iZyjq379/sqXuDBw4sNbry3Xjs3JlzCm3vJaSIUOGRLHxMZktROyAR6effrqdE3C+7dq1i+JI057n4rLdrVu3gvI7J3A5qe3c/DrynV0v+bWv6brUdN3Yj0cubEsf34kNd9SpU6do2rRpyZbqxI5HdNppp0UDBgyIYkcz77iPo+WoTZs29h3ywbVH1mNH0Z7/9NNPUYcOHaJzzz3Xzp9re8EFF1TpjdhRiWJHJIoNtj130HWFPgdq+yxwmcnVh/koxVgvFkXyJYBInmiUKMLrSWnwDomo83l3vJ/90q/xf96f9iqJmnkfn5WLH4NzyPd6mnyNLLnweiysFj0Tkd9www1553rirceCPVv6Cw+XTlY8Y6K/mrxj4HsSXdLbQLqPZkCyIk48gCyq8PquaDhkYpCVXBlzyi2vpYDoiWwCU63IDtCVTe2/JpBpGjbZh6iMNDI1a89sZBG/jlwH10t+7Wu6LjVdN/bzDF4atqWP7/giO+k0fRrGM2Oe8U45zjON6BnmlrNuPr1AZAloxMx3benCp1mUGjulAWQBuaCXiPNH96A/6Nz3vhCa51z3xc6JZTrYL3ZUTYZ4fz5q+ywgI0RmKFcfznESY18W3LPJeiTfVHDvs6YI4Mcff4z69esXTZw4MdkSmVfaqlWraPLkydFVV10VxUId/frrr/aae6OxwNtzh6iK6Gr48OHJltnBuyZL8Morr1Sdy4gRIyiORsOGDbPnMGHCBPO+C0WmWaEU3n0xkXxzhqwDv3O+LEUa111NOZJvLvg1zc0mgWeeeJ1r2lAKfRbwejGf49dQkbwoKXiuhRpZeI0OfKbcAV4101qo1eGx03RCLZT1r4H/cxwipDTUwfDMc2tfadgXT52pJn48sgLsQ6Th4BnzyHe+QtQVsg7IV74shWia+DXNl5lKZznzZSLqSqHPAl4vxeeUkkYx8qTTMDB0bPoDJS8ah9hrLGrtehprmDpHOooHaS7mg5LiIu3GAhnMDSWFT8pzwIAB1ihHMxaQviK1xoIj/J+0W+zZ2mu5MEiYgkIKHqeATm1WpmL6X9pp8PRX1lL1cRRgDWvpMcFzSiANhWPEkcZsx+YzxezEwY51n6d/L/QVequSIT2cq1d9sRZROZRzrBfFrIC+PHjKi4/JfSjVVLlw3UgnkebKbajhmpGq4vXaUp7F4I0+HM8bWNLwOp+Xex5NHU/X5RsbDU3X5zvm7rvvHk2ZMiV5l0jT1PRUuWRHlIc5fb3m4p/4w8oCh2Yeaz6PheiM6FBpWNEcwbsneuRvLkwvqm86mUiOskcupC2ZVlZxTUEVQFPTU+WSHVEe5vT1KquRF0IIIcScQ413QgghREaRkRdCCCEyioy8EEIIkVFk5IUQQoiMIiMvhBBCZBQZeSGEECKjyMgLIYQQGUVGXgghhMgoMvJCCCFERpGRF0IIITKKjLwQQgiRUWTkhRBCiIwiIy+EEEJkFBl5IYQQIqPIyAshhBAZRUZeCCGEyCgy8kIIIURGkZEXQgghMoqMvBBCCJFRZOSFEEKIjCIjL4QQQmQUGXkhhBAio8jICyGEEBlFRl4IIYTIKDLyQgghREaRkRdCCCEyioy8EEIIkVFk5IUQQoiMIiMvhBBCZBQZeSGEECKjyMgLIYQQGUVGXgghhMgoMvJCCCFERpGRF0IIITKKjLwQQgiRUWTkhRBCiEwSwv8DAN2sHWi7mrEAAAAASUVORK5CYII=)\n"
      ]
    },
    {
      "cell_type": "code",
      "metadata": {
        "id": "JK1CiRpF4Rl9",
        "colab": {
          "base_uri": "https://localhost:8080/"
        },
        "outputId": "2739515f-bd91-48c1-b7c6-a58304ab505e"
      },
      "source": [
        "i = 0\r\n",
        "while i < abbreviated_final_guards.num_rows//3-1:\r\n",
        "  A_row = make_array()\r\n",
        "  test_row = make_array()\r\n",
        "  count = 0\r\n",
        "  while count < 3:\r\n",
        "    if i in random_indices:\r\n",
        "      test_row = np.append(test_row,list(abbreviated_final_guards.rows[3*i+count][3:]))\r\n",
        "    else:  \r\n",
        "      A_row = np.append(A_row,list(abbreviated_final_guards.rows[3*i+count][3:]))\r\n",
        "\r\n",
        "    count+=1\r\n",
        "  count = 0\r\n",
        "  while count < 5:\r\n",
        "    if i in random_indices:\r\n",
        "      test_row = np.append(test_row,list(abbreviated_final_forwards.rows[5*i+count][3:]))\r\n",
        "    else:  \r\n",
        "      A_row = np.append(A_row,list(abbreviated_final_forwards.rows[5*i+count][3:]))\r\n",
        "    count+=1\r\n",
        "  A_row = np.append(A_row,1)\r\n",
        "  test_row = np.append(test_row,1)\r\n",
        "  season = abbreviated_final_guards.column(\"Year\").item(i*3)\r\n",
        "  team = abbreviated_final_guards.column(\"Tm_2\").item(i*3)\r\n",
        "\r\n",
        "  if len(A)==0 and i not in random_indices:\r\n",
        "    A = make_array(A_row)\r\n",
        "  elif len(test_set) == 0 and i in random_indices:\r\n",
        "    test_set = make_array(test_row)\r\n",
        "  elif i not in random_indices:\r\n",
        "    A = np.vstack([A,A_row])\r\n",
        "  else:\r\n",
        "    test_set = np.vstack([test_set,test_row])\r\n",
        "  winrate = year_sorted_records.where(\"Season\",season).where(\"Team\",team).column(\"W/L%\").item(0)\r\n",
        "  if i not in random_indices:\r\n",
        "    B = np.append(B,winrate)\r\n",
        "  else:\r\n",
        "    test_set_teams = np.append(test_set_teams,team)\r\n",
        "    test_set_seasons = np.append(test_set_seasons,season)\r\n",
        "    test_set_actual_winrates = np.append(test_set_actual_winrates,winrate)\r\n",
        "  i+=1\r\n",
        "\r\n",
        "print(A)\r\n",
        "print(B)"
      ],
      "execution_count": null,
      "outputs": [
        {
          "output_type": "stream",
          "text": [
            "[[13.          0.54        3.4        ...  0.271       1.\n",
            "   1.        ]\n",
            " [16.5         0.513       4.7        ...  0.373       1.41421356\n",
            "   1.        ]\n",
            " [16.          0.508       3.6        ...  0.264       1.73205081\n",
            "   1.        ]\n",
            " ...\n",
            " [ 9.3         0.424       6.7        ...  0.248       0.\n",
            "   1.        ]\n",
            " [14.          0.508       6.9        ...  0.299       1.\n",
            "   1.        ]\n",
            " [13.2         0.549       5.1        ...  0.314       0.\n",
            "   1.        ]]\n",
            "[0.512 0.524 0.488 0.415 0.61  0.695 0.61  0.634 0.5   0.524 0.463 0.524\n",
            " 0.695 0.512 0.561 0.683 0.61  0.62  0.341 0.305 0.402 0.427 0.341 0.159\n",
            " 0.366 0.451 0.573 0.646 0.537 0.606 0.537 0.463 0.732 0.585 0.768 0.683\n",
            " 0.756 0.768 0.817 0.72  0.695 0.512 0.634 0.622 0.585 0.39  0.427 0.402\n",
            " 0.183 0.439 0.38  0.427 0.439 0.598 0.537 0.439 0.549 0.402 0.293 0.805\n",
            " 0.756 0.61  0.683 0.591 0.506 0.305 0.488 0.585 0.598 0.537 0.463 0.256\n",
            " 0.22  0.317 0.402 0.39  0.427 0.537 0.415 0.106 0.256 0.524 0.244 0.232\n",
            " 0.317 0.378 0.537 0.5   0.61  0.5   0.659 0.622 0.52  0.598 0.561 0.537\n",
            " 0.341 0.329 0.463 0.366 0.488 0.61  0.573 0.671 0.744 0.817 0.695 0.671\n",
            " 0.573 0.878 0.841 0.756 0.26  0.207 0.256 0.366 0.28  0.573 0.5   0.598\n",
            " 0.402 0.5   0.5   0.756 0.758 0.549 0.585 0.61  0.512 0.402 0.585 0.183\n",
            " 0.28  0.341 0.439 0.354 0.512 0.695 0.512 0.402 0.695 0.659 0.573 0.524\n",
            " 0.573 0.512 0.44  0.39  0.366 0.354 0.207 0.427 0.512 0.61  0.61  0.549\n",
            " 0.805 0.744 0.232 0.318 0.293 0.402 0.646 0.695 0.341 0.463 0.537 0.537\n",
            " 0.671 0.646 0.463 0.573 0.341 0.268 0.134 0.159 0.439 0.317 0.293 0.244\n",
            " 0.38  0.488 0.646 0.695 0.732 0.634 0.707 0.732 0.817 0.622 0.61  0.671\n",
            " 0.695 0.545 0.5   0.598 0.61  0.512 0.561 0.549 0.463 0.634 0.573 0.451\n",
            " 0.659 0.537 0.524 0.244 0.293 0.439 0.512 0.5   0.427 0.256 0.134 0.28\n",
            " 0.427 0.488 0.329 0.207 0.524 0.598 0.537 0.549 0.61  0.659 0.646 0.61\n",
            " 0.576 0.695 0.439 0.366 0.402 0.476 0.451 0.598 0.561 0.561 0.634 0.659\n",
            " 0.768 0.72  0.61  0.585 0.488 0.244 0.341 0.561 0.659 0.451 0.58  0.512\n",
            " 0.39  0.61  0.61  0.659 0.659 0.78  0.646 0.72  0.476 0.329 0.366 0.379\n",
            " 0.354 0.354 0.39  0.537 0.549 0.366 0.451 0.366 0.512 0.244 0.524 0.451\n",
            " 0.537 0.671 0.415 0.61  0.317 0.439 0.366 0.232 0.42  0.232 0.207 0.256\n",
            " 0.463 0.451 0.415 0.415 0.512 0.585 0.354 0.317 0.439 0.348 0.573 0.622\n",
            " 0.817 0.89  0.561 0.171 0.354 0.622 0.512 0.561 0.549 0.5   0.634 0.512\n",
            " 0.707 0.573 0.585 0.695 0.5   0.415 0.549 0.341 0.524 0.549 0.622 0.415\n",
            " 0.634 0.646 0.512 0.524 0.515 0.549 0.659 0.683 0.5   0.427 0.317 0.5\n",
            " 0.463 0.341 0.512 0.5   0.488 0.5   0.573 0.634 0.634 0.476 0.707 0.66\n",
            " 0.683 0.5   0.512 0.585 0.744 0.537 0.5   0.427 0.439 0.439 0.39  0.451\n",
            " 0.636 0.605 0.683 0.463 0.549 0.366 0.549 0.463 0.378 0.39  0.146 0.256\n",
            " 0.366 0.378 0.549 0.5   0.329 0.207 0.354 0.439 0.207 0.183 0.378 0.476\n",
            " 0.329 0.341 0.451 0.573 0.488 0.28  0.232 0.354 0.39  0.606 0.683 0.695\n",
            " 0.683 0.646 0.695 0.707 0.756 0.756 0.793 0.756 0.695 0.768 0.707 0.524\n",
            " 0.476 0.402 0.585 0.646 0.683 0.744 0.62  0.817 0.683 0.707 0.61  0.683\n",
            " 0.415 0.549 0.512 0.695 0.793 0.695 0.695 0.621 0.549 0.329 0.256 0.207\n",
            " 0.28  0.341 0.61  0.549 0.598 0.268 0.268 0.293 0.488 0.561 0.621 0.683\n",
            " 0.61  0.671 0.512 0.22  0.293 0.463 0.439 0.512 0.39  0.512 0.744 0.671\n",
            " 0.66  0.634 0.61  0.439 0.305 0.512 0.72  0.634 0.537 0.183 0.524 0.573\n",
            " 0.707 0.697 0.805 0.659 0.451 0.585 0.671 0.622 0.61  0.72  0.695 0.61\n",
            " 0.512 0.598 0.537 0.585 0.378 0.244 0.415 0.305 0.439 0.56  0.512 0.634\n",
            " 0.5   0.512 0.5   0.366 0.488 0.341 0.317 0.415 0.561 0.427 0.47  0.463\n",
            " 0.183 0.5   0.402 0.354 0.183 0.244 0.256 0.317 0.549 0.5   0.61  0.573\n",
            " 0.61  0.622 0.707 0.537 0.402 0.39  0.268 0.293 0.207 0.394 0.378 0.488\n",
            " 0.195 0.354 0.537 0.598 0.549 0.512 0.476 0.293 0.232 0.317 0.207 0.317\n",
            " 0.488 0.524 0.549 0.366 0.366 0.317 0.524 0.32  0.378 0.317 0.598 0.573\n",
            " 0.512 0.598 0.5   0.415 0.415 0.146 0.293 0.333 0.573 0.5   0.22  0.683\n",
            " 0.598 0.451 0.561 0.318 0.329 0.463 0.476 0.415 0.549 0.366 0.402 0.573\n",
            " 0.293 0.28  0.293 0.463 0.634 0.549 0.476 0.732 0.695 0.671 0.573 0.695\n",
            " 0.524 0.54  0.61  0.585 0.366 0.451 0.476 0.402 0.28  0.402 0.28  0.39\n",
            " 0.354 0.512 0.545 0.659 0.451 0.207 0.39  0.28  0.61  0.671 0.712 0.732\n",
            " 0.72  0.549 0.671 0.22  0.378 0.256 0.5   0.61  0.695 0.732 0.549 0.5\n",
            " 0.66  0.5   0.524 0.537 0.512 0.256 0.439 0.439 0.488 0.634 0.72  0.72\n",
            " 0.634 0.561 0.244 0.28  0.305 0.427 0.707 0.793 0.634 0.707 0.659 0.549\n",
            " 0.439 0.561 0.646 0.537 0.427 0.317 0.305 0.293 0.22  0.268 0.378 0.56\n",
            " 0.598 0.683 0.524 0.585 0.402 0.524 0.463 0.427 0.488 0.5   0.329 0.5\n",
            " 0.53  0.415 0.232 0.122 0.561 0.646 0.5   0.439 0.39  0.341 0.671 0.659\n",
            " 0.671 0.646 0.756 0.683 0.72  0.5   0.488 0.683 0.54  0.646 0.622 0.439\n",
            " 0.537 0.354 0.756 0.659 0.744 0.671 0.561 0.659 0.488 0.5   0.305 0.585\n",
            " 0.476 0.28  0.512 0.561 0.585 0.488 0.598 0.646 0.476 0.72  0.768 0.695\n",
            " 0.622 0.573 0.537 0.598 0.561 0.7   0.72  0.61  0.598 0.61  0.5   0.329\n",
            " 0.256 0.39  0.5   0.61  0.585 0.424 0.402 0.659 0.622 0.537 0.451 0.354\n",
            " 0.293 0.329 0.28  0.305 0.354 0.305 0.341 0.476 0.476 0.415 0.329 0.54\n",
            " 0.537 0.671 0.744 0.72  0.671 0.61  0.537 0.402 0.463 0.207 0.305 0.293\n",
            " 0.333 0.341 0.341 0.354 0.402 0.585 0.646 0.5   0.427 0.341 0.378 0.256\n",
            " 0.671 0.573 0.598 0.671 0.756 0.72  0.244 0.683 0.74  0.646 0.707 0.707\n",
            " 0.732 0.695 0.72  0.768 0.707 0.683 0.659 0.61  0.744 0.758 0.707 0.756\n",
            " 0.671 0.817 0.207 0.305 0.366 0.634 0.585 0.512 0.378 0.476 0.537 0.573\n",
            " 0.5   0.5   0.573 0.671 0.695 0.78  0.695 0.744 0.5   0.549 0.537 0.549\n",
            " 0.488 0.451 0.634 0.427 0.378 0.244 0.366 0.195 0.46  0.549 0.573 0.512\n",
            " 0.293 0.402 0.402 0.329 0.573 0.5   0.402 0.488 0.268 0.348 0.415 0.585\n",
            " 0.598 0.683 0.305 0.366 0.549 0.5   0.512 0.537 0.573 0.622 0.671 0.659\n",
            " 0.671 0.573 0.646 0.732 0.671 0.78  0.756 0.74  0.671 0.646 0.537 0.573\n",
            " 0.512 0.317 0.5   0.622 0.659 0.585 0.646 0.476 0.545 0.524 0.305 0.463\n",
            " 0.488 0.183 0.171 0.232 0.268 0.28  0.512 0.36  0.354 0.232 0.451 0.451\n",
            " 0.305 0.549 0.512 0.5   0.524 0.232 0.317 0.28  0.303 0.354 0.537 0.561\n",
            " 0.5   0.512 0.427 0.488 0.476 0.512 0.463 0.488 0.378 0.366 0.305 0.268\n",
            " 0.293 0.256 0.476]\n"
          ],
          "name": "stdout"
        }
      ]
    },
    {
      "cell_type": "markdown",
      "metadata": {
        "id": "LhDl_fPvjlmo"
      },
      "source": [
        "Performing least squares to yield the solution $x$ vector that we denote as params\n",
        "\n",
        "![Screen Shot 2021-01-19 at 8.36.07 PM.png](data:image/png;base64,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)"
      ]
    },
    {
      "cell_type": "code",
      "metadata": {
        "id": "WcKJLTfQE1l8",
        "colab": {
          "base_uri": "https://localhost:8080/"
        },
        "outputId": "d20993a9-ce42-43ea-d338-15a1a0ef15c2"
      },
      "source": [
        "def doLeastSquares(A,b):\r\n",
        "    x = np.dot(np.dot(np.linalg.inv(np.dot(np.transpose(A),A)),np.transpose(A)),b)\r\n",
        "    return x;\r\n",
        "params = doLeastSquares(A,B)\r\n",
        "print(params)"
      ],
      "execution_count": null,
      "outputs": [
        {
          "output_type": "stream",
          "text": [
            "[ 6.78374101e-03 -3.59572241e-02  3.94345304e-03 -5.72111296e-04\n",
            " -7.99033549e-03 -4.26829054e-03  1.40722632e-03 -3.40442847e-03\n",
            "  1.13416978e-01  1.33685000e-03 -1.54747415e-02  9.18351797e-03\n",
            "  1.13395229e-03  2.84972887e-01  4.12725927e-03  8.33074045e-04\n",
            "  9.53297547e-03  1.21448820e-02 -1.13732921e-03 -1.48580884e-03\n",
            " -1.11100533e-01  1.48529838e-03  8.09396972e-03  5.30626695e-03\n",
            "  3.36903448e-03 -1.70809931e-01 -4.94652754e-03 -1.99352409e-03\n",
            " -2.53740218e-03  1.04371856e-02  5.88002353e-03 -1.45214336e-03\n",
            "  2.33793934e-01  1.05420374e-02 -6.77313529e-02  6.89501289e-03\n",
            " -1.35103739e-03 -2.23015275e-01 -2.50415632e-04  1.11133353e-03\n",
            " -9.50528378e-03  1.87611802e-03  2.19084212e-03  2.25339745e-03\n",
            "  2.95779531e-01  8.18014339e-03  4.70279209e-02  1.29293065e-03\n",
            " -1.43329557e-02  3.49243873e-02  1.32350464e-03  1.27728133e-03\n",
            " -3.90624731e-03  8.88239054e-03 -3.20093890e-03  5.62120059e-03\n",
            "  6.25233526e-01  1.39434537e-02 -1.39929426e-04  7.29748333e-03\n",
            " -2.85338489e-03  9.70092104e-02  1.96962600e-03 -1.73256243e-04\n",
            " -2.68128918e-03  2.40360881e-03 -1.01539038e-03  2.16506784e-03\n",
            "  1.22519800e-01  9.81900120e-03 -2.53560511e-02  1.07596728e-02\n",
            "  7.45729698e-03 -1.85160196e-01 -4.59115836e-03 -1.49024896e-03\n",
            " -4.60365427e-03  2.24906984e-03  4.98058977e-04 -1.99097787e-03\n",
            " -1.22439619e-01  5.98805284e-03  4.44373505e-02  9.66465525e-03\n",
            "  8.11538362e-04 -3.63582419e-01 -1.93576003e-04  1.37218911e-04\n",
            " -1.31914269e-02  1.16313130e-04  8.40281369e-04 -2.81954993e-04\n",
            "  2.93523699e-01  9.19961604e-03  3.97288533e-02  1.04448549e-02\n",
            "  5.11844002e-01]\n"
          ],
          "name": "stdout"
        }
      ]
    },
    {
      "cell_type": "markdown",
      "metadata": {
        "id": "UUh8c48jkGk5"
      },
      "source": [
        "# Part 3: Testing the Model and Obtaining Results"
      ]
    },
    {
      "cell_type": "markdown",
      "metadata": {
        "id": "B79sAUB1BnVt"
      },
      "source": [
        "Below, you can see the results from predicting the 2016-17 season. We defined an \"Accurate\" prediction as when the absolute difference between the actual and predicted winrates was within 10%. Below the table, you'll find the accuracy rate and some other insights. "
      ]
    },
    {
      "cell_type": "code",
      "metadata": {
        "colab": {
          "base_uri": "https://localhost:8080/",
          "height": 1000
        },
        "id": "_6eQpipe83ID",
        "outputId": "3cfe3e4e-b9fd-47ea-d0f8-38b33a5f720e"
      },
      "source": [
        "predictions = make_array()\r\n",
        "for i in range(len(test_set)):\r\n",
        "  predictions = np.append(predictions,np.dot(params,test_set[i]))\r\n",
        "diffs = Table().with_columns(\"Season\",test_set_seasons,\"Team\",test_set_teams,\"Actual\",test_set_actual_winrates,\"Predicted\",predictions,\"Actual - Predicted\",test_set_actual_winrates-predictions,\"(Actual-Predicted)/Predicted\",(predictions-test_set_actual_winrates)/test_set_actual_winrates)\r\n",
        "accurate_diffs = diffs.with_columns(\"Accurate\",abs(diffs.column(\"Actual - Predicted\"))<.1)\r\n",
        "outliers = accurate_diffs.with_columns(\"Accurate\",abs(diffs.column(\"Actual - Predicted\"))<.15).where(\"Accurate\",False)\r\n",
        "\r\n",
        "accurate_diffs.sort(\"Actual\",descending=True).sort(\"Season\").show(100)\r\n",
        "print(\"Overall Accuracy Rate:\" + str(np.count_nonzero(accurate_diffs.column(\"Accurate\"))/accurate_diffs.num_rows))\r\n",
        "print(\"Average (Actual-Predicted)/Predicted:\" + str(np.average(abs(accurate_diffs.column(\"(Actual-Predicted)/Predicted\")))))\r\n",
        "print(\"Average Actual - Predicted:\" + str(np.average(abs(accurate_diffs.column(\"Actual - Predicted\")))))\r\n",
        "print(\"Very inaccurate: \" + str(outliers.num_rows))\r\n"
      ],
      "execution_count": null,
      "outputs": [
        {
          "output_type": "display_data",
          "data": {
            "text/html": [
              "<table border=\"1\" class=\"dataframe\">\n",
              "    <thead>\n",
              "        <tr>\n",
              "            <th>Season</th> <th>Team</th> <th>Actual</th> <th>Predicted</th> <th>Actual - Predicted</th> <th>(Actual-Predicted)/Predicted</th> <th>Accurate</th>\n",
              "        </tr>\n",
              "    </thead>\n",
              "    <tbody>\n",
              "        <tr>\n",
              "            <td>2017  </td> <td>Golden State Warriors </td> <td>0.817 </td> <td>0.885325 </td> <td>-0.0683254        </td> <td>0.0836296                   </td> <td>True    </td>\n",
              "        </tr>\n",
              "        <tr>\n",
              "            <td>2017  </td> <td>San Antonio Spurs     </td> <td>0.744 </td> <td>0.738246 </td> <td>0.00575431        </td> <td>-0.00773429                 </td> <td>True    </td>\n",
              "        </tr>\n",
              "        <tr>\n",
              "            <td>2017  </td> <td>Houston Rockets       </td> <td>0.671 </td> <td>0.47001  </td> <td>0.20099           </td> <td>-0.299538                   </td> <td>False   </td>\n",
              "        </tr>\n",
              "        <tr>\n",
              "            <td>2017  </td> <td>Boston Celtics        </td> <td>0.646 </td> <td>0.569624 </td> <td>0.0763755         </td> <td>-0.118228                   </td> <td>True    </td>\n",
              "        </tr>\n",
              "        <tr>\n",
              "            <td>2017  </td> <td>Utah Jazz             </td> <td>0.622 </td> <td>0.593008 </td> <td>0.0289919         </td> <td>-0.0466108                  </td> <td>True    </td>\n",
              "        </tr>\n",
              "        <tr>\n",
              "            <td>2017  </td> <td>Toronto Raptors       </td> <td>0.622 </td> <td>0.534334 </td> <td>0.0876657         </td> <td>-0.140942                   </td> <td>True    </td>\n",
              "        </tr>\n",
              "        <tr>\n",
              "            <td>2017  </td> <td>Los Angeles Clippers  </td> <td>0.622 </td> <td>0.578111 </td> <td>0.0438888         </td> <td>-0.0705608                  </td> <td>True    </td>\n",
              "        </tr>\n",
              "        <tr>\n",
              "            <td>2017  </td> <td>Cleveland Cavaliers   </td> <td>0.622 </td> <td>0.675228 </td> <td>-0.0532279        </td> <td>0.0855754                   </td> <td>True    </td>\n",
              "        </tr>\n",
              "        <tr>\n",
              "            <td>2017  </td> <td>Washington Wizards    </td> <td>0.598 </td> <td>0.346296 </td> <td>0.251704          </td> <td>-0.420909                   </td> <td>False   </td>\n",
              "        </tr>\n",
              "        <tr>\n",
              "            <td>2017  </td> <td>Oklahoma City Thunder </td> <td>0.573 </td> <td>0.54245  </td> <td>0.03055           </td> <td>-0.0533158                  </td> <td>True    </td>\n",
              "        </tr>\n",
              "        <tr>\n",
              "            <td>2017  </td> <td>Memphis Grizzlies     </td> <td>0.524 </td> <td>0.572609 </td> <td>-0.0486088        </td> <td>0.0927648                   </td> <td>True    </td>\n",
              "        </tr>\n",
              "        <tr>\n",
              "            <td>2017  </td> <td>Atlanta Hawks         </td> <td>0.524 </td> <td>0.521395 </td> <td>0.00260523        </td> <td>-0.00497182                 </td> <td>True    </td>\n",
              "        </tr>\n",
              "        <tr>\n",
              "            <td>2017  </td> <td>Milwaukee Bucks       </td> <td>0.512 </td> <td>0.462486 </td> <td>0.0495143         </td> <td>-0.0967076                  </td> <td>True    </td>\n",
              "        </tr>\n",
              "        <tr>\n",
              "            <td>2017  </td> <td>Indiana Pacers        </td> <td>0.512 </td> <td>0.391765 </td> <td>0.120235          </td> <td>-0.234834                   </td> <td>False   </td>\n",
              "        </tr>\n",
              "        <tr>\n",
              "            <td>2017  </td> <td>Portland Trail Blazers</td> <td>0.5   </td> <td>0.484189 </td> <td>0.0158113         </td> <td>-0.0316225                  </td> <td>True    </td>\n",
              "        </tr>\n",
              "        <tr>\n",
              "            <td>2017  </td> <td>Miami Heat            </td> <td>0.5   </td> <td>0.410544 </td> <td>0.0894563         </td> <td>-0.178913                   </td> <td>True    </td>\n",
              "        </tr>\n",
              "        <tr>\n",
              "            <td>2017  </td> <td>Chicago Bulls         </td> <td>0.5   </td> <td>0.562821 </td> <td>-0.0628212        </td> <td>0.125642                    </td> <td>True    </td>\n",
              "        </tr>\n",
              "        <tr>\n",
              "            <td>2017  </td> <td>Denver Nuggets        </td> <td>0.488 </td> <td>0.491779 </td> <td>-0.0037791        </td> <td>0.00774407                  </td> <td>True    </td>\n",
              "        </tr>\n",
              "        <tr>\n",
              "            <td>2017  </td> <td>Detroit Pistons       </td> <td>0.451 </td> <td>0.395533 </td> <td>0.0554673         </td> <td>-0.122987                   </td> <td>True    </td>\n",
              "        </tr>\n",
              "        <tr>\n",
              "            <td>2017  </td> <td>Charlotte Hornets     </td> <td>0.439 </td> <td>0.555363 </td> <td>-0.116363         </td> <td>0.265064                    </td> <td>False   </td>\n",
              "        </tr>\n",
              "        <tr>\n",
              "            <td>2017  </td> <td>New Orleans Pelicans  </td> <td>0.415 </td> <td>0.470097 </td> <td>-0.0550974        </td> <td>0.132765                    </td> <td>True    </td>\n",
              "        </tr>\n",
              "        <tr>\n",
              "            <td>2017  </td> <td>Dallas Mavericks      </td> <td>0.402 </td> <td>0.530095 </td> <td>-0.128095         </td> <td>0.318644                    </td> <td>False   </td>\n",
              "        </tr>\n",
              "        <tr>\n",
              "            <td>2017  </td> <td>Sacramento Kings      </td> <td>0.39  </td> <td>0.451159 </td> <td>-0.0611586        </td> <td>0.156817                    </td> <td>True    </td>\n",
              "        </tr>\n",
              "        <tr>\n",
              "            <td>2017  </td> <td>New York Knicks       </td> <td>0.378 </td> <td>0.417312 </td> <td>-0.0393122        </td> <td>0.104001                    </td> <td>True    </td>\n",
              "        </tr>\n",
              "        <tr>\n",
              "            <td>2017  </td> <td>Minnesota Timberwolves</td> <td>0.378 </td> <td>0.491857 </td> <td>-0.113857         </td> <td>0.301208                    </td> <td>False   </td>\n",
              "        </tr>\n",
              "        <tr>\n",
              "            <td>2017  </td> <td>Orlando Magic         </td> <td>0.354 </td> <td>0.468064 </td> <td>-0.114064         </td> <td>0.322214                    </td> <td>False   </td>\n",
              "        </tr>\n",
              "        <tr>\n",
              "            <td>2017  </td> <td>Philadelphia 76ers    </td> <td>0.341 </td> <td>0.306929 </td> <td>0.034071          </td> <td>-0.0999149                  </td> <td>True    </td>\n",
              "        </tr>\n",
              "        <tr>\n",
              "            <td>2017  </td> <td>Los Angeles Lakers    </td> <td>0.317 </td> <td>0.233969 </td> <td>0.0830314         </td> <td>-0.261929                   </td> <td>True    </td>\n",
              "        </tr>\n",
              "        <tr>\n",
              "            <td>2017  </td> <td>Phoenix Suns          </td> <td>0.293 </td> <td>0.448913 </td> <td>-0.155913         </td> <td>0.532127                    </td> <td>False   </td>\n",
              "        </tr>\n",
              "        <tr>\n",
              "            <td>2017  </td> <td>Brooklyn Nets         </td> <td>0.244 </td> <td>0.274978 </td> <td>-0.030978         </td> <td>0.126959                    </td> <td>True    </td>\n",
              "        </tr>\n",
              "    </tbody>\n",
              "</table>"
            ],
            "text/plain": [
              "<IPython.core.display.HTML object>"
            ]
          },
          "metadata": {
            "tags": []
          }
        },
        {
          "output_type": "stream",
          "text": [
            "Overall Accuracy Rate:0.7333333333333333\n",
            "Average (Actual-Predicted)/Predicted:0.16149573262862438\n",
            "Average Actual - Predicted:0.07425703900732109\n",
            "Very inaccurate: 3\n"
          ],
          "name": "stdout"
        }
      ]
    },
    {
      "cell_type": "markdown",
      "metadata": {
        "id": "9GVHV2QURK3Q"
      },
      "source": [
        "For the 2016-17 season, we achieved an average % difference of about 16% and an average absolute difference of about 7.4%. Other than a few bad predictions such as the Houston Rockets, Dallas Mavericks, and the Washington Wizards, the model produced many remarkably accurate winrate predictions for other teams this season.\n",
        "\n",
        "Possible reasoning behind large errors could be that certain teams did not have an adequate number of guards or forwards on their team, or had a large amount of rookies. In our model, this causes these teams to be removed from the training set which could affect the overall accuracy. Also, some teams may not fit the 3 guard/5 forward mold, which could cause their winrate to be over or under predicted. "
      ]
    },
    {
      "cell_type": "markdown",
      "metadata": {
        "id": "eMlYLQZ9Ljr5"
      },
      "source": [
        "# Part 4: Rating Top NBA Player Performances of All-Time"
      ]
    },
    {
      "cell_type": "markdown",
      "metadata": {
        "id": "pvsXhg1TkiZn"
      },
      "source": [
        "Aggregating weightings for each stat together for guards and forwards to create a weighted stats table that says how valuable each stat is to \r\n",
        "the win rate of his team.\r\n",
        "\r\n"
      ]
    },
    {
      "cell_type": "code",
      "metadata": {
        "colab": {
          "base_uri": "https://localhost:8080/",
          "height": 438
        },
        "id": "AoGq89EuEYdQ",
        "outputId": "0d719db8-5f7d-4611-bb31-213bb2de27b8"
      },
      "source": [
        "weighted_stats_guards = {}\r\n",
        "weighted_stats_forwards = {}\r\n",
        "num_params = len(categories)-3\r\n",
        "print(len(params))\r\n",
        "\r\n",
        "categories[i%num_params+3]\r\n",
        "\r\n",
        "for i in range(3*num_params):\r\n",
        "  if categories[i%num_params+3] not in weighted_stats_guards:\r\n",
        "    weighted_stats_guards[categories[i%num_params+3]] = params[i]*100\r\n",
        "  else:\r\n",
        "    weighted_stats_guards[categories[i%num_params+3]] += params[i]*100\r\n",
        "for i in range(3*num_params,8*num_params):\r\n",
        "  if categories[i%num_params+3] not in weighted_stats_forwards:\r\n",
        "    weighted_stats_forwards[categories[i%num_params+3]] = params[i]*100*3/5\r\n",
        "  else:\r\n",
        "    weighted_stats_forwards[categories[i%num_params+3]] += params[i]*100*3/5\r\n",
        "\r\n",
        "Table().with_columns(\"Stat\",weighted_stats_guards.keys(),\"Weight for Guards\",weighted_stats_guards.values(),\"Weight for Forwards\",weighted_stats_forwards.values()).show(12)"
      ],
      "execution_count": null,
      "outputs": [
        {
          "output_type": "stream",
          "text": [
            "97\n"
          ],
          "name": "stdout"
        },
        {
          "output_type": "display_data",
          "data": {
            "text/html": [
              "<table border=\"1\" class=\"dataframe\">\n",
              "    <thead>\n",
              "        <tr>\n",
              "            <th>Stat</th> <th>Weight for Guards</th> <th>Weight for Forwards</th>\n",
              "        </tr>\n",
              "    </thead>\n",
              "    <tbody>\n",
              "        <tr>\n",
              "            <td>PER    </td> <td>1.12867          </td> <td>-0.616113          </td>\n",
              "        </tr>\n",
              "        <tr>\n",
              "            <td>TS%    </td> <td>7.82057          </td> <td>-38.3895           </td>\n",
              "        </tr>\n",
              "        <tr>\n",
              "            <td>TRB%   </td> <td>0.312418         </td> <td>-0.104521          </td>\n",
              "        </tr>\n",
              "        <tr>\n",
              "            <td>AST%   </td> <td>-0.173256        </td> <td>0.0517397          </td>\n",
              "        </tr>\n",
              "        <tr>\n",
              "            <td>STL%   </td> <td>-0.0994762       </td> <td>-2.03327           </td>\n",
              "        </tr>\n",
              "        <tr>\n",
              "            <td>BLK%   </td> <td>1.83138          </td> <td>0.93165            </td>\n",
              "        </tr>\n",
              "        <tr>\n",
              "            <td>TOV%   </td> <td>0.614992         </td> <td>-0.0412288         </td>\n",
              "        </tr>\n",
              "        <tr>\n",
              "            <td>USG%   </td> <td>-0.634238        </td> <td>0.466004           </td>\n",
              "        </tr>\n",
              "        <tr>\n",
              "            <td>WS/48  </td> <td>23.611           </td> <td>72.877             </td>\n",
              "        </tr>\n",
              "        <tr>\n",
              "            <td>BPM    </td> <td>1.33642          </td> <td>2.82782            </td>\n",
              "        </tr>\n",
              "        <tr>\n",
              "            <td>FTr    </td> <td>-7.51121         </td> <td>6.34189            </td>\n",
              "        </tr>\n",
              "        <tr>\n",
              "            <td>Synergy</td> <td>2.13848          </td> <td>2.36758            </td>\n",
              "        </tr>\n",
              "    </tbody>\n",
              "</table>"
            ],
            "text/plain": [
              "<IPython.core.display.HTML object>"
            ]
          },
          "metadata": {
            "tags": []
          }
        }
      ]
    },
    {
      "cell_type": "markdown",
      "metadata": {
        "id": "FrA4B8D9Cjlp"
      },
      "source": [
        "Now, we use the stat weightings we just found and historical player data to produce a rating for every player's performance every season. After sorting by this overall rating, we get a ranking of top NBA player performances of all-time! "
      ]
    },
    {
      "cell_type": "code",
      "metadata": {
        "colab": {
          "base_uri": "https://localhost:8080/",
          "height": 1000
        },
        "id": "pbtw0K8p7WtL",
        "outputId": "6256378d-7b28-4856-d7c6-1ef7b599e295"
      },
      "source": [
        "weighted_scores_guards = make_array()\r\n",
        "def overall_score_guard(*args):\r\n",
        "  return np.dot(np.array(args),np.array(list(weighted_stats_guards.values()))) \r\n",
        "\r\n",
        "def overall_score_forwards(*args):\r\n",
        "  return np.dot(np.array(args),np.array(list(weighted_stats_forwards.values())))\r\n",
        "\r\n",
        "\r\n",
        "overall_guards = abbreviated_final_guards.with_columns(\"Overall\",abbreviated_final_guards.apply(overall_score_guard,abbreviated_final_guards.labels[3:]))\r\n",
        "overall_forwards = abbreviated_final_forwards.with_columns(\"Overall\",abbreviated_final_forwards.apply(overall_score_forwards,abbreviated_final_forwards.labels[3:]))\r\n",
        "for key in weighted_stats_guards:\r\n",
        "  overall_guards = overall_guards.with_columns(key,weighted_stats_guards[key]*overall_guards.column(key))\r\n",
        "  overall_forwards = overall_forwards.with_columns(key,weighted_stats_forwards[key]*overall_forwards.column(key))\r\n",
        "\r\n",
        "\r\n",
        "overall_guards.relabel(\"Tm_2\",\"Team\").sort(\"Overall\",descending = True).show(30)\r\n",
        "overall_forwards.relabel(\"Tm_2\",\"Team\").sort(\"Overall\",descending = True).show(30)\r\n",
        "  "
      ],
      "execution_count": null,
      "outputs": [
        {
          "output_type": "stream",
          "text": [
            "/usr/local/lib/python3.6/dist-packages/datascience/tables.py:361: FutureWarning: column lists are deprecated; pass each as an argument\n",
            "  \"column lists are deprecated; pass each as an argument\", FutureWarning)\n"
          ],
          "name": "stderr"
        },
        {
          "output_type": "display_data",
          "data": {
            "text/html": [
              "<table border=\"1\" class=\"dataframe\">\n",
              "    <thead>\n",
              "        <tr>\n",
              "            <th>Player</th> <th>Year</th> <th>Team</th> <th>PER</th> <th>TS%</th> <th>TRB%</th> <th>AST%</th> <th>STL%</th> <th>BLK%</th> <th>TOV%</th> <th>USG%</th> <th>WS/48</th> <th>BPM</th> <th>FTr</th> <th>Synergy</th> <th>Overall</th>\n",
              "        </tr>\n",
              "    </thead>\n",
              "    <tbody>\n",
              "        <tr>\n",
              "            <td>Stephen Curry 1989.0    </td> <td>2017</td> <td>Golden State Warriors </td> <td>35.5532</td> <td>5.23196</td> <td>2.6868 </td> <td>-5.83873</td> <td>-0.298429</td> <td>0.732551</td> <td>7.9334 </td> <td>-20.6762</td> <td>7.50831</td> <td>16.7052</td> <td>-1.8778 </td> <td>5.23818</td> <td>52.8985</td>\n",
              "        </tr>\n",
              "        <tr>\n",
              "            <td>Michael Jordan* 1964.0  </td> <td>1990</td> <td>Chicago Bulls         </td> <td>35.1017</td> <td>4.80183</td> <td>3.62405</td> <td>-6.01199</td> <td>-0.358114</td> <td>2.19765 </td> <td>7.31841</td> <td>-20.359 </td> <td>6.89442</td> <td>16.8389</td> <td>-3.31996</td> <td>4.27696</td> <td>51.0048</td>\n",
              "        </tr>\n",
              "        <tr>\n",
              "            <td>Michael Jordan* 1964.0  </td> <td>1992</td> <td>Chicago Bulls         </td> <td>35.6661</td> <td>4.73145</td> <td>2.96798</td> <td>-4.36605</td> <td>-0.368062</td> <td>3.11334 </td> <td>5.35043</td> <td>-20.8664</td> <td>7.57914</td> <td>14.4333</td> <td>-2.74159</td> <td>5.23818</td> <td>50.7378</td>\n",
              "        </tr>\n",
              "        <tr>\n",
              "            <td>Michael Jordan* 1964.0  </td> <td>1989</td> <td>Chicago Bulls         </td> <td>35.7789</td> <td>4.71581</td> <td>2.43686</td> <td>-4.67792</td> <td>-0.387957</td> <td>4.39531 </td> <td>5.90392</td> <td>-21.6275</td> <td>7.2722 </td> <td>16.3043</td> <td>-3.22982</td> <td>3.70396</td> <td>50.5881</td>\n",
              "        </tr>\n",
              "        <tr>\n",
              "            <td>Magic Johnson* 1960.0   </td> <td>1990</td> <td>Los Angeles Lakers    </td> <td>30.3613</td> <td>4.88786</td> <td>3.6553 </td> <td>-8.42025</td> <td>-0.228795</td> <td>0.732551</td> <td>11.3159</td> <td>-15.412 </td> <td>6.30415</td> <td>12.4287</td> <td>-3.71805</td> <td>6.41544</td> <td>48.3221</td>\n",
              "        </tr>\n",
              "        <tr>\n",
              "            <td>Michael Jordan* 1964.0  </td> <td>1991</td> <td>Chicago Bulls         </td> <td>35.2146</td> <td>4.73927</td> <td>3.24915</td> <td>-4.95513</td> <td>-0.348167</td> <td>2.01452 </td> <td>6.02692</td> <td>-21.3738</td> <td>6.72915</td> <td>14.166 </td> <td>-2.67399</td> <td>4.78179</td> <td>47.5703</td>\n",
              "        </tr>\n",
              "        <tr>\n",
              "            <td>Magic Johnson* 1960.0   </td> <td>1991</td> <td>Los Angeles Lakers    </td> <td>30.0227</td> <td>4.8644 </td> <td>3.18667</td> <td>-7.88315</td> <td>-0.218848</td> <td>1.28196 </td> <td>10.3934</td> <td>-15.7291</td> <td>6.37498</td> <td>12.696 </td> <td>-4.20628</td> <td>6.76247</td> <td>47.5451</td>\n",
              "        </tr>\n",
              "        <tr>\n",
              "            <td>Stephen Curry 1989.0    </td> <td>2016</td> <td>Golden State Warriors </td> <td>31.6028</td> <td>4.98953</td> <td>2.18693</td> <td>-6.68769</td> <td>-0.298429</td> <td>0.915689</td> <td>8.79439</td> <td>-18.3295</td> <td>6.79998</td> <td>13.2305</td> <td>-1.88531</td> <td>4.78179</td> <td>46.1008</td>\n",
              "        </tr>\n",
              "        <tr>\n",
              "            <td>Michael Jordan* 1964.0  </td> <td>1997</td> <td>Chicago Bulls         </td> <td>33.183 </td> <td>4.55157</td> <td>3.18667</td> <td>-3.67303</td> <td>-0.308376</td> <td>1.83138 </td> <td>5.16593</td> <td>-21.1201</td> <td>7.4847 </td> <td>11.4932</td> <td>-2.66648</td> <td>6.76247</td> <td>45.8909</td>\n",
              "        </tr>\n",
              "        <tr>\n",
              "            <td>Manu Ginobili 1978.0    </td> <td>2013</td> <td>San Antonio Spurs     </td> <td>27.201 </td> <td>5.22414</td> <td>2.62432</td> <td>-5.24966</td> <td>-0.159162</td> <td>2.01452 </td> <td>10.0244</td> <td>-14.3972</td> <td>6.06804</td> <td>8.55308</td> <td>-2.65897</td> <td>6.41544</td> <td>45.6599</td>\n",
              "        </tr>\n",
              "        <tr>\n",
              "            <td>Magic Johnson* 1960.0   </td> <td>1982</td> <td>Los Angeles Lakers    </td> <td>29.0069</td> <td>4.55157</td> <td>3.96771</td> <td>-5.50955</td> <td>-0.427748</td> <td>1.83138 </td> <td>10.5779</td> <td>-15.412 </td> <td>5.31248</td> <td>12.2951</td> <td>-2.87679</td> <td>2.13848</td> <td>45.4554</td>\n",
              "        </tr>\n",
              "        <tr>\n",
              "            <td>Magic Johnson* 1960.0   </td> <td>1983</td> <td>Los Angeles Lakers    </td> <td>25.8466</td> <td>4.61414</td> <td>4.28013</td> <td>-5.37094</td> <td>-0.318324</td> <td>1.09883 </td> <td>11.6233</td> <td>-12.7482</td> <td>4.88748</td> <td>11.0923</td> <td>-3.13969</td> <td>3.02427</td> <td>44.8899</td>\n",
              "        </tr>\n",
              "        <tr>\n",
              "            <td>Michael Jordan* 1964.0  </td> <td>1995</td> <td>Chicago Bulls         </td> <td>33.5216</td> <td>4.4108 </td> <td>3.0617 </td> <td>-4.36605</td> <td>-0.368062</td> <td>2.38079 </td> <td>5.16593</td> <td>-22.0081</td> <td>6.37498</td> <td>12.696 </td> <td>-2.13318</td> <td>6.04853</td> <td>44.7849</td>\n",
              "        </tr>\n",
              "        <tr>\n",
              "            <td>Chris Paul 1986.0       </td> <td>2010</td> <td>New Orleans Hornets   </td> <td>33.8602</td> <td>4.68452</td> <td>2.71804</td> <td>-9.44246</td> <td>-0.387957</td> <td>0.549413</td> <td>8.30239</td> <td>-17.4415</td> <td>6.89442</td> <td>14.9679</td> <td>-3.13969</td> <td>3.02427</td> <td>44.5895</td>\n",
              "        </tr>\n",
              "        <tr>\n",
              "            <td>Dwyane Wade 1982.0      </td> <td>2010</td> <td>Miami Heat            </td> <td>34.3117</td> <td>4.48901</td> <td>2.43686</td> <td>-6.98222</td> <td>-0.298429</td> <td>5.12786 </td> <td>7.13391</td> <td>-22.9594</td> <td>5.47776</td> <td>14.2997</td> <td>-3.32747</td> <td>4.78179</td> <td>44.491 </td>\n",
              "        </tr>\n",
              "        <tr>\n",
              "            <td>Magic Johnson* 1960.0   </td> <td>1985</td> <td>Los Angeles Lakers    </td> <td>25.508 </td> <td>4.91132</td> <td>3.37412</td> <td>-7.36339</td> <td>-0.268586</td> <td>1.83138 </td> <td>15.1288</td> <td>-12.3676</td> <td>4.50971</td> <td>8.15215</td> <td>-3.44765</td> <td>4.27696</td> <td>44.2452</td>\n",
              "        </tr>\n",
              "        <tr>\n",
              "            <td>Russell Westbrook 1989.0</td> <td>2017</td> <td>Oklahoma City Thunder </td> <td>31.1514</td> <td>4.3326 </td> <td>3.87399</td> <td>-8.5935 </td> <td>-0.288481</td> <td>1.09883 </td> <td>10.3319</td> <td>-20.0419</td> <td>5.7847 </td> <td>13.3642</td> <td>-2.98195</td> <td>5.65789</td> <td>43.6896</td>\n",
              "        </tr>\n",
              "        <tr>\n",
              "            <td>Magic Johnson* 1960.0   </td> <td>1988</td> <td>Los Angeles Lakers    </td> <td>30.4742</td> <td>4.70799</td> <td>3.03046</td> <td>-8.17769</td> <td>-0.218848</td> <td>1.28196 </td> <td>9.77837</td> <td>-16.6805</td> <td>6.2097 </td> <td>10.825 </td> <td>-3.6204 </td> <td>5.65789</td> <td>43.2681</td>\n",
              "        </tr>\n",
              "        <tr>\n",
              "            <td>Michael Jordan* 1964.0  </td> <td>1993</td> <td>Chicago Bulls         </td> <td>31.2642</td> <td>4.52811</td> <td>2.96798</td> <td>-4.45268</td> <td>-0.298429</td> <td>2.74707 </td> <td>5.41193</td> <td>-20.1053</td> <td>6.46942</td> <td>11.4932</td> <td>-2.44114</td> <td>5.65789</td> <td>43.2422</td>\n",
              "        </tr>\n",
              "        <tr>\n",
              "            <td>John Stockton* 1963.0   </td> <td>1996</td> <td>Utah Jazz             </td> <td>26.2981</td> <td>5.09119</td> <td>1.7183 </td> <td>-9.11327</td> <td>-0.348167</td> <td>1.09883 </td> <td>13.7758</td> <td>-11.9871</td> <td>5.50137</td> <td>7.3503 </td> <td>-2.90684</td> <td>6.76247</td> <td>43.241 </td>\n",
              "        </tr>\n",
              "        <tr>\n",
              "            <td>Nate McMillan 1965.0    </td> <td>1995</td> <td>Seattle SuperSonics   </td> <td>17.4944</td> <td>4.0667 </td> <td>2.78052</td> <td>-4.72989</td> <td>-0.576962</td> <td>1.4651  </td> <td>14.2063</td> <td>-7.86455</td> <td>3.6361 </td> <td>6.94938</td> <td>-1.04406</td> <td>5.65789</td> <td>42.041 </td>\n",
              "        </tr>\n",
              "        <tr>\n",
              "            <td>Dwyane Wade 1982.0      </td> <td>2013</td> <td>Miami Heat            </td> <td>29.6841</td> <td>4.3717 </td> <td>2.71804</td> <td>-4.72989</td> <td>-0.268586</td> <td>5.67727 </td> <td>7.25691</td> <td>-19.8517</td> <td>5.35971</td> <td>8.41944</td> <td>-2.66648</td> <td>6.04853</td> <td>42.0191</td>\n",
              "        </tr>\n",
              "        <tr>\n",
              "            <td>Tracy McGrady 1980.0    </td> <td>2004</td> <td>Orlando Magic         </td> <td>34.1988</td> <td>4.4108 </td> <td>2.96798</td> <td>-5.19768</td> <td>-0.218848</td> <td>2.74707 </td> <td>5.16593</td> <td>-22.3252</td> <td>6.18609</td> <td>12.9633</td> <td>-3.00448</td> <td>3.70396</td> <td>41.5977</td>\n",
              "        </tr>\n",
              "        <tr>\n",
              "            <td>Magic Johnson* 1960.0   </td> <td>1986</td> <td>Los Angeles Lakers    </td> <td>26.1852</td> <td>4.98171</td> <td>3.03046</td> <td>-7.36339</td> <td>-0.189005</td> <td>0.915689</td> <td>13.3453</td> <td>-13.0019</td> <td>5.19443</td> <td>7.21666</td> <td>-3.87579</td> <td>4.78179</td> <td>41.2212</td>\n",
              "        </tr>\n",
              "        <tr>\n",
              "            <td>Dwyane Wade 1982.0      </td> <td>2011</td> <td>Miami Heat            </td> <td>31.6028</td> <td>4.39516</td> <td>2.43686</td> <td>-6.30652</td> <td>-0.268586</td> <td>4.39531 </td> <td>7.5029 </td> <td>-22.1349</td> <td>5.28887</td> <td>12.5623</td> <td>-3.49271</td> <td>5.23818</td> <td>41.2197</td>\n",
              "        </tr>\n",
              "        <tr>\n",
              "            <td>Clyde Drexler* 1963.0   </td> <td>1993</td> <td>Portland Trail Blazers</td> <td>26.6367</td> <td>4.37952</td> <td>3.09294</td> <td>-5.18036</td> <td>-0.238743</td> <td>2.9302  </td> <td>7.6259 </td> <td>-18.2026</td> <td>5.26526</td> <td>11.2259</td> <td>-2.56883</td> <td>6.04853</td> <td>41.0144</td>\n",
              "        </tr>\n",
              "        <tr>\n",
              "            <td>Magic Johnson* 1960.0   </td> <td>1987</td> <td>Los Angeles Lakers    </td> <td>27.0881</td> <td>4.77055</td> <td>2.93673</td> <td>-7.81385</td> <td>-0.198952</td> <td>0.549413</td> <td>12.1768</td> <td>-13.6995</td> <td>5.33609</td> <td>7.88487</td> <td>-3.5528 </td> <td>5.23818</td> <td>40.7157</td>\n",
              "        </tr>\n",
              "        <tr>\n",
              "            <td>Manu Ginobili 1978.0    </td> <td>2009</td> <td>San Antonio Spurs     </td> <td>27.4267</td> <td>4.78619</td> <td>2.84301</td> <td>-4.57396</td> <td>-0.258638</td> <td>2.01452 </td> <td>8.91738</td> <td>-18.2026</td> <td>5.47776</td> <td>10.825 </td> <td>-3.37253</td> <td>4.78179</td> <td>40.6646</td>\n",
              "        </tr>\n",
              "        <tr>\n",
              "            <td>James Harden 1990.0     </td> <td>2016</td> <td>Houston Rockets       </td> <td>30.1356</td> <td>4.73145</td> <td>2.65556</td> <td>-5.99466</td> <td>-0.258638</td> <td>2.9302  </td> <td>9.16338</td> <td>-19.8517</td> <td>6.25693</td> <td>11.2259</td> <td>-4.21379</td> <td>3.70396</td> <td>40.4842</td>\n",
              "        </tr>\n",
              "        <tr>\n",
              "            <td>Michael Jordan* 1964.0  </td> <td>1998</td> <td>Chicago Bulls         </td> <td>31.3771</td> <td>4.43427</td> <td>2.74928</td> <td>-3.67303</td> <td>-0.238743</td> <td>2.01452 </td> <td>4.42794</td> <td>-21.0567</td> <td>6.68192</td> <td>8.954  </td> <td>-2.28341</td> <td>7.09254</td> <td>40.4797</td>\n",
              "        </tr>\n",
              "    </tbody>\n",
              "</table>\n",
              "<p>... (2844 rows omitted)</p>"
            ],
            "text/plain": [
              "<IPython.core.display.HTML object>"
            ]
          },
          "metadata": {
            "tags": []
          }
        },
        {
          "output_type": "display_data",
          "data": {
            "text/html": [
              "<table border=\"1\" class=\"dataframe\">\n",
              "    <thead>\n",
              "        <tr>\n",
              "            <th>Player</th> <th>Year</th> <th>Team</th> <th>PER</th> <th>TS%</th> <th>TRB%</th> <th>AST%</th> <th>STL%</th> <th>BLK%</th> <th>TOV%</th> <th>USG%</th> <th>WS/48</th> <th>BPM</th> <th>FTr</th> <th>Synergy</th> <th>Overall</th>\n",
              "        </tr>\n",
              "    </thead>\n",
              "    <tbody>\n",
              "        <tr>\n",
              "            <td>LeBron James 1985.0     </td> <td>2010</td> <td>Cleveland Cavaliers   </td> <td>-19.5308</td> <td>-22.6882</td> <td>-1.2438 </td> <td>1.96611 </td> <td>-4.87986</td> <td>2.23596</td> <td>-0.453517</td> <td>15.7509</td> <td>23.1749</td> <td>36.7616</td> <td>2.99337</td> <td>5.29406</td> <td>39.3808</td>\n",
              "        </tr>\n",
              "        <tr>\n",
              "            <td>David Robinson* 1966.0  </td> <td>1995</td> <td>San Antonio Spurs     </td> <td>-18.9147</td> <td>-22.1507</td> <td>-1.54691</td> <td>1.11758 </td> <td>-4.67653</td> <td>5.03091</td> <td>-0.449394</td> <td>14.9121</td> <td>21.5716</td> <td>30.8232</td> <td>3.53877</td> <td>4.73515</td> <td>33.9911</td>\n",
              "        </tr>\n",
              "        <tr>\n",
              "            <td>Shaquille O'Neal* 1973.0</td> <td>2001</td> <td>Los Angeles Lakers    </td> <td>-18.853 </td> <td>-22.1891</td> <td>-1.91274</td> <td>0.998576</td> <td>-1.21996</td> <td>4.93775</td> <td>-0.408165</td> <td>14.5393</td> <td>20.6242</td> <td>27.4298</td> <td>3.13923</td> <td>4.73515</td> <td>31.821 </td>\n",
              "        </tr>\n",
              "        <tr>\n",
              "            <td>LeBron James 1985.0     </td> <td>2011</td> <td>Miami Heat            </td> <td>-19.1611</td> <td>-23.1872</td> <td>-1.16018</td> <td>2.16272 </td> <td>-4.4732 </td> <td>1.8633 </td> <td>-0.507114</td> <td>15.6111</td> <td>21.7902</td> <td>35.3477</td> <td>3.209  </td> <td>0      </td> <td>31.4952</td>\n",
              "        </tr>\n",
              "        <tr>\n",
              "            <td>LeBron James 1985.0     </td> <td>2009</td> <td>Cleveland Cavaliers   </td> <td>-17.9289</td> <td>-21.8052</td> <td>-1.16018</td> <td>1.92989 </td> <td>-4.87986</td> <td>1.95647</td> <td>-0.470008</td> <td>15.6111</td> <td>17.6362</td> <td>31.6715</td> <td>2.98069</td> <td>4.73515</td> <td>30.277 </td>\n",
              "        </tr>\n",
              "        <tr>\n",
              "            <td>David Robinson* 1966.0  </td> <td>1998</td> <td>San Antonio Spurs     </td> <td>-18.1137</td> <td>-22.6114</td> <td>-1.92319</td> <td>0.7554  </td> <td>-3.86322</td> <td>5.96256</td> <td>-0.404042</td> <td>13.4209</td> <td>21.1343</td> <td>26.0159</td> <td>3.78611</td> <td>5.79935</td> <td>29.959 </td>\n",
              "        </tr>\n",
              "        <tr>\n",
              "            <td>LeBron James 1985.0     </td> <td>2014</td> <td>Miami Heat            </td> <td>-19.4692</td> <td>-24.5693</td> <td>-1.36923</td> <td>1.88333 </td> <td>-4.87986</td> <td>1.77014</td> <td>-0.511237</td> <td>14.0733</td> <td>23.4664</td> <td>32.8027</td> <td>2.50505</td> <td>4.10076</td> <td>29.8029</td>\n",
              "        </tr>\n",
              "        <tr>\n",
              "            <td>Kevin Garnett 1977.0    </td> <td>2005</td> <td>Minnesota Timberwolves</td> <td>-18.1137</td> <td>-20.999 </td> <td>-2.10088</td> <td>1.26245 </td> <td>-4.06655</td> <td>3.7266 </td> <td>-0.432902</td> <td>13.7937</td> <td>19.8225</td> <td>27.9954</td> <td>1.83281</td> <td>6.69652</td> <td>29.4169</td>\n",
              "        </tr>\n",
              "        <tr>\n",
              "            <td>LeBron James 1985.0     </td> <td>2013</td> <td>Miami Heat            </td> <td>-18.9147</td> <td>-23.2256</td> <td>-1.31697</td> <td>1.73845 </td> <td>-5.28651</td> <td>1.58381</td> <td>-0.548343</td> <td>14.9121</td> <td>21.7174</td> <td>31.106 </td> <td>2.72067</td> <td>3.34826</td> <td>27.8345</td>\n",
              "        </tr>\n",
              "        <tr>\n",
              "            <td>David Robinson* 1966.0  </td> <td>1999</td> <td>San Antonio Spurs     </td> <td>-17.1279</td> <td>-22.3043</td> <td>-1.90229</td> <td>0.822661</td> <td>-2.84658</td> <td>5.12408</td> <td>-0.535975</td> <td>13.8403</td> <td>19.6039</td> <td>22.057 </td> <td>3.93197</td> <td>6.26402</td> <td>26.9269</td>\n",
              "        </tr>\n",
              "        <tr>\n",
              "            <td>Kevin Garnett 1977.0    </td> <td>2006</td> <td>Minnesota Timberwolves</td> <td>-17.3744</td> <td>-21.7668</td> <td>-2.12178</td> <td>1.40215 </td> <td>-4.26988</td> <td>2.42229</td> <td>-0.502991</td> <td>12.6287</td> <td>18.0735</td> <td>27.4298</td> <td>2.56212</td> <td>7.10273</td> <td>25.5855</td>\n",
              "        </tr>\n",
              "        <tr>\n",
              "            <td>Kevin Durant 1989.0     </td> <td>2015</td> <td>Oklahoma City Thunder </td> <td>-18.3602</td> <td>-24.3773</td> <td>-1.12883</td> <td>1.38145 </td> <td>-3.45657</td> <td>1.39748</td> <td>-0.502991</td> <td>15.3781</td> <td>21.4987</td> <td>24.8848</td> <td>3.02508</td> <td>5.79935</td> <td>25.5391</td>\n",
              "        </tr>\n",
              "        <tr>\n",
              "            <td>Tim Duncan 1977.0       </td> <td>2005</td> <td>San Antonio Spurs     </td> <td>-16.6967</td> <td>-20.5   </td> <td>-1.9859 </td> <td>0.900271</td> <td>-2.64326</td> <td>4.93775</td> <td>-0.465886</td> <td>13.8403</td> <td>18.1464</td> <td>20.6431</td> <td>3.15826</td> <td>5.79935</td> <td>25.1337</td>\n",
              "        </tr>\n",
              "        <tr>\n",
              "            <td>David Robinson* 1966.0  </td> <td>1996</td> <td>San Antonio Spurs     </td> <td>-17.9289</td> <td>-23.1105</td> <td>-1.69324</td> <td>0.708834</td> <td>-4.4732 </td> <td>5.49674</td> <td>-0.45764 </td> <td>13.9335</td> <td>19.8954</td> <td>23.7537</td> <td>3.61488</td> <td>5.29406</td> <td>25.0337</td>\n",
              "        </tr>\n",
              "        <tr>\n",
              "            <td>Karl Malone* 1964.0     </td> <td>1998</td> <td>Utah Jazz             </td> <td>-17.8057</td> <td>-23.0337</td> <td>-1.75596</td> <td>1.26762 </td> <td>-4.06655</td> <td>1.21115</td> <td>-0.45764 </td> <td>15.2383</td> <td>19.531 </td> <td>24.0364</td> <td>2.78409</td> <td>7.85236</td> <td>24.8016</td>\n",
              "        </tr>\n",
              "        <tr>\n",
              "            <td>David Robinson* 1966.0  </td> <td>1993</td> <td>San Antonio Spurs     </td> <td>-16.9431</td> <td>-22.9185</td> <td>-1.85002</td> <td>0.584659</td> <td>-6.30315</td> <td>6.89421</td> <td>-0.498869</td> <td>11.5103</td> <td>18.948 </td> <td>28.2782</td> <td>3.31047</td> <td>3.34826</td> <td>24.3604</td>\n",
              "        </tr>\n",
              "        <tr>\n",
              "            <td>Shaquille O'Neal* 1973.0</td> <td>2002</td> <td>Los Angeles Lakers    </td> <td>-18.6066</td> <td>-22.0355</td> <td>-1.89183</td> <td>0.972707</td> <td>-1.62662</td> <td>4.56509</td> <td>-0.432902</td> <td>14.7257</td> <td>17.8549</td> <td>20.6431</td> <td>4.33785</td> <td>5.29406</td> <td>23.7999</td>\n",
              "        </tr>\n",
              "        <tr>\n",
              "            <td>Hakeem Olajuwon* 1963.0 </td> <td>1994</td> <td>Houston Rockets       </td> <td>-16.8199</td> <td>-22.1507</td> <td>-1.95455</td> <td>0.817487</td> <td>-4.87986</td> <td>6.05573</td> <td>-0.511237</td> <td>13.4209</td> <td>17.0532</td> <td>23.7537</td> <td>2.25771</td> <td>6.69652</td> <td>23.739 </td>\n",
              "        </tr>\n",
              "        <tr>\n",
              "            <td>Tim Duncan 1977.0       </td> <td>2004</td> <td>San Antonio Spurs     </td> <td>-16.5734</td> <td>-21.6517</td> <td>-1.9859 </td> <td>1.00892 </td> <td>-1.82995</td> <td>4.84458</td> <td>-0.531852</td> <td>13.0481</td> <td>18.0735</td> <td>20.9258</td> <td>2.88556</td> <td>5.29406</td> <td>23.5078</td>\n",
              "        </tr>\n",
              "        <tr>\n",
              "            <td>LeBron James 1985.0     </td> <td>2007</td> <td>Cleveland Cavaliers   </td> <td>-17.3128</td> <td>-21.8052</td> <td>-1.02431</td> <td>1.69706 </td> <td>-4.06655</td> <td>1.39748</td> <td>-0.441148</td> <td>15.6577</td> <td>16.9075</td> <td>26.2987</td> <td>2.83482</td> <td>3.34826</td> <td>23.4915</td>\n",
              "        </tr>\n",
              "        <tr>\n",
              "            <td>David Robinson* 1966.0  </td> <td>2000</td> <td>San Antonio Spurs     </td> <td>-15.3412</td> <td>-21.6517</td> <td>-1.86048</td> <td>0.626051</td> <td>-4.87986</td> <td>4.93775</td> <td>-0.560712</td> <td>11.0909</td> <td>19.0209</td> <td>20.9258</td> <td>4.36956</td> <td>6.69652</td> <td>23.3736</td>\n",
              "        </tr>\n",
              "        <tr>\n",
              "            <td>Karl Malone* 1964.0     </td> <td>2001</td> <td>Utah Jazz             </td> <td>-16.6967</td> <td>-22.3427</td> <td>-1.68279</td> <td>1.08136 </td> <td>-2.84658</td> <td>1.77014</td> <td>-0.470008</td> <td>14.8655</td> <td>18.1464</td> <td>19.5119</td> <td>3.17729</td> <td>8.85866</td> <td>23.3726</td>\n",
              "        </tr>\n",
              "        <tr>\n",
              "            <td>Tim Duncan 1977.0       </td> <td>2003</td> <td>San Antonio Spurs     </td> <td>-16.635 </td> <td>-22.1123</td> <td>-1.88138</td> <td>0.946837</td> <td>-2.03327</td> <td>4.0061 </td> <td>-0.523606</td> <td>13.5141</td> <td>18.7294</td> <td>21.4914</td> <td>2.95532</td> <td>4.73515</td> <td>23.1927</td>\n",
              "        </tr>\n",
              "        <tr>\n",
              "            <td>Shaquille O'Neal* 1973.0</td> <td>2003</td> <td>Los Angeles Lakers    </td> <td>-18.2985</td> <td>-22.6498</td> <td>-1.70369</td> <td>0.848531</td> <td>-1.82995</td> <td>3.81977</td> <td>-0.412288</td> <td>14.8189</td> <td>19.0938</td> <td>19.7947</td> <td>3.69732</td> <td>5.79935</td> <td>22.9781</td>\n",
              "        </tr>\n",
              "        <tr>\n",
              "            <td>Charles Barkley* 1964.0 </td> <td>1992</td> <td>Philadelphia 76ers    </td> <td>-17.8057</td> <td>-24.3773</td> <td>-1.59917</td> <td>1.06584 </td> <td>-4.4732 </td> <td>0.74532</td> <td>-0.519483</td> <td>13.5607</td> <td>18.8023</td> <td>27.9954</td> <td>3.57683</td> <td>5.79935</td> <td>22.7709</td>\n",
              "        </tr>\n",
              "        <tr>\n",
              "            <td>Tim Duncan 1977.0       </td> <td>2006</td> <td>San Antonio Spurs     </td> <td>-16.635 </td> <td>-20.7303</td> <td>-2.02771</td> <td>0.833009</td> <td>-2.2366 </td> <td>5.31041</td> <td>-0.383428</td> <td>13.4675</td> <td>17.8549</td> <td>18.098 </td> <td>2.77141</td> <td>6.26402</td> <td>22.5862</td>\n",
              "        </tr>\n",
              "        <tr>\n",
              "            <td>Karl Malone* 1964.0     </td> <td>2000</td> <td>Utah Jazz             </td> <td>-15.7725</td> <td>-22.1507</td> <td>-1.60963</td> <td>1.19001 </td> <td>-3.86322</td> <td>1.11798</td> <td>-0.568958</td> <td>14.2131</td> <td>18.365 </td> <td>19.2291</td> <td>3.81782</td> <td>8.53642</td> <td>22.5045</td>\n",
              "        </tr>\n",
              "        <tr>\n",
              "            <td>Tim Duncan 1977.0       </td> <td>2008</td> <td>San Antonio Spurs     </td> <td>-16.0805</td> <td>-22.2275</td> <td>-1.965  </td> <td>0.972707</td> <td>-2.64326</td> <td>4.75142</td> <td>-0.577203</td> <td>13.0015</td> <td>16.7617</td> <td>20.0775</td> <td>3.18363</td> <td>7.10273</td> <td>22.3577</td>\n",
              "        </tr>\n",
              "        <tr>\n",
              "            <td>Karl Malone* 1964.0     </td> <td>1999</td> <td>Utah Jazz             </td> <td>-17.1895</td> <td>-22.9185</td> <td>-1.78731</td> <td>1.08136 </td> <td>-3.45657</td> <td>1.58381</td> <td>-0.490623</td> <td>14.8189</td> <td>18.8751</td> <td>19.7947</td> <td>3.55146</td> <td>8.20152</td> <td>22.0644</td>\n",
              "        </tr>\n",
              "        <tr>\n",
              "            <td>Kevin Garnett 1977.0    </td> <td>2004</td> <td>Minnesota Timberwolves</td> <td>-16.2654</td> <td>-21.2294</td> <td>-1.965  </td> <td>1.33488 </td> <td>-3.65989</td> <td>2.60862</td> <td>-0.490623</td> <td>12.3025</td> <td>16.3973</td> <td>24.602 </td> <td>2.1499 </td> <td>6.26402</td> <td>22.049 </td>\n",
              "        </tr>\n",
              "    </tbody>\n",
              "</table>\n",
              "<p>... (4760 rows omitted)</p>"
            ],
            "text/plain": [
              "<IPython.core.display.HTML object>"
            ]
          },
          "metadata": {
            "tags": []
          }
        }
      ]
    },
    {
      "cell_type": "markdown",
      "metadata": {
        "id": "vA1v7_PySQuW"
      },
      "source": [
        "Our results looks accurate at first (since the top guard peformances are dominated by Michael Jordan), but with a closer look, there are some imperfections and weird ratings such as Manu Ginobili (we have nothing against Manu, not a bad player at all but doesn't deserve a top spot in all-time rankings). Some discrepancies were found between guards and forwards regarding certain stats being counted as having a negative contribution to a player's \"winning\" ability while others had a positive contribution. This could be due to the model's way of showing the importance of a certain stat within a certain position. However, we were able to see how some metrics are a strong indication of \"winning\" ability such as WS/48 and box +/-. We were also able to see that our synergy score had a positive correlation with winning in both forwards and guards.\r\n"
      ]
    },
    {
      "cell_type": "markdown",
      "metadata": {
        "id": "TAwLEN22_8ND"
      },
      "source": [
        "# Conclusion:\r\n",
        "\r\n",
        "Overall, we enjoyed working with historical NBA data and predicting team winrates using our least squares regression model. At the moment, we are only equipped with limited knowledge of data science and machine learning from only one semester of college studies. As we learn more and develop a more encapsulating understanding of these topics, we'll be able to further improve upon our existing work by incorporating more advanced machine learning strategies to create more fine-tuned, nuanced, and accurate models. "
      ]
    },
    {
      "cell_type": "markdown",
      "metadata": {
        "id": "KrdmlupDAJWg"
      },
      "source": [
        "Special Thanks to: Professors Gireeja Ranade, Swupnil Sahai, and David Wagner for exposure to key data science and machine learning fundamentals."
      ]
    }
  ]
}